{
 "cells": [
  {
   "cell_type": "markdown",
   "metadata": {},
   "source": [
    "# Descriptive statistics\n",
    "\n",
    "This notebook requires an R kernel to run the R scripts. We recommend to install the latest R version (https://www.r-project.org/), open an R console and then follow the instructions in https://irkernel.github.io/installation.\n",
    "\n",
    "More features and a user-friendly environment to run R scripts outside jupyter are available through __[RStudio](https://www.rstudio.com/products/rstudio/download/)__\n",
    "\n",
    "\n",
    "The following commands provide important statistical descriptors of data sets:\n",
    "\n",
    "__Examples:__  \n",
    "`mean(x)` Returns average/mean of a data set  \n",
    "`median(x)` Returns median of a data set  \n",
    "`min(x)` Returns minimum of a data set  \n",
    "`max(x)` Returns maximum of a data set  \n",
    "`var(x)` Returns variance of a data set  \n",
    "`sd(x)` Returns standard deviation of a data set  \n",
    "\n",
    "#### Example for some random data _x_:"
   ]
  },
  {
   "cell_type": "code",
   "execution_count": 22,
   "metadata": {},
   "outputs": [
    {
     "data": {
      "text/html": [
       "'First 6 values:'"
      ],
      "text/latex": [
       "'First 6 values:'"
      ],
      "text/markdown": [
       "'First 6 values:'"
      ],
      "text/plain": [
       "[1] \"First 6 values:\""
      ]
     },
     "metadata": {},
     "output_type": "display_data"
    },
    {
     "data": {
      "text/html": [
       "<ol class=list-inline>\n",
       "\t<li>-2.7089859133761</li>\n",
       "\t<li>-0.476790237790772</li>\n",
       "\t<li>0.265231914698288</li>\n",
       "\t<li>0.61662408273803</li>\n",
       "\t<li>0.892108488742085</li>\n",
       "\t<li>-0.376207462327176</li>\n",
       "</ol>\n"
      ],
      "text/latex": [
       "\\begin{enumerate*}\n",
       "\\item -2.7089859133761\n",
       "\\item -0.476790237790772\n",
       "\\item 0.265231914698288\n",
       "\\item 0.61662408273803\n",
       "\\item 0.892108488742085\n",
       "\\item -0.376207462327176\n",
       "\\end{enumerate*}\n"
      ],
      "text/markdown": [
       "1. -2.7089859133761\n",
       "2. -0.476790237790772\n",
       "3. 0.265231914698288\n",
       "4. 0.61662408273803\n",
       "5. 0.892108488742085\n",
       "6. -0.376207462327176\n",
       "\n",
       "\n"
      ],
      "text/plain": [
       "[1] -2.7089859 -0.4767902  0.2652319  0.6166241  0.8921085 -0.3762075"
      ]
     },
     "metadata": {},
     "output_type": "display_data"
    },
    {
     "data": {
      "text/html": [
       "'mean(x) = 0.0508984888060907'"
      ],
      "text/latex": [
       "'mean(x) = 0.0508984888060907'"
      ],
      "text/markdown": [
       "'mean(x) = 0.0508984888060907'"
      ],
      "text/plain": [
       "[1] \"mean(x) = 0.0508984888060907\""
      ]
     },
     "metadata": {},
     "output_type": "display_data"
    },
    {
     "data": {
      "text/html": [
       "'median(x) = 0.15210195779389'"
      ],
      "text/latex": [
       "'median(x) = 0.15210195779389'"
      ],
      "text/markdown": [
       "'median(x) = 0.15210195779389'"
      ],
      "text/plain": [
       "[1] \"median(x) = 0.15210195779389\""
      ]
     },
     "metadata": {},
     "output_type": "display_data"
    },
    {
     "data": {
      "text/html": [
       "'min(x) = -3.26615141843452'"
      ],
      "text/latex": [
       "'min(x) = -3.26615141843452'"
      ],
      "text/markdown": [
       "'min(x) = -3.26615141843452'"
      ],
      "text/plain": [
       "[1] \"min(x) = -3.26615141843452\""
      ]
     },
     "metadata": {},
     "output_type": "display_data"
    },
    {
     "data": {
      "text/html": [
       "'sd(x) = 0.990716190896883'"
      ],
      "text/latex": [
       "'sd(x) = 0.990716190896883'"
      ],
      "text/markdown": [
       "'sd(x) = 0.990716190896883'"
      ],
      "text/plain": [
       "[1] \"sd(x) = 0.990716190896883\""
      ]
     },
     "metadata": {},
     "output_type": "display_data"
    },
    {
     "data": {
      "text/html": [
       "'var(x) = 0.981518570905228'"
      ],
      "text/latex": [
       "'var(x) = 0.981518570905228'"
      ],
      "text/markdown": [
       "'var(x) = 0.981518570905228'"
      ],
      "text/plain": [
       "[1] \"var(x) = 0.981518570905228\""
      ]
     },
     "metadata": {},
     "output_type": "display_data"
    }
   ],
   "source": [
    "# 100 random values taken from a normal distribution with mean 0 and standard deviation 1 \n",
    "# (default of rnorm function)\n",
    "x <- rnorm(100)\n",
    "paste(\"First 6 values:\")\n",
    "head(x)\n",
    "paste(\"mean(x) =\",mean(x))\n",
    "paste(\"median(x) =\",median(x))\n",
    "paste(\"min(x) =\",min(x))\n",
    "paste(\"sd(x) =\",sd(x))\n",
    "paste(\"var(x) =\",var(x))\n"
   ]
  },
  {
   "cell_type": "markdown",
   "metadata": {},
   "source": [
    "### Exercise 1\n",
    "Create a data set containing the numbers 1 to 100 (`dset <- 1:100`) and calculate _mean, median, minium, maximum, variance_ and _standard deviation_. \n",
    "\n",
    "\n"
   ]
  },
  {
   "cell_type": "markdown",
   "metadata": {},
   "source": [
    "#### Add your answers here\n",
    "(double-click here to edit the cell)\n",
    "\n",
    "##### Question: <u>Why are _mean_ and _median_ the same?</u>\n",
    "\n",
    "_The data is symmetric_\n",
    "\n",
    "##### Question: <u>What is the relationship between _variance_ and _standard deviation_?</u>\n",
    "\n",
    "_Variance is the square of the standard deviation_\n",
    "\n",
    "\n"
   ]
  },
  {
   "cell_type": "markdown",
   "metadata": {},
   "source": [
    "### Exercise 2\n",
    "Calculate `sum(dset)/length(dset)` and compare the returned value to the ones from the previous exercise. \n",
    "\n",
    "_This is the definition of the mean/average_\n",
    "\n"
   ]
  },
  {
   "cell_type": "markdown",
   "metadata": {},
   "source": [
    "#### Add your answer here\n",
    "(double-click here to open the cell)\n",
    "\n"
   ]
  },
  {
   "cell_type": "markdown",
   "metadata": {},
   "source": [
    "### Exercise 3\n",
    "Try to understand what happens in the script below.\n",
    "\n",
    "Vary the number of random values (e.g. from 5000 to 1000, 100 and 10000). \n"
   ]
  },
  {
   "cell_type": "code",
   "execution_count": 21,
   "metadata": {},
   "outputs": [
    {
     "data": {
      "image/png": "[encoded data removed]",
      "text/plain": [
       "Plot with title “Histogram of data”"
      ]
     },
     "metadata": {},
     "output_type": "display_data"
    }
   ],
   "source": [
    "# 5000 random variables from a normal distribution with mean 1 and standard deviation 1\n",
    "data <- rnorm(5000,1,1)\n",
    "# standard histogram\n",
    "hist(data, 50, col=\"#666666\", border=\"white\")\n",
    "# adding statistical descriptors\n",
    "dmean <- mean(data)\n",
    "abline(v=dmean,col=\"red\")\n",
    "dmedian <- median(data)\n",
    "abline(v=dmedian,col=\"green\")\n",
    "dmin <- min(data)\n",
    "abline(v=dmin,col=\"blue\")\n",
    "dmax <- max(data)\n",
    "abline(v=dmax,col=\"blue\")\n",
    "dsd <- sd(data)\n",
    "abline(v=dmean+dsd)\n",
    "abline(v=dmean-dsd)"
   ]
  },
  {
   "cell_type": "markdown",
   "metadata": {},
   "source": [
    "#### Add your answer here\n",
    "(double-click here to edit the cell)\n",
    "\n",
    "#### Question: <u>Are minimum and maximum good descriptors of this data set?</u>\n",
    "\n",
    "_No, as the tails of the distribution get shorter/longer when having less/more random values_\n",
    "\n"
   ]
  },
  {
   "cell_type": "markdown",
   "metadata": {},
   "source": [
    "### Exercise 4\n",
    "Apply the same analysis on `data <- rlnorm(5000)`\n",
    "\n"
   ]
  },
  {
   "cell_type": "markdown",
   "metadata": {},
   "source": [
    "#### Add your answer here\n",
    "(double-click here to edit the cell)\n",
    "\n",
    "#### Question: <u>What is different?</u>\n",
    "\n",
    "_No symmetry. Extreme values to one side._\n",
    "\n",
    "#### Question: <u>Do the statistical descriptors provide useful information?</u>\n",
    "\n",
    "_Mean, median, ... do not make much sense anymore as they are not designed to deal with lognormal distributions_\n"
   ]
  },
  {
   "cell_type": "markdown",
   "metadata": {},
   "source": [
    "### Exercise 5\n",
    "Calculate the statistical descriptors for flow cytometry data of RNA molecules (from paper https://www.ncbi.nlm.nih.gov/pmc/articles/PMC3575505/#s2). \n",
    "\n",
    "You can get the processed table from http://computproteomics.bmb.sdu.dk/BMB539Data/FlowCytoData.csv (use `read.csv()` on the web page and write it into the object `FlowCyt`).\n",
    "\n",
    "The columns _X18s.RNA_, _abl_ and _bcr_ denote the different molecules. Rows correspond to quantifications in different cells. Apply the statistical descriptors on the values in the columns with the additional arguent `na.rm=T` (e.g. `mean(FlowCyt$bcr, na.rm=T)`). \n",
    "\n",
    "Do the statistical descriptors describe all molecules accurately? \n",
    "\n",
    "_No, especially not the distribution of bcr_\n",
    "\n",
    "Would you trust a report that provides only mean and standard deviation when you compare them to the distributions?\n",
    "\n",
    "_Obviously no_\n",
    "\n",
    "Distributions:\n",
    "\n",
    "\n"
   ]
  },
  {
   "cell_type": "code",
   "execution_count": 13,
   "metadata": {},
   "outputs": [
    {
     "data": {
      "image/png": "[encoded data removed]",
      "text/plain": [
       "Plot with title “bcr”"
      ]
     },
     "metadata": {},
     "output_type": "display_data"
    }
   ],
   "source": [
    "A <- read.csv(url(\"http://computproteomics.bmb.sdu.dk/BMB539Data/FlowCytoData.csv\"))\n",
    "par(mfrow=c(2,2))\n",
    "hist(A$X18s.RNA,100,main=\"18s RNA\",xlab=\"abundance\")\n",
    "hist(A$abl,100,main=\"abl\",xlab=\"abundance\")\n",
    "hist(A$bcr,100,main=\"bcr\",xlab=\"abundance\")\n",
    "par(mfrow=c(1,1))"
   ]
  },
  {
   "cell_type": "markdown",
   "metadata": {},
   "source": [
    "#### Add your answer here\n",
    "(double-click here to open the cell)\n",
    "\n"
   ]
  },
  {
   "cell_type": "markdown",
   "metadata": {},
   "source": [
    "### Exercise 6\n",
    "There are several functions to create data sets that contain random numbers: `rnorm, runif, rexp` (drawn from a normal, a uniform and an exponential distribution, respectively). Apply the functions to create 10, 20 and 50 random numbers.\n",
    "\n",
    "Do you see a pattern in the values for each of the distributions? \n",
    "What are specific properties of the distributions?\n",
    "\n",
    "_rnorm: negative and positive values with an accumulation around 0_  \n",
    "_runif: equally distributed  values between 0 and 1_  \n",
    "_rexp: only positive values with accumulation around 0_\n",
    "\n"
   ]
  },
  {
   "cell_type": "markdown",
   "metadata": {},
   "source": [
    "#### Add your answer here\n",
    "(double-click here to open the cell)\n",
    "\n"
   ]
  },
  {
   "cell_type": "markdown",
   "metadata": {},
   "source": [
    " ### Exercise 7 -->\n",
    " Create 1000 random numbers that are uniformly distributed: -->\n",
    " ```{r, echo=TRUE, eval=FALSE} \n",
    " unif_dat <- runif(1000, -10,10) \n",
    " hist(unif_dat, breaks = 10) \n",
    " ``` \n",
    " The plot shows a histogram. Discuss the meaning of the different parts of the plot with your neighbors. Change the number of bins (_breaks_ in R). Estimate which number of bins describes the data best.  \n",
    "\n",
    "<!-- Create a boxplot of the data (`boxplot(unif_dat)`) and understand what the figure shows. You can find a simple explanation of boxplots here:    \n",
    " http://www.wellbeingatschool.org.nz/information-sheet/understanding-and-interpreting-box-plots \n",
    "\n"
   ]
  },
  {
   "cell_type": "markdown",
   "metadata": {},
   "source": [
    "<!-- ### Exercise 8 -->\n",
    "<!-- Create an object _norm_dat_ containing 1000 normally distributed random numbers (`rnorm()` function). Visualize them by plotting the data as histogram and boxplot.  -->\n",
    "\n",
    "<!-- What is different to the plots of uniformely distributed numbers? -->\n",
    "\n"
   ]
  },
  {
   "cell_type": "markdown",
   "metadata": {},
   "source": [
    "### Exercise 7\n",
    "Sort and plot the random numbers as _rank plot_:\n",
    "\n",
    "```{r, echo=TRUE, eval=FALSE}\n",
    "norm_dat <- rnorm(1000)\n",
    "unif_dat <- runif(1000, -10,10) \n",
    "sorted_norm_dat <- sort(norm_dat)\n",
    "plot(sorted_norm_dat)\n",
    "sorted_unif_dat <- sort(unif_dat)\n",
    "plot(sorted_unif_dat)\n",
    "plot(sorted_norm_dat, sorted_unif_dat)\n",
    "```\n",
    "You can compare two distributions by plotting their sorted values versus each other: `plot(sort(unif_dat), sorted_norm_dat)`. Compare to the previously generated figure and explain why they are similar.\n",
    "\n",
    "_Uniformely distributed numbers give the same weight to each segment and give a straight line when sorted. Therefore, the shapes of ranked normally distributed values and the scatter plot between sorted vectors look the same._\n",
    " \n",
    "<!-- ## Estimate probabilities -->\n",
    "<!-- TODO: -->\n",
    "<!-- Exponential distribution, plot distributions  VERY DETAILED! -->\n",
    "<!-- ```{r, echo=TRUE, eval=FALSE}x -->\n",
    "<!-- data <- rexp(1000) -->\n",
    "<!-- ``` -->\n",
    "<!-- ## Visualization of large data amounts -->\n"
   ]
  },
  {
   "cell_type": "markdown",
   "metadata": {},
   "source": [
    "#### Add your answer here\n",
    "(double-click here to open the cell)\n",
    "\n"
   ]
  },
  {
   "cell_type": "markdown",
   "metadata": {},
   "source": [
    "### Exercise 8\n",
    "Download _Supplementary Dataset 1_ (first sheet _Cell extract (CE)_) from a study investigating bladder cancer cells T24 to detect changes between the cancer cells and their metastatic subtype. \n",
    "Link to paper: http://www.nature.com/articles/srep25619\n",
    "\n",
    "Open the table with Excel/Libreoffice and save as csv-file. \n",
    "\n",
    "Import the table into R \n",
    "```{r, echo=TRUE, eval=FALSE}\n",
    "prot_dat <- read.csv(\"TableName\",row.names=1, skip=1)\n",
    "```\n",
    "(you need to be in the right directory: _Session->Set Working Directory_ in the menu).\n",
    "\n",
    "If you get an error, try \n",
    "```{r, echo=TRUE, eval=FALSE}\n",
    "prot_dat <- read.csv(\"TableName\",row.names=1, sep=\";\", digits=\",\", skip=1)\n",
    "```\n",
    "\n",
    "And if you still don't manage to read the csv-file, you can directly import the data from http://computproteomics.bmb.sdu.dk/BMB539Data/ProtTable.csv and apply \n",
    "```{r, echo=TRUE, eval=FALSE}\n",
    "prot_dat <- read.csv(\"ProtTable.csv\",row.names=1, skip=1)\n",
    "```\n",
    "\n",
    "View the table and discuss its content: `View(prot_dat)`.\n",
    "\n",
    "_The table contains information about the proteins, some comparison to transcriptomics data (gene expression), means and standard deviations of the different measurement channels, output from statistical tests and the abundance values (raw and normalized)_\n",
    "\n",
    "Convert the expression values to numerical values (ignore the warnings):  \n",
    "```{r, echo=TRUE, eval=FALSE}\n",
    "for (i in 13:22) prot_dat[,i] <- as.numeric(as.character(prot_dat[,i]))\n",
    "```\n",
    "\n",
    "Plot the column `prot_dat$Area.T24_T1.normalized` as boxplot and histogram. Is the plot informative? What is strange?\n",
    "\n",
    "_Many zeros. Distribution with very long tail containing large values. The plot is very informative._\n",
    "\n",
    "Plot all columns with intensities (access them by `prot_dat[,13:22]`) as boxplot.\n",
    "\n",
    "_Each column has values with a similar distribution_\n",
    "\n",
    "Calculate _mean, median, sum_ and _standard deviation_ of one of the columns. Missing values will be dismissed by the argument _na.rm=T_, e.g. `mean(prot_dat[,13], na.rm=T)` \n",
    "\n",
    "Transform all protein abundances to their logarithm\n",
    "```{r, echo=TRUE, eval=FALSE}\n",
    "lprot_dat <- as.matrix(log2(prot_dat[,13:22]))\n",
    "lprot_dat[!is.finite(lprot_dat)] <- NA\n",
    "```\n",
    "and make again boxplots and histogram: `boxplot(lprot_dat)`. How is the data distributed now?\n",
    "\n",
    "_More symmetric distribution. Much less outliers._\n",
    "\n",
    "Calculate _mean, median_ and _standard deviation_ of one of the columns and try to locate the values in the boxplot.\n",
    "\n",
    "_Median is the center line of the box. Standard deviation is NOT the extension of the boxes but contains the centric 2/3 of the data points._\n",
    "\n",
    "### Exercise 9\n",
    "Take the log-transformed proteomics data and look at the numbers of the protein _Kinesin-1 heavy chain_  with the accession number [P33176](http://www.uniprot.org/uniprot/P33176):\n",
    "`lprot_dat[\"P33176\",]`\n",
    "\n",
    "Apply a t-test to find out whether the protein is differentially expressed between  bladder cancer cells T24  and their metastatic subtype:\n",
    "\n",
    "`t.test(lprot_dat[\"P33176\",1:5], lprot_dat[\"P33176\",6:10])`.\n",
    "\n",
    "What is the p-value?\n",
    "\n",
    "_p-value: 2.18e-8_\n",
    "\n",
    "What does the p-value mean?\n",
    "\n",
    "_Probability to get the observed values under the assumption that the null hypothesis is true._\n",
    "\n",
    "Calculate p-values for all proteins: \n",
    "```{r, echo=TRUE, eval=FALSE}\n",
    "pvals <- NULL\n",
    "lprot_dat <- lprot_dat[complete.cases(lprot_dat),]\n",
    "for (prot in 1:nrow(lprot_dat)) {\n",
    "  pvals <- append(pvals, t.test(lprot_dat[prot,1:5], lprot_dat[prot,6:10])$p.value)\n",
    "}\n",
    "# Correction for multiple testing (necessary when applying multiple tests)\n",
    "corr_pvals <- p.adjust(pvals,\"BH\")\n",
    "hist(corr_pvals,100, xlab=\"false discovery rate\")\n",
    "```\n",
    "\n",
    "How many proteins are differentially expressed with a false discovery rate of 0.05?\n",
    "\n",
    "_162_\n",
    "\n",
    "How many proteins are differentially expressed with a false discovery rate of 0.01?\n",
    "\n",
    "_73_\n",
    "\n",
    "_Note:_\n",
    "\n",
    "In R , you can simplify such an analysis by avoiding _for_ loops:\n",
    "```{r, echo=TRUE, eval=FALSE}\n",
    "corr_pvals <- apply(lprot_dat[complete.cases(lprot_dat),], 1, \n",
    "                    function(x) t.test(x[1:5], x[6:10])$p.value)\n",
    "```"
   ]
  },
  {
   "cell_type": "markdown",
   "metadata": {},
   "source": [
    "#### Add your answer here\n",
    "(double-click here to open the cell)\n",
    "\n"
   ]
  },
  {
   "cell_type": "code",
   "execution_count": null,
   "metadata": {},
   "outputs": [],
   "source": []
  },
  {
   "cell_type": "code",
   "execution_count": null,
   "metadata": {},
   "outputs": [],
   "source": []
  },
  {
   "cell_type": "code",
   "execution_count": null,
   "metadata": {},
   "outputs": [],
   "source": []
  },
  {
   "cell_type": "code",
   "execution_count": null,
   "metadata": {},
   "outputs": [],
   "source": []
  }
 ],
 "metadata": {
  "kernelspec": {
   "display_name": "R",
   "language": "R",
   "name": "ir"
  },
  "language_info": {
   "codemirror_mode": "r",
   "file_extension": ".r",
   "mimetype": "text/x-r-source",
   "name": "R",
   "pygments_lexer": "r",
   "version": "3.5.2"
  }
 },
 "nbformat": 4,
 "nbformat_minor": 2
}
