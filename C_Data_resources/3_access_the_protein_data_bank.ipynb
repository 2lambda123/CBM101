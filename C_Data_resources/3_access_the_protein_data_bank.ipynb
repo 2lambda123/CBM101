{
 "cells": [
  {
   "cell_type": "markdown",
   "metadata": {},
   "source": [
    "# Using PDB's python API\n",
    "\n",
    "The value of computational skills is especially apparent when you find a way to automate boring and monotonous tasks, like gathering data from a database such as [the Protein Data Bank](https://www.rcsb.org/). This is known as **data mining**, and to our delight, a special purpose library for this usage has been made: `pypdb`.\n",
    "\n"
   ]
  },
  {
   "cell_type": "code",
   "execution_count": 1,
   "metadata": {},
   "outputs": [],
   "source": [
    "import numpy as np\n",
    "import pandas as pd\n",
    "import pypdb\n",
    "from time import time"
   ]
  },
  {
   "cell_type": "markdown",
   "metadata": {},
   "source": [
    "### Scenario:\n",
    "\n",
    "You read a publication about a protein you're interested in, and want to access the researchers' entry on PDB to obtain information about that protein, say which ligand it binds to. For this you copy the PMID or DOI (try it for [this example](https://www.sciencedirect.com/science/article/pii/S000629521500132X?via%3Dihub)), and paste it into the search bar, and find what you're looking for, this will probably take you around 30 seconds. Now imagine having to do that 1200 times over. This is why we want to automate."
   ]
  },
  {
   "cell_type": "markdown",
   "metadata": {},
   "source": [
    "We start with a list of IDs in the data directory. "
   ]
  },
  {
   "cell_type": "code",
   "execution_count": 2,
   "metadata": {},
   "outputs": [],
   "source": [
    "path = 'data/PMIDS.txt'"
   ]
  },
  {
   "cell_type": "markdown",
   "metadata": {},
   "source": [
    "#### Exercise 1. read the data into a string variable called `pmids`."
   ]
  },
  {
   "cell_type": "code",
   "execution_count": 3,
   "metadata": {},
   "outputs": [],
   "source": [
    "# %load solutions/ex3_1.py\n",
    "with open(path, 'r') as f:\n",
    "    pmids = f.read()"
   ]
  },
  {
   "cell_type": "code",
   "execution_count": 4,
   "metadata": {},
   "outputs": [
    {
     "name": "stdout",
     "output_type": "stream",
     "text": [
      "PMID: 25772737\n",
      "PMID: 2490\n"
     ]
    }
   ],
   "source": [
    "print(pmids[:25])"
   ]
  },
  {
   "cell_type": "markdown",
   "metadata": {},
   "source": [
    "#### Exercise 2. Currently, the data is juts a single long string. Obtain a list of the IDs (i.e. a list of strings)."
   ]
  },
  {
   "cell_type": "code",
   "execution_count": 5,
   "metadata": {},
   "outputs": [],
   "source": [
    "# load solutions/ex3_1.py\n",
    "pmids = pmids.splitlines()"
   ]
  },
  {
   "cell_type": "code",
   "execution_count": 6,
   "metadata": {},
   "outputs": [
    {
     "data": {
      "text/plain": [
       "['PMID: 25772737',\n",
       " 'PMID: 24900475',\n",
       " 'PMID: 26249349',\n",
       " 'PMID: 29510947',\n",
       " 'PMID: 26872970',\n",
       " 'PMID: 21358046',\n",
       " 'PMID: 20298671',\n",
       " 'PMID: 29348071',\n",
       " 'PMID: 29608391',\n",
       " 'PMID: 26806381']"
      ]
     },
     "execution_count": 6,
     "metadata": {},
     "output_type": "execute_result"
    }
   ],
   "source": [
    "pmids[:10]"
   ]
  },
  {
   "cell_type": "code",
   "execution_count": 7,
   "metadata": {},
   "outputs": [
    {
     "data": {
      "text/plain": [
       "['PMID: 25772737',\n",
       " 'PMID: 24900475',\n",
       " 'PMID: 26249349',\n",
       " 'PMID: 29510947',\n",
       " 'PMID: 26872970',\n",
       " 'PMID: 21358046',\n",
       " 'PMID: 20298671',\n",
       " 'PMID: 29348071',\n",
       " 'PMID: 29608391',\n",
       " 'PMID: 26806381',\n",
       " 'PMID: 27708405',\n",
       " 'PMID: 30060461',\n",
       " 'PMID: 28495381',\n",
       " 'PMID: 20158266',\n",
       " 'PMID: 24847974',\n",
       " 'PMID: 19827080',\n",
       " 'PMID: 30784877',\n",
       " 'PMID: 20818756',\n",
       " 'PMID: 25690569',\n",
       " 'PMID: 24870364',\n",
       " 'PMID: 31362921',\n",
       " 'PMID: 25666181',\n",
       " 'PMID: 27645997',\n",
       " 'PMID: 29910922',\n",
       " 'PMID: 21192659',\n",
       " 'PMID: 21972967',\n",
       " 'PMID: 21763501',\n",
       " 'PMID: 25636146',\n",
       " 'PMID: 27726357',\n",
       " 'PMID: 20711197',\n",
       " 'PMID: 28437106',\n",
       " 'PMID: 28940929',\n",
       " 'PMID: 31494535',\n",
       " 'PMID: 24900229',\n",
       " 'PMID: 26637553',\n",
       " 'PMID: 21091447',\n",
       " 'PMID: 29877794',\n",
       " 'PMID: 23072895',\n",
       " 'PMID: 27438815',\n",
       " 'PMID: 30160524',\n",
       " 'PMID: 22890978',\n",
       " 'PMID: 27676184',\n",
       " 'PMID: 31973307',\n",
       " 'PMID: 20797617',\n",
       " 'PMID: 20043700',\n",
       " 'PMID: 25556635',\n",
       " 'PMID: 24704437',\n",
       " 'PMID: 24505392',\n",
       " 'PMID: 29364664',\n",
       " 'PMID: 24677424',\n",
       " 'PMID: 23517028',\n",
       " 'PMID: 22963052',\n",
       " 'PMID: 25648685',\n",
       " 'PMID: 29045126',\n",
       " 'PMID: 19610616',\n",
       " 'PMID: 23971943',\n",
       " 'PMID: 22021219',\n",
       " 'PMID: 21840712',\n",
       " 'PMID: 25629509',\n",
       " 'PMID: 29485874',\n",
       " 'PMID: 22007643',\n",
       " 'PMID: 23978130',\n",
       " 'PMID: 23509929',\n",
       " 'PMID: 21381753',\n",
       " 'PMID: 19702332',\n",
       " 'PMID: 22417091',\n",
       " 'PMID: 27685665',\n",
       " 'PMID: 30792039',\n",
       " 'PMID: 26712116',\n",
       " 'PMID: 26663255',\n",
       " 'PMID: 31540099',\n",
       " 'PMID: 23509991',\n",
       " 'PMID: 26995531',\n",
       " 'PMID: 23918626',\n",
       " 'PMID: 31282680',\n",
       " 'PMID: 25699576',\n",
       " 'PMID: 22468999',\n",
       " 'PMID: 26378882',\n",
       " 'PMID: 28511909',\n",
       " 'PMID: 20662534',\n",
       " 'PMID: 26878343',\n",
       " 'PMID: 28471657',\n",
       " 'PMID: 24900387',\n",
       " 'PMID: 22014550',\n",
       " 'PMID: 25316315',\n",
       " 'PMID: 21459573',\n",
       " 'PMID: 31260300',\n",
       " 'PMID: 26824386',\n",
       " 'PMID: 19413326',\n",
       " 'PMID: 26286460',\n",
       " 'PMID: 24767840',\n",
       " 'PMID: 28498658',\n",
       " 'PMID: 20305821',\n",
       " 'PMID: 28853885',\n",
       " 'PMID: 30044812',\n",
       " 'PMID: 31552364',\n",
       " 'PMID: 19618939',\n",
       " 'PMID: 31592163',\n",
       " 'PMID: 20722422',\n",
       " 'PMID: 27994766',\n",
       " 'PMID: 30947099',\n",
       " 'PMID: 21169017',\n",
       " 'PMID: 31635932',\n",
       " 'PMID: 27750202',\n",
       " 'PMID: 30463319',\n",
       " 'PMID: 30221554',\n",
       " 'PMID: 26477515',\n",
       " 'PMID: 27573544',\n",
       " 'PMID: 25764119',\n",
       " 'PMID: 25786639',\n",
       " 'PMID: 23651330',\n",
       " 'PMID: 19472268',\n",
       " 'PMID: 29889518',\n",
       " 'PMID: 25275824',\n",
       " 'PMID: 23244564',\n",
       " 'PMID: 26984786',\n",
       " 'PMID: 27225833',\n",
       " 'PMID: 30122225',\n",
       " 'PMID: 27155900',\n",
       " 'PMID: 27136719',\n",
       " 'PMID: 23659209',\n",
       " 'PMID: 24673130',\n",
       " 'PMID: 25000588',\n",
       " 'PMID: 24837572',\n",
       " 'PMID: 22921743',\n",
       " 'PMID: 25844895',\n",
       " 'PMID: 26231159',\n",
       " 'PMID: 24454993',\n",
       " 'PMID: 27726344',\n",
       " 'PMID: 27660690',\n",
       " 'PMID: 30154995',\n",
       " 'PMID: 26699912',\n",
       " 'PMID: 19416920',\n",
       " 'PMID: 22052725',\n",
       " 'PMID: 24117015',\n",
       " 'PMID: 26404410',\n",
       " 'PMID: 21033679',\n",
       " 'PMID: 23540679',\n",
       " 'PMID: 22461418',\n",
       " 'PMID: 31469191',\n",
       " 'PMID: 27311891',\n",
       " 'PMID: 25952103',\n",
       " 'PMID: 31857841',\n",
       " 'PMID: 27167608',\n",
       " 'PMID: 31202126',\n",
       " 'PMID: 19572550',\n",
       " 'PMID: 30860382',\n",
       " 'PMID: 31260165',\n",
       " 'PMID: 26225459',\n",
       " 'PMID: 21925880',\n",
       " 'PMID: 24286762',\n",
       " 'PMID: 22165820',\n",
       " 'PMID: 22137457',\n",
       " 'PMID: 25466178',\n",
       " 'PMID: 28626832',\n",
       " 'PMID: 27320965',\n",
       " 'PMID: 23302067',\n",
       " 'PMID: 21322593',\n",
       " 'PMID: 31207161',\n",
       " 'PMID: 28346540',\n",
       " 'PMID: 21782429',\n",
       " 'PMID: 27400756',\n",
       " 'PMID: 28743961',\n",
       " 'PMID: 28513917',\n",
       " 'PMID: 25651535',\n",
       " 'PMID: 22999879',\n",
       " 'PMID: 24900174',\n",
       " 'PMID: 31768400',\n",
       " 'PMID: 23013674',\n",
       " 'PMID: 27023529',\n",
       " 'PMID: 29537924',\n",
       " 'PMID: 20185308',\n",
       " 'PMID: 27432277',\n",
       " 'PMID: 26845235',\n",
       " 'PMID: 24589444',\n",
       " 'PMID: 22573733',\n",
       " 'PMID: 26597534',\n",
       " 'PMID: 22272748',\n",
       " 'PMID: 29031064',\n",
       " 'PMID: 24177367',\n",
       " 'PMID: 27933945',\n",
       " 'PMID: 27002486',\n",
       " 'PMID: 31652060',\n",
       " 'PMID: 30657686',\n",
       " 'PMID: 27708394',\n",
       " 'PMID: 26069090',\n",
       " 'PMID: 24433859',\n",
       " 'PMID: 21275048',\n",
       " 'PMID: 23331539',\n",
       " 'PMID: 26043365',\n",
       " 'PMID: 31805108',\n",
       " 'PMID: 22424148',\n",
       " 'PMID: 22119153',\n",
       " 'PMID: 27911011',\n",
       " 'PMID: 23314054',\n",
       " 'PMID: 29150397',\n",
       " 'PMID: 20656487',\n",
       " 'PMID: 28929756',\n",
       " 'PMID: 26670264',\n",
       " 'PMID: 27418256',\n",
       " 'PMID: 27326341',\n",
       " 'PMID: 24900632',\n",
       " 'PMID: 21145740',\n",
       " 'PMID: 24900493',\n",
       " 'PMID: 23445471',\n",
       " 'PMID: 31285596',\n",
       " 'PMID: 26126987',\n",
       " 'PMID: 27652979',\n",
       " 'PMID: 29287958',\n",
       " 'PMID: 29775310',\n",
       " 'PMID: 30888817',\n",
       " 'PMID: 29800515',\n",
       " 'PMID: 27190605',\n",
       " 'PMID: 26087137',\n",
       " 'PMID: 30891133',\n",
       " 'PMID: 30933499',\n",
       " 'PMID: 19799414',\n",
       " 'PMID: 22136404',\n",
       " 'PMID: 22136469',\n",
       " 'PMID: 26786695',\n",
       " 'PMID: 27385654',\n",
       " 'PMID: 22632933',\n",
       " 'PMID: 22017539',\n",
       " 'PMID: 26976213',\n",
       " 'PMID: 29470422',\n",
       " 'PMID: 19019674',\n",
       " 'PMID: 26155854',\n",
       " 'PMID: 23294348',\n",
       " 'PMID: 19284778',\n",
       " 'PMID: 23218602',\n",
       " 'PMID: 31244106',\n",
       " 'PMID: 20626411',\n",
       " 'PMID: 26191369',\n",
       " 'PMID: 26338362',\n",
       " 'PMID: 24582986',\n",
       " 'PMID: 29491261',\n",
       " 'PMID: 19889539',\n",
       " 'PMID: 26592528',\n",
       " 'PMID: 31537874',\n",
       " 'PMID: 19143567',\n",
       " 'PMID: 25589925',\n",
       " 'PMID: 21678971',\n",
       " 'PMID: 23416191',\n",
       " 'PMID: 27604032',\n",
       " 'PMID: 26396691',\n",
       " 'PMID: 20718493',\n",
       " 'PMID: 25559428',\n",
       " 'PMID: 23530754',\n",
       " 'PMID: 29498517',\n",
       " 'PMID: 26704264',\n",
       " 'PMID: 29688013',\n",
       " 'PMID: 30562696',\n",
       " 'PMID: 26068403',\n",
       " 'PMID: 24980703',\n",
       " 'PMID: 25139565',\n",
       " 'PMID: 24112024',\n",
       " 'PMID: 24405419',\n",
       " 'PMID: 24606063',\n",
       " 'PMID: 19301319',\n",
       " 'PMID: 27291165',\n",
       " 'PMID: 20394106',\n",
       " 'PMID: 23672613',\n",
       " 'PMID: 23368099',\n",
       " 'PMID: 26822284',\n",
       " 'PMID: 20642456',\n",
       " 'PMID: 22223051',\n",
       " 'PMID: 31019200',\n",
       " 'PMID: 31836723',\n",
       " 'PMID: 29097752',\n",
       " 'PMID: 25231971',\n",
       " 'PMID: 23776527',\n",
       " 'PMID: 29436819',\n",
       " 'PMID: 30728114',\n",
       " 'PMID: 25314628',\n",
       " 'PMID: 19403917',\n",
       " 'PMID: 28368119',\n",
       " 'PMID: 23043117',\n",
       " 'PMID: 23115625',\n",
       " 'PMID: 26978477',\n",
       " 'PMID: 28314097',\n",
       " 'PMID: 26395057',\n",
       " 'PMID: 21707077',\n",
       " 'PMID: 22439615',\n",
       " 'PMID: 24974344',\n",
       " 'PMID: 26942307',\n",
       " 'PMID: 22069029',\n",
       " 'PMID: 31327677',\n",
       " 'PMID: 27500412',\n",
       " 'PMID: 30689376',\n",
       " 'PMID: 24375910',\n",
       " 'PMID: 27115555',\n",
       " 'PMID: 25590533',\n",
       " 'PMID: 31199869',\n",
       " 'PMID: 24751441',\n",
       " 'PMID: 28817930',\n",
       " 'PMID: 29469144',\n",
       " 'PMID: 21207961',\n",
       " 'PMID: 19207420',\n",
       " 'PMID: 30429968',\n",
       " 'PMID: 29259745',\n",
       " 'PMID: 26740153',\n",
       " 'PMID: 28000414',\n",
       " 'PMID: 27805033',\n",
       " 'PMID: 23932360',\n",
       " 'PMID: 23874714',\n",
       " 'PMID: 28684785',\n",
       " 'PMID: 30871023',\n",
       " 'PMID: 25344840',\n",
       " 'PMID: 26038551',\n",
       " 'PMID: 28523851',\n",
       " 'PMID: 25862210',\n",
       " 'PMID: 27795851 ',\n",
       " 'PMID: 26599519',\n",
       " 'PMID: 26342866 ',\n",
       " 'PMID: 21695711',\n",
       " 'PMID: 27688183',\n",
       " 'PMID: 28070724',\n",
       " 'PMID: 22943065',\n",
       " 'PMID: 20855558',\n",
       " 'PMID: 29969259 ',\n",
       " 'PMID: 31103918',\n",
       " 'PMID: 21189019 ',\n",
       " 'PMID: 31905878 ',\n",
       " 'PMID: 28944578',\n",
       " 'PMID: 19396178 ',\n",
       " 'PMID: 22339127',\n",
       " 'PMID: 29271657',\n",
       " 'PMID: 23929705 ',\n",
       " 'PMID: 23419007',\n",
       " 'PMID: 24807704 ',\n",
       " 'PMID: 29364148 ',\n",
       " 'PMID: 20183850',\n",
       " 'PMID: 24997687 ',\n",
       " 'PMID: 23872845 ',\n",
       " 'PMID: 29883107',\n",
       " 'PMID: 31357624 ',\n",
       " 'PMID: 28380256 ',\n",
       " 'PMID: 28792217',\n",
       " 'PMID: 19791746',\n",
       " 'PMID: 21875802',\n",
       " 'PMID: 30798051',\n",
       " 'PMID: 28032980',\n",
       " 'PMID: 24818704',\n",
       " 'PMID: 25487909 ',\n",
       " 'PMID: 28933844 ',\n",
       " 'PMID: 19305397 ',\n",
       " 'PMID: 27031670',\n",
       " 'PMID: 26320641',\n",
       " 'PMID: 27738104 ',\n",
       " 'PMID: 23742188',\n",
       " 'PMID: 29157864',\n",
       " 'PMID: 30396062',\n",
       " 'PMID: 20217221',\n",
       " 'PMID: 27238211 ',\n",
       " 'PMID: 27720325',\n",
       " 'PMID: 26691757',\n",
       " 'PMID: 26700752',\n",
       " 'PMID: 21073150',\n",
       " 'PMID: 23220642',\n",
       " 'PMID: 29641181',\n",
       " 'PMID: 26259992',\n",
       " 'PMID: 19527033',\n",
       " 'PMID: 30368131',\n",
       " 'PMID: 27563394',\n",
       " 'PMID: 22486652',\n",
       " 'PMID: 31138459',\n",
       " 'PMID: 20232910',\n",
       " 'PMID: 29990434',\n",
       " 'PMID: 23788280',\n",
       " 'PMID: 23139382',\n",
       " 'PMID: 29328649',\n",
       " 'PMID: 24079418',\n",
       " 'PMID: 28673552',\n",
       " 'PMID: 22183167',\n",
       " 'PMID: 31060360',\n",
       " 'PMID: 28791799',\n",
       " 'PMID: 25154878',\n",
       " 'PMID: 28564542',\n",
       " 'PMID: 27452283',\n",
       " 'PMID: 28261092',\n",
       " 'PMID: 29399991',\n",
       " 'PMID: 22091402',\n",
       " 'PMID: 21785785',\n",
       " 'PMID: 22881866',\n",
       " 'PMID: 25899172',\n",
       " 'PMID: 21699136',\n",
       " 'PMID: 22382897',\n",
       " 'PMID: 31814953',\n",
       " 'PMID: 30707565',\n",
       " 'PMID: 27028906',\n",
       " 'PMID: 24675176',\n",
       " 'PMID: 27287372',\n",
       " 'PMID: 28510609',\n",
       " 'PMID: 24030898',\n",
       " 'PMID: 29764756',\n",
       " 'PMID: 19660030',\n",
       " 'PMID: 21602613',\n",
       " 'PMID: 24656800',\n",
       " 'PMID: 29645362',\n",
       " 'PMID: 23820386',\n",
       " 'PMID: 26760056',\n",
       " 'PMID: 26915684',\n",
       " 'PMID: 26731131',\n",
       " 'PMID: 28157311',\n",
       " 'PMID: 20005305',\n",
       " 'PMID: 21344277',\n",
       " 'PMID: 24083656',\n",
       " 'PMID: 30040896',\n",
       " 'PMID: 31727451',\n",
       " 'PMID: 31557621',\n",
       " 'PMID: 29497732',\n",
       " 'PMID: 24394582',\n",
       " 'PMID: 25367834',\n",
       " 'PMID: 23018093',\n",
       " 'PMID: 20676418',\n",
       " 'PMID: 24304323',\n",
       " 'PMID: 29691138',\n",
       " 'PMID: 30629404',\n",
       " 'PMID: 20165808',\n",
       " 'PMID: 29859905',\n",
       " 'PMID: 29113762',\n",
       " 'PMID: 21536436',\n",
       " 'PMID: 27567201',\n",
       " 'PMID: 23648182',\n",
       " 'PMID: 22591730',\n",
       " 'PMID: 23306195',\n",
       " 'PMID: 25555143',\n",
       " 'PMID: 21621412',\n",
       " 'PMID: 29568346',\n",
       " 'PMID: 20598892',\n",
       " 'PMID: 29633584',\n",
       " 'PMID: 24607587',\n",
       " 'PMID: 28410781',\n",
       " 'PMID: 26225423',\n",
       " 'PMID: 29229639']"
      ]
     },
     "execution_count": 7,
     "metadata": {},
     "output_type": "execute_result"
    }
   ],
   "source": [
    "pmids"
   ]
  },
  {
   "cell_type": "markdown",
   "metadata": {},
   "source": [
    "Notice that if you scroll down some of the PMIDs are followed by some empty spaces after the number? Make a new list which contains only the number, not followed by the white space."
   ]
  },
  {
   "cell_type": "code",
   "execution_count": 8,
   "metadata": {},
   "outputs": [],
   "source": [
    "# %load solutions/ex3_2.py\n",
    "pmids = [pmid[6:14] for pmid in pmids]"
   ]
  },
  {
   "cell_type": "code",
   "execution_count": 9,
   "metadata": {},
   "outputs": [],
   "source": [
    "#from pypdb import * # this statement will import all functions and classes from pypdb"
   ]
  },
  {
   "cell_type": "markdown",
   "metadata": {},
   "source": [
    "## Do a search on PDB\n",
    "\n",
    "Once you get started with a new library, you would commonly just follow the examples from the official [docs](http://www.wgilpin.com/pypdb_docs/html/). The exact procedures you don't need to remember by heart, you can always just go back to the docs. However, we do the query as follows:"
   ]
  },
  {
   "cell_type": "code",
   "execution_count": 11,
   "metadata": {},
   "outputs": [],
   "source": [
    "search_dict = pypdb.make_query(pmids[0])\n",
    "hits = pypdb.do_search(search_dict)"
   ]
  },
  {
   "cell_type": "code",
   "execution_count": 12,
   "metadata": {},
   "outputs": [
    {
     "data": {
      "text/plain": [
       "['4X9P']"
      ]
     },
     "execution_count": 12,
     "metadata": {},
     "output_type": "execute_result"
    }
   ],
   "source": [
    "hits"
   ]
  },
  {
   "cell_type": "markdown",
   "metadata": {},
   "source": [
    "This gives us a list of matching PDB IDs. We can get a summary of an entry:"
   ]
  },
  {
   "cell_type": "code",
   "execution_count": 13,
   "metadata": {},
   "outputs": [
    {
     "data": {
      "text/plain": [
       "{'polymer': {'@entityNr': '1',\n",
       "  '@length': '343',\n",
       "  '@type': 'protein',\n",
       "  '@weight': '38985.5',\n",
       "  'chain': {'@id': 'A'},\n",
       "  'Taxonomy': {'@name': 'Bos taurus', '@id': '9913'},\n",
       "  'synonym': {'@name': 'Annexin II,Annexin-2,Calpactin I heavy chain,Calpactin-1 heavy chain,Chromobindin-8,Lipocortin II,Placental anticoagulant protein IV,PAP-IV,Protein I,p36'},\n",
       "  'macroMolecule': {'@name': 'Annexin A2', 'accession': {'@id': 'P04272'}},\n",
       "  'polymerDescription': {'@description': 'Annexin A2'}},\n",
       " 'id': '4X9P'}"
      ]
     },
     "execution_count": 13,
     "metadata": {},
     "output_type": "execute_result"
    }
   ],
   "source": [
    "pypdb.get_all_info(hits[0])"
   ]
  },
  {
   "cell_type": "markdown",
   "metadata": {},
   "source": [
    "and some metadata"
   ]
  },
  {
   "cell_type": "code",
   "execution_count": 14,
   "metadata": {},
   "outputs": [
    {
     "data": {
      "text/plain": [
       "{'structureId': '4X9P',\n",
       " 'title': 'Crystal structure of bovine Annexin A2',\n",
       " 'pubmedId': '25772737',\n",
       " 'expMethod': 'X-RAY DIFFRACTION',\n",
       " 'resolution': '2.01',\n",
       " 'keywords': 'CALCIUM BINDING PROTEIN',\n",
       " 'nr_entities': '1',\n",
       " 'nr_residues': '343',\n",
       " 'nr_atoms': '2544',\n",
       " 'deposition_date': '2014-12-11',\n",
       " 'release_date': '2015-01-14',\n",
       " 'last_modification_date': '2015-04-29',\n",
       " 'structure_authors': 'Shumilin, I.A., Hollas, H., Vedeler, A., Kretsinger, R.H.',\n",
       " 'citation_authors': 'Raddum, A.M., Hollas, H., Shumilin, I.A., Henklein, P., Kretsinger, R., Fossen, T., Vedeler, A.',\n",
       " 'status': 'CURRENT'}"
      ]
     },
     "execution_count": 14,
     "metadata": {},
     "output_type": "execute_result"
    }
   ],
   "source": [
    "pypdb.describe_pdb(hits[0])"
   ]
  },
  {
   "cell_type": "markdown",
   "metadata": {},
   "source": [
    "but now we were interested in the ligands and use the specialized function to find ligands: `get_ligands`"
   ]
  },
  {
   "cell_type": "code",
   "execution_count": 15,
   "metadata": {},
   "outputs": [],
   "source": [
    "ligands = pypdb.get_ligands(hits[0])"
   ]
  },
  {
   "cell_type": "code",
   "execution_count": 16,
   "metadata": {},
   "outputs": [
    {
     "data": {
      "text/plain": [
       "{'ligandInfo': {'ligand': [{'@structureId': '4X9P',\n",
       "    '@chemicalID': 'CA',\n",
       "    '@type': 'non-polymer',\n",
       "    '@molecularWeight': '40.078',\n",
       "    'chemicalName': 'CALCIUM ION',\n",
       "    'formula': 'Ca 2',\n",
       "    'InChIKey': 'BHPQYMZQTOCNFJ-UHFFFAOYSA-N',\n",
       "    'InChI': 'InChI=1S/Ca/q+2',\n",
       "    'smiles': '[Ca+2]'},\n",
       "   {'@structureId': '4X9P',\n",
       "    '@chemicalID': 'CL',\n",
       "    '@type': 'non-polymer',\n",
       "    '@molecularWeight': '35.453',\n",
       "    'chemicalName': 'CHLORIDE ION',\n",
       "    'formula': 'Cl -1',\n",
       "    'InChI': 'InChI=1S/ClH/h1H/p-1',\n",
       "    'InChIKey': 'VEXZGXHMUGYJMC-UHFFFAOYSA-M',\n",
       "    'smiles': '[Cl-]'}]},\n",
       " 'id': '4X9P'}"
      ]
     },
     "execution_count": 16,
     "metadata": {},
     "output_type": "execute_result"
    }
   ],
   "source": [
    "ligands"
   ]
  },
  {
   "cell_type": "markdown",
   "metadata": {},
   "source": [
    "#### Exercise 3. How many ligands does this protein have?"
   ]
  },
  {
   "cell_type": "code",
   "execution_count": 18,
   "metadata": {},
   "outputs": [
    {
     "name": "stdout",
     "output_type": "stream",
     "text": [
      "dict_keys(['ligandInfo', 'id'])\n"
     ]
    },
    {
     "data": {
      "text/plain": [
       "2"
      ]
     },
     "execution_count": 18,
     "metadata": {},
     "output_type": "execute_result"
    }
   ],
   "source": [
    "# %load solutions/ex3_3a.py\n",
    "\n",
    "# len(ligands) <--- you would expect this to work, but if you look at ligands.keys() you see the data is structured a little strangely\n",
    "\n",
    "print(ligands.keys())\n",
    "\n",
    "# the right way turns out to be:\n",
    "len(ligands['ligandInfo']['ligand'])\n"
   ]
  },
  {
   "cell_type": "markdown",
   "metadata": {},
   "source": [
    "#### 3.b. What are those ligands?\n",
    "Hint: to make it easier, look simultaneously at the entry on the [webpage](https://www.rcsb.org/structure/4X9P).  "
   ]
  },
  {
   "cell_type": "code",
   "execution_count": 17,
   "metadata": {},
   "outputs": [
    {
     "name": "stdout",
     "output_type": "stream",
     "text": [
      "CALCIUM ION\n",
      "CHLORIDE ION\n"
     ]
    }
   ],
   "source": [
    "# %load solutions/ex3_3b.py\n",
    "for lig in ligands['ligandInfo']['ligand']:\n",
    "    print(lig['chemicalName'])\n",
    "    \n",
    "# you could also have used @chemicalID or formula instead of chemicalName"
   ]
  },
  {
   "cell_type": "code",
   "execution_count": 21,
   "metadata": {},
   "outputs": [
    {
     "data": {
      "text/plain": [
       "{'describeHet': {'ligandInfo': {'ligand': {'@chemicalID': 'CA',\n",
       "    '@type': 'non-polymer',\n",
       "    '@molecularWeight': '40.078',\n",
       "    'chemicalName': 'CALCIUM ION',\n",
       "    'formula': 'Ca 2',\n",
       "    'InChIKey': 'BHPQYMZQTOCNFJ-UHFFFAOYSA-N',\n",
       "    'InChI': 'InChI=1S/Ca/q+2',\n",
       "    'smiles': '[Ca+2]'}}}}"
      ]
     },
     "execution_count": 21,
     "metadata": {},
     "output_type": "execute_result"
    }
   ],
   "source": [
    "pypdb.describe_chemical('CA')"
   ]
  },
  {
   "cell_type": "markdown",
   "metadata": {},
   "source": [
    "#### Exercise 4. Put all into a single function `whole_pipeline` that let's you extract the ligands in a single function call.\n",
    "\n",
    "hint: you can make one function per sub-task."
   ]
  },
  {
   "cell_type": "code",
   "execution_count": 28,
   "metadata": {},
   "outputs": [],
   "source": [
    "# %load solutions/ex3_4.py\n",
    "\n",
    "def get_pdb_ids(pmid):\n",
    "    search_dict = pypdb.make_query(pmid)\n",
    "    hits = pypdb.do_search(search_dict)\n",
    "    return hits\n",
    "\n",
    "# sometimes we get multiple hits (or none!). For now, we are only concerned with the first one.\n",
    "\n",
    "def get_ligands(pdb_id):\n",
    "    ligs = pypdb.get_ligands(pdb_id)\n",
    "    return [lig['@chemicalID'] for lig in ligs['ligandInfo']['ligand']]\n",
    "\n",
    "def whole_pipeline(pmid):\n",
    "    hits = get_pdb_ids(pmid)\n",
    "    if len(hits)<1: return []\n",
    "    try: ligands = get_ligands(hits[0])\n",
    "    except: return []\n",
    "    print(ligands, '\\n')\n",
    "    return ligands\n",
    "\n",
    "\n",
    "# explanation: \n",
    "# the try and except blocks lets you first attempt (try) to execute some code.\n",
    "# if that code throws an error, we will jump to the code in the except block.\n",
    "# if no error occurs, it will simply execute, and ignore the except block, continuing as usual."
   ]
  },
  {
   "cell_type": "markdown",
   "metadata": {},
   "source": [
    "Depending on exactly how you solved exercise 4, we can call this pipeline in a loop for each pmid, and append the result to a dictionary we can export."
   ]
  },
  {
   "cell_type": "code",
   "execution_count": 29,
   "metadata": {},
   "outputs": [
    {
     "name": "stdout",
     "output_type": "stream",
     "text": [
      "['CA', 'CL'] \n",
      "\n",
      "['BPK', 'EDO'] \n",
      "\n",
      "['5IQ', 'DMS', 'EDO', 'HIS', 'SO4'] \n",
      "\n",
      "['5UH', 'ZN'] \n",
      "\n",
      "['SEP', 'XIX'] \n",
      "\n",
      "['CL', 'EDO', 'KCX', 'TI7'] \n",
      "\n",
      "['ADP', 'DS0', 'GOL', 'MG'] \n",
      "\n",
      "['ADN', 'GOL', 'TRS'] \n",
      "\n",
      "['13P', 'NAD', 'SO4'] \n",
      "\n",
      "['54P', 'ACT'] \n",
      "\n",
      "['A4D', 'EOH', 'GOL', 'SO4'] \n",
      "\n",
      "['FCA', 'FCB'] \n",
      "\n",
      "['CEM', 'SO4', 'TEM'] \n",
      "\n"
     ]
    }
   ],
   "source": [
    "result = {} #initialize empty dict\n",
    "\n",
    "for pmid in pmids[:20]:\n",
    "    ligands = whole_pipeline(pmid)\n",
    "    result[pmid] = ligands"
   ]
  },
  {
   "cell_type": "markdown",
   "metadata": {},
   "source": [
    "Pandas can be used for display purposes:"
   ]
  },
  {
   "cell_type": "code",
   "execution_count": 35,
   "metadata": {},
   "outputs": [
    {
     "data": {
      "text/html": [
       "<div>\n",
       "<style scoped>\n",
       "    .dataframe tbody tr th:only-of-type {\n",
       "        vertical-align: middle;\n",
       "    }\n",
       "\n",
       "    .dataframe tbody tr th {\n",
       "        vertical-align: top;\n",
       "    }\n",
       "\n",
       "    .dataframe thead th {\n",
       "        text-align: right;\n",
       "    }\n",
       "</style>\n",
       "<table border=\"1\" class=\"dataframe\">\n",
       "  <thead>\n",
       "    <tr style=\"text-align: right;\">\n",
       "      <th></th>\n",
       "      <th>PMID</th>\n",
       "      <th>ligands</th>\n",
       "    </tr>\n",
       "  </thead>\n",
       "  <tbody>\n",
       "    <tr>\n",
       "      <th>0</th>\n",
       "      <td>25772737</td>\n",
       "      <td>[CA, CL]</td>\n",
       "    </tr>\n",
       "    <tr>\n",
       "      <th>1</th>\n",
       "      <td>24900475</td>\n",
       "      <td>[BPK, EDO]</td>\n",
       "    </tr>\n",
       "    <tr>\n",
       "      <th>2</th>\n",
       "      <td>26249349</td>\n",
       "      <td>[5IQ, DMS, EDO, HIS, SO4]</td>\n",
       "    </tr>\n",
       "    <tr>\n",
       "      <th>3</th>\n",
       "      <td>29510947</td>\n",
       "      <td>[]</td>\n",
       "    </tr>\n",
       "    <tr>\n",
       "      <th>4</th>\n",
       "      <td>26872970</td>\n",
       "      <td>[5UH, ZN]</td>\n",
       "    </tr>\n",
       "    <tr>\n",
       "      <th>5</th>\n",
       "      <td>21358046</td>\n",
       "      <td>[SEP, XIX]</td>\n",
       "    </tr>\n",
       "    <tr>\n",
       "      <th>6</th>\n",
       "      <td>20298671</td>\n",
       "      <td>[]</td>\n",
       "    </tr>\n",
       "    <tr>\n",
       "      <th>7</th>\n",
       "      <td>29348071</td>\n",
       "      <td>[CL, EDO, KCX, TI7]</td>\n",
       "    </tr>\n",
       "    <tr>\n",
       "      <th>8</th>\n",
       "      <td>29608391</td>\n",
       "      <td>[ADP, DS0, GOL, MG]</td>\n",
       "    </tr>\n",
       "    <tr>\n",
       "      <th>9</th>\n",
       "      <td>26806381</td>\n",
       "      <td>[]</td>\n",
       "    </tr>\n",
       "    <tr>\n",
       "      <th>10</th>\n",
       "      <td>27708405</td>\n",
       "      <td>[ADN, GOL, TRS]</td>\n",
       "    </tr>\n",
       "    <tr>\n",
       "      <th>11</th>\n",
       "      <td>30060461</td>\n",
       "      <td>[13P, NAD, SO4]</td>\n",
       "    </tr>\n",
       "    <tr>\n",
       "      <th>12</th>\n",
       "      <td>28495381</td>\n",
       "      <td>[54P, ACT]</td>\n",
       "    </tr>\n",
       "    <tr>\n",
       "      <th>13</th>\n",
       "      <td>20158266</td>\n",
       "      <td>[]</td>\n",
       "    </tr>\n",
       "    <tr>\n",
       "      <th>14</th>\n",
       "      <td>24847974</td>\n",
       "      <td>[]</td>\n",
       "    </tr>\n",
       "    <tr>\n",
       "      <th>15</th>\n",
       "      <td>19827080</td>\n",
       "      <td>[A4D, EOH, GOL, SO4]</td>\n",
       "    </tr>\n",
       "    <tr>\n",
       "      <th>16</th>\n",
       "      <td>30784877</td>\n",
       "      <td>[]</td>\n",
       "    </tr>\n",
       "    <tr>\n",
       "      <th>17</th>\n",
       "      <td>20818756</td>\n",
       "      <td>[FCA, FCB]</td>\n",
       "    </tr>\n",
       "    <tr>\n",
       "      <th>18</th>\n",
       "      <td>25690569</td>\n",
       "      <td>[CEM, SO4, TEM]</td>\n",
       "    </tr>\n",
       "    <tr>\n",
       "      <th>19</th>\n",
       "      <td>24870364</td>\n",
       "      <td>[]</td>\n",
       "    </tr>\n",
       "  </tbody>\n",
       "</table>\n",
       "</div>"
      ],
      "text/plain": [
       "        PMID                    ligands\n",
       "0   25772737                   [CA, CL]\n",
       "1   24900475                 [BPK, EDO]\n",
       "2   26249349  [5IQ, DMS, EDO, HIS, SO4]\n",
       "3   29510947                         []\n",
       "4   26872970                  [5UH, ZN]\n",
       "5   21358046                 [SEP, XIX]\n",
       "6   20298671                         []\n",
       "7   29348071        [CL, EDO, KCX, TI7]\n",
       "8   29608391        [ADP, DS0, GOL, MG]\n",
       "9   26806381                         []\n",
       "10  27708405            [ADN, GOL, TRS]\n",
       "11  30060461            [13P, NAD, SO4]\n",
       "12  28495381                 [54P, ACT]\n",
       "13  20158266                         []\n",
       "14  24847974                         []\n",
       "15  19827080       [A4D, EOH, GOL, SO4]\n",
       "16  30784877                         []\n",
       "17  20818756                 [FCA, FCB]\n",
       "18  25690569            [CEM, SO4, TEM]\n",
       "19  24870364                         []"
      ]
     },
     "execution_count": 35,
     "metadata": {},
     "output_type": "execute_result"
    }
   ],
   "source": [
    "df = pd.DataFrame(data=result.items(), columns=['PMID','ligands'])\n",
    "df"
   ]
  },
  {
   "cell_type": "markdown",
   "metadata": {},
   "source": [
    "Now we can export this into a new file."
   ]
  },
  {
   "cell_type": "code",
   "execution_count": 36,
   "metadata": {},
   "outputs": [],
   "source": [
    "df.to_csv('result.csv')"
   ]
  }
 ],
 "metadata": {
  "kernelspec": {
   "display_name": "CBM101",
   "language": "python",
   "name": "cbm101"
  },
  "language_info": {
   "codemirror_mode": {
    "name": "ipython",
    "version": 3
   },
   "file_extension": ".py",
   "mimetype": "text/x-python",
   "name": "python",
   "nbconvert_exporter": "python",
   "pygments_lexer": "ipython3",
   "version": "3.7.6"
  }
 },
 "nbformat": 4,
 "nbformat_minor": 2
}
