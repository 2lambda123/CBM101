{
 "cells": [
  {
   "cell_type": "markdown",
   "metadata": {},
   "source": [
    "# Downloading COVID19 data from online"
   ]
  },
  {
   "cell_type": "markdown",
   "metadata": {},
   "source": [
    "\n",
    "\n",
    "Material borrowed in part from\n",
    "https://nbviewer.ipython.org/github/BodenmillerGroup/IntroDataAnalysis/blob/master/python/03_pandas_images.ipynb\n",
    "\n",
    "\n",
    "Credit for the dataset: https://www.thelancet.com/journals/laninf/article/PIIS1473-3099(20)30120-1/fulltext"
   ]
  },
  {
   "cell_type": "code",
   "execution_count": 1,
   "metadata": {},
   "outputs": [],
   "source": [
    "import pandas as pd\n",
    "from matplotlib import pyplot as plt\n",
    "import numpy as np"
   ]
  },
  {
   "cell_type": "markdown",
   "metadata": {},
   "source": [
    "### Download data\n",
    "\n",
    "Downloading data can sometimes be very seamless, using a URL directly with pandas."
   ]
  },
  {
   "cell_type": "code",
   "execution_count": 2,
   "metadata": {},
   "outputs": [
    {
     "ename": "FileNotFoundError",
     "evalue": "[Errno 2] No such file or directory: '../Data/covid19.csv'",
     "output_type": "error",
     "traceback": [
      "\u001b[1;31m---------------------------------------------------------------------------\u001b[0m",
      "\u001b[1;31mFileNotFoundError\u001b[0m                         Traceback (most recent call last)",
      "\u001b[1;32m<ipython-input-2-124b0d6b65c5>\u001b[0m in \u001b[0;36m<module>\u001b[1;34m\u001b[0m\n\u001b[0;32m     17\u001b[0m \u001b[0mcovid_cases\u001b[0m \u001b[1;33m=\u001b[0m \u001b[0mpd\u001b[0m\u001b[1;33m.\u001b[0m\u001b[0mmerge\u001b[0m\u001b[1;33m(\u001b[0m\u001b[0mcovid_cases\u001b[0m\u001b[1;33m,\u001b[0m \u001b[0mfetch_covid\u001b[0m\u001b[1;33m(\u001b[0m\u001b[0mrecovered_url\u001b[0m\u001b[1;33m,\u001b[0m \u001b[1;34m'Recovered'\u001b[0m\u001b[1;33m)\u001b[0m\u001b[1;33m)\u001b[0m\u001b[1;33m\u001b[0m\u001b[1;33m\u001b[0m\u001b[0m\n\u001b[0;32m     18\u001b[0m \u001b[0mcovid_cases\u001b[0m \u001b[1;33m=\u001b[0m \u001b[0mpd\u001b[0m\u001b[1;33m.\u001b[0m\u001b[0mmerge\u001b[0m\u001b[1;33m(\u001b[0m\u001b[0mcovid_cases\u001b[0m\u001b[1;33m,\u001b[0m \u001b[0mfetch_covid\u001b[0m\u001b[1;33m(\u001b[0m\u001b[0mdeaths_url\u001b[0m\u001b[1;33m,\u001b[0m \u001b[1;34m'Deaths'\u001b[0m\u001b[1;33m)\u001b[0m\u001b[1;33m)\u001b[0m\u001b[1;33m\u001b[0m\u001b[1;33m\u001b[0m\u001b[0m\n\u001b[1;32m---> 19\u001b[1;33m \u001b[0mcovid_cases\u001b[0m\u001b[1;33m.\u001b[0m\u001b[0mto_csv\u001b[0m\u001b[1;33m(\u001b[0m\u001b[1;34m'../Data/covid19.csv'\u001b[0m\u001b[1;33m,\u001b[0m \u001b[0mindex\u001b[0m\u001b[1;33m=\u001b[0m\u001b[1;32mFalse\u001b[0m\u001b[1;33m)\u001b[0m\u001b[1;33m\u001b[0m\u001b[1;33m\u001b[0m\u001b[0m\n\u001b[0m",
      "\u001b[1;32m~\\Anaconda3\\envs\\cbm101\\lib\\site-packages\\pandas\\core\\generic.py\u001b[0m in \u001b[0;36mto_csv\u001b[1;34m(self, path_or_buf, sep, na_rep, float_format, columns, header, index, index_label, mode, encoding, compression, quoting, quotechar, line_terminator, chunksize, date_format, doublequote, escapechar, decimal)\u001b[0m\n\u001b[0;32m   3226\u001b[0m             \u001b[0mdecimal\u001b[0m\u001b[1;33m=\u001b[0m\u001b[0mdecimal\u001b[0m\u001b[1;33m,\u001b[0m\u001b[1;33m\u001b[0m\u001b[1;33m\u001b[0m\u001b[0m\n\u001b[0;32m   3227\u001b[0m         )\n\u001b[1;32m-> 3228\u001b[1;33m         \u001b[0mformatter\u001b[0m\u001b[1;33m.\u001b[0m\u001b[0msave\u001b[0m\u001b[1;33m(\u001b[0m\u001b[1;33m)\u001b[0m\u001b[1;33m\u001b[0m\u001b[1;33m\u001b[0m\u001b[0m\n\u001b[0m\u001b[0;32m   3229\u001b[0m \u001b[1;33m\u001b[0m\u001b[0m\n\u001b[0;32m   3230\u001b[0m         \u001b[1;32mif\u001b[0m \u001b[0mpath_or_buf\u001b[0m \u001b[1;32mis\u001b[0m \u001b[1;32mNone\u001b[0m\u001b[1;33m:\u001b[0m\u001b[1;33m\u001b[0m\u001b[1;33m\u001b[0m\u001b[0m\n",
      "\u001b[1;32m~\\Anaconda3\\envs\\cbm101\\lib\\site-packages\\pandas\\io\\formats\\csvs.py\u001b[0m in \u001b[0;36msave\u001b[1;34m(self)\u001b[0m\n\u001b[0;32m    181\u001b[0m                 \u001b[0mself\u001b[0m\u001b[1;33m.\u001b[0m\u001b[0mmode\u001b[0m\u001b[1;33m,\u001b[0m\u001b[1;33m\u001b[0m\u001b[1;33m\u001b[0m\u001b[0m\n\u001b[0;32m    182\u001b[0m                 \u001b[0mencoding\u001b[0m\u001b[1;33m=\u001b[0m\u001b[0mself\u001b[0m\u001b[1;33m.\u001b[0m\u001b[0mencoding\u001b[0m\u001b[1;33m,\u001b[0m\u001b[1;33m\u001b[0m\u001b[1;33m\u001b[0m\u001b[0m\n\u001b[1;32m--> 183\u001b[1;33m                 \u001b[0mcompression\u001b[0m\u001b[1;33m=\u001b[0m\u001b[0mself\u001b[0m\u001b[1;33m.\u001b[0m\u001b[0mcompression\u001b[0m\u001b[1;33m,\u001b[0m\u001b[1;33m\u001b[0m\u001b[1;33m\u001b[0m\u001b[0m\n\u001b[0m\u001b[0;32m    184\u001b[0m             )\n\u001b[0;32m    185\u001b[0m             \u001b[0mclose\u001b[0m \u001b[1;33m=\u001b[0m \u001b[1;32mTrue\u001b[0m\u001b[1;33m\u001b[0m\u001b[1;33m\u001b[0m\u001b[0m\n",
      "\u001b[1;32m~\\Anaconda3\\envs\\cbm101\\lib\\site-packages\\pandas\\io\\common.py\u001b[0m in \u001b[0;36m_get_handle\u001b[1;34m(path_or_buf, mode, encoding, compression, memory_map, is_text)\u001b[0m\n\u001b[0;32m    397\u001b[0m         \u001b[1;32mif\u001b[0m \u001b[0mencoding\u001b[0m\u001b[1;33m:\u001b[0m\u001b[1;33m\u001b[0m\u001b[1;33m\u001b[0m\u001b[0m\n\u001b[0;32m    398\u001b[0m             \u001b[1;31m# Encoding\u001b[0m\u001b[1;33m\u001b[0m\u001b[1;33m\u001b[0m\u001b[1;33m\u001b[0m\u001b[0m\n\u001b[1;32m--> 399\u001b[1;33m             \u001b[0mf\u001b[0m \u001b[1;33m=\u001b[0m \u001b[0mopen\u001b[0m\u001b[1;33m(\u001b[0m\u001b[0mpath_or_buf\u001b[0m\u001b[1;33m,\u001b[0m \u001b[0mmode\u001b[0m\u001b[1;33m,\u001b[0m \u001b[0mencoding\u001b[0m\u001b[1;33m=\u001b[0m\u001b[0mencoding\u001b[0m\u001b[1;33m,\u001b[0m \u001b[0mnewline\u001b[0m\u001b[1;33m=\u001b[0m\u001b[1;34m\"\"\u001b[0m\u001b[1;33m)\u001b[0m\u001b[1;33m\u001b[0m\u001b[1;33m\u001b[0m\u001b[0m\n\u001b[0m\u001b[0;32m    400\u001b[0m         \u001b[1;32melif\u001b[0m \u001b[0mis_text\u001b[0m\u001b[1;33m:\u001b[0m\u001b[1;33m\u001b[0m\u001b[1;33m\u001b[0m\u001b[0m\n\u001b[0;32m    401\u001b[0m             \u001b[1;31m# No explicit encoding\u001b[0m\u001b[1;33m\u001b[0m\u001b[1;33m\u001b[0m\u001b[1;33m\u001b[0m\u001b[0m\n",
      "\u001b[1;31mFileNotFoundError\u001b[0m: [Errno 2] No such file or directory: '../Data/covid19.csv'"
     ]
    }
   ],
   "source": [
    "# 2019-nCoV Data Repository by Johns Hopkins CSSE\n",
    "confirmed_url = 'https://raw.githubusercontent.com/CSSEGISandData/COVID-19/master/csse_covid_19_data/csse_covid_19_time_series/time_series_covid19_confirmed_global.csv'\n",
    "recovered_url = 'https://raw.githubusercontent.com/CSSEGISandData/COVID-19/master/csse_covid_19_data/csse_covid_19_time_series/time_series_covid19_recovered_global.csv'\n",
    "deaths_url = 'https://raw.githubusercontent.com/CSSEGISandData/COVID-19/master/csse_covid_19_data/csse_covid_19_time_series/time_series_covid19_deaths_global.csv'\n",
    "\n",
    "def fetch_covid(url, value_name):\n",
    "    df = pd.read_csv(url).fillna('')  # groupby drops np.nan keys!\n",
    "    groups = df.groupby(['Country/Region', 'Province/State', 'Lat', 'Long'])\n",
    "    def melt_group_dates(group):\n",
    "        group = group.drop(columns=groups.keys)\n",
    "        group = group.melt(var_name='Date', value_name=value_name)\n",
    "        group['Date'] = pd.to_datetime(group['Date'])\n",
    "        return group.set_index('Date')\n",
    "    return groups.apply(melt_group_dates).reset_index()\n",
    "\n",
    "covid_cases = fetch_covid(confirmed_url, 'Confirmed')\n",
    "covid_cases = pd.merge(covid_cases, fetch_covid(recovered_url, 'Recovered'))\n",
    "covid_cases = pd.merge(covid_cases, fetch_covid(deaths_url, 'Deaths'))"
   ]
  },
  {
   "cell_type": "code",
   "execution_count": 6,
   "metadata": {},
   "outputs": [],
   "source": [
    "# save it so you won't have to reprocess later\n",
    "covid_cases.to_csv('data/covid19.csv', index=False)"
   ]
  },
  {
   "cell_type": "code",
   "execution_count": 7,
   "metadata": {},
   "outputs": [
    {
     "data": {
      "text/plain": [
       "(63140, 8)"
      ]
     },
     "execution_count": 7,
     "metadata": {},
     "output_type": "execute_result"
    }
   ],
   "source": [
    "covid_cases.shape"
   ]
  },
  {
   "cell_type": "code",
   "execution_count": 16,
   "metadata": {},
   "outputs": [],
   "source": [
    "df = pd.read_csv('data/covid19.csv')"
   ]
  },
  {
   "cell_type": "code",
   "execution_count": 17,
   "metadata": {},
   "outputs": [
    {
     "data": {
      "text/html": [
       "<div>\n",
       "<style scoped>\n",
       "    .dataframe tbody tr th:only-of-type {\n",
       "        vertical-align: middle;\n",
       "    }\n",
       "\n",
       "    .dataframe tbody tr th {\n",
       "        vertical-align: top;\n",
       "    }\n",
       "\n",
       "    .dataframe thead th {\n",
       "        text-align: right;\n",
       "    }\n",
       "</style>\n",
       "<table border=\"1\" class=\"dataframe\">\n",
       "  <thead>\n",
       "    <tr style=\"text-align: right;\">\n",
       "      <th></th>\n",
       "      <th>Country/Region</th>\n",
       "      <th>Province/State</th>\n",
       "      <th>Lat</th>\n",
       "      <th>Long</th>\n",
       "      <th>Date</th>\n",
       "      <th>Confirmed</th>\n",
       "      <th>Recovered</th>\n",
       "      <th>Deaths</th>\n",
       "    </tr>\n",
       "  </thead>\n",
       "  <tbody>\n",
       "    <tr>\n",
       "      <th>0</th>\n",
       "      <td>NaN</td>\n",
       "      <td>NaN</td>\n",
       "      <td>NaN</td>\n",
       "      <td>NaN</td>\n",
       "      <td>2020-01-22</td>\n",
       "      <td>0.0</td>\n",
       "      <td>0.0</td>\n",
       "      <td>0.0</td>\n",
       "    </tr>\n",
       "    <tr>\n",
       "      <th>1</th>\n",
       "      <td>NaN</td>\n",
       "      <td>NaN</td>\n",
       "      <td>NaN</td>\n",
       "      <td>NaN</td>\n",
       "      <td>2020-01-23</td>\n",
       "      <td>0.0</td>\n",
       "      <td>0.0</td>\n",
       "      <td>0.0</td>\n",
       "    </tr>\n",
       "    <tr>\n",
       "      <th>2</th>\n",
       "      <td>NaN</td>\n",
       "      <td>NaN</td>\n",
       "      <td>NaN</td>\n",
       "      <td>NaN</td>\n",
       "      <td>2020-01-24</td>\n",
       "      <td>0.0</td>\n",
       "      <td>0.0</td>\n",
       "      <td>0.0</td>\n",
       "    </tr>\n",
       "    <tr>\n",
       "      <th>3</th>\n",
       "      <td>NaN</td>\n",
       "      <td>NaN</td>\n",
       "      <td>NaN</td>\n",
       "      <td>NaN</td>\n",
       "      <td>2020-01-25</td>\n",
       "      <td>0.0</td>\n",
       "      <td>0.0</td>\n",
       "      <td>0.0</td>\n",
       "    </tr>\n",
       "    <tr>\n",
       "      <th>4</th>\n",
       "      <td>NaN</td>\n",
       "      <td>NaN</td>\n",
       "      <td>NaN</td>\n",
       "      <td>NaN</td>\n",
       "      <td>2020-01-26</td>\n",
       "      <td>0.0</td>\n",
       "      <td>0.0</td>\n",
       "      <td>0.0</td>\n",
       "    </tr>\n",
       "  </tbody>\n",
       "</table>\n",
       "</div>"
      ],
      "text/plain": [
       "  Country/Region Province/State  Lat  Long        Date  Confirmed  Recovered  \\\n",
       "0            NaN            NaN  NaN   NaN  2020-01-22        0.0        0.0   \n",
       "1            NaN            NaN  NaN   NaN  2020-01-23        0.0        0.0   \n",
       "2            NaN            NaN  NaN   NaN  2020-01-24        0.0        0.0   \n",
       "3            NaN            NaN  NaN   NaN  2020-01-25        0.0        0.0   \n",
       "4            NaN            NaN  NaN   NaN  2020-01-26        0.0        0.0   \n",
       "\n",
       "   Deaths  \n",
       "0     0.0  \n",
       "1     0.0  \n",
       "2     0.0  \n",
       "3     0.0  \n",
       "4     0.0  "
      ]
     },
     "execution_count": 17,
     "metadata": {},
     "output_type": "execute_result"
    }
   ],
   "source": [
    "df.head()"
   ]
  },
  {
   "cell_type": "code",
   "execution_count": null,
   "metadata": {},
   "outputs": [],
   "source": []
  },
  {
   "cell_type": "markdown",
   "metadata": {},
   "source": [
    "#### Exercise. Drop the rows which has Country/Region as NaN"
   ]
  },
  {
   "cell_type": "code",
   "execution_count": 18,
   "metadata": {},
   "outputs": [],
   "source": [
    "# obtain the indexes which has NaN country/region\n",
    "idxs = df.loc[df['Country/Region'].isna(), :].index\n",
    "idxs\n",
    "\n",
    "df.drop(index=idxs, inplace=True)"
   ]
  },
  {
   "cell_type": "code",
   "execution_count": 19,
   "metadata": {},
   "outputs": [],
   "source": [
    "assert np.all(df['Country/Region'].isna() == False)"
   ]
  },
  {
   "cell_type": "code",
   "execution_count": 20,
   "metadata": {},
   "outputs": [
    {
     "data": {
      "text/plain": [
       "(162,)"
      ]
     },
     "execution_count": 20,
     "metadata": {},
     "output_type": "execute_result"
    }
   ],
   "source": [
    "df['Country/Region'].unique().shape"
   ]
  },
  {
   "cell_type": "code",
   "execution_count": 21,
   "metadata": {},
   "outputs": [
    {
     "data": {
      "text/html": [
       "<div>\n",
       "<style scoped>\n",
       "    .dataframe tbody tr th:only-of-type {\n",
       "        vertical-align: middle;\n",
       "    }\n",
       "\n",
       "    .dataframe tbody tr th {\n",
       "        vertical-align: top;\n",
       "    }\n",
       "\n",
       "    .dataframe thead th {\n",
       "        text-align: right;\n",
       "    }\n",
       "</style>\n",
       "<table border=\"1\" class=\"dataframe\">\n",
       "  <thead>\n",
       "    <tr style=\"text-align: right;\">\n",
       "      <th></th>\n",
       "      <th>Country/Region</th>\n",
       "      <th>Province/State</th>\n",
       "      <th>Lat</th>\n",
       "      <th>Long</th>\n",
       "      <th>Date</th>\n",
       "      <th>Confirmed</th>\n",
       "      <th>Recovered</th>\n",
       "      <th>Deaths</th>\n",
       "    </tr>\n",
       "  </thead>\n",
       "  <tbody>\n",
       "    <tr>\n",
       "      <th>573</th>\n",
       "      <td>Afghanistan</td>\n",
       "      <td>NaN</td>\n",
       "      <td>33.939110</td>\n",
       "      <td>67.709953</td>\n",
       "      <td>2020-11-03</td>\n",
       "      <td>41728.0</td>\n",
       "      <td>34355.0</td>\n",
       "      <td>1544.0</td>\n",
       "    </tr>\n",
       "    <tr>\n",
       "      <th>572</th>\n",
       "      <td>Afghanistan</td>\n",
       "      <td>NaN</td>\n",
       "      <td>33.939110</td>\n",
       "      <td>67.709953</td>\n",
       "      <td>2020-11-02</td>\n",
       "      <td>41633.0</td>\n",
       "      <td>34342.0</td>\n",
       "      <td>1541.0</td>\n",
       "    </tr>\n",
       "    <tr>\n",
       "      <th>571</th>\n",
       "      <td>Afghanistan</td>\n",
       "      <td>NaN</td>\n",
       "      <td>33.939110</td>\n",
       "      <td>67.709953</td>\n",
       "      <td>2020-11-01</td>\n",
       "      <td>41501.0</td>\n",
       "      <td>34326.0</td>\n",
       "      <td>1536.0</td>\n",
       "    </tr>\n",
       "    <tr>\n",
       "      <th>570</th>\n",
       "      <td>Afghanistan</td>\n",
       "      <td>NaN</td>\n",
       "      <td>33.939110</td>\n",
       "      <td>67.709953</td>\n",
       "      <td>2020-10-31</td>\n",
       "      <td>41425.0</td>\n",
       "      <td>34321.0</td>\n",
       "      <td>1536.0</td>\n",
       "    </tr>\n",
       "    <tr>\n",
       "      <th>569</th>\n",
       "      <td>Afghanistan</td>\n",
       "      <td>NaN</td>\n",
       "      <td>33.939110</td>\n",
       "      <td>67.709953</td>\n",
       "      <td>2020-10-30</td>\n",
       "      <td>41334.0</td>\n",
       "      <td>34258.0</td>\n",
       "      <td>1533.0</td>\n",
       "    </tr>\n",
       "    <tr>\n",
       "      <th>...</th>\n",
       "      <td>...</td>\n",
       "      <td>...</td>\n",
       "      <td>...</td>\n",
       "      <td>...</td>\n",
       "      <td>...</td>\n",
       "      <td>...</td>\n",
       "      <td>...</td>\n",
       "      <td>...</td>\n",
       "    </tr>\n",
       "    <tr>\n",
       "      <th>62857</th>\n",
       "      <td>Zimbabwe</td>\n",
       "      <td>NaN</td>\n",
       "      <td>-19.015438</td>\n",
       "      <td>29.154857</td>\n",
       "      <td>2020-01-26</td>\n",
       "      <td>0.0</td>\n",
       "      <td>0.0</td>\n",
       "      <td>0.0</td>\n",
       "    </tr>\n",
       "    <tr>\n",
       "      <th>62856</th>\n",
       "      <td>Zimbabwe</td>\n",
       "      <td>NaN</td>\n",
       "      <td>-19.015438</td>\n",
       "      <td>29.154857</td>\n",
       "      <td>2020-01-25</td>\n",
       "      <td>0.0</td>\n",
       "      <td>0.0</td>\n",
       "      <td>0.0</td>\n",
       "    </tr>\n",
       "    <tr>\n",
       "      <th>62855</th>\n",
       "      <td>Zimbabwe</td>\n",
       "      <td>NaN</td>\n",
       "      <td>-19.015438</td>\n",
       "      <td>29.154857</td>\n",
       "      <td>2020-01-24</td>\n",
       "      <td>0.0</td>\n",
       "      <td>0.0</td>\n",
       "      <td>0.0</td>\n",
       "    </tr>\n",
       "    <tr>\n",
       "      <th>62854</th>\n",
       "      <td>Zimbabwe</td>\n",
       "      <td>NaN</td>\n",
       "      <td>-19.015438</td>\n",
       "      <td>29.154857</td>\n",
       "      <td>2020-01-23</td>\n",
       "      <td>0.0</td>\n",
       "      <td>0.0</td>\n",
       "      <td>0.0</td>\n",
       "    </tr>\n",
       "    <tr>\n",
       "      <th>62853</th>\n",
       "      <td>Zimbabwe</td>\n",
       "      <td>NaN</td>\n",
       "      <td>-19.015438</td>\n",
       "      <td>29.154857</td>\n",
       "      <td>2020-01-22</td>\n",
       "      <td>0.0</td>\n",
       "      <td>0.0</td>\n",
       "      <td>0.0</td>\n",
       "    </tr>\n",
       "  </tbody>\n",
       "</table>\n",
       "<p>62853 rows × 8 columns</p>\n",
       "</div>"
      ],
      "text/plain": [
       "      Country/Region Province/State        Lat       Long        Date  \\\n",
       "573      Afghanistan            NaN  33.939110  67.709953  2020-11-03   \n",
       "572      Afghanistan            NaN  33.939110  67.709953  2020-11-02   \n",
       "571      Afghanistan            NaN  33.939110  67.709953  2020-11-01   \n",
       "570      Afghanistan            NaN  33.939110  67.709953  2020-10-31   \n",
       "569      Afghanistan            NaN  33.939110  67.709953  2020-10-30   \n",
       "...              ...            ...        ...        ...         ...   \n",
       "62857       Zimbabwe            NaN -19.015438  29.154857  2020-01-26   \n",
       "62856       Zimbabwe            NaN -19.015438  29.154857  2020-01-25   \n",
       "62855       Zimbabwe            NaN -19.015438  29.154857  2020-01-24   \n",
       "62854       Zimbabwe            NaN -19.015438  29.154857  2020-01-23   \n",
       "62853       Zimbabwe            NaN -19.015438  29.154857  2020-01-22   \n",
       "\n",
       "       Confirmed  Recovered  Deaths  \n",
       "573      41728.0    34355.0  1544.0  \n",
       "572      41633.0    34342.0  1541.0  \n",
       "571      41501.0    34326.0  1536.0  \n",
       "570      41425.0    34321.0  1536.0  \n",
       "569      41334.0    34258.0  1533.0  \n",
       "...          ...        ...     ...  \n",
       "62857        0.0        0.0     0.0  \n",
       "62856        0.0        0.0     0.0  \n",
       "62855        0.0        0.0     0.0  \n",
       "62854        0.0        0.0     0.0  \n",
       "62853        0.0        0.0     0.0  \n",
       "\n",
       "[62853 rows x 8 columns]"
      ]
     },
     "execution_count": 21,
     "metadata": {},
     "output_type": "execute_result"
    }
   ],
   "source": [
    "df.sort_values( # not in-place --> covid_cases remains unchanged\n",
    "    ['Country/Region', 'Province/State', 'Date'],\n",
    "    ascending=[True, True, False]\n",
    ")"
   ]
  },
  {
   "cell_type": "code",
   "execution_count": 22,
   "metadata": {
    "scrolled": true
   },
   "outputs": [
    {
     "data": {
      "text/plain": [
       "Country/Region     object\n",
       "Province/State     object\n",
       "Lat               float64\n",
       "Long              float64\n",
       "Date               object\n",
       "Confirmed         float64\n",
       "Recovered         float64\n",
       "Deaths            float64\n",
       "dtype: object"
      ]
     },
     "execution_count": 22,
     "metadata": {},
     "output_type": "execute_result"
    }
   ],
   "source": [
    "df.dtypes"
   ]
  },
  {
   "cell_type": "code",
   "execution_count": 24,
   "metadata": {},
   "outputs": [],
   "source": [
    "df['Date'] = pd.to_datetime(df['Date'])"
   ]
  },
  {
   "cell_type": "code",
   "execution_count": 25,
   "metadata": {},
   "outputs": [
    {
     "data": {
      "text/plain": [
       "Country/Region            object\n",
       "Province/State            object\n",
       "Lat                      float64\n",
       "Long                     float64\n",
       "Date              datetime64[ns]\n",
       "Confirmed                float64\n",
       "Recovered                float64\n",
       "Deaths                   float64\n",
       "dtype: object"
      ]
     },
     "execution_count": 25,
     "metadata": {},
     "output_type": "execute_result"
    }
   ],
   "source": [
    "df.dtypes"
   ]
  },
  {
   "cell_type": "code",
   "execution_count": 26,
   "metadata": {},
   "outputs": [
    {
     "name": "stdout",
     "output_type": "stream",
     "text": [
      "41728.0\t34355.0\t1544.0\tAfghanistan\n",
      "21904.0\t11473.0\t532.0\tAlbania\n",
      "58979.0\t40577.0\t1980.0\tAlgeria\n",
      "4910.0\t3627.0\t75.0\tAndorra\n",
      "11577.0\t5230.0\t291.0\tAngola\n",
      "128.0\t117.0\t3.0\tAntigua and Barbuda\n",
      "1195276.0\t1009278.0\t32052.0\tArgentina\n",
      "94776.0\t57599.0\t1413.0\tArmenia\n",
      "27622.0\t25407.0\t907.0\tAustralia\n",
      "118198.0\t74292.0\t1192.0\tAustria\n",
      "58282.0\t45030.0\t768.0\tAzerbaijan\n",
      "6790.0\t4632.0\t149.0\tBahamas\n",
      "82363.0\t79680.0\t324.0\tBahrain\n",
      "412647.0\t329787.0\t5983.0\tBangladesh\n",
      "238.0\t222.0\t7.0\tBarbados\n",
      "101329.0\t87985.0\t992.0\tBelarus\n",
      "452541.0\t26661.0\t12126.0\tBelgium\n",
      "3790.0\t2262.0\t61.0\tBelize\n",
      "2683.0\t2455.0\t41.0\tBenin\n",
      "358.0\t327.0\t0.0\tBhutan\n",
      "141936.0\t112526.0\t8751.0\tBolivia\n",
      "53822.0\t29156.0\t1317.0\tBosnia and Herzegovina\n",
      "6642.0\t4676.0\t24.0\tBotswana\n",
      "5566049.0\t5060697.0\t160496.0\tBrazil\n",
      "148.0\t143.0\t3.0\tBrunei\n",
      "60537.0\t21544.0\t1412.0\tBulgaria\n",
      "2530.0\t2298.0\t67.0\tBurkina Faso\n",
      "55804.0\t39063.0\t1307.0\tBurma\n",
      "597.0\t511.0\t1.0\tBurundi\n",
      "8944.0\t8155.0\t95.0\tCabo Verde\n",
      "292.0\t283.0\t0.0\tCambodia\n",
      "4866.0\t1924.0\t62.0\tCentral African Republic\n",
      "1513.0\t1331.0\t98.0\tChad\n",
      "514202.0\t490820.0\t14319.0\tChile\n",
      "87459.0\t82350.0\t4689.0\tChina\n",
      "1099392.0\t993877.0\t31847.0\tColombia\n",
      "545.0\t498.0\t7.0\tComoros\n",
      "5348.0\t3887.0\t92.0\tCongo (Brazzaville)\n",
      "11427.0\t10783.0\t315.0\tCongo (Kinshasa)\n",
      "112120.0\t68604.0\t1419.0\tCosta Rica\n",
      "20765.0\t20427.0\t126.0\tCote d'Ivoire\n",
      "54087.0\t39380.0\t628.0\tCroatia\n",
      "4934.0\t1882.0\t27.0\tCyprus\n",
      "50106.0\t36617.0\t728.0\tDenmark\n",
      "712.0\t659.0\t13.0\tDiamond Princess\n",
      "5575.0\t5467.0\t61.0\tDjibouti\n",
      "50.0\t33.0\t0.0\tDominica\n",
      "127848.0\t105982.0\t2252.0\tDominican Republic\n",
      "170110.0\t149048.0\t12698.0\tEcuador\n",
      "34015.0\t29788.0\t987.0\tEl Salvador\n",
      "5089.0\t4965.0\t83.0\tEquatorial Guinea\n",
      "480.0\t426.0\t0.0\tEritrea\n",
      "5125.0\t3904.0\t73.0\tEstonia\n",
      "5942.0\t5669.0\t117.0\tEswatini\n",
      "97502.0\t55254.0\t1494.0\tEthiopia\n",
      "34.0\t31.0\t2.0\tFiji\n",
      "16637.0\t11300.0\t359.0\tFinland\n",
      "1461363.0\t123636.0\t37492.0\tFrance\n",
      "8984.0\t8779.0\t55.0\tGabon\n",
      "3679.0\t3494.0\t120.0\tGambia\n",
      "44522.0\t28633.0\t362.0\tGeorgia\n",
      "48200.0\t47260.0\t320.0\tGhana\n",
      "44246.0\t23074.0\t655.0\tGreece\n",
      "108483.0\t98658.0\t3748.0\tGuatemala\n",
      "12213.0\t10600.0\t73.0\tGuinea\n",
      "2413.0\t1818.0\t41.0\tGuinea-Bissau\n",
      "9057.0\t7429.0\t232.0\tHaiti\n",
      "27.0\t15.0\t0.0\tHoly See\n",
      "98688.0\t41848.0\t2706.0\tHonduras\n",
      "86769.0\t20856.0\t1973.0\tHungary\n",
      "4957.0\t4081.0\t17.0\tIceland\n",
      "8313876.0\t7656478.0\t123611.0\tIndia\n",
      "418375.0\t349497.0\t14146.0\tIndonesia\n",
      "637712.0\t495473.0\t36160.0\tIran\n",
      "482296.0\t408756.0\t11068.0\tIraq\n",
      "63048.0\t23364.0\t1922.0\tIreland\n",
      "759829.0\t302275.0\t39412.0\tItaly\n",
      "9296.0\t4666.0\t214.0\tJamaica\n",
      "103309.0\t93133.0\t1794.0\tJapan\n",
      "86576.0\t7993.0\t967.0\tJordan\n",
      "113741.0\t106893.0\t1857.0\tKazakhstan\n",
      "57093.0\t37846.0\t1039.0\tKenya\n",
      "20999.0\t15722.0\t705.0\tKosovo\n",
      "60774.0\t51815.0\t1163.0\tKyrgyzstan\n",
      "6439.0\t1444.0\t79.0\tLatvia\n",
      "85209.0\t43885.0\t667.0\tLebanon\n",
      "1961.0\t988.0\t44.0\tLesotho\n",
      "1436.0\t1294.0\t82.0\tLiberia\n",
      "63688.0\t36995.0\t893.0\tLibya\n",
      "631.0\t379.0\t3.0\tLiechtenstein\n",
      "17453.0\t4934.0\t175.0\tLithuania\n",
      "19634.0\t10825.0\t167.0\tLuxembourg\n",
      "9.0\t0.0\t2.0\tMS Zaandam\n",
      "5934.0\t5333.0\t184.0\tMalawi\n",
      "11796.0\t10962.0\t38.0\tMaldives\n",
      "6506.0\t4505.0\t64.0\tMalta\n",
      "2.0\t0.0\t0.0\tMarshall Islands\n",
      "7724.0\t7437.0\t164.0\tMauritania\n",
      "938405.0\t803086.0\t92593.0\tMexico\n",
      "77487.0\t57402.0\t1838.0\tMoldova\n",
      "397.0\t293.0\t2.0\tMonaco\n",
      "352.0\t314.0\t0.0\tMongolia\n",
      "19977.0\t14635.0\t322.0\tMontenegro\n",
      "229565.0\t189909.0\t3900.0\tMorocco\n",
      "13030.0\t11304.0\t133.0\tNamibia\n",
      "179614.0\t141134.0\t1004.0\tNepal\n",
      "382440.0\t5975.0\t7640.0\tNetherlands\n",
      "1971.0\t1873.0\t25.0\tNew Zealand\n",
      "5514.0\t4225.0\t156.0\tNicaragua\n",
      "1222.0\t1141.0\t69.0\tNiger\n",
      "63173.0\t59634.0\t1151.0\tNigeria\n",
      "33908.0\t21665.0\t1049.0\tNorth Macedonia\n",
      "21956.0\t11863.0\t282.0\tNorway\n",
      "337573.0\t316060.0\t6867.0\tPakistan\n",
      "135592.0\t113379.0\t2731.0\tPanama\n",
      "597.0\t580.0\t7.0\tPapua New Guinea\n",
      "64628.0\t44523.0\t1441.0\tParaguay\n",
      "902503.0\t830612.0\t34476.0\tPeru\n",
      "414844.0\t159986.0\t6102.0\tPoland\n",
      "149443.0\t86589.0\t2635.0\tPortugal\n",
      "133143.0\t130202.0\t232.0\tQatar\n",
      "258437.0\t181175.0\t7273.0\tRomania\n",
      "5162.0\t4930.0\t35.0\tRwanda\n",
      "19.0\t19.0\t0.0\tSaint Kitts and Nevis\n",
      "97.0\t32.0\t0.0\tSaint Lucia\n",
      "75.0\t71.0\t0.0\tSaint Vincent and the Grenadines\n",
      "994.0\t730.0\t42.0\tSan Marino\n",
      "954.0\t907.0\t16.0\tSao Tome and Principe\n",
      "348510.0\t335153.0\t5456.0\tSaudi Arabia\n",
      "15640.0\t15149.0\t326.0\tSenegal\n",
      "51083.0\t0.0\t844.0\tSerbia\n",
      "157.0\t151.0\t0.0\tSeychelles\n",
      "2368.0\t1803.0\t74.0\tSierra Leone\n",
      "58029.0\t57937.0\t28.0\tSingapore\n",
      "63556.0\t14257.0\t235.0\tSlovakia\n",
      "37382.0\t14074.0\t412.0\tSlovenia\n",
      "13.0\t4.0\t0.0\tSolomon Islands\n",
      "4229.0\t3247.0\t107.0\tSomalia\n",
      "728836.0\t659259.0\t19539.0\tSouth Africa\n",
      "13905.0\t6764.0\t837.0\tSudan\n",
      "5218.0\t5087.0\t111.0\tSuriname\n",
      "134532.0\t0.0\t5969.0\tSweden\n",
      "182303.0\t83400.0\t2471.0\tSwitzerland\n",
      "567.0\t521.0\t7.0\tTaiwan*\n",
      "11139.0\t10389.0\t83.0\tTajikistan\n",
      "509.0\t183.0\t21.0\tTanzania\n",
      "3804.0\t3612.0\t59.0\tThailand\n",
      "2381.0\t1691.0\t57.0\tTogo\n",
      "5754.0\t4929.0\t110.0\tTrinidad and Tobago\n",
      "63126.0\t5032.0\t1483.0\tTunisia\n",
      "382118.0\t328824.0\t10481.0\tTurkey\n",
      "9382617.0\t3705130.0\t232620.0\tUS\n",
      "13099.0\t7612.0\t115.0\tUganda\n",
      "423683.0\t176220.0\t7749.0\tUkraine\n",
      "1076382.0\t2205.0\t47333.0\tUnited Kingdom\n",
      "3196.0\t2727.0\t61.0\tUruguay\n",
      "67553.0\t64815.0\t574.0\tUzbekistan\n",
      "93100.0\t87941.0\t810.0\tVenezuela\n",
      "55408.0\t47744.0\t501.0\tWest Bank and Gaza\n",
      "10.0\t8.0\t1.0\tWestern Sahara\n",
      "16661.0\t15763.0\t349.0\tZambia\n",
      "8410.0\t7942.0\t246.0\tZimbabwe\n"
     ]
    }
   ],
   "source": [
    "for country_region, g in df.groupby('Country/Region'):\n",
    "    max_date = g['Date'].max()\n",
    "    confirmed = g.loc[g['Date'] == max_date, 'Confirmed'].sum()\n",
    "    recovered = g.loc[g['Date'] == max_date, 'Recovered'].sum()\n",
    "    deaths = g.loc[g['Date'] == max_date, 'Deaths'].sum()\n",
    "    print(confirmed, recovered, deaths, country_region, sep='\\t')"
   ]
  },
  {
   "cell_type": "markdown",
   "metadata": {},
   "source": [
    " Now we will only look at new cases:"
   ]
  },
  {
   "cell_type": "code",
   "execution_count": 27,
   "metadata": {},
   "outputs": [],
   "source": [
    "confirmed = df.drop(columns=['Recovered', 'Deaths'])"
   ]
  },
  {
   "cell_type": "code",
   "execution_count": 28,
   "metadata": {},
   "outputs": [
    {
     "data": {
      "text/plain": [
       "Country/Region            object\n",
       "Province/State            object\n",
       "Lat                      float64\n",
       "Long                     float64\n",
       "Date              datetime64[ns]\n",
       "Confirmed                float64\n",
       "dtype: object"
      ]
     },
     "execution_count": 28,
     "metadata": {},
     "output_type": "execute_result"
    }
   ],
   "source": [
    "confirmed.dtypes"
   ]
  },
  {
   "cell_type": "code",
   "execution_count": 29,
   "metadata": {},
   "outputs": [
    {
     "data": {
      "text/html": [
       "<div>\n",
       "<style scoped>\n",
       "    .dataframe tbody tr th:only-of-type {\n",
       "        vertical-align: middle;\n",
       "    }\n",
       "\n",
       "    .dataframe tbody tr th {\n",
       "        vertical-align: top;\n",
       "    }\n",
       "\n",
       "    .dataframe thead th {\n",
       "        text-align: right;\n",
       "    }\n",
       "</style>\n",
       "<table border=\"1\" class=\"dataframe\">\n",
       "  <thead>\n",
       "    <tr style=\"text-align: right;\">\n",
       "      <th></th>\n",
       "      <th>Country/Region</th>\n",
       "      <th>Province/State</th>\n",
       "      <th>Lat</th>\n",
       "      <th>Long</th>\n",
       "      <th>Date</th>\n",
       "      <th>Confirmed</th>\n",
       "    </tr>\n",
       "  </thead>\n",
       "  <tbody>\n",
       "    <tr>\n",
       "      <th>287</th>\n",
       "      <td>Afghanistan</td>\n",
       "      <td>NaN</td>\n",
       "      <td>33.939110</td>\n",
       "      <td>67.709953</td>\n",
       "      <td>2020-01-22</td>\n",
       "      <td>0.0</td>\n",
       "    </tr>\n",
       "    <tr>\n",
       "      <th>288</th>\n",
       "      <td>Afghanistan</td>\n",
       "      <td>NaN</td>\n",
       "      <td>33.939110</td>\n",
       "      <td>67.709953</td>\n",
       "      <td>2020-01-23</td>\n",
       "      <td>0.0</td>\n",
       "    </tr>\n",
       "    <tr>\n",
       "      <th>289</th>\n",
       "      <td>Afghanistan</td>\n",
       "      <td>NaN</td>\n",
       "      <td>33.939110</td>\n",
       "      <td>67.709953</td>\n",
       "      <td>2020-01-24</td>\n",
       "      <td>0.0</td>\n",
       "    </tr>\n",
       "    <tr>\n",
       "      <th>290</th>\n",
       "      <td>Afghanistan</td>\n",
       "      <td>NaN</td>\n",
       "      <td>33.939110</td>\n",
       "      <td>67.709953</td>\n",
       "      <td>2020-01-25</td>\n",
       "      <td>0.0</td>\n",
       "    </tr>\n",
       "    <tr>\n",
       "      <th>291</th>\n",
       "      <td>Afghanistan</td>\n",
       "      <td>NaN</td>\n",
       "      <td>33.939110</td>\n",
       "      <td>67.709953</td>\n",
       "      <td>2020-01-26</td>\n",
       "      <td>0.0</td>\n",
       "    </tr>\n",
       "    <tr>\n",
       "      <th>...</th>\n",
       "      <td>...</td>\n",
       "      <td>...</td>\n",
       "      <td>...</td>\n",
       "      <td>...</td>\n",
       "      <td>...</td>\n",
       "      <td>...</td>\n",
       "    </tr>\n",
       "    <tr>\n",
       "      <th>63135</th>\n",
       "      <td>Zimbabwe</td>\n",
       "      <td>NaN</td>\n",
       "      <td>-19.015438</td>\n",
       "      <td>29.154857</td>\n",
       "      <td>2020-10-30</td>\n",
       "      <td>8362.0</td>\n",
       "    </tr>\n",
       "    <tr>\n",
       "      <th>63136</th>\n",
       "      <td>Zimbabwe</td>\n",
       "      <td>NaN</td>\n",
       "      <td>-19.015438</td>\n",
       "      <td>29.154857</td>\n",
       "      <td>2020-10-31</td>\n",
       "      <td>8367.0</td>\n",
       "    </tr>\n",
       "    <tr>\n",
       "      <th>63137</th>\n",
       "      <td>Zimbabwe</td>\n",
       "      <td>NaN</td>\n",
       "      <td>-19.015438</td>\n",
       "      <td>29.154857</td>\n",
       "      <td>2020-11-01</td>\n",
       "      <td>8374.0</td>\n",
       "    </tr>\n",
       "    <tr>\n",
       "      <th>63138</th>\n",
       "      <td>Zimbabwe</td>\n",
       "      <td>NaN</td>\n",
       "      <td>-19.015438</td>\n",
       "      <td>29.154857</td>\n",
       "      <td>2020-11-02</td>\n",
       "      <td>8389.0</td>\n",
       "    </tr>\n",
       "    <tr>\n",
       "      <th>63139</th>\n",
       "      <td>Zimbabwe</td>\n",
       "      <td>NaN</td>\n",
       "      <td>-19.015438</td>\n",
       "      <td>29.154857</td>\n",
       "      <td>2020-11-03</td>\n",
       "      <td>8410.0</td>\n",
       "    </tr>\n",
       "  </tbody>\n",
       "</table>\n",
       "<p>62853 rows × 6 columns</p>\n",
       "</div>"
      ],
      "text/plain": [
       "      Country/Region Province/State        Lat       Long       Date  \\\n",
       "287      Afghanistan            NaN  33.939110  67.709953 2020-01-22   \n",
       "288      Afghanistan            NaN  33.939110  67.709953 2020-01-23   \n",
       "289      Afghanistan            NaN  33.939110  67.709953 2020-01-24   \n",
       "290      Afghanistan            NaN  33.939110  67.709953 2020-01-25   \n",
       "291      Afghanistan            NaN  33.939110  67.709953 2020-01-26   \n",
       "...              ...            ...        ...        ...        ...   \n",
       "63135       Zimbabwe            NaN -19.015438  29.154857 2020-10-30   \n",
       "63136       Zimbabwe            NaN -19.015438  29.154857 2020-10-31   \n",
       "63137       Zimbabwe            NaN -19.015438  29.154857 2020-11-01   \n",
       "63138       Zimbabwe            NaN -19.015438  29.154857 2020-11-02   \n",
       "63139       Zimbabwe            NaN -19.015438  29.154857 2020-11-03   \n",
       "\n",
       "       Confirmed  \n",
       "287          0.0  \n",
       "288          0.0  \n",
       "289          0.0  \n",
       "290          0.0  \n",
       "291          0.0  \n",
       "...          ...  \n",
       "63135     8362.0  \n",
       "63136     8367.0  \n",
       "63137     8374.0  \n",
       "63138     8389.0  \n",
       "63139     8410.0  \n",
       "\n",
       "[62853 rows x 6 columns]"
      ]
     },
     "execution_count": 29,
     "metadata": {},
     "output_type": "execute_result"
    }
   ],
   "source": [
    "confirmed"
   ]
  },
  {
   "cell_type": "code",
   "execution_count": 30,
   "metadata": {},
   "outputs": [],
   "source": [
    "grouped = confirmed.groupby('Country/Region')"
   ]
  },
  {
   "cell_type": "markdown",
   "metadata": {},
   "source": [
    "#### Make new cumulative which is the cumulative sum of the new cases"
   ]
  },
  {
   "cell_type": "code",
   "execution_count": 97,
   "metadata": {},
   "outputs": [
    {
     "ename": "AttributeError",
     "evalue": "module 'pandas' has no attribute 'cumsum'",
     "output_type": "error",
     "traceback": [
      "\u001b[1;31m---------------------------------------------------------------------------\u001b[0m",
      "\u001b[1;31mAttributeError\u001b[0m                            Traceback (most recent call last)",
      "\u001b[1;32m<ipython-input-97-c984cca56e16>\u001b[0m in \u001b[0;36m<module>\u001b[1;34m\u001b[0m\n\u001b[1;32m----> 1\u001b[1;33m \u001b[0mpd\u001b[0m\u001b[1;33m.\u001b[0m\u001b[0mcumsum\u001b[0m\u001b[1;33m\u001b[0m\u001b[1;33m\u001b[0m\u001b[0m\n\u001b[0m",
      "\u001b[1;32m~\\Anaconda3\\envs\\cbm101\\lib\\site-packages\\pandas\\__init__.py\u001b[0m in \u001b[0;36m__getattr__\u001b[1;34m(name)\u001b[0m\n\u001b[0;32m    212\u001b[0m \u001b[1;33m\u001b[0m\u001b[0m\n\u001b[0;32m    213\u001b[0m             \u001b[1;32mreturn\u001b[0m \u001b[0mPanel\u001b[0m\u001b[1;33m\u001b[0m\u001b[1;33m\u001b[0m\u001b[0m\n\u001b[1;32m--> 214\u001b[1;33m         \u001b[1;32mraise\u001b[0m \u001b[0mAttributeError\u001b[0m\u001b[1;33m(\u001b[0m\u001b[1;34m\"module 'pandas' has no attribute '{}'\"\u001b[0m\u001b[1;33m.\u001b[0m\u001b[0mformat\u001b[0m\u001b[1;33m(\u001b[0m\u001b[0mname\u001b[0m\u001b[1;33m)\u001b[0m\u001b[1;33m)\u001b[0m\u001b[1;33m\u001b[0m\u001b[1;33m\u001b[0m\u001b[0m\n\u001b[0m\u001b[0;32m    215\u001b[0m \u001b[1;33m\u001b[0m\u001b[0m\n\u001b[0;32m    216\u001b[0m \u001b[1;33m\u001b[0m\u001b[0m\n",
      "\u001b[1;31mAttributeError\u001b[0m: module 'pandas' has no attribute 'cumsum'"
     ]
    }
   ],
   "source": [
    "df.cumsum()"
   ]
  },
  {
   "cell_type": "code",
   "execution_count": 102,
   "metadata": {},
   "outputs": [
    {
     "data": {
      "text/plain": [
       "46494          0.0\n",
       "46495          0.0\n",
       "46496          0.0\n",
       "46497          0.0\n",
       "46498          0.0\n",
       "           ...    \n",
       "46776    2221408.0\n",
       "46777    2241739.0\n",
       "46778    2262374.0\n",
       "46779    2283713.0\n",
       "46780    2305669.0\n",
       "Name: Confirmed, Length: 287, dtype: float64"
      ]
     },
     "execution_count": 102,
     "metadata": {},
     "output_type": "execute_result"
    }
   ],
   "source": [
    "confirmed.loc[grouped.groups['Norway']].Confirmed.cumsum()"
   ]
  },
  {
   "cell_type": "code",
   "execution_count": 103,
   "metadata": {},
   "outputs": [
    {
     "name": "stdout",
     "output_type": "stream",
     "text": [
      "287          0.0\n",
      "288          0.0\n",
      "289          0.0\n",
      "290          0.0\n",
      "291          0.0\n",
      "         ...    \n",
      "569    5613843.0\n",
      "570    5655268.0\n",
      "571    5696769.0\n",
      "572    5738402.0\n",
      "573    5780130.0\n",
      "Name: Confirmed, Length: 287, dtype: float64\n"
     ]
    }
   ],
   "source": [
    "for cty in grouped.groups.keys():\n",
    "    cumsum = confirmed.loc[grouped.groups[cty]].Confirmed.cumsum()\n",
    "    print(cumsum)\n",
    "    break"
   ]
  },
  {
   "cell_type": "code",
   "execution_count": null,
   "metadata": {},
   "outputs": [],
   "source": [
    "confirmed.assign('Cumulative' = )"
   ]
  },
  {
   "cell_type": "code",
   "execution_count": 81,
   "metadata": {},
   "outputs": [
    {
     "data": {
      "text/plain": [
       "<matplotlib.axes._subplots.AxesSubplot at 0x2268b722388>"
      ]
     },
     "execution_count": 81,
     "metadata": {},
     "output_type": "execute_result"
    },
    {
     "data": {
      "image/png": "[encoded data removed]",
      "text/plain": [
       "<Figure size 432x288 with 1 Axes>"
      ]
     },
     "metadata": {
      "needs_background": "light"
     },
     "output_type": "display_data"
    }
   ],
   "source": [
    "confirmed[['Date','Confirmed']].plot(x='Date',y='Confirmed')"
   ]
  },
  {
   "cell_type": "code",
   "execution_count": 1,
   "metadata": {},
   "outputs": [],
   "source": [
    "import matplotlib.pyplot as plt\n",
    "from mpl_toolkits.basemap import Basemap"
   ]
  },
  {
   "cell_type": "code",
   "execution_count": 3,
   "metadata": {},
   "outputs": [
    {
     "ename": "NameError",
     "evalue": "name 'confirmed' is not defined",
     "output_type": "error",
     "traceback": [
      "\u001b[1;31m---------------------------------------------------------------------------\u001b[0m",
      "\u001b[1;31mNameError\u001b[0m                                 Traceback (most recent call last)",
      "\u001b[1;32m<ipython-input-3-532627835832>\u001b[0m in \u001b[0;36m<module>\u001b[1;34m\u001b[0m\n\u001b[0;32m     16\u001b[0m \u001b[1;33m\u001b[0m\u001b[0m\n\u001b[0;32m     17\u001b[0m \u001b[0mplt\u001b[0m\u001b[1;33m.\u001b[0m\u001b[0mfigure\u001b[0m\u001b[1;33m(\u001b[0m\u001b[0mfigsize\u001b[0m\u001b[1;33m=\u001b[0m\u001b[1;33m(\u001b[0m\u001b[1;36m16\u001b[0m\u001b[1;33m,\u001b[0m \u001b[1;36m12\u001b[0m\u001b[1;33m)\u001b[0m\u001b[1;33m)\u001b[0m\u001b[1;33m\u001b[0m\u001b[1;33m\u001b[0m\u001b[0m\n\u001b[1;32m---> 18\u001b[1;33m \u001b[0mplot_covid_map\u001b[0m\u001b[1;33m(\u001b[0m\u001b[0mconfirmed\u001b[0m\u001b[1;33m,\u001b[0m \u001b[0mcase_type\u001b[0m\u001b[1;33m,\u001b[0m \u001b[0mcase_thres\u001b[0m\u001b[1;33m)\u001b[0m\u001b[1;33m\u001b[0m\u001b[1;33m\u001b[0m\u001b[0m\n\u001b[0m\u001b[0;32m     19\u001b[0m \u001b[0mplt\u001b[0m\u001b[1;33m.\u001b[0m\u001b[0mtitle\u001b[0m\u001b[1;33m(\u001b[0m\u001b[1;34mf'Provinces/states with more than {case_thres} {case_type.lower()}'\u001b[0m\u001b[1;33m)\u001b[0m\u001b[1;33m\u001b[0m\u001b[1;33m\u001b[0m\u001b[0m\n\u001b[0;32m     20\u001b[0m \u001b[0mplt\u001b[0m\u001b[1;33m.\u001b[0m\u001b[0mshow\u001b[0m\u001b[1;33m(\u001b[0m\u001b[1;33m)\u001b[0m\u001b[1;33m\u001b[0m\u001b[1;33m\u001b[0m\u001b[0m\n",
      "\u001b[1;31mNameError\u001b[0m: name 'confirmed' is not defined"
     ]
    },
    {
     "data": {
      "text/plain": [
       "<Figure size 1152x864 with 0 Axes>"
      ]
     },
     "metadata": {},
     "output_type": "display_data"
    }
   ],
   "source": [
    "\n",
    "case_thres = 1000\n",
    "case_type = 'Confirmed'\n",
    "\n",
    "def plot_covid_map(df, case_type, case_thres=1000):\n",
    "    m = Basemap(projection='cyl')\n",
    "    m.fillcontinents(color='peru')\n",
    "    groupby_columns = ['Country/Region', 'Province/State', 'Lat', 'Long']\n",
    "    \n",
    "    for k, g in df.fillna('').groupby(groupby_columns):\n",
    "        country_region, province_state, lat, long = k\n",
    "        num_cases = g.loc[g['Date'] == g['Date'].max(), case_type].sum()\n",
    "        if num_cases > case_thres:\n",
    "            x, y = m(long, lat)\n",
    "            p = m.plot(x, y, 'o', color='darkblue')\n",
    "            plt.text(x, y, province_state or country_region)\n",
    "        \n",
    "plt.figure(figsize=(16, 12))\n",
    "plot_covid_map(confirmed, case_type, case_thres)\n",
    "plt.title(f'Provinces/states with more than {case_thres} {case_type.lower()}')\n",
    "plt.show()\n",
    "\n"
   ]
  },
  {
   "cell_type": "markdown",
   "metadata": {},
   "source": [
    "#### Exercise. Copy and modify the above piece of code such that the size of the dot is proportional to the total number of cases in that country/region."
   ]
  },
  {
   "cell_type": "code",
   "execution_count": 163,
   "metadata": {},
   "outputs": [],
   "source": [
    "def my_plot(df, case_type, case_thres=50000):\n",
    "    m = Basemap(projection='cyl')\n",
    "    m.fillcontinents(color='peru', alpha=0.3)\n",
    "    groupby_columns = ['Country/Region', 'Province/State', 'Lat', 'Long']\n",
    "    \n",
    "    for k, g in df.fillna('').groupby(groupby_columns):\n",
    "        country_region, province_state, lat, long = k\n",
    "        num_cases = g.loc[g['Date'] == g['Date'].max(), case_type].sum()\n",
    "        if num_cases > case_thres:\n",
    "            x, y = m(long, lat)\n",
    "            \n",
    "            opacity = np.log(num_cases) / np.log(max_num_cases)\n",
    "            size = num_cases / max_num_cases\n",
    "                        \n",
    "            #print(country_region, opacity)\n",
    "            \n",
    "            #p = m.plot(x, y, marker='o',color='darkblue', alpha=opacity*4)\n",
    "            \n",
    "            p = m.scatter(long, lat, marker='o',color='darkblue', s=size*500, alpha=opacity)\n",
    "            \n",
    "            if num_cases > 1000000:\n",
    "                plt.text(x, y, province_state or country_region)\n",
    "\n"
   ]
  },
  {
   "cell_type": "code",
   "execution_count": 164,
   "metadata": {},
   "outputs": [
    {
     "data": {
      "text/plain": [
       "-0.0"
      ]
     },
     "execution_count": 164,
     "metadata": {},
     "output_type": "execute_result"
    }
   ],
   "source": [
    "-np.log(1)"
   ]
  },
  {
   "cell_type": "code",
   "execution_count": 165,
   "metadata": {},
   "outputs": [
    {
     "data": {
      "text/plain": [
       "9382617.0"
      ]
     },
     "execution_count": 165,
     "metadata": {},
     "output_type": "execute_result"
    }
   ],
   "source": [
    "max_num_cases = confirmed.Confirmed.max()\n",
    "max_num_cases"
   ]
  },
  {
   "cell_type": "code",
   "execution_count": 166,
   "metadata": {},
   "outputs": [],
   "source": [
    "#cnt_sz = "
   ]
  },
  {
   "cell_type": "code",
   "execution_count": 167,
   "metadata": {},
   "outputs": [
    {
     "data": {
      "image/png": "[encoded data removed]",
      "text/plain": [
       "<Figure size 1152x864 with 1 Axes>"
      ]
     },
     "metadata": {},
     "output_type": "display_data"
    }
   ],
   "source": [
    "plt.figure(figsize=(16, 12))\n",
    "\n",
    "my_plot(confirmed, 'Confirmed')"
   ]
  },
  {
   "cell_type": "code",
   "execution_count": 1,
   "metadata": {},
   "outputs": [],
   "source": [
    "\n",
    "\n",
    "# Set the dimension of the figure\n",
    "#my_dpi=96\n",
    "#plt.figure(figsize=(2600/my_dpi, 1800/my_dpi), dpi=my_dpi)\n",
    "# \n",
    "## read the data (on the web)\n",
    "#data = pd.read_csv('http://python-graph-gallery.com/wp-content/uploads/TweetSurfData.csv', sep=\";\")\n",
    "# \n",
    "## Make the background map\n",
    "#m=Basemap(llcrnrlon=-180, llcrnrlat=-65,urcrnrlon=180,urcrnrlat=80)\n",
    "#m.drawmapboundary(fill_color='#A6CAE0', linewidth=0)\n",
    "#m.fillcontinents(color='grey', alpha=0.3)\n",
    "#m.drawcoastlines(linewidth=0.1, color=\"white\")\n",
    "# \n",
    "## prepare a color for each point depending on the continent.\n",
    "#data['labels_enc'] = pd.factorize(data['homecontinent'])[0]\n",
    "# \n",
    "## Add a point per position\n",
    "#m.scatter(data['homelon'], data['homelat'], s=data['n']/6, alpha=0.4, c=data['labels_enc'], cmap=\"Set1\")\n",
    "# \n",
    "## copyright and source data info\n",
    "#plt.text( -170, -58,'Where people talk about #Surf\\n\\nData collected on twitter by @R_Graph_Gallery during 300 days\\nPlot realized with Python and the Basemap library', ha='left', va='bottom', size=9, color='#555555' )\n",
    "# \n",
    "## Save as png\n",
    "#plt.savefig('#315_Tweet_Surf_Bubble_map1.png', bbox_inches='tight')"
   ]
  },
  {
   "cell_type": "code",
   "execution_count": null,
   "metadata": {},
   "outputs": [],
   "source": []
  }
 ],
 "metadata": {
  "kernelspec": {
   "display_name": "test",
   "language": "python",
   "name": "test"
  },
  "language_info": {
   "codemirror_mode": {
    "name": "ipython",
    "version": 3
   },
   "file_extension": ".py",
   "mimetype": "text/x-python",
   "name": "python",
   "nbconvert_exporter": "python",
   "pygments_lexer": "ipython3",
   "version": "3.8.5"
  }
 },
 "nbformat": 4,
 "nbformat_minor": 2
}
