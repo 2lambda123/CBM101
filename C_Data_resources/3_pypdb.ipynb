{
 "cells": [
  {
   "cell_type": "markdown",
   "metadata": {},
   "source": [
    "# Using PDB's python API\n",
    "\n",
    "The value of computational skills is especially apparent when you find a way to automate boring and monotonous tasks, like gathering data from a database such as [the Protein Data Bank](https://www.rcsb.org/). This is known as **data mining**, and to our delight, a special purpose library for this usage has been made: `pypdb`.\n",
    "\n"
   ]
  },
  {
   "cell_type": "code",
   "execution_count": 3,
   "metadata": {},
   "outputs": [],
   "source": [
    "#import requests\n",
    "import numpy as np\n",
    "import pandas as pd\n",
    "# from pypdb import *\n",
    "import pypdb\n",
    "from time import time"
   ]
  },
  {
   "cell_type": "markdown",
   "metadata": {},
   "source": [
    "### Scenario:\n",
    "\n",
    "You read a publication about a protein you're interested in, and want to access the researchers' entry on PDB to obtain information about that protein, say which ligand it binds to. For this you copy the PMID or DOI (try it for [this example](https://www.sciencedirect.com/science/article/pii/S000629521500132X?via%3Dihub)), and paste it into the search bar, and find what you're looking for, this will probably take you around 30 seconds. Now imagine having to do that 1200 times over. This is why we want to automate."
   ]
  },
  {
   "cell_type": "markdown",
   "metadata": {},
   "source": [
    "We start with a list of IDs in the data directory. "
   ]
  },
  {
   "cell_type": "code",
   "execution_count": 4,
   "metadata": {},
   "outputs": [],
   "source": [
    "path = 'data/PMIDS.txt'"
   ]
  },
  {
   "cell_type": "markdown",
   "metadata": {},
   "source": [
    "#### Exercise 1. read the data into a string variable called `pmids`."
   ]
  },
  {
   "cell_type": "code",
   "execution_count": 5,
   "metadata": {},
   "outputs": [],
   "source": [
    "# %load solutions/ex3_1.py\n",
    "with open(path, 'r') as f:\n",
    "    pmids = f.read()"
   ]
  },
  {
   "cell_type": "code",
   "execution_count": 6,
   "metadata": {},
   "outputs": [
    {
     "name": "stdout",
     "output_type": "stream",
     "text": [
      "PMID: 25772737\n",
      "PMID: 2490\n"
     ]
    }
   ],
   "source": [
    "print(pmids[:25])"
   ]
  },
  {
   "cell_type": "markdown",
   "metadata": {},
   "source": [
    "#### Exercise 2. Currently, the data is juts a single long string. Obtain a list of the IDs."
   ]
  },
  {
   "cell_type": "code",
   "execution_count": 7,
   "metadata": {},
   "outputs": [],
   "source": [
    "# load solutions/ex3_1.py\n",
    "pmids = pmids.splitlines()"
   ]
  },
  {
   "cell_type": "code",
   "execution_count": 8,
   "metadata": {},
   "outputs": [
    {
     "data": {
      "text/plain": [
       "['PMID: 25772737',\n",
       " 'PMID: 24900475',\n",
       " 'PMID: 26249349',\n",
       " 'PMID: 29510947',\n",
       " 'PMID: 26872970',\n",
       " 'PMID: 21358046',\n",
       " 'PMID: 20298671',\n",
       " 'PMID: 29348071',\n",
       " 'PMID: 29608391',\n",
       " 'PMID: 26806381']"
      ]
     },
     "execution_count": 8,
     "metadata": {},
     "output_type": "execute_result"
    }
   ],
   "source": [
    "pmids[:10]"
   ]
  },
  {
   "cell_type": "markdown",
   "metadata": {},
   "source": [
    "Notice that if you scroll down some of the PMIDs are followed by some empty spaces after the number? Make a new list which contains only the number, not followed by the white space. "
   ]
  },
  {
   "cell_type": "code",
   "execution_count": 9,
   "metadata": {},
   "outputs": [],
   "source": [
    "# %load solutions/ex3_2.py\n",
    "pmids = [pmid[6:14] for pmid in pmids]"
   ]
  },
  {
   "cell_type": "code",
   "execution_count": 10,
   "metadata": {},
   "outputs": [],
   "source": [
    "#from pypdb import * # this statement will import all functions and classes from pypdb"
   ]
  },
  {
   "cell_type": "code",
   "execution_count": 11,
   "metadata": {},
   "outputs": [
    {
     "data": {
      "text/plain": [
       "'25772737'"
      ]
     },
     "execution_count": 11,
     "metadata": {},
     "output_type": "execute_result"
    }
   ],
   "source": [
    "fst = pmids[0]\n",
    "fst"
   ]
  },
  {
   "cell_type": "markdown",
   "metadata": {},
   "source": [
    "## Do a search on PDB\n",
    "\n",
    "Once you get started with a new library, you would commonly just follow the examples from the official [docs](http://www.wgilpin.com/pypdb_docs/html/). The exact procedures you don't need to remember by heart, you can always just go back to the docs. However, we do the query as follows:"
   ]
  },
  {
   "cell_type": "code",
   "execution_count": 12,
   "metadata": {},
   "outputs": [],
   "source": [
    "search_dict = pypdb.make_query(fst)\n",
    "hits = pypdb.do_search(search_dict)"
   ]
  },
  {
   "cell_type": "code",
   "execution_count": 13,
   "metadata": {},
   "outputs": [
    {
     "data": {
      "text/plain": [
       "['4X9P']"
      ]
     },
     "execution_count": 13,
     "metadata": {},
     "output_type": "execute_result"
    }
   ],
   "source": [
    "hits"
   ]
  },
  {
   "cell_type": "markdown",
   "metadata": {},
   "source": [
    "This gives us a list of matching PDB IDs. We can get a summary of an entry:"
   ]
  },
  {
   "cell_type": "code",
   "execution_count": 14,
   "metadata": {},
   "outputs": [
    {
     "data": {
      "text/plain": [
       "{'polymer': {'@entityNr': '1',\n",
       "  '@length': '343',\n",
       "  '@type': 'protein',\n",
       "  '@weight': '38985.5',\n",
       "  'chain': {'@id': 'A'},\n",
       "  'Taxonomy': {'@name': 'Bos taurus', '@id': '9913'},\n",
       "  'synonym': {'@name': 'Annexin II,Annexin-2,Calpactin I heavy chain,Calpactin-1 heavy chain,Chromobindin-8,Lipocortin II,Placental anticoagulant protein IV,PAP-IV,Protein I,p36'},\n",
       "  'macroMolecule': {'@name': 'Annexin A2', 'accession': {'@id': 'P04272'}},\n",
       "  'polymerDescription': {'@description': 'Annexin A2'}},\n",
       " 'id': '4X9P'}"
      ]
     },
     "execution_count": 14,
     "metadata": {},
     "output_type": "execute_result"
    }
   ],
   "source": [
    "pypdb.get_all_info(hits[0])"
   ]
  },
  {
   "cell_type": "markdown",
   "metadata": {},
   "source": [
    "and some metadata"
   ]
  },
  {
   "cell_type": "code",
   "execution_count": 15,
   "metadata": {},
   "outputs": [
    {
     "data": {
      "text/plain": [
       "{'structureId': '4X9P',\n",
       " 'title': 'Crystal structure of bovine Annexin A2',\n",
       " 'pubmedId': '25772737',\n",
       " 'expMethod': 'X-RAY DIFFRACTION',\n",
       " 'resolution': '2.01',\n",
       " 'keywords': 'CALCIUM BINDING PROTEIN',\n",
       " 'nr_entities': '1',\n",
       " 'nr_residues': '343',\n",
       " 'nr_atoms': '2544',\n",
       " 'deposition_date': '2014-12-11',\n",
       " 'release_date': '2015-01-14',\n",
       " 'last_modification_date': '2015-04-29',\n",
       " 'structure_authors': 'Shumilin, I.A., Hollas, H., Vedeler, A., Kretsinger, R.H.',\n",
       " 'citation_authors': 'Raddum, A.M., Hollas, H., Shumilin, I.A., Henklein, P., Kretsinger, R., Fossen, T., Vedeler, A.',\n",
       " 'status': 'CURRENT'}"
      ]
     },
     "execution_count": 15,
     "metadata": {},
     "output_type": "execute_result"
    }
   ],
   "source": [
    "pypdb.describe_pdb(hits[0])"
   ]
  },
  {
   "cell_type": "markdown",
   "metadata": {},
   "source": [
    "but now we were interested in the ligands and use the specialized function to find ligands: `get_ligands`"
   ]
  },
  {
   "cell_type": "code",
   "execution_count": 16,
   "metadata": {},
   "outputs": [],
   "source": [
    "ligands = pypdb.get_ligands(hits[0])"
   ]
  },
  {
   "cell_type": "code",
   "execution_count": 17,
   "metadata": {},
   "outputs": [
    {
     "data": {
      "text/plain": [
       "{'ligandInfo': {'ligand': [{'@structureId': '4X9P',\n",
       "    '@chemicalID': 'CA',\n",
       "    '@type': 'non-polymer',\n",
       "    '@molecularWeight': '40.078',\n",
       "    'chemicalName': 'CALCIUM ION',\n",
       "    'formula': 'Ca 2',\n",
       "    'InChIKey': 'BHPQYMZQTOCNFJ-UHFFFAOYSA-N',\n",
       "    'InChI': 'InChI=1S/Ca/q+2',\n",
       "    'smiles': '[Ca+2]'},\n",
       "   {'@structureId': '4X9P',\n",
       "    '@chemicalID': 'CL',\n",
       "    '@type': 'non-polymer',\n",
       "    '@molecularWeight': '35.453',\n",
       "    'chemicalName': 'CHLORIDE ION',\n",
       "    'formula': 'Cl -1',\n",
       "    'InChI': 'InChI=1S/ClH/h1H/p-1',\n",
       "    'InChIKey': 'VEXZGXHMUGYJMC-UHFFFAOYSA-M',\n",
       "    'smiles': '[Cl-]'}]},\n",
       " 'id': '4X9P'}"
      ]
     },
     "execution_count": 17,
     "metadata": {},
     "output_type": "execute_result"
    }
   ],
   "source": [
    "ligands"
   ]
  },
  {
   "cell_type": "markdown",
   "metadata": {},
   "source": [
    "#### Exercise 3. How many ligands does this protein have?"
   ]
  },
  {
   "cell_type": "code",
   "execution_count": 18,
   "metadata": {},
   "outputs": [
    {
     "name": "stdout",
     "output_type": "stream",
     "text": [
      "dict_keys(['ligandInfo', 'id'])\n"
     ]
    },
    {
     "data": {
      "text/plain": [
       "2"
      ]
     },
     "execution_count": 18,
     "metadata": {},
     "output_type": "execute_result"
    }
   ],
   "source": [
    "# %load solutions/ex3_3a.py\n",
    "\n",
    "# len(ligands) <--- you would expect this to work, but if you look at ligands.keys() you see the data is structured a little strangely\n",
    "\n",
    "print(ligands.keys())\n",
    "\n",
    "# the right way turns out to be:\n",
    "len(ligands['ligandInfo']['ligand'])\n",
    "\n",
    "# the best way to find this is through gradually inspecting the datastructure, calling `type` when necessary etc"
   ]
  },
  {
   "cell_type": "markdown",
   "metadata": {},
   "source": [
    "#### 3.b. What are those ligands?\n",
    "Hint: to make it easier, look simultaneously at the entry on the [webpage](https://www.rcsb.org/structure/4X9P).  "
   ]
  },
  {
   "cell_type": "code",
   "execution_count": 19,
   "metadata": {},
   "outputs": [
    {
     "name": "stdout",
     "output_type": "stream",
     "text": [
      "CALCIUM ION\n",
      "CHLORIDE ION\n"
     ]
    }
   ],
   "source": [
    "# %load solutions/ex3_3b.py\n",
    "for lig in ligands['ligandInfo']['ligand']:\n",
    "    print(lig['chemicalName'])"
   ]
  },
  {
   "cell_type": "code",
   "execution_count": 20,
   "metadata": {},
   "outputs": [
    {
     "data": {
      "text/plain": [
       "{'describeHet': {'ligandInfo': {'ligand': {'@chemicalID': 'CA',\n",
       "    '@type': 'non-polymer',\n",
       "    '@molecularWeight': '40.078',\n",
       "    'chemicalName': 'CALCIUM ION',\n",
       "    'formula': 'Ca 2',\n",
       "    'InChIKey': 'BHPQYMZQTOCNFJ-UHFFFAOYSA-N',\n",
       "    'InChI': 'InChI=1S/Ca/q+2',\n",
       "    'smiles': '[Ca+2]'}}}}"
      ]
     },
     "execution_count": 20,
     "metadata": {},
     "output_type": "execute_result"
    }
   ],
   "source": [
    "pypdb.describe_chemical('CA')"
   ]
  },
  {
   "cell_type": "markdown",
   "metadata": {},
   "source": [
    "#### Exercise 4. Put all into a single function that does it all in one function call\n",
    "\n",
    "hint: you can make one function per sub-task."
   ]
  },
  {
   "cell_type": "code",
   "execution_count": 25,
   "metadata": {},
   "outputs": [],
   "source": [
    "def get_pdb_ids(pmid):\n",
    "    search_dict = pypdb.make_query(pmid)\n",
    "    hits = pypdb.do_search(search_dict)\n",
    "    return hits\n",
    "\n",
    "# sometimes we get multiple hits (or none!). For now, we are only concerned with the first one.\n",
    "\n",
    "def get_ligands(pdb_id):\n",
    "    ligs = pypdb.get_ligands(pdb_id)\n",
    "    return [lig['chemicalName'] for lig in ligs['ligandInfo']['ligand']]\n",
    "\n",
    "def whole_pipeline(pmid):\n",
    "    hits = get_pdb_ids(pmid)\n",
    "    if len(hits)<1: return []\n",
    "    try: ligands = get_ligands(hits[0])\n",
    "    except: return\n",
    "    print(ligands, '\\n')\n",
    "    return ligands"
   ]
  },
  {
   "cell_type": "code",
   "execution_count": 26,
   "metadata": {},
   "outputs": [
    {
     "name": "stdout",
     "output_type": "stream",
     "text": [
      "['CALCIUM ION', 'CHLORIDE ION'] \n",
      "\n",
      "['{3-[(5-methyl-2-phenyl-1,3-oxazol-4-yl)methoxy]phenyl}methanol', '1,2-ETHANEDIOL'] \n",
      "\n",
      "['ISOQUINOLIN-5-AMINE', 'DIMETHYL SULFOXIDE', 'ethane-1,2-diol', 'HISTIDINE', 'SULFATE ION'] \n",
      "\n"
     ]
    }
   ],
   "source": [
    "for pmid in pmids[:4]:\n",
    "    whole_pipeline(pmid)"
   ]
  },
  {
   "cell_type": "code",
   "execution_count": null,
   "metadata": {},
   "outputs": [],
   "source": []
  },
  {
   "cell_type": "code",
   "execution_count": 5,
   "metadata": {},
   "outputs": [],
   "source": [
    "#make_query \tStructure a search request into a dict() \n",
    "#do_search \tPerform a search for PDB IDs \n",
    "#get_all \tGet all active PDB IDs \n",
    "#describe_pdb \tAll metadata about PDB entry \n",
    "#get_all_info \tAll information deposited in PDB entry \n",
    "#get_pdb_file \tRetrieve.pdb/.cif/.xml file for PDB entry \n",
    "#get_blast \tBLAST search results for PDB entry \n",
    "#find_papers \tFind papers associated with keyword \n",
    "#find_authors \tFind authors associated with keyword "
   ]
  },
  {
   "cell_type": "code",
   "execution_count": 7,
   "metadata": {},
   "outputs": [],
   "source": [
    "#get_pdbs(pmids[0])"
   ]
  },
  {
   "cell_type": "code",
   "execution_count": null,
   "metadata": {},
   "outputs": [],
   "source": []
  }
 ],
 "metadata": {
  "kernelspec": {
   "display_name": "CBM101",
   "language": "python",
   "name": "cbm101"
  },
  "language_info": {
   "codemirror_mode": {
    "name": "ipython",
    "version": 3
   },
   "file_extension": ".py",
   "mimetype": "text/x-python",
   "name": "python",
   "nbconvert_exporter": "python",
   "pygments_lexer": "ipython3",
   "version": "3.7.6"
  }
 },
 "nbformat": 4,
 "nbformat_minor": 2
}
