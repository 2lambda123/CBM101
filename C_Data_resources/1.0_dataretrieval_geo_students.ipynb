{
  "cells": [
    {
      "metadata": {
        "collapsed": true
      },
      "cell_type": "markdown",
      "source": "# Data retrieval from GEO"
    },
    {
      "metadata": {},
      "cell_type": "markdown",
      "source": "In this exercise, we are downloading data from the NCBI GEO database via programmatic access. This exercise is based on the example from https://geoparse.readthedocs.io/en/latest/usage.html#examples."
    },
    {
      "metadata": {},
      "cell_type": "markdown",
      "source": "GEOparse is a Python library to access Gene Expression Omnibus Database (GEO). GEOparse.get_GEO() will check the GEO database for a specified accession ID and download it to specified directory. The result will be loaded into GEOparse.GSE file. See the documentation in https://geoparse.readthedocs.io/en/latest/introduction.html#features.\n"
    },
    {
      "metadata": {},
      "cell_type": "markdown",
      "source": "## Installation of libraries"
    },
    {
      "metadata": {},
      "cell_type": "markdown",
      "source": "The first step is to install and import the required Python libraries. \n"
    },
    {
      "metadata": {
        "trusted": true
      },
      "cell_type": "code",
      "source": "#pip is the package installer for Python, see https://pypi.org/project/pip/ for details\n\nimport sys\n!{sys.executable} -m pip install GEOparse\n",
      "execution_count": null,
      "outputs": []
    },
    {
      "metadata": {
        "trusted": true
      },
      "cell_type": "code",
      "source": "import GEOparse\n\n# To read, write and process tabular data:\n\nimport pandas as pd",
      "execution_count": null,
      "outputs": []
    },
    {
      "metadata": {},
      "cell_type": "markdown",
      "source": "## Exercise 1"
    },
    {
      "metadata": {},
      "cell_type": "markdown",
      "source": "Let's download an example data set from the study \"Kidney Transplant Rejection and Tissue Injury by Gene Profiling of Biopsies and Peripheral Blood Lymphocytes\" by Flechner et al, 2007 (https://www.ncbi.nlm.nih.gov/pmc/articles/PMC2041877/)."
    },
    {
      "metadata": {
        "trusted": true
      },
      "cell_type": "code",
      "source": "# Check your current working folder if necessary:\n#import os\n#os.getcwd()",
      "execution_count": null,
      "outputs": []
    },
    {
      "metadata": {
        "trusted": true
      },
      "cell_type": "code",
      "source": "# download the data set using GEOparse(the data is available in GEO database with the accession ID GSE1563)\n\nkidney_data = GEOparse.get_GEO(geo=\"GSE1563\", destdir=\"./\")\n\n# A GSM (or a Sample) contains information the conditions and preparation of the sample\n\nprint()\nprint(\"GSM example:\")\nfor gsm_name, gsm in kidney_data.gsms.items():\n    print(\"Name: \", gsm_name)\n    print(\"Metadata:\",)\n    for key, value in gsm.metadata.items():\n        print(\" - %s : %s\" % (key, \", \".join(value)))\n    print (\"Table data:\",)\n    print (gsm.table.head())\n    break\n",
      "execution_count": null,
      "outputs": []
    },
    {
      "metadata": {
        "trusted": true
      },
      "cell_type": "code",
      "source": "# A GPL (or a Platform) contains a tab-delimited table containing the array definition eg. mappings from probe IDs to RefSeq IDs\n\nprint()\nprint(\"GPL example:\")\nfor gpl_name, gpl in kidney_data.gpls.items():\n    print(\"Name: \", gpl_name)\n    print(\"Metadata:\",)\n    for key, value in gpl.metadata.items():\n        print(\" - %s : %s\" % (key, \", \".join(value)))\n    print(\"Table data:\",)\n    print(gpl.table.head())\n    break",
      "execution_count": null,
      "outputs": []
    },
    {
      "metadata": {},
      "cell_type": "markdown",
      "source": "## Exercise 2"
    },
    {
      "metadata": {},
      "cell_type": "markdown",
      "source": "Now your task is to load the data set from the study \"A circadian gene expression atlas in mammals assayed by microarray\" by Zhang et al (http://www.pnas.org/content/111/45/16219.long). The data is available in the GEO database (https://www.ncbi.nlm.nih.gov/geo/query/acc.cgi?acc=GSE54650, accession ID 54650)."
    },
    {
      "metadata": {
        "trusted": true
      },
      "cell_type": "code",
      "source": "# download the data set using GEOparse:\n\n",
      "execution_count": null,
      "outputs": []
    },
    {
      "metadata": {
        "trusted": true
      },
      "cell_type": "code",
      "source": "#use the GSM example code above to print information of the data:\n",
      "execution_count": null,
      "outputs": []
    },
    {
      "metadata": {
        "trusted": true
      },
      "cell_type": "code",
      "source": "# use the GLP example code above to print information of the data:\n",
      "execution_count": null,
      "outputs": []
    }
  ],
  "metadata": {
    "kernelspec": {
      "name": "python36",
      "display_name": "Python 3.6",
      "language": "python"
    },
    "language_info": {
      "mimetype": "text/x-python",
      "nbconvert_exporter": "python",
      "name": "python",
      "pygments_lexer": "ipython3",
      "version": "3.6.6",
      "file_extension": ".py",
      "codemirror_mode": {
        "version": 3,
        "name": "ipython"
      }
    }
  },
  "nbformat": 4,
  "nbformat_minor": 2
}