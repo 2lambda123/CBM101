{
 "cells": [
  {
   "cell_type": "markdown",
   "metadata": {},
   "source": [
    "# Statistical testing in R\n",
    "\n",
    "Here, we carry out simple statistical tests including t-test and ANOVA\n"
   ]
  },
  {
   "cell_type": "markdown",
   "metadata": {},
   "source": [
    "## Installation of libraries and necessary software\n",
    "\n",
    "Install the necessary libraries (only needed once) by executing (shift-enter) the following cell:\n"
   ]
  },
  {
   "cell_type": "code",
   "execution_count": 1,
   "metadata": {},
   "outputs": [
    {
     "name": "stderr",
     "output_type": "stream",
     "text": [
      "Installing package into 'C:/Users/arvid/Documents/R/win-library/3.5'\n",
      "(as 'lib' is unspecified)\n"
     ]
    },
    {
     "name": "stdout",
     "output_type": "stream",
     "text": [
      "package 'MASS' successfully unpacked and MD5 sums checked\n",
      "\n",
      "The downloaded binary packages are in\n",
      "\tC:\\Users\\arvid\\AppData\\Local\\Temp\\Rtmp4ejZts\\downloaded_packages\n"
     ]
    },
    {
     "name": "stderr",
     "output_type": "stream",
     "text": [
      "Installing package into 'C:/Users/arvid/Documents/R/win-library/3.5'\n",
      "(as 'lib' is unspecified)\n"
     ]
    },
    {
     "name": "stdout",
     "output_type": "stream",
     "text": [
      "package 'perm' successfully unpacked and MD5 sums checked\n",
      "\n",
      "The downloaded binary packages are in\n",
      "\tC:\\Users\\arvid\\AppData\\Local\\Temp\\Rtmp4ejZts\\downloaded_packages\n"
     ]
    },
    {
     "name": "stderr",
     "output_type": "stream",
     "text": [
      "Installing package into 'C:/Users/arvid/Documents/R/win-library/3.5'\n",
      "(as 'lib' is unspecified)\n"
     ]
    },
    {
     "name": "stdout",
     "output_type": "stream",
     "text": [
      "package 'exactRankTests' successfully unpacked and MD5 sums checked\n",
      "\n",
      "The downloaded binary packages are in\n",
      "\tC:\\Users\\arvid\\AppData\\Local\\Temp\\Rtmp4ejZts\\downloaded_packages\n"
     ]
    },
    {
     "name": "stderr",
     "output_type": "stream",
     "text": [
      "Bioconductor version 3.8 (BiocManager 1.30.4), R 3.5.1 (2018-07-02)\n",
      "Installing package(s) 'qvalue'\n"
     ]
    },
    {
     "name": "stdout",
     "output_type": "stream",
     "text": [
      "package 'qvalue' successfully unpacked and MD5 sums checked\n",
      "\n",
      "The downloaded binary packages are in\n",
      "\tC:\\Users\\arvid\\AppData\\Local\\Temp\\Rtmp4ejZts\\downloaded_packages\n"
     ]
    },
    {
     "name": "stderr",
     "output_type": "stream",
     "text": [
      "installation path not writeable, unable to update packages: boot, class,\n",
      "  cluster, codetools, foreign, lattice, MASS, Matrix, mgcv, nlme, rpart,\n",
      "  survival\n",
      "Update old packages: 'lpSolve', 'uroot'\n"
     ]
    }
   ],
   "source": [
    "install.packages(\"MASS\", repos='http://cran.us.r-project.org')\n",
    "install.packages(\"perm\", repos='http://cran.us.r-project.org')\n",
    "install.packages(\"exactRankTests\", repos='http://cran.us.r-project.org')\n",
    "if (!requireNamespace(\"BiocManager\", quietly = TRUE))\n",
    "    install.packages(\"BiocManager\")\n",
    "BiocManager::install(\"qvalue\")\n"
   ]
  },
  {
   "cell_type": "markdown",
   "metadata": {},
   "source": [
    "## Loading data and libraries\n",
    "This requires that the installation above have been finished without error"
   ]
  },
  {
   "cell_type": "code",
   "execution_count": 2,
   "metadata": {},
   "outputs": [
    {
     "name": "stderr",
     "output_type": "stream",
     "text": [
      "Warning message:\n",
      "\"package 'MASS' was built under R version 3.5.3\"Warning message:\n",
      "\"package 'perm' was built under R version 3.5.3\"Warning message:\n",
      "\"package 'exactRankTests' was built under R version 3.5.3\" Package 'exactRankTests' is no longer under development.\n",
      " Please consider using package 'coin' instead.\n",
      "\n",
      "Warning message:\n",
      "\"package 'qvalue' was built under R version 3.5.2\""
     ]
    }
   ],
   "source": [
    "library(\"MASS\")\n",
    "library(\"perm\")\n",
    "library(\"exactRankTests\") \n",
    "library(\"qvalue\")"
   ]
  },
  {
   "cell_type": "markdown",
   "metadata": {},
   "source": [
    "### Exercise 1\n",
    "Draw figures that show, for degrees of freedom between 1 and 100, the 5\\% critical value of the t-statistic (that is the value above and below which 5\\% of the density distribution are located, given by```qt(0.975,df=...)```). \n",
    "\n",
    "Plot the distribution on absolute and double-logarithmic scale. \n"
   ]
  },
  {
   "cell_type": "code",
   "execution_count": 3,
   "metadata": {},
   "outputs": [],
   "source": [
    "# add your code here:"
   ]
  },
  {
   "cell_type": "markdown",
   "metadata": {},
   "source": [
    "#### Add your answers here\n",
    "(double-click here to edit the cell)\n",
    "\n",
    "##### Question I:  <u>Which figure provides better visual information about the critical values?</u>\n",
    "\n",
    "_Answer_\n",
    "\n",
    "##### Question I:  <u>What does the decrease mean when carrying out statistical tests?</u>\n",
    "\n",
    "_Answer_\n"
   ]
  },
  {
   "cell_type": "markdown",
   "metadata": {},
   "source": [
    "### Exercise 2\n",
    "Take an artificial data set of three groups\n",
    "\n",
    "```stat.dat <- data.frame(x=rep(c(\"A\",\"B\",\"C\"),each=10), \n",
    "                        y=c(rnorm(10), rnorm(10)+0.5, rnorm(10)-1))\n",
    "```\n",
    "\n",
    "a) Do an ANOVA to check whether B and C are significantly different from A\n",
    "\n",
    "b) Do an ANOVA to check whether A, B and C are significantly different from 0\n",
    "\n",
    "c) Do an ANOVA to check whether A and C are significantly different from B (you'll have to manually reorder the columns of ```stat.dat```)\n",
    "\n",
    "d) Calculate a t-test between C and A and compare the result to a)\n",
    "\n",
    "e) Redo ANOVA on the data set containing only A and C and compare again\n"
   ]
  },
  {
   "cell_type": "code",
   "execution_count": 4,
   "metadata": {},
   "outputs": [
    {
     "data": {
      "text/plain": [
       "\n",
       "Call:\n",
       "lm(formula = y ~ x, data = stat.dat)\n",
       "\n",
       "Residuals:\n",
       "    Min      1Q  Median      3Q     Max \n",
       "-2.1239 -0.7277  0.1705  0.7596  1.9755 \n",
       "\n",
       "Coefficients:\n",
       "            Estimate Std. Error t value Pr(>|t|)\n",
       "(Intercept) -0.09544    0.32780  -0.291    0.773\n",
       "xB           0.59136    0.46358   1.276    0.213\n",
       "xC          -0.63794    0.46358  -1.376    0.180\n",
       "\n",
       "Residual standard error: 1.037 on 27 degrees of freedom\n",
       "Multiple R-squared:  0.2067,\tAdjusted R-squared:  0.1479 \n",
       "F-statistic: 3.518 on 2 and 27 DF,  p-value: 0.04389\n"
      ]
     },
     "metadata": {},
     "output_type": "display_data"
    }
   ],
   "source": [
    "num <- 10\n",
    "stat.dat <- data.frame(x=rep(c(\"A\",\"B\",\"C\"),each=num), \n",
    "                       y=c(rnorm(num), rnorm(num)+0.5, rnorm(num)-1))\n",
    "# a)\n",
    "summary(lm(y~x, data=stat.dat))\n",
    "# b)\n",
    "# ..."
   ]
  },
  {
   "cell_type": "markdown",
   "metadata": {},
   "source": [
    "##### Question II:  <u>Why do you expect the sample groups A, B and C to be different?</u>\n",
    "\n",
    "_Answer_\n",
    "\n",
    "##### Question II:  <u>What do the coefficients mean in a) and b)?</u>\n",
    "\n",
    "_Answer_\n",
    "\n",
    "\n",
    "##### Question III:  <u>Could one use t-tests to show the cases in b)?</u>\n",
    "\n",
    "_Answer_\n",
    "\n",
    "##### Question IV:  <u>What does removing a sample group mean for the ANOVA test?</u>\n",
    "\n",
    "_Answer_\n"
   ]
  },
  {
   "cell_type": "markdown",
   "metadata": {},
   "source": [
    "### Exercise 3\n",
    "a) Redo Exercise 2 using a sample size of 5 instead of 10.\n",
    "\n",
    "b) Change the normal distribution to an exponential one and check whether you would accept any of the results as significantly different.\n",
    "\n"
   ]
  },
  {
   "cell_type": "code",
   "execution_count": 5,
   "metadata": {},
   "outputs": [],
   "source": [
    "# add you code here:"
   ]
  },
  {
   "cell_type": "markdown",
   "metadata": {},
   "source": [
    "##### Question I:  <u>What does improve when using a sample size of 10? How does this relate to Exercise 1?</u>\n",
    "\n",
    "_Answer_\n",
    "\n",
    "##### Question II:  <u>Why shouldn't be apply ANOVA to exponentially distributed data?</u>\n",
    "\n",
    "_Answer_\n"
   ]
  },
  {
   "cell_type": "markdown",
   "metadata": {},
   "source": [
    "### Exercise 4\n",
    "a) Try to understand the function ```TestCompare()``` that calculates the p-values of three statistical tests: two-sample t-test, the Wilcoxon rank test and a permutation test. \n",
    "\n",
    "b) Take the data ```PlantGrowth``` and reduce it to conditions ```ctrl``` and ```trt2```. \n",
    "Use ```TestCompare``` on the data and compare the p-values from the different tests.\n",
    "\n",
    "c) Apply the function on normally distributed artificial data having the same number of values, the same mean and the same standard deviation as ```ctrl``` and ```trt2```. Repeat this 1000 times.\n",
    "\n",
    "d) Check the distribution of the 1000 p-values per test and compare the p-values to the one obtained for the ```PlantGrowth``` data.\n",
    "\n"
   ]
  },
  {
   "cell_type": "code",
   "execution_count": 6,
   "metadata": {},
   "outputs": [
    {
     "data": {
      "text/html": [
       "<table>\n",
       "<caption>A data.frame: 6 × 2</caption>\n",
       "<thead>\n",
       "\t<tr><th scope=col>weight</th><th scope=col>group</th></tr>\n",
       "\t<tr><th scope=col>&lt;dbl&gt;</th><th scope=col>&lt;fct&gt;</th></tr>\n",
       "</thead>\n",
       "<tbody>\n",
       "\t<tr><td>4.17</td><td>ctrl</td></tr>\n",
       "\t<tr><td>5.58</td><td>ctrl</td></tr>\n",
       "\t<tr><td>5.18</td><td>ctrl</td></tr>\n",
       "\t<tr><td>6.11</td><td>ctrl</td></tr>\n",
       "\t<tr><td>4.50</td><td>ctrl</td></tr>\n",
       "\t<tr><td>4.61</td><td>ctrl</td></tr>\n",
       "</tbody>\n",
       "</table>\n"
      ],
      "text/latex": [
       "A data.frame: 6 × 2\n",
       "\\begin{tabular}{r|ll}\n",
       " weight & group\\\\\n",
       " <dbl> & <fct>\\\\\n",
       "\\hline\n",
       "\t 4.17 & ctrl\\\\\n",
       "\t 5.58 & ctrl\\\\\n",
       "\t 5.18 & ctrl\\\\\n",
       "\t 6.11 & ctrl\\\\\n",
       "\t 4.50 & ctrl\\\\\n",
       "\t 4.61 & ctrl\\\\\n",
       "\\end{tabular}\n"
      ],
      "text/markdown": [
       "\n",
       "A data.frame: 6 × 2\n",
       "\n",
       "| weight &lt;dbl&gt; | group &lt;fct&gt; |\n",
       "|---|---|\n",
       "| 4.17 | ctrl |\n",
       "| 5.58 | ctrl |\n",
       "| 5.18 | ctrl |\n",
       "| 6.11 | ctrl |\n",
       "| 4.50 | ctrl |\n",
       "| 4.61 | ctrl |\n",
       "\n"
      ],
      "text/plain": [
       "  weight group\n",
       "1 4.17   ctrl \n",
       "2 5.58   ctrl \n",
       "3 5.18   ctrl \n",
       "4 6.11   ctrl \n",
       "5 4.50   ctrl \n",
       "6 4.61   ctrl "
      ]
     },
     "metadata": {},
     "output_type": "display_data"
    },
    {
     "data": {
      "image/png": "[encoded data removed]",
      "text/plain": [
       "Plot with title \"Histogram of (pvals[, 1])\""
      ]
     },
     "metadata": {},
     "output_type": "display_data"
    },
    {
     "data": {
      "image/png": "[encoded data removed]",
      "text/plain": [
       "Plot with title \"Histogram of (pvals[, 2])\""
      ]
     },
     "metadata": {},
     "output_type": "display_data"
    },
    {
     "data": {
      "image/png": "[encoded data removed]",
      "text/plain": [
       "Plot with title \"Histogram of (pvals[, 3])\""
      ]
     },
     "metadata": {},
     "output_type": "display_data"
    }
   ],
   "source": [
    "data(\"PlantGrowth\")\n",
    "library(perm)\n",
    "\n",
    "# a)\n",
    "mydat <- PlantGrowth[PlantGrowth$group==\"ctrl\" | PlantGrowth$group==\"trt2\",]\n",
    "head(mydat)\n",
    "TestCompare <- function(sample1, sample2){\n",
    "  pval1 <- t.test(sample1,sample2)$p.value\n",
    "  pval2 <- wilcox.test(sample1,sample2)$p.value\n",
    "  pval3 <- permTS(sample1,sample2)$p.value\n",
    "  c(pval1,pval2,pval3)\n",
    "}\n",
    "\n",
    "# b)\n",
    "mypvals <- # continue here\n",
    "\n",
    "# c)\n",
    "m1 <- mean(mydat[mydat$group==\"ctrl\",1])\n",
    "m2 <- mean(mydat[mydat$group==\"trt2\",1])\n",
    "s1 <- sd(mydat[mydat$group==\"ctrl\",1])\n",
    "s2 <- sd(mydat[mydat$group==\"trt2\",1])\n",
    "n1 <- length(mydat[mydat$group==\"ctrl\",1])\n",
    "n2 <- length(mydat[mydat$group==\"trt2\",1])\n",
    "\n",
    "pvals <- matrix(NA,ncol=3,nrow=1000)\n",
    "for (i in 1:1000) {\n",
    "  # add the results from the corresponding tests here\n",
    "  pvals[i,] <- TestCompare(rnorm(n1,m1,s1), rnorm(n2,m2,s2))\n",
    "  \n",
    "}\n",
    "ttt <- TestCompare(mydat[mydat$group==\"ctrl\",1], mydat[mydat$group==\"trt2\",1])\n",
    "\n",
    "hist((pvals[,1]),100)\n",
    "abline(v=ttt[1])\n",
    "hist((pvals[,2]),100)\n",
    "abline(v=ttt[2])\n",
    "hist((pvals[,3]),100)\n",
    "abline(v=ttt[3])\n",
    "\n",
    "\n",
    "\n",
    "# d) \n",
    "# visualize and compare"
   ]
  },
  {
   "cell_type": "markdown",
   "metadata": {},
   "source": [
    "##### Question I:  <u>Any idea why the t-test gives the lowest p-value?</u>\n",
    "\n",
    "_Answer_\n",
    "\n",
    "##### Question II:  <u>Which test gives the lowest number of p-values from the artificial data which are larger than the p-value calculated for the PlantGrowth data?</u>\n",
    "\n",
    "_Answer_\n"
   ]
  },
  {
   "cell_type": "markdown",
   "metadata": {},
   "source": [
    "### Exercise 5\n",
    "Redo the first part of Exercise 4 changing to paired tests. \n",
    "\n"
   ]
  },
  {
   "cell_type": "code",
   "execution_count": 7,
   "metadata": {},
   "outputs": [
    {
     "data": {
      "image/png": "[encoded data removed]",
      "text/plain": [
       "Plot with title \"Histogram of log10(pvals[, 3])\""
      ]
     },
     "metadata": {},
     "output_type": "display_data"
    }
   ],
   "source": [
    "data(\"PlantGrowth\")\n",
    "\n",
    "mydat <- PlantGrowth[PlantGrowth$group==\"ctrl\" | PlantGrowth$group==\"trt2\",]\n",
    "TestCompare <- function(sample1, sample2){\n",
    "  pval1 <- t.test(sample1,sample2,paired = T)$p.value\n",
    "  pval2 <- wilcox.test(sample1,sample2,paired = T)$p.value\n",
    "  # required different implementation\n",
    "  pval3 <- perm.test(sample1,sample2, paired=T)$p.value\n",
    "  c(pval1,pval2,pval3)\n",
    "}\n",
    "mypvals <- TestCompare(mydat[mydat$group==\"ctrl\",1], mydat[mydat$group==\"trt2\",1])\n",
    "\n",
    "m1 <- mean(mydat[mydat$group==\"ctrl\",1])\n",
    "m2 <- mean(mydat[mydat$group==\"trt2\",1])\n",
    "s1 <- sd(mydat[mydat$group==\"ctrl\",1])\n",
    "s2 <- sd(mydat[mydat$group==\"trt2\",1])\n",
    "n1 <- length(mydat[mydat$group==\"ctrl\",1])\n",
    "n2 <- length(mydat[mydat$group==\"trt2\",1])\n",
    "\n",
    "pvals <- matrix(NA,ncol=3,nrow=1000)\n",
    "for (i in 1:1000) {\n",
    "  pvals[i,] <- TestCompare(rnorm(n1,m1,s1), rnorm(n2,m2,s2))\n",
    "}\n",
    "par(mfrow=c(2,2))\n",
    "hist(log10(pvals[,1]),100)\n",
    "abline(v=log10(mypvals[1]),col=2,lwd=2)\n",
    "hist(log10(pvals[,2]),100)\n",
    "abline(v=log10(mypvals[2]),col=2,lwd=2)\n",
    "hist(log10(pvals[,3]),100)\n",
    "abline(v=log10(mypvals[3]),col=2,lwd=2)\n",
    "\n",
    "# Paired tests are necessary when having e.g. drug reponses on the same persons. \n"
   ]
  },
  {
   "cell_type": "markdown",
   "metadata": {},
   "source": [
    "##### Question I:  <u>When should you use a paired test? Give an example.</u>\n",
    "\n",
    "_Answer_\n",
    "\n",
    "##### Question II:  <u>Which difference in the results do you observe?</u>\n",
    "\n",
    "_Answer_\n",
    "\n"
   ]
  },
  {
   "cell_type": "markdown",
   "metadata": {},
   "source": [
    "### Exercise 6\n",
    "_Correction for multiple testing:_\n",
    "\n",
    "a) Write a function to calculate the p-value (t-test) between normally distributed (s.d. 1) artificial sets mutually shifted by $S$ (set default to 0.5). \n",
    "\n",
    "b) Write a for loop to get 1000 p-values from the same comparison and plot them on a histogram. Count the number of p-values below 0.05.\n",
    "\n",
    "c) Correct for multiple testing using Bonferroni, Benjamin-Hochberg (```p.adjust```)and ```qvalue()``` (```qvalues``` package). Count the number of corrected p-values below 0.05.\n",
    "\n",
    "d) Repeat the same for a shift of $S=1$ and $S=0$. How many corrected p-values below 0.05 would one optimally get for $S=0$?\n",
    "\n"
   ]
  },
  {
   "cell_type": "code",
   "execution_count": 8,
   "metadata": {},
   "outputs": [],
   "source": [
    "# a)\n",
    "GetPval <- function(shift=0.5, num=10) {\n",
    "  t.test(rnorm(num),rnorm(num,mean=shift))$p.value\n",
    "}\n",
    "\n",
    "# b) \n",
    "pvec <- vector(,1000)\n",
    "for (i in 1:1000) {\n",
    "  # from here this is yours\n",
    "}\n",
    "\n",
    "# c)\n",
    "#p.adjust(yourvalues, method=\"Bonferroni\")\n",
    "#p.adjust(yourvalues, method=\"BH\")\n",
    "#qvalue(yourvalues)$qvalues\n",
    "\n",
    "# d) \n",
    "    \n"
   ]
  },
  {
   "cell_type": "markdown",
   "metadata": {},
   "source": [
    "##### Question I:  <u>What are the arguments ```shift``` and ```num``` in the function ```GetPval```? What happens when you call the function without arguments (```GetPval()```)</u>\n",
    "\n",
    "_Answer_\n",
    "\n",
    "##### Question II:  <u>What is the percentage of p-values below 0.05?</u>\n",
    "\n",
    "\n",
    "_Answer_\n",
    "\n",
    "##### Question III:  <u>Why is the number of corrected p-values below 0.05 smaller after correction? Order the corrections according to their number of p-values smaller than 0.05.</u>\n",
    "\n",
    "_Answer_\n",
    "\n",
    "##### Question IV:  <u>What is the expected percentage of p-value below 0.01 for $S=0$?</u>\n",
    "\n",
    "_Answer_\n"
   ]
  },
  {
   "cell_type": "markdown",
   "metadata": {},
   "source": [
    "\n"
   ]
  }
 ],
 "metadata": {
  "kernelspec": {
   "display_name": "R",
   "language": "R",
   "name": "ir"
  },
  "language_info": {
   "codemirror_mode": "r",
   "file_extension": ".r",
   "mimetype": "text/x-r-source",
   "name": "R",
   "pygments_lexer": "r",
   "version": "3.5.1"
  }
 },
 "nbformat": 4,
 "nbformat_minor": 2
}
