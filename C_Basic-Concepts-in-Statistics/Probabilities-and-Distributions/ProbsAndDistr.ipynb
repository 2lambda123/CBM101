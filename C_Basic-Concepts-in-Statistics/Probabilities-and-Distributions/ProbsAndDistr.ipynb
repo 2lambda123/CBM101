{
 "cells": [
  {
   "cell_type": "markdown",
   "metadata": {},
   "source": [
    "# Probabilities and distributions\n",
    "This jupyter notebook introduces the usage and interpretation of statistical descriptors as well as basic concept in using probabilities and probability distributions.\n"
   ]
  },
  {
   "cell_type": "markdown",
   "metadata": {},
   "source": [
    "## Installation of libraries and necessary software\n",
    "\n",
    "\n",
    "This notebook requires an R kernel to run the R scripts. We recommend to install the latest R version (https://www.r-project.org/), open an R console and then follow the instructions in https://irkernel.github.io/installation.\n",
    "\n",
    "More features and a user-friendly environment to run R scripts outside jupyter are available through __[RStudio](https://www.rstudio.com/products/rstudio/download/)__\n",
    "\n",
    "Install the necessary libraries (only needed once) by executing (shift-enter) the following cell:\n",
    "\n",
    "\n"
   ]
  },
  {
   "cell_type": "code",
   "execution_count": 32,
   "metadata": {},
   "outputs": [
    {
     "name": "stderr",
     "output_type": "stream",
     "text": [
      "Installing package into 'C:/Users/arvid/Documents/R/win-library/3.5'\n",
      "(as 'lib' is unspecified)\n",
      "Warning message:\n",
      "\"package 'MASS' is in use and will not be installed\"Installing package into 'C:/Users/arvid/Documents/R/win-library/3.5'\n",
      "(as 'lib' is unspecified)\n",
      "Warning message:\n",
      "\"package 'perm' is in use and will not be installed\"Bioconductor version 3.8 (BiocManager 1.30.4), R 3.5.1 (2018-07-02)\n",
      "Installing package(s) 'qvalue'\n",
      "Warning message:\n",
      "\"package 'qvalue' is in use and will not be installed\"installation path not writeable, unable to update packages: boot, class,\n",
      "  cluster, codetools, foreign, lattice, MASS, Matrix, mgcv, nlme, rpart,\n",
      "  survival\n",
      "Update old packages: 'lpSolve', 'uroot'\n"
     ]
    }
   ],
   "source": [
    "install.packages(\"MASS\", repos='http://cran.us.r-project.org')\n",
    "install.packages(\"perm\", repos='http://cran.us.r-project.org')\n",
    "if (!requireNamespace(\"BiocManager\", quietly = TRUE))\n",
    "    install.packages(\"BiocManager\")\n",
    "BiocManager::install(\"qvalue\")\n"
   ]
  },
  {
   "cell_type": "markdown",
   "metadata": {},
   "source": [
    "## Loading data and libraries\n",
    "This requires that the installation above have been finished without error\n"
   ]
  },
  {
   "cell_type": "code",
   "execution_count": 33,
   "metadata": {},
   "outputs": [],
   "source": [
    "\n",
    "library(\"MASS\")\n",
    "library(\"perm\")\n",
    "library(\"qvalue\")"
   ]
  },
  {
   "cell_type": "markdown",
   "metadata": {},
   "source": [
    "The following commands provide important statistical descriptors of data sets:\n",
    "\n",
    "__Examples:__  \n",
    "`mean(x)` Returns average/mean of a data set  \n",
    "`median(x)` Returns median of a data set  \n",
    "`min(x)` Returns minimum of a data set  \n",
    "`max(x)` Returns maximum of a data set  \n",
    "`var(x)` Returns variance of a data set  \n",
    "`sd(x)` Returns standard deviation of a data set  \n",
    "\n",
    "#### Example for some random data _x_:"
   ]
  },
  {
   "cell_type": "code",
   "execution_count": null,
   "metadata": {},
   "outputs": [],
   "source": []
  },
  {
   "cell_type": "code",
   "execution_count": 34,
   "metadata": {},
   "outputs": [
    {
     "data": {
      "text/html": [
       "'First 6 values:'"
      ],
      "text/latex": [
       "'First 6 values:'"
      ],
      "text/markdown": [
       "'First 6 values:'"
      ],
      "text/plain": [
       "[1] \"First 6 values:\""
      ]
     },
     "metadata": {},
     "output_type": "display_data"
    },
    {
     "data": {
      "text/html": [
       "<ol class=list-inline>\n",
       "\t<li>0.342023768556048</li>\n",
       "\t<li>0.694083194752501</li>\n",
       "\t<li>-0.0690254858665623</li>\n",
       "\t<li>1.42267840340513</li>\n",
       "\t<li>0.624935111842252</li>\n",
       "\t<li>-1.10041193241624</li>\n",
       "</ol>\n"
      ],
      "text/latex": [
       "\\begin{enumerate*}\n",
       "\\item 0.342023768556048\n",
       "\\item 0.694083194752501\n",
       "\\item -0.0690254858665623\n",
       "\\item 1.42267840340513\n",
       "\\item 0.624935111842252\n",
       "\\item -1.10041193241624\n",
       "\\end{enumerate*}\n"
      ],
      "text/markdown": [
       "1. 0.342023768556048\n",
       "2. 0.694083194752501\n",
       "3. -0.0690254858665623\n",
       "4. 1.42267840340513\n",
       "5. 0.624935111842252\n",
       "6. -1.10041193241624\n",
       "\n",
       "\n"
      ],
      "text/plain": [
       "[1]  0.34202377  0.69408319 -0.06902549  1.42267840  0.62493511 -1.10041193"
      ]
     },
     "metadata": {},
     "output_type": "display_data"
    },
    {
     "data": {
      "text/html": [
       "'mean(x) = 0.111093502749029'"
      ],
      "text/latex": [
       "'mean(x) = 0.111093502749029'"
      ],
      "text/markdown": [
       "'mean(x) = 0.111093502749029'"
      ],
      "text/plain": [
       "[1] \"mean(x) = 0.111093502749029\""
      ]
     },
     "metadata": {},
     "output_type": "display_data"
    }
   ],
   "source": [
    "# 100 random values taken from a normal distribution with mean 0 and standard deviation 1 \n",
    "# (default of rnorm function)\n",
    "x <- rnorm(100)\n",
    "paste(\"First 6 values:\")\n",
    "head(x)\n",
    "paste(\"mean(x) =\",mean(x))\n",
    "# add your code here ...\n"
   ]
  },
  {
   "cell_type": "markdown",
   "metadata": {},
   "source": [
    "### Exercise 1\n",
    "Create a data set containing the numbers 1 to 100 (`dset <- 1:100`) and calculate _mean, median, minium, maximum, variance_ and _standard deviation_. \n",
    "\n",
    "\n"
   ]
  },
  {
   "cell_type": "markdown",
   "metadata": {},
   "source": [
    "#### Add your answers here\n",
    "(double-click here to edit the cell)\n",
    "\n",
    "##### Question: <u>Why are _mean_ and _median_ the same?</u>\n",
    "\n",
    "\n",
    "\n",
    "##### Question: <u>What is the relationship between _variance_ and _standard deviation_?</u>\n",
    "\n",
    "\n",
    "\n"
   ]
  },
  {
   "cell_type": "markdown",
   "metadata": {},
   "source": [
    "### Exercise 2\n",
    "Calculate `sum(dset)/length(dset)` and compare the returned value to the ones from the previous exercise. \n",
    "\n",
    "\n"
   ]
  },
  {
   "cell_type": "markdown",
   "metadata": {},
   "source": [
    "#### Add your answer here\n",
    "(double-click here to open the cell)\n",
    "\n"
   ]
  },
  {
   "cell_type": "markdown",
   "metadata": {},
   "source": [
    "### Exercise 3\n",
    "Try to understand what happens in the script below.\n",
    "\n",
    "Vary the number of random values (e.g. from 5000 to 1000, 100 and 10000). \n"
   ]
  },
  {
   "cell_type": "code",
   "execution_count": 35,
   "metadata": {},
   "outputs": [
    {
     "data": {
      "image/png": "[encoded data removed]",
      "text/plain": [
       "Plot with title \"Histogram of data\""
      ]
     },
     "metadata": {},
     "output_type": "display_data"
    }
   ],
   "source": [
    "# 5000 random variables from a normal distribution with mean 1 and standard deviation 1\n",
    "data <- rnorm(5000,1,1)\n",
    "# standard histogram\n",
    "hist(data, 50, col=\"#666666\", border=\"white\")\n",
    "# adding statistical descriptors\n",
    "dmean <- mean(data)\n",
    "abline(v=dmean,col=\"red\")\n",
    "dmedian <- median(data)\n",
    "abline(v=dmedian,col=\"green\")\n",
    "dmin <- min(data)\n",
    "abline(v=dmin,col=\"blue\")\n",
    "dmax <- max(data)\n",
    "abline(v=dmax,col=\"blue\")\n",
    "dsd <- sd(data)\n",
    "abline(v=dmean+dsd)\n",
    "abline(v=dmean-dsd)"
   ]
  },
  {
   "cell_type": "markdown",
   "metadata": {},
   "source": [
    "#### Add your answer here\n",
    "(double-click here to edit the cell)\n",
    "\n",
    "#### Question: <u>Are minimum and maximum good descriptors of this data set?</u>\n",
    "\n",
    "\n"
   ]
  },
  {
   "cell_type": "markdown",
   "metadata": {},
   "source": [
    "### Exercise 4\n",
    "Apply the same analysis on `data <- rlnorm(5000)`\n",
    "\n"
   ]
  },
  {
   "cell_type": "code",
   "execution_count": 36,
   "metadata": {},
   "outputs": [],
   "source": [
    "# Add our code here ..."
   ]
  },
  {
   "cell_type": "markdown",
   "metadata": {},
   "source": [
    "#### Add your answer here\n",
    "(double-click here to edit the cell)\n",
    "\n",
    "#### Question: <u>What is different?</u>\n",
    "\n",
    "\n",
    "#### Question: <u>Do the statistical descriptors provide useful information?</u>\n",
    "\n"
   ]
  },
  {
   "cell_type": "markdown",
   "metadata": {},
   "source": [
    "### Exercise 5\n",
    "Calculate the statistical descriptors for flow cytometry data of RNA molecules (from paper https://www.ncbi.nlm.nih.gov/pmc/articles/PMC3575505/#s2). \n",
    "\n",
    "You can get the processed table from http://computproteomics.bmb.sdu.dk/BMB539Data/FlowCytoData.csv (use `read.csv()` on the web page and write it into the object `FlowCyt`).\n",
    "\n",
    "The columns _X18s.RNA_, _abl_ and _bcr_ denote the different molecules. Rows correspond to quantifications in different cells. Apply the statistical descriptors on the values in the columns with the additional arguent `na.rm=T` (e.g. `mean(FlowCyt$bcr, na.rm=T)`). \n",
    "\n",
    "\n",
    "\n"
   ]
  },
  {
   "cell_type": "code",
   "execution_count": 37,
   "metadata": {},
   "outputs": [],
   "source": [
    "A <- read.csv(url(\"http://computproteomics.bmb.sdu.dk/BMB539Data/FlowCytoData.csv\"))\n",
    "# add your code here ..."
   ]
  },
  {
   "cell_type": "markdown",
   "metadata": {},
   "source": [
    "#### Add your answer here\n",
    "(double-click here to edit the cell)\n",
    "\n",
    "#### Question: <u>Do the statistical descriptors describe all molecules accurately?</u>\n",
    "\n",
    "\n",
    "#### Question: <u>Would you trust a report that provides only mean and standard deviation when you compare them to the distributions?</u>\n",
    "\n"
   ]
  },
  {
   "cell_type": "markdown",
   "metadata": {},
   "source": [
    "### Exercise 6\n",
    "There are several functions to create data sets that contain random numbers: `rnorm, runif, rexp` (drawn from a normal, a uniform and an exponential distribution, respectively). Apply the functions to create 10, 20 and 50 random numbers.\n",
    "\n",
    "\n",
    "\n",
    "\n"
   ]
  },
  {
   "cell_type": "code",
   "execution_count": 38,
   "metadata": {},
   "outputs": [],
   "source": [
    "# add your code here ..."
   ]
  },
  {
   "cell_type": "markdown",
   "metadata": {},
   "source": [
    "#### Add your answer here\n",
    "(double-click here to open the cell)\n",
    "\n",
    "#### Question: <u>Do you see a basic pattern in the values for each of the distributions?</u>\n",
    "\n",
    "#### Question: <u>What are specific properties of the distributions? You can check the help pages (e.g. by writing `?rnorm`)</u>\n"
   ]
  },
  {
   "cell_type": "markdown",
   "metadata": {},
   "source": [
    " ### Exercise 7\n",
    " Create 1000 random numbers that are uniformly distributed:\n",
    " \n",
    " The plot shows a histogram. Discuss the meaning of the different parts of the plot with your neighbors. Change the number of bins (_breaks_ in R). Estimate which number of bins describes the data best.  \n",
    "\n",
    "<!-- Create a boxplot of the data (`boxplot(unif_dat)`) and understand what the figure shows. You can find a simple explanation of boxplots here:    \n",
    " http://www.wellbeingatschool.org.nz/information-sheet/understanding-and-interpreting-box-plots -->\n",
    "\n"
   ]
  },
  {
   "cell_type": "code",
   "execution_count": 39,
   "metadata": {},
   "outputs": [
    {
     "data": {
      "image/png": "[encoded data removed]",
      "text/plain": [
       "Plot with title \"Histogram of unif_dat\""
      ]
     },
     "metadata": {},
     "output_type": "display_data"
    }
   ],
   "source": [
    "unif_dat <- runif(1000, -10,10) \n",
    "hist(unif_dat, breaks = 10) \n",
    " "
   ]
  },
  {
   "cell_type": "markdown",
   "metadata": {},
   "source": [
    "#### Add your answer here\n",
    "(double-click here to open the cell)\n",
    "\n"
   ]
  },
  {
   "cell_type": "markdown",
   "metadata": {},
   "source": [
    "<!-- ### Exercise 8 -->\n",
    "<!-- Create an object _norm_dat_ containing 1000 normally distributed random numbers (`rnorm()` function). Visualize them by plotting the data as histogram and boxplot.  -->\n",
    "\n",
    "<!-- What is different to the plots of uniformely distributed numbers? -->\n",
    "\n"
   ]
  },
  {
   "cell_type": "markdown",
   "metadata": {},
   "source": [
    "### Exercise 7\n",
    "Sort and plot the random numbers as _rank plot_:\n",
    "\n",
    "You can compare two distributions by plotting their sorted values versus each other: `plot(sort(unif_dat), sorted_norm_dat)`. \n",
    "\n",
    " \n",
    "<!-- ## Estimate probabilities -->\n",
    "<!-- TODO: -->\n",
    "<!-- Exponential distribution, plot distributions  VERY DETAILED! -->\n",
    "<!-- ```{r, echo=TRUE, eval=FALSE}x -->\n",
    "<!-- data <- rexp(1000) -->\n",
    "<!-- ``` -->\n",
    "<!-- ## Visualization of large data amounts -->\n"
   ]
  },
  {
   "cell_type": "code",
   "execution_count": 40,
   "metadata": {},
   "outputs": [
    {
     "data": {
      "image/png": "[encoded data removed]",
      "text/plain": [
       "plot without title"
      ]
     },
     "metadata": {},
     "output_type": "display_data"
    }
   ],
   "source": [
    "norm_dat <- rnorm(1000)\n",
    "unif_dat <- runif(1000, -10,10) \n",
    "sorted_norm_dat <- sort(norm_dat)\n",
    "sorted_unif_dat <- sort(unif_dat)\n",
    "plot(sorted_norm_dat)\n",
    "# add the other plot commands here ...\n"
   ]
  },
  {
   "cell_type": "markdown",
   "metadata": {},
   "source": [
    "#### Add your answer here\n",
    "(double-click here to open the cell)\n",
    "\n",
    "#### Question: <u>Why are the ranked plot of the normal distribution and the plot for the comparison between the distributions similar?</u>\n",
    "\n"
   ]
  },
  {
   "cell_type": "markdown",
   "metadata": {},
   "source": [
    "### Exercise 8\n",
    "\n",
    "Download _Supplementary Dataset 1_ (first sheet _Cell extract (CE)_) from a study investigating bladder cancer cells T24 to detect changes between the cancer cells and their metastatic subtype. \n",
    "Link to paper: http://www.nature.com/articles/srep25619\n",
    "\n",
    "Open the table with Excel/Libreoffice and save as csv-file. \n",
    "\n",
    "Import the table into R \n",
    "\n",
    "`prot_dat <- read.csv(\"TableName\",row.names=1, skip=1)`\n",
    "(you need to upload the file to your jupyter notebook folder)\n",
    "\n",
    "If you get an error, try \n",
    "\n",
    "`prot_dat <- read.csv(\"TableName\",row.names=1, sep=\";\", digits=\",\", skip=1)`\n",
    "\n",
    "And if you still don't manage to read the csv-file, you can directly import the data from http://computproteomics.bmb.sdu.dk/BMB539Data/ProtTable.csv and apply \n",
    "\n",
    "`prot_dat <- read.csv(\"ProtTable.csv\",row.names=1, skip=1)`\n",
    "\n",
    "View the table and discuss its content: `View(prot_dat)`.\n",
    "\n",
    "Convert the expression values to numerical values (ignore the warnings):  \n",
    "`for (i in 13:22) prot_dat[,i] <- as.numeric(as.character(prot_dat[,i]))`\n",
    "\n",
    "Plot the column `prot_dat$Area.T24_T1.normalized` as boxplot (`boxplot(...)`) and histogram (`hist(...)`). \n",
    "\n",
    "Plot all columns with intensities (access them by `prot_dat[,13:22]`) as boxplot.\n",
    "\n",
    "Calculate _mean, median, sum_ and _standard deviation_ of one of the columns. Missing values will be dismissed by the argument _na.rm=T_, e.g. `mean(prot_dat[,13], na.rm=T)` \n",
    "\n",
    "Transform all protein abundances to their logarithm\n",
    "`lprot_dat <- as.matrix(log2(prot_dat[,13:22]))\n",
    "lprot_dat[!is.finite(lprot_dat)] <- NA\n",
    "`\n",
    "and make again boxplots and histogram: `boxplot(lprot_dat)`. \n",
    "\n",
    "Calculate _mean, median_ and _standard deviation_ of one of the columns and try to locate the values in the boxplot.\n",
    "\n",
    "\n"
   ]
  },
  {
   "cell_type": "markdown",
   "metadata": {},
   "source": [
    "#### Add your answer here\n",
    "(double-click here to open the cell)\n",
    "\n",
    "#### Question: <u>What information does the file contain?</u>\n",
    "\n",
    "\n",
    "#### Question: <u>What is strange when you plot the boxplot and the histogram of the data before taking its logarithm?</u>\n",
    "\n",
    "#### Question: <u>Does the transformed data make more sense? Why could that be?</u>\n",
    "\n",
    "\n",
    "\n"
   ]
  },
  {
   "cell_type": "markdown",
   "metadata": {},
   "source": [
    "### Exercise 9\n",
    "_Probabilities_\n",
    "- Read the description of ```dnorm()```: ```help(dnorm)```\n",
    "- Plot the density (```dnorm()```) and the cumulative (```pnorm()```) probability distribution of a normal distribution with mean 2.5 and standard deviation 1.5.\n",
    "- Read the probability of having a number between 0.5 and 4 from the cumulative distribution. Verify this number with its calculation ```pnorm(4, 2.5, 1.5) - pnorm(0.5, 2.5, 1.5)```\n",
    "- Repeat the same for the intervals (-1, 2) and (1, 2)\n",
    "\n",
    "_Frequencies_\n",
    "- The relative number of observations per unit interval around $x=2$ (between 1.5 and 2.5) is given by ```dnorm(x=2, 2.5, 1.5)```. Hence\n",
    "  - In a sample of 100 the expected number of observations per unit interval in the immediate vicinity of $x=2$ is 25.16\n",
    "  - In a sample of 1000 the expected number of observations per unit interval in the immediate vicinity of $x=2$ is 251.6\n",
    "  - The expected number of values from a sample of 1000, between 1.9 and 2.1, is approximately $0.2 \\cdot 251.6 = 50.32$, or, more precisely,\n",
    "```pnorm(2.1, 2.5, 1.5) - pnorm(1.9, 2.5, 1.5)```\n",
    "\n",
    "- Repeat the calculation for the intervals (-1,2) and (1,2). \n"
   ]
  },
  {
   "cell_type": "code",
   "execution_count": 41,
   "metadata": {},
   "outputs": [
    {
     "data": {
      "image/png": "[encoded data removed]",
      "text/plain": [
       "plot without title"
      ]
     },
     "metadata": {},
     "output_type": "display_data"
    }
   ],
   "source": [
    "x <- seq(-5,10,0.01)\n",
    "density <- dnorm(x, mean=2.5, sd=1.5)\n",
    "cumulative <- pnorm(x, mean=2.5, sd=1.5)\n",
    "\n",
    "## plot the functions:\n",
    "\n",
    "\n",
    "# This code is related to a question below and the sample with 1000 observations above\n",
    "plot(x, 1000*dnorm(x, mean=2.5, sd=1.5), type=\"l\",ylab=\"frequency\")\n",
    "interval <- seq(1.5,2.5,0.01)\n",
    "polygon(c(1.5,interval,2.5), c(0,1000*dnorm(interval, 2.5,1.5),0), col = \"#FF000055\")\n",
    "polygon(c(1.5,2.5,2.5,1.5), 1000*c(dnorm(2, 2.5,1.5),dnorm(2, 2.5,1.5),0,0), col = \"#00FF0055\")\n",
    "points(2,1000*dnorm(2,2.5,1.5),pch=15,col=2)\n",
    "text(2,1000*dnorm(2,2.5,1.5),pch=15,col=2,labels =1000*dnorm(2,2.5,1.5), pos=1)\n"
   ]
  },
  {
   "cell_type": "markdown",
   "metadata": {},
   "source": [
    "##### Question I:  <u>What are the 3 different arguments of these functions? How are they related to the Gaussian function?</u>\n",
    "\n",
    "_Answer_\n",
    "\n",
    "##### Question II:  <u>What is the difference between the first argument of ```dnorm``` and ```rnorm```?</u>\n",
    "\n",
    "_Answer_\n",
    "\n",
    "##### Question III:  <u>How would you estimate the probability of having a number between 0.5 and 4 from the density distribution?</u>\n",
    "\n",
    "_Answer_\n",
    "\n",
    "##### Question IV:  <u>What is the probability to obtain the number 2?</u>\n",
    "\n",
    "_Answer_\n",
    "\n",
    "##### Question V:  <u>What is the difference between probability and frequency?</u>\n",
    "\n",
    "_Answer_\n",
    "\n",
    "##### Question VI:  <u>How would you calculate the area of the rectangle and the area under the curve in the figure given above?</u>\n",
    "\n",
    "_Answer_\n"
   ]
  },
  {
   "cell_type": "markdown",
   "metadata": {},
   "source": [
    "### Exercise 10\n",
    "We now check the behavior of the t-distribution which is an integral part of the t-test and exponential distribution.\n",
    "- Plot the density and cumulative probability distribution (```dt()``` and ```pt``` with argument ```df=3```) for a t-distribution with 3 degrees of freedom. Plot the normal distribution over it with ```lines()```. \n",
    "- Plot the density and cumulative probability distribution for an exponential distribution (```dexp()```) with a rate parameter equal to 1 (the default). Repeat with a rate parameter equal to 2. What happens when you do the plot on logarithmic (y-coordinate) and double-logarithmic scale?\n"
   ]
  },
  {
   "cell_type": "code",
   "execution_count": 42,
   "metadata": {},
   "outputs": [],
   "source": [
    "x <- seq(-5,5,0.01)\n",
    "# density function\n",
    "dens_t <- dt(x, df=3)\n",
    "\n",
    "dens_exp <- dexp(x, rate = 1)\n",
    "# continue ...\n"
   ]
  },
  {
   "cell_type": "markdown",
   "metadata": {},
   "source": [
    "##### Question I:  <u>What happens with the t-distribution of high degrees of freedom?</u>\n",
    "\n",
    "_Answer_\n",
    "\n",
    "##### Question II:  <u>Which is a good visual way to check whether data is exponentially distributed?</u>\n",
    "\n",
    "_Answer_\n"
   ]
  },
  {
   "cell_type": "markdown",
   "metadata": {},
   "source": [
    "### Exercise 11\n",
    "Use the function ```rnorm()``` to draw a random sample of 25 values from a normal distribution with a mean of 0 and a standard deviation equal to 1.0. Use a histogram, with ```probability=TRUE``` to display the values. Overlay the histogram with: (a) an estimated density curve; (b) the theoretical density curve for a normal distribution with mean 0 and standard deviation equal to 1.0. Repeat with samples of 100, 500 and 1000 values, showing the different displays in different panels on the same graphics page (```par(mfrow=...)```)\n"
   ]
  },
  {
   "cell_type": "code",
   "execution_count": 43,
   "metadata": {},
   "outputs": [
    {
     "data": {
      "image/png": "[encoded data removed]",
      "text/plain": [
       "Plot with title \"Histogram of rand\""
      ]
     },
     "metadata": {},
     "output_type": "display_data"
    }
   ],
   "source": [
    "rand <- rnorm(25)\n",
    "hist(rand, probability = TRUE,ylim=c(0,0.5), border=\"#FFFFFF\", col=\"#333333\")\n",
    "lines(density(rand))\n",
    "x <- seq(-5,5,0.01)\n",
    "lines(x, dnorm(x), col=2)\n"
   ]
  },
  {
   "cell_type": "markdown",
   "metadata": {},
   "source": [
    "##### Question I:  <u>What are the black and the red lines?</u>\n",
    "\n",
    "_Answer_\n",
    "\n",
    "##### Question II:  <u>What improves when you increase the number of values?</u>\n",
    "\n",
    "_Answer_\n",
    "\n",
    "##### Question III:  <u>What does ```#333333``` mean?</u>\n",
    "\n",
    "_Answer_"
   ]
  },
  {
   "cell_type": "markdown",
   "metadata": {},
   "source": [
    "### Exercise 12\n",
    "Data with a distribution close to lognormal are common. Size measurements of biological organisms often have this character. As an example, consider the measurements of body weight (```body```) in the data frame ```Animals``` (```MASS``` package). Begin by drawing a histogram of the untransformed values, and overlay a density curve. Then\n",
    "\n",
    "- Draw an estimated density curve for the logarithms of the values. \n",
    "- Determine the mean and standard deviation of ```log(Animals$body)```. Overlay the estimated density with the theoretical density for a normal distribution with the mean and standard deviation just obtained.\n",
    "\n"
   ]
  },
  {
   "cell_type": "code",
   "execution_count": 44,
   "metadata": {},
   "outputs": [],
   "source": [
    "# Add you code here:"
   ]
  },
  {
   "cell_type": "markdown",
   "metadata": {},
   "source": [
    "##### Question I:  <u>Does the distribution look like a normal distribution after transformation to a logarithmic scale??</u>\n",
    "\n",
    "_Answer_"
   ]
  },
  {
   "cell_type": "markdown",
   "metadata": {},
   "source": [
    "### Exercise 13\n",
    "The following script plots an estimated density curve for a random sample of 50 values from a normal distribution:\n",
    "\n",
    "- Plot estimated density curves (```plot(density(...))```) for random samples containing 50 values\n",
    "  - the normal distribution\n",
    "  - the uniform distribution (```runif(50)```)\n",
    "  - the $t$-distribution with 3 degrees of freedom. \n",
    "-  Overlay the three plots and use different colors.\n",
    "- Repeat the same but now taking random samples of 500 and 5000 values\n",
    "\n"
   ]
  },
  {
   "cell_type": "code",
   "execution_count": 45,
   "metadata": {},
   "outputs": [],
   "source": [
    "# Add your code here:"
   ]
  },
  {
   "cell_type": "markdown",
   "metadata": {},
   "source": [
    "##### Question I:  <u>Why is the estimated density curve of the uniformely distiubuted values much higher?</u>\n",
    "\n",
    "_Answer_"
   ]
  },
  {
   "cell_type": "markdown",
   "metadata": {},
   "source": [
    "### Exercise 13\n",
    "There are two ways to make the estimated density smoother:\n",
    "\n",
    "- One is to increase the number of samples\n",
    "- The other one is to increase the bandwidth. For example\n",
    "```\n",
    "plot(density(rnorm(50), bw=0.2), type=\"l\")\n",
    "plot(density(rnorm(50), bw=0.6), type=\"l\")\n",
    "```\n",
    "\n",
    "Repeat each of these with bandwidths of 0.15, with default choice of bandwidth, and with the bandwidth set to 0.75"
   ]
  },
  {
   "cell_type": "code",
   "execution_count": 46,
   "metadata": {},
   "outputs": [],
   "source": [
    "# Add your code here:\n"
   ]
  },
  {
   "cell_type": "markdown",
   "metadata": {},
   "source": [
    "### Exercise 14\n",
    "The density estimation has the issue that it depends strongly on bandwidth and choice of kernel, making it sometimes not very useful to judge normality. A much better tool is the quantile-quantile plot, which uses an output similar to cumulative probability distributions. Try the following script and compare assess how the plot characterizes normally distributed data.\n",
    "- See how the plot deviates when comparing the normal distribution with random variables from other distributions.\n",
    "- Increase the number of data points\n",
    "- Substitute the ```rnorm()``` function by random variables from other distributions (e.g. ```rexp()``` and ```rlnorm()```)\n"
   ]
  },
  {
   "cell_type": "code",
   "execution_count": 47,
   "metadata": {},
   "outputs": [
    {
     "data": {
      "image/png": "[encoded data removed]",
      "text/plain": [
       "Plot with title \"Normal Q-Q Plot\""
      ]
     },
     "metadata": {},
     "output_type": "display_data"
    },
    {
     "data": {
      "image/png": "[encoded data removed]",
      "text/plain": [
       "Plot with title \"Normal Q-Q Plot\""
      ]
     },
     "metadata": {},
     "output_type": "display_data"
    },
    {
     "data": {
      "image/png": "[encoded data removed]",
      "text/plain": [
       "Plot with title \"Normal Q-Q Plot\""
      ]
     },
     "metadata": {},
     "output_type": "display_data"
    }
   ],
   "source": [
    "qqnorm(rnorm(10))\n",
    "qqnorm(rnorm(15))\n",
    "qqnorm(rnorm(200))\n"
   ]
  },
  {
   "cell_type": "markdown",
   "metadata": {},
   "source": [
    "##### Question I:  <u>How does the ```qqnorm()``` function show that the data is normally distributed?</u>\n",
    "\n",
    "_Answer_\n",
    "\n",
    "##### Question II:  <u>Which is the limiting function when increasing the number of values to infinity?</u>\n",
    "\n",
    "_Answer_\n",
    "\n",
    "##### Question III:  <u>How do the other tested distributions show their difference to a normal distribution when using the ```qqnorm()``` function?</u>\n",
    "\n",
    "_Answer_\n"
   ]
  },
  {
   "cell_type": "markdown",
   "metadata": {},
   "source": [
    "### Exercise 15\n",
    "Take the data sets ```lh``` and ```Animals``` and check for normality using ```qqnorm```. Do the same on their logarithmic values. Additionally, use ```boxplot()``` to get an idea about how the boxplot of a normal distribution looks.\n"
   ]
  },
  {
   "cell_type": "code",
   "execution_count": 48,
   "metadata": {},
   "outputs": [],
   "source": [
    "library(MASS)\n",
    "data(\"Animals\")\n",
    "# add your code here\n"
   ]
  },
  {
   "cell_type": "markdown",
   "metadata": {},
   "source": [
    "##### Question I:  <u>Which data set is (approximately) normally distributed?</u>\n",
    "\n",
    "_Answer_\n",
    "\n",
    "##### Question II:  <u>Which data set is (approximately) log-normally distributed?</u>\n",
    "\n",
    "_Answer_"
   ]
  }
 ],
 "metadata": {
  "kernelspec": {
   "display_name": "R",
   "language": "R",
   "name": "ir"
  },
  "language_info": {
   "codemirror_mode": "r",
   "file_extension": ".r",
   "mimetype": "text/x-r-source",
   "name": "R",
   "pygments_lexer": "r",
   "version": "3.5.1"
  }
 },
 "nbformat": 4,
 "nbformat_minor": 2
}
