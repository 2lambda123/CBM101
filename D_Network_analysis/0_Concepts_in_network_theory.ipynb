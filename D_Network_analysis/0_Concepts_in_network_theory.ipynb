{
 "cells": [
  {
   "cell_type": "markdown",
   "metadata": {},
   "source": [
    "# Concepts in Network Theory"
   ]
  },
  {
   "cell_type": "markdown",
   "metadata": {},
   "source": [
    "Networks: Network representations are ubiquitous for things like social \n",
    "networks, the world wide web, transportation and power grids. \n",
    "\n",
    "In biology it naturally projects to dynamics of molecular interaction inside cells \n",
    "(metabolic or protein-protein networks), neuroscience and and ecological networks. In this submodule we will \n",
    "focus on the first two. \n",
    "\n",
    "The study of the brain using network theory is a fairly new field in neuroscience known as **brain connectivity**. Nothing about the idea is new, as it dates back at last 100 years, but only with advances in imaging technologies have we started to gain access into what it looks like. Some neuroscientists [who?] have been quoted saying that if we had perfect resolution of an individual's connectome, this would (in theory) allow full access into that person's memories, knowledge, personal traits etc. By comparison, with the imaging technologies today available, a single node encompass millions of neurons.\n",
    "\n",
    "## [image of brain network and of protein-network]"
   ]
  },
  {
   "cell_type": "code",
   "execution_count": 339,
   "metadata": {},
   "outputs": [],
   "source": [
    "## go through a few topological metrics\n",
    "## go through random graph\n",
    "## go through small-worlds \n",
    "## show img of regular -> sw -> random\n",
    "\n",
    "## See github course for inspiration https://github.com/CambridgeUniversityPress/FirstCourseNetworkScience"
   ]
  },
  {
   "cell_type": "markdown",
   "metadata": {},
   "source": [
    "## Network representation\n",
    "\n",
    "Networks are most naturally visualized as a set of points (nodes) connected by lines (edges).\n",
    "\n",
    "<img\n",
    "src=\"assets/graph_random_circle.png\"\n",
    "width=300\n",
    "/>\n",
    "\n",
    "This data is typically stored as a list of edges, for the figure above we would have G = {A,B}, {B,A}, {B,C}.\n",
    "Another equivalent form is the adjacency matrix, which is less intuitive, but mathematically appealing (color code: black=1; white=0).\n",
    "\n",
    "\n",
    "<img\n",
    "src=\"assets/matrix_example.png\"\n",
    "width=500\n",
    "/>"
   ]
  },
  {
   "cell_type": "code",
   "execution_count": 1,
   "metadata": {},
   "outputs": [],
   "source": [
    "import numpy as np"
   ]
  },
  {
   "cell_type": "markdown",
   "metadata": {},
   "source": [
    "####  Exercise 1. construct the matrix (numpy array) representing the following graph. \n",
    "\n",
    "<img\n",
    "src=\"assets/ex0_1.png\"\n",
    "width=200\n",
    "style=\"float: left\"\n",
    "/>\n",
    "\n",
    "Hint: we write the connection from row to column (e.g. the link from 1 to 3 should be at the 1st row and 3rd column). Note this convention is not always consistent."
   ]
  },
  {
   "cell_type": "code",
   "execution_count": 338,
   "metadata": {},
   "outputs": [
    {
     "data": {
      "text/plain": [
       "array([[0., 0., 1., 0., 0.],\n",
       "       [1., 0., 0., 0., 0.],\n",
       "       [0., 0., 0., 1., 0.],\n",
       "       [1., 0., 0., 0., 0.],\n",
       "       [0., 0., 0., 1., 0.]])"
      ]
     },
     "execution_count": 338,
     "metadata": {},
     "output_type": "execute_result"
    }
   ],
   "source": [
    "# %load solutions/ex0_1.py\n",
    "np.array([\n",
    "       [0., 0., 1., 0., 0.],\n",
    "       [1., 0., 0., 0., 0.],\n",
    "       [0., 0., 0., 1., 0.],\n",
    "       [1., 0., 0., 0., 0.],\n",
    "       [0., 0., 0., 1., 0.]])"
   ]
  },
  {
   "cell_type": "markdown",
   "metadata": {},
   "source": [
    "## Directedness and weightedness\n",
    "\n",
    "We have two questions of network properties to consider when making a model:\n",
    "- is the edges directed or undirected? \n",
    "- are the edges continuous or binary?\n",
    "\n",
    "For instance, the WWW is directed, but a social acquaintance does not follow a particular direction."
   ]
  },
  {
   "cell_type": "markdown",
   "metadata": {},
   "source": [
    "## Graph metrics\n",
    "Graph metrics are numbers that quanitfy certain properties of a network (global metrics) or about specific nodes in the network (local metrics). Because it is hard to infer things about a network simply by looking at it, these numbers capture the essence of a network, and lets us test specific hypotheses about network structure."
   ]
  },
  {
   "cell_type": "markdown",
   "metadata": {},
   "source": [
    "<img src=\"assets/rubinov_sporns_2010_neuroimage.png\"\n",
    "     alt=\"graph metrics\"\n",
    "     width=1000\n",
    "     style=\"float: left; margin-right: 10px;\" />"
   ]
  },
  {
   "cell_type": "markdown",
   "metadata": {},
   "source": [
    "##### A bunch of other graph metrics exist that quantify importance of a node within a network.\n",
    "These are collectively termed \"centrality\", but all quantify slightly different things.\n",
    "\n",
    "- degree centrality\n",
    "- betweenness centrality\n",
    "- closeness centrality\n",
    "\n",
    "##### Other metrics quantify overall network structure\n",
    "- Density\n",
    "- small-worldness\n",
    "- modularity\n",
    "\n",
    "The various metrics are tempting to use, but it is crucial to interpret them according to the network you happen to study."
   ]
  },
  {
   "cell_type": "markdown",
   "metadata": {},
   "source": [
    "# An example of network theory in action\n",
    "Consider the world wide web (WWW), one of the more familiar networks of everyday life. When performing a search with your search engine of choice, it has to sort the results based on some kind of importance metric. The old method of doing this was to base it upon page *content*, and rate it accordingly. This method yielded very poor results. An ingenious milestone was, paradoxically, to dismiss the site content, and *only* look at its **topological** position in the network.\n",
    "\n",
    "### PageRank\n",
    "We use the seemingly circular argument: a page (node) is important if other important pages point (link) to it. We start with an initial distribution of \"importance\" between the nodes, then at each iteration the node redistributes its own importance determined by their outward links (imagine a surfer who at each time step has a certain probability of moving to a new page). This process is allowed to repeat, and will at some point reach steady state. The below image has already reached steady state.\n",
    "\n",
    "\n",
    "<img src=\"assets/PageRanks-Example_345Kai_no(c).jpg\"\n",
    "     alt=\"graph metrics\"\n",
    "     width=500\n",
    "     style=\"float: left; margin-right: 10px;\" />"
   ]
  },
  {
   "cell_type": "markdown",
   "metadata": {},
   "source": [
    "We will go on to reproduce the above figure."
   ]
  },
  {
   "cell_type": "code",
   "execution_count": 374,
   "metadata": {},
   "outputs": [],
   "source": [
    "np.set_printoptions(2)"
   ]
  },
  {
   "cell_type": "code",
   "execution_count": 379,
   "metadata": {},
   "outputs": [],
   "source": [
    "# define the edges. Note that A is set to link to all other pages\n",
    "#(a mathematical necessity because it has no outward links)\n",
    "\n",
    "M = np.array([\n",
    "       [1., 0., 0., 1., 0., 0., 0., 0., 0., 0., 0.],\n",
    "       [1., 0., 1., 1., 1., 1., 1., 1., 1., 0., 0.],\n",
    "       [1., 1., 0., 0., 0., 0., 0., 0., 0., 0., 0.],\n",
    "       [1., 0., 0., 0., 1., 0., 0., 0., 0., 0., 0.],\n",
    "       [1., 0., 0., 0., 0., 1., 1., 1., 1., 1., 1.],\n",
    "       [1., 0., 0., 0., 1., 0., 0., 0., 0., 0., 0.],\n",
    "       [1., 0., 0., 0., 0., 0., 0., 0., 0., 0., 0.],\n",
    "       [1., 0., 0., 0., 0., 0., 0., 0., 0., 0., 0.],\n",
    "       [1., 0., 0., 0., 0., 0., 0., 0., 0., 0., 0.],\n",
    "       [1., 0., 0., 0., 0., 0., 0., 0., 0., 0., 0.],\n",
    "       [1., 0., 0., 0., 0., 0., 0., 0., 0., 0., 0.]])"
   ]
  },
  {
   "cell_type": "markdown",
   "metadata": {},
   "source": [
    "#### Exercise 2. normalize the edges such that the sum of the columns equal to 1.\n",
    "\n",
    "Hint: first compute the column sums (yielding a vector), then divide each column by that vector (broadcasting)."
   ]
  },
  {
   "cell_type": "markdown",
   "metadata": {},
   "source": [
    "#### a)"
   ]
  },
  {
   "cell_type": "code",
   "execution_count": 387,
   "metadata": {},
   "outputs": [
    {
     "data": {
      "text/plain": [
       "array([0.09, 1.  , 1.  , 0.5 , 0.33, 0.5 , 0.5 , 0.5 , 0.5 , 1.  , 1.  ])"
      ]
     },
     "execution_count": 387,
     "metadata": {},
     "output_type": "execute_result"
    }
   ],
   "source": [
    "# %load solutions/ex0_2a.py\n",
    "col_sums = np.sum(M, axis=0)\n",
    "col_sums"
   ]
  },
  {
   "cell_type": "markdown",
   "metadata": {},
   "source": [
    "#### b)"
   ]
  },
  {
   "cell_type": "code",
   "execution_count": 388,
   "metadata": {},
   "outputs": [
    {
     "data": {
      "text/plain": [
       "array([[0.09, 0.  , 0.  , 0.5 , 0.  , 0.  , 0.  , 0.  , 0.  , 0.  , 0.  ],\n",
       "       [0.09, 0.  , 1.  , 0.5 , 0.33, 0.5 , 0.5 , 0.5 , 0.5 , 0.  , 0.  ],\n",
       "       [0.09, 1.  , 0.  , 0.  , 0.  , 0.  , 0.  , 0.  , 0.  , 0.  , 0.  ],\n",
       "       [0.09, 0.  , 0.  , 0.  , 0.33, 0.  , 0.  , 0.  , 0.  , 0.  , 0.  ],\n",
       "       [0.09, 0.  , 0.  , 0.  , 0.  , 0.5 , 0.5 , 0.5 , 0.5 , 1.  , 1.  ],\n",
       "       [0.09, 0.  , 0.  , 0.  , 0.33, 0.  , 0.  , 0.  , 0.  , 0.  , 0.  ],\n",
       "       [0.09, 0.  , 0.  , 0.  , 0.  , 0.  , 0.  , 0.  , 0.  , 0.  , 0.  ],\n",
       "       [0.09, 0.  , 0.  , 0.  , 0.  , 0.  , 0.  , 0.  , 0.  , 0.  , 0.  ],\n",
       "       [0.09, 0.  , 0.  , 0.  , 0.  , 0.  , 0.  , 0.  , 0.  , 0.  , 0.  ],\n",
       "       [0.09, 0.  , 0.  , 0.  , 0.  , 0.  , 0.  , 0.  , 0.  , 0.  , 0.  ],\n",
       "       [0.09, 0.  , 0.  , 0.  , 0.  , 0.  , 0.  , 0.  , 0.  , 0.  , 0.  ]])"
      ]
     },
     "execution_count": 388,
     "metadata": {},
     "output_type": "execute_result"
    }
   ],
   "source": [
    "# %load solutions/ex0_2b.py\n",
    "M = M / col_sums[np.newaxis, :] #newaxis ensures the broadcasting is correct\n",
    "M"
   ]
  },
  {
   "cell_type": "markdown",
   "metadata": {},
   "source": [
    "#### c)"
   ]
  },
  {
   "cell_type": "code",
   "execution_count": 399,
   "metadata": {},
   "outputs": [
    {
     "data": {
      "text/plain": [
       "array([ True,  True,  True,  True,  True,  True,  True,  True,  True,\n",
       "        True,  True])"
      ]
     },
     "execution_count": 399,
     "metadata": {},
     "output_type": "execute_result"
    }
   ],
   "source": [
    "# %load solutions/ex0_2c.py\n",
    "np.sum(M, axis=0)\n",
    "#or\n",
    "np.isclose(np.sum(M, axis=0), 1.)"
   ]
  },
  {
   "cell_type": "code",
   "execution_count": 216,
   "metadata": {},
   "outputs": [],
   "source": [
    "# from https://en.wikipedia.org/wiki/PageRank#Simplified_algorithm\n",
    "import numpy as np\n",
    "\n",
    "def pagerank(M, num_iterations: int = 100, d: float = 0.85):\n",
    "    \"\"\"PageRank: The trillion dollar algorithm.\n",
    "\n",
    "    Parameters\n",
    "    ----------\n",
    "    M : numpy array\n",
    "        adjacency matrix where M_i,j represents the link from 'j' to 'i', such that for all 'j'\n",
    "        sum(i, M_i,j) = 1\n",
    "    num_iterations : int, optional\n",
    "        number of iterations, by default 100\n",
    "    d : float, optional\n",
    "        damping factor, by default 0.85\n",
    "\n",
    "    Returns\n",
    "    -------\n",
    "    numpy array\n",
    "        a vector of ranks such that v_i is the i-th rank from [0, 1],\n",
    "        v sums to 1\n",
    "\n",
    "    \"\"\"\n",
    "    N = M.shape[1]\n",
    "    v = np.random.rand(N, 1)\n",
    "    v = v / np.linalg.norm(v, 1)\n",
    "    M_hat = (d * M + (1 - d) / N)\n",
    "    for i in range(num_iterations):\n",
    "        v = M_hat @ v\n",
    "    return v"
   ]
  },
  {
   "cell_type": "code",
   "execution_count": 217,
   "metadata": {
    "scrolled": true
   },
   "outputs": [],
   "source": [
    "pr = pagerank(M, 100, d=.85)"
   ]
  },
  {
   "cell_type": "markdown",
   "metadata": {},
   "source": [
    "#### Exercise 3: \n",
    "Compute the pagerank and confirm it matches with the figure shown above (within a reasonable margin of error)."
   ]
  },
  {
   "cell_type": "code",
   "execution_count": 400,
   "metadata": {},
   "outputs": [
    {
     "name": "stdout",
     "output_type": "stream",
     "text": [
      "[[ 3.28]\n",
      " [38.44]\n",
      " [34.29]\n",
      " [ 3.91]\n",
      " [ 8.09]\n",
      " [ 3.91]\n",
      " [ 1.62]\n",
      " [ 1.62]\n",
      " [ 1.62]\n",
      " [ 1.62]\n",
      " [ 1.62]]\n"
     ]
    },
    {
     "data": {
      "text/plain": [
       "1.0000000000000009"
      ]
     },
     "execution_count": 400,
     "metadata": {},
     "output_type": "execute_result"
    }
   ],
   "source": [
    "# %load solutions/ex0_3.py\n",
    "\n",
    "pr = pagerank(M)\n",
    "print(pr*100)\n",
    "np.sum(pr)"
   ]
  },
  {
   "cell_type": "code",
   "execution_count": 401,
   "metadata": {},
   "outputs": [
    {
     "name": "stdout",
     "output_type": "stream",
     "text": [
      "out_fn =  ex0_1.py\n",
      "wrote file  .tmpdir_Concepts_in_Network_Theoryipynb/ex0_1.py\n",
      "out_fn =  ex0_2a.py\n",
      "wrote file  .tmpdir_Concepts_in_Network_Theoryipynb/ex0_2a.py\n",
      "out_fn =  ex0_2b.py\n",
      "wrote file  .tmpdir_Concepts_in_Network_Theoryipynb/ex0_2b.py\n",
      "out_fn =  ex0_2c.py\n",
      "wrote file  .tmpdir_Concepts_in_Network_Theoryipynb/ex0_2c.py\n",
      "out_fn =  ex0_3.py\n",
      "wrote file  .tmpdir_Concepts_in_Network_Theoryipynb/ex0_3.py\n"
     ]
    }
   ],
   "source": [
    "#this will export the solutions to the exercises\n",
    "!python ../nb2sln.py Concepts_in_Network_Theory.ipynb"
   ]
  },
  {
   "cell_type": "code",
   "execution_count": null,
   "metadata": {},
   "outputs": [],
   "source": []
  }
 ],
 "metadata": {
  "kernelspec": {
   "display_name": "CBM101",
   "language": "python",
   "name": "cbm101"
  },
  "language_info": {
   "codemirror_mode": {
    "name": "ipython",
    "version": 3
   },
   "file_extension": ".py",
   "mimetype": "text/x-python",
   "name": "python",
   "nbconvert_exporter": "python",
   "pygments_lexer": "ipython3",
   "version": "3.7.6"
  }
 },
 "nbformat": 4,
 "nbformat_minor": 2
}
