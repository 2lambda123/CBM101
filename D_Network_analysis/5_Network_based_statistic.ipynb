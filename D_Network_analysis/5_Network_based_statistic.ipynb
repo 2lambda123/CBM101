{
 "cells": [
  {
   "cell_type": "markdown",
   "metadata": {},
   "source": [
    "##  Network based statistic (NBS)\n",
    "Performing statistical tests on graphs"
   ]
  },
  {
   "cell_type": "markdown",
   "metadata": {},
   "source": [
    "[The original paper](https://www.sciencedirect.com/science/article/abs/pii/S1053811910008852)\n",
    "\n",
    "Network based statistic is a permutation test (non-parametric) to assess whether networks are different, and elegantly solves the problem of multiple testing compared to doing multiparametric t-tests, thereby increasing statistical power (i.e. higher sensitivity) - the ability to correctly identify true positives. It is based on identifying the size of the largest connected component of a graph (at various thresholds), and doing a simple permutation test on this value.\n",
    "\n",
    "### Pros and cons of NBS\n",
    "\n",
    "**Pros**\n",
    "* It let's you easily test hypotheses about group differences in networks (e.g. connectomes between sick and healthy).\n",
    "* There is no hard math\n",
    "* It deals naturally with graph structures\n",
    "\n",
    "**Cons**\n",
    "* It is hard to interpret what the difference actually is\n",
    "* There is no obvious \"right\" value for the threshold (kappa)\n",
    "* It is computationally heavy (like all permutation tests)\n",
    "\n",
    "\n",
    "It works as follows: Choose a binary threshold kappa, and calculate the \n",
    "size of the largest connected component. This is your statistic, theta.\n",
    "\n",
    "Now, randomly reassign the labels (i.e. sick vs healthy) to each graph,\n",
    "and recalculate the LCC. Repeat N times (e.g.N=1000). This provides you\n",
    "with a null distribution, which can be plotted in a histogram. \n",
    "Finally compare the test statistic theta to the distribution, to \n",
    "see if it deviates from the null distribution. \n",
    "\n",
    "If the difference reaches significance, we can be assured that \n",
    "there is a difference between the two experimental groups.\n",
    "\n",
    "Tip: do the test at multiple threshold levels (kappa).\n"
   ]
  },
  {
   "cell_type": "code",
   "execution_count": 16,
   "metadata": {},
   "outputs": [],
   "source": [
    "%reload_ext autoreload\n",
    "%autoreload 2\n",
    "%matplotlib inline"
   ]
  },
  {
   "cell_type": "code",
   "execution_count": 4,
   "metadata": {},
   "outputs": [],
   "source": [
    "import numpy as np\n",
    "import sys"
   ]
  },
  {
   "cell_type": "code",
   "execution_count": 8,
   "metadata": {},
   "outputs": [
    {
     "data": {
      "text/plain": [
       "'C:\\\\Users\\\\Peder\\\\Anaconda3\\\\envs\\\\cbm101\\\\python.exe'"
      ]
     },
     "execution_count": 8,
     "metadata": {},
     "output_type": "execute_result"
    }
   ],
   "source": [
    "sys.executable"
   ]
  },
  {
   "cell_type": "markdown",
   "metadata": {},
   "source": [
    "NBS is implemented in the Brain Connectivity Toolbox for Python `bctpy`. If you don't have it already installed, uncomment and run the cell below."
   ]
  },
  {
   "cell_type": "code",
   "execution_count": 11,
   "metadata": {},
   "outputs": [
    {
     "name": "stdout",
     "output_type": "stream",
     "text": [
      "Collecting bctpy\n",
      "  Using cached https://files.pythonhosted.org/packages/8e/56/e0505aeae481d5a5f780dccad3126fda1cab69532fdd6ca2a6280c309e63/bctpy-0.5.0.tar.gz\n",
      "Building wheels for collected packages: bctpy\n",
      "  Building wheel for bctpy (setup.py): started\n",
      "  Building wheel for bctpy (setup.py): finished with status 'done'\n",
      "  Created wheel for bctpy: filename=bctpy-0.5.0-cp37-none-any.whl size=76645 sha256=6e7f0e964e94a6f5fa4e3073d2bf45a1b1927521782edcfb5dc39fa61d2ce701\n",
      "  Stored in directory: C:\\Users\\Peder\\AppData\\Local\\pip\\Cache\\wheels\\22\\83\\31\\bf64fd3cfc2034ca09ae97cc3621a583f155597260aa33dab3\n",
      "Successfully built bctpy\n",
      "Installing collected packages: bctpy\n",
      "Successfully installed bctpy-0.5.0\n"
     ]
    }
   ],
   "source": [
    "#!{sys.executable} -m pip install bctpy"
   ]
  },
  {
   "cell_type": "code",
   "execution_count": 17,
   "metadata": {},
   "outputs": [
    {
     "name": "stdout",
     "output_type": "stream",
     "text": [
      "# packages in environment at C:\\Users\\Peder\\Anaconda3\\envs\\cbm101:\n",
      "#\n",
      "# Name                    Version                   Build  Channel\n",
      "bctpy                     0.5.0                    pypi_0    pypi\n"
     ]
    }
   ],
   "source": [
    "!conda list bctpy"
   ]
  },
  {
   "cell_type": "code",
   "execution_count": 21,
   "metadata": {},
   "outputs": [],
   "source": [
    "import bct\n",
    "from bct import nbs"
   ]
  },
  {
   "cell_type": "code",
   "execution_count": 54,
   "metadata": {},
   "outputs": [],
   "source": [
    "from numpy.linalg import norm\n",
    "from sklearn.preprocessing import MinMaxScaler as scaler"
   ]
  },
  {
   "cell_type": "code",
   "execution_count": 57,
   "metadata": {},
   "outputs": [],
   "source": [
    "all_subjects = np.random.rand(15,15,50) # N=50, nodes=15\n",
    "group1 = all_subjects[:,:,:25]\n",
    "group2 = all_subjects[:,:,25:]"
   ]
  },
  {
   "cell_type": "code",
   "execution_count": 58,
   "metadata": {},
   "outputs": [],
   "source": [
    "from matplotlib import pyplot as plt"
   ]
  },
  {
   "cell_type": "code",
   "execution_count": 68,
   "metadata": {},
   "outputs": [
    {
     "data": {
      "text/plain": [
       "<matplotlib.colorbar.Colorbar at 0x1420860f7c8>"
      ]
     },
     "execution_count": 68,
     "metadata": {},
     "output_type": "execute_result"
    },
    {
     "data": {
      "image/png": "[encoded data removed]",
      "text/plain": [
       "<Figure size 432x288 with 2 Axes>"
      ]
     },
     "metadata": {
      "needs_background": "light"
     },
     "output_type": "display_data"
    }
   ],
   "source": [
    "sub0 = group1[:,:,0] \n",
    "plt.imshow(sub0, cmap=plt.cm.Reds, vmin=0, vmax=1)\n",
    "plt.colorbar()"
   ]
  },
  {
   "cell_type": "markdown",
   "metadata": {},
   "source": [
    "Since we drew both groups out of the same population `all_subjects`, there should be no group difference between the two."
   ]
  },
  {
   "cell_type": "code",
   "execution_count": 78,
   "metadata": {},
   "outputs": [
    {
     "name": "stdout",
     "output_type": "stream",
     "text": [
      "max component size is 49\n",
      "estimating null distribution with 1000 permutations\n",
      "permutation 0 of 1000.  p-value so far is 1.000\n",
      "permutation 100 of 1000.  p-value so far is 0.297\n",
      "permutation 200 of 1000.  p-value so far is 0.224\n",
      "permutation 300 of 1000.  p-value so far is 0.243\n",
      "permutation 400 of 1000.  p-value so far is 0.229\n",
      "permutation 500 of 1000.  p-value so far is 0.220\n",
      "permutation 600 of 1000.  p-value so far is 0.206\n",
      "permutation 700 of 1000.  p-value so far is 0.211\n",
      "permutation 800 of 1000.  p-value so far is 0.212\n",
      "permutation 900 of 1000.  p-value so far is 0.212\n",
      "permutation 999 of 1000.  p-value so far is 0.222\n"
     ]
    }
   ],
   "source": [
    "kappa = 0.8 # just keep weights stronger than 0.8 \n",
    "pval, adj, null = nbs.nbs_bct(group1, group2, kappa)"
   ]
  },
  {
   "cell_type": "code",
   "execution_count": 79,
   "metadata": {},
   "outputs": [
    {
     "data": {
      "text/plain": [
       "<matplotlib.lines.Line2D at 0x142094bc488>"
      ]
     },
     "execution_count": 79,
     "metadata": {},
     "output_type": "execute_result"
    },
    {
     "data": {
      "image/png": "[encoded data removed]",
      "text/plain": [
       "<Figure size 432x288 with 1 Axes>"
      ]
     },
     "metadata": {
      "needs_background": "light"
     },
     "output_type": "display_data"
    }
   ],
   "source": [
    "plt.hist(null, bins=20)\n",
    "plt.axvline(49, c='red', )"
   ]
  },
  {
   "cell_type": "markdown",
   "metadata": {},
   "source": [
    "**Conclusion:** the test statistic is well within the expected range under the null hypothesis, so we have no reason to assume a group difference."
   ]
  },
  {
   "cell_type": "code",
   "execution_count": null,
   "metadata": {},
   "outputs": [],
   "source": []
  }
 ],
 "metadata": {
  "kernelspec": {
   "display_name": "CBM101",
   "language": "python",
   "name": "cbm101"
  },
  "language_info": {
   "codemirror_mode": {
    "name": "ipython",
    "version": 3
   },
   "file_extension": ".py",
   "mimetype": "text/x-python",
   "name": "python",
   "nbconvert_exporter": "python",
   "pygments_lexer": "ipython3",
   "version": "3.7.6"
  }
 },
 "nbformat": 4,
 "nbformat_minor": 2
}
