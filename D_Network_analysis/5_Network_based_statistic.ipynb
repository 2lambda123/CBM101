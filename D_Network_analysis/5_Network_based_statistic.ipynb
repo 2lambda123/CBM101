{
 "cells": [
  {
   "cell_type": "markdown",
   "metadata": {},
   "source": [
    "#  Network based statistic (NBS)\n",
    "Performing statistical tests on networks."
   ]
  },
  {
   "cell_type": "markdown",
   "metadata": {},
   "source": [
    "## The concept behind NBS\n",
    "\n",
    "Network-based statistic is a non-parametric permutation test used to assess whether the connectomes of two populations are different."
   ]
  },
  {
   "cell_type": "markdown",
   "metadata": {},
   "source": [
    "#### What is a permutation test?\n",
    "The basic idea of a permutation test is to compute a test-statistic from the data, then randomly shuffle the labels (e.g. sick versus patient), and repeat the procedure a large number of times to get the null distribution. If the first test-statistic significantly differs from the expected null distribution, we likely have a population difference.\n",
    "\n",
    "[The original paper](https://www.sciencedirect.com/science/article/abs/pii/S1053811910008852)\n"
   ]
  },
  {
   "cell_type": "markdown",
   "metadata": {},
   "source": [
    "__The steps of NBS are straight forward:__\n",
    "\n",
    "1. For each edge of the network, perform a statistical test (two-sided t-test) for whether it is different between the two populations. This yields a single number for each edge.\n",
    "\n",
    "\n",
    "2. Construct a pseudo-network where the above t-stats are used as the edges of the pseudo-network. The resulting graph can be thought of the \"difference network\" between the two populations.\n",
    "\n",
    "\n",
    "2. Choose a threshold (usually you try multiple) and discard all the weights weaker than this threshold in the pseudo-network. This results in a fragmented network with components of variable size. Identify the largest connected component and write down its size (number of edges).\n",
    "\n",
    "\n",
    "3. Identify the LARGEST connected component and write down its size (number of edges). This is your test-statistic. \n",
    "\n",
    "\n",
    "4. Randomly reassign the participants, and repeat step 1-3 *K* times (usually *K=1000*). Check for significance.\n",
    "\n",
    "\n",
    "This image reviews the steps in a single iteration to compute the test statistic.\n",
    "<img src=\"assets/nbs.png\" alt=\"nbs steps\" title=\"NBS steps\" />"
   ]
  },
  {
   "cell_type": "code",
   "execution_count": 1,
   "metadata": {},
   "outputs": [],
   "source": [
    "%reload_ext autoreload\n",
    "%autoreload 2\n",
    "%matplotlib inline"
   ]
  },
  {
   "cell_type": "code",
   "execution_count": 41,
   "metadata": {},
   "outputs": [],
   "source": [
    "import numpy as np\n",
    "import sys\n",
    "import os"
   ]
  },
  {
   "cell_type": "code",
   "execution_count": 3,
   "metadata": {},
   "outputs": [
    {
     "data": {
      "text/plain": [
       "'C:\\\\Users\\\\Peder\\\\Anaconda3\\\\envs\\\\cbm101\\\\python.exe'"
      ]
     },
     "execution_count": 3,
     "metadata": {},
     "output_type": "execute_result"
    }
   ],
   "source": [
    "sys.executable"
   ]
  },
  {
   "cell_type": "markdown",
   "metadata": {},
   "source": [
    "NBS is implemented in the Brain Connectivity Toolbox for Python `bctpy`. If you don't have it already installed, uncomment and run the cell below."
   ]
  },
  {
   "cell_type": "code",
   "execution_count": 11,
   "metadata": {},
   "outputs": [
    {
     "name": "stdout",
     "output_type": "stream",
     "text": [
      "Collecting bctpy\n",
      "  Using cached https://files.pythonhosted.org/packages/8e/56/e0505aeae481d5a5f780dccad3126fda1cab69532fdd6ca2a6280c309e63/bctpy-0.5.0.tar.gz\n",
      "Building wheels for collected packages: bctpy\n",
      "  Building wheel for bctpy (setup.py): started\n",
      "  Building wheel for bctpy (setup.py): finished with status 'done'\n",
      "  Created wheel for bctpy: filename=bctpy-0.5.0-cp37-none-any.whl size=76645 sha256=6e7f0e964e94a6f5fa4e3073d2bf45a1b1927521782edcfb5dc39fa61d2ce701\n",
      "  Stored in directory: C:\\Users\\Peder\\AppData\\Local\\pip\\Cache\\wheels\\22\\83\\31\\bf64fd3cfc2034ca09ae97cc3621a583f155597260aa33dab3\n",
      "Successfully built bctpy\n",
      "Installing collected packages: bctpy\n",
      "Successfully installed bctpy-0.5.0\n"
     ]
    }
   ],
   "source": [
    "#!{sys.executable} -m pip install bctpy"
   ]
  },
  {
   "cell_type": "code",
   "execution_count": 4,
   "metadata": {},
   "outputs": [
    {
     "name": "stdout",
     "output_type": "stream",
     "text": [
      "# packages in environment at C:\\Users\\Peder\\Anaconda3\\envs\\cbm101:\n",
      "#\n",
      "# Name                    Version                   Build  Channel\n",
      "bctpy                     0.5.0                    pypi_0    pypi\n"
     ]
    }
   ],
   "source": [
    "!conda list bctpy"
   ]
  },
  {
   "cell_type": "code",
   "execution_count": 163,
   "metadata": {},
   "outputs": [],
   "source": [
    "import bct\n",
    "from bct import nbs"
   ]
  },
  {
   "cell_type": "code",
   "execution_count": 6,
   "metadata": {},
   "outputs": [],
   "source": [
    "from numpy.linalg import norm\n",
    "from sklearn.preprocessing import MinMaxScaler as scaler"
   ]
  },
  {
   "cell_type": "code",
   "execution_count": 7,
   "metadata": {},
   "outputs": [],
   "source": [
    "all_subjects = np.random.rand(15,15,50) # N=50, nodes=15\n",
    "group1 = all_subjects[:,:,:25]\n",
    "group2 = all_subjects[:,:,25:]"
   ]
  },
  {
   "cell_type": "code",
   "execution_count": 164,
   "metadata": {},
   "outputs": [],
   "source": [
    "from matplotlib import pyplot as plt"
   ]
  },
  {
   "cell_type": "code",
   "execution_count": 9,
   "metadata": {},
   "outputs": [
    {
     "data": {
      "text/plain": [
       "<matplotlib.colorbar.Colorbar at 0x1dcfa1704c8>"
      ]
     },
     "execution_count": 9,
     "metadata": {},
     "output_type": "execute_result"
    },
    {
     "data": {
      "image/png": "[encoded data removed]",
      "text/plain": [
       "<Figure size 432x288 with 2 Axes>"
      ]
     },
     "metadata": {
      "needs_background": "light"
     },
     "output_type": "display_data"
    }
   ],
   "source": [
    "sub0 = group1[:,:,0] \n",
    "plt.imshow(sub0, cmap=plt.cm.Reds, vmin=0, vmax=1)\n",
    "plt.colorbar()"
   ]
  },
  {
   "cell_type": "markdown",
   "metadata": {},
   "source": [
    "Since we drew both groups out of the same population `all_subjects`, there should be no group difference between the two."
   ]
  },
  {
   "cell_type": "code",
   "execution_count": 180,
   "metadata": {},
   "outputs": [],
   "source": [
    "def do_nbs(g1, g2, kappa=0.8, plot=True):\n",
    "    pval, adj, null = nbs.nbs_bct(g1, g2, kappa)\n",
    "    if plot:\n",
    "        plt.hist(null, bins=20); plt.show()\n",
    "    return pval, adj, null"
   ]
  },
  {
   "cell_type": "code",
   "execution_count": 79,
   "metadata": {
    "scrolled": true
   },
   "outputs": [
    {
     "data": {
      "text/plain": [
       "<matplotlib.lines.Line2D at 0x142094bc488>"
      ]
     },
     "execution_count": 79,
     "metadata": {},
     "output_type": "execute_result"
    },
    {
     "data": {
      "image/png": "[encoded data removed]",
      "text/plain": [
       "<Figure size 432x288 with 1 Axes>"
      ]
     },
     "metadata": {
      "needs_background": "light"
     },
     "output_type": "display_data"
    }
   ],
   "source": [
    "plt.hist(null, bins=20)\n",
    "plt.axvline(49, c='red', )"
   ]
  },
  {
   "cell_type": "markdown",
   "metadata": {},
   "source": [
    "**Conclusion:** the test statistic is well within the expected range under the null hypothesis, so we have no reason to assume a group difference. This is expected because we drew both groups from the same simulated population. Next we can use a real dataset from the Human Connectome Project (HCP1200) with some behavioural data to see if we have a difference based on certain traits."
   ]
  },
  {
   "cell_type": "markdown",
   "metadata": {},
   "source": [
    "### ABIDE"
   ]
  },
  {
   "cell_type": "code",
   "execution_count": null,
   "metadata": {},
   "outputs": [],
   "source": []
  },
  {
   "cell_type": "code",
   "execution_count": 195,
   "metadata": {},
   "outputs": [],
   "source": [
    "##### Download\n",
    "#from nilearn import datasets\n",
    "#yeo = datasets.fetch_atlas_yeo_2011()\n",
    "#\n",
    "#autism = datasets.fetch_abide_pcp(n_subjects=20, DX_GROUP=1)\n",
    "#control = datasets.fetch_abide_pcp(n_subjects=20, DX_GROUP=2)\n",
    "#\n",
    "#from nilearn.input_data import NiftiLabelsMasker\n",
    "#from nilearn.connectome import ConnectivityMeasure\n",
    "#\n",
    "#masker = NiftiLabelsMasker(labels_img = yeo['thick_17'], standardize=True,\n",
    "#                           memory='nilearn_cache')\n",
    "#measure = ConnectivityMeasure(kind='correlation')\n",
    "#\n",
    "#ts_au=[]\n",
    "#for func in autism.func_preproc:\n",
    "#    ts_au.append(masker.fit_transform(func))\n",
    "#\n",
    "#ts_hc=[]\n",
    "#for func in control.func_preproc:\n",
    "#    ts_hc.append(masker.fit_transform(func))\n",
    "#\n",
    "#    \n",
    "#corr_au = measure.fit_transform(ts_au)\n",
    "#corr_hc = measure.fit_transform(ts_hc)\n",
    "#\n",
    "#for i, m in enumerate(corr_au):\n",
    "#    fn = f\"abide_au{i+101}.txt\"\n",
    "#    np.savetxt(fn, m)\n",
    "#    \n",
    "#for i, m in enumerate(corr_hc):\n",
    "#    fn = f\"abide_hc{i+101}.txt\"\n",
    "#    np.savetxt(fn, m)\n"
   ]
  },
  {
   "cell_type": "code",
   "execution_count": 201,
   "metadata": {},
   "outputs": [],
   "source": [
    "datapath = 'data/abide'"
   ]
  },
  {
   "cell_type": "code",
   "execution_count": 208,
   "metadata": {},
   "outputs": [
    {
     "data": {
      "text/plain": [
       "['abide_au101.txt', 'abide_au102.txt', 'abide_au103.txt', 'abide_au104.txt', 'abide_au105.txt', 'abide_au106.txt', 'abide_au107.txt', 'abide_au108.txt', 'abide_au109.txt', 'abide_au110.txt', 'abide_au111.txt', 'abide_au112.txt', 'abide_au113.txt', 'abide_au114.txt', 'abide_au115.txt', 'abide_au116.txt', 'abide_au117.txt', 'abide_au118.txt', 'abide_au119.txt', 'abide_au120.txt', 'abide_hc101.txt', 'abide_hc102.txt', 'abide_hc103.txt', 'abide_hc104.txt', 'abide_hc105.txt', 'abide_hc106.txt', 'abide_hc107.txt', 'abide_hc108.txt', 'abide_hc109.txt', 'abide_hc110.txt', 'abide_hc111.txt', 'abide_hc112.txt', 'abide_hc113.txt', 'abide_hc114.txt', 'abide_hc115.txt', 'abide_hc116.txt', 'abide_hc117.txt', 'abide_hc118.txt', 'abide_hc119.txt', 'abide_hc120.txt']"
      ]
     },
     "execution_count": 208,
     "metadata": {},
     "output_type": "execute_result"
    }
   ],
   "source": [
    "mats = [np.loadtxt(fn) for fn in os.scandir(path=datapath) if fn.name.startswith('abide')]\n",
    "[fn.name for fn in os.scandir(datapath)]"
   ]
  },
  {
   "cell_type": "code",
   "execution_count": 205,
   "metadata": {},
   "outputs": [],
   "source": [
    "X = np.array(mats)\n",
    "y = np.array(['au']*20 + ['hc']*20)"
   ]
  },
  {
   "cell_type": "code",
   "execution_count": 209,
   "metadata": {},
   "outputs": [
    {
     "data": {
      "text/plain": [
       "array([ True,  True,  True,  True,  True,  True,  True,  True,  True,\n",
       "        True,  True,  True,  True,  True,  True,  True,  True,  True,\n",
       "        True,  True, False, False, False, False, False, False, False,\n",
       "       False, False, False, False, False, False, False, False, False,\n",
       "       False, False, False, False])"
      ]
     },
     "execution_count": 209,
     "metadata": {},
     "output_type": "execute_result"
    }
   ],
   "source": [
    "y==['au']"
   ]
  },
  {
   "cell_type": "code",
   "execution_count": 210,
   "metadata": {},
   "outputs": [
    {
     "name": "stdout",
     "output_type": "stream",
     "text": [
      "(40,)\n",
      "(40, 17, 17)\n"
     ]
    }
   ],
   "source": [
    "print(y.shape); print(X.shape)"
   ]
  },
  {
   "cell_type": "code",
   "execution_count": 211,
   "metadata": {},
   "outputs": [],
   "source": [
    "au = X[y=='au',:]\n",
    "hc = X[y=='hc',:]"
   ]
  },
  {
   "cell_type": "code",
   "execution_count": 212,
   "metadata": {},
   "outputs": [
    {
     "data": {
      "text/plain": [
       "(17, 17, 20)"
      ]
     },
     "execution_count": 212,
     "metadata": {},
     "output_type": "execute_result"
    }
   ],
   "source": [
    "au.T.shape"
   ]
  },
  {
   "cell_type": "code",
   "execution_count": null,
   "metadata": {},
   "outputs": [],
   "source": []
  },
  {
   "cell_type": "code",
   "execution_count": 213,
   "metadata": {},
   "outputs": [
    {
     "name": "stdout",
     "output_type": "stream",
     "text": [
      "max component size is 36\n",
      "estimating null distribution with 1000 permutations\n",
      "permutation 0 of 1000.  p-value so far is 1.000\n",
      "permutation 100 of 1000.  p-value so far is 0.861\n",
      "permutation 200 of 1000.  p-value so far is 0.831\n",
      "permutation 300 of 1000.  p-value so far is 0.811\n",
      "permutation 400 of 1000.  p-value so far is 0.823\n",
      "permutation 500 of 1000.  p-value so far is 0.820\n",
      "permutation 600 of 1000.  p-value so far is 0.807\n",
      "permutation 700 of 1000.  p-value so far is 0.805\n",
      "permutation 800 of 1000.  p-value so far is 0.804\n",
      "permutation 900 of 1000.  p-value so far is 0.804\n",
      "permutation 999 of 1000.  p-value so far is 0.799\n"
     ]
    }
   ],
   "source": [
    "kappa = 0.8 # just keep weights stronger than 0.8 \n",
    "pval, adj, null = nbs.nbs_bct(au.T, hc.T, kappa)"
   ]
  },
  {
   "cell_type": "code",
   "execution_count": 215,
   "metadata": {},
   "outputs": [
    {
     "name": "stdout",
     "output_type": "stream",
     "text": [
      "max component size is 110\n",
      "estimating null distribution with 1000 permutations\n",
      "permutation 0 of 1000.  p-value so far is 0.000\n",
      "permutation 100 of 1000.  p-value so far is 0.337\n",
      "permutation 200 of 1000.  p-value so far is 0.363\n",
      "permutation 300 of 1000.  p-value so far is 0.339\n",
      "permutation 400 of 1000.  p-value so far is 0.364\n",
      "permutation 500 of 1000.  p-value so far is 0.365\n",
      "permutation 600 of 1000.  p-value so far is 0.359\n",
      "permutation 700 of 1000.  p-value so far is 0.358\n",
      "permutation 800 of 1000.  p-value so far is 0.357\n",
      "permutation 900 of 1000.  p-value so far is 0.364\n",
      "permutation 999 of 1000.  p-value so far is 0.359\n"
     ]
    },
    {
     "data": {
      "image/png": "[encoded data removed]",
      "text/plain": [
       "<Figure size 432x288 with 1 Axes>"
      ]
     },
     "metadata": {
      "needs_background": "light"
     },
     "output_type": "display_data"
    },
    {
     "name": "stdout",
     "output_type": "stream",
     "text": [
      "[0.359]\n"
     ]
    }
   ],
   "source": [
    "pval, adj, null = do_nbs(au.T, hc.T, kappa=0.3)\n",
    "print(pval)"
   ]
  },
  {
   "cell_type": "code",
   "execution_count": 217,
   "metadata": {},
   "outputs": [
    {
     "data": {
      "text/plain": [
       "<matplotlib.lines.Line2D object at 0x00000219075911C8>"
      ]
     },
     "execution_count": 217,
     "metadata": {},
     "output_type": "execute_result"
    },
    {
     "data": {
      "image/png": "[encoded data removed]",
      "text/plain": [
       "<Figure size 432x288 with 1 Axes>"
      ]
     },
     "metadata": {
      "needs_background": "light"
     },
     "output_type": "display_data"
    }
   ],
   "source": [
    "plt.hist(null)\n",
    "plt.axvline(110, c='red')"
   ]
  },
  {
   "cell_type": "markdown",
   "metadata": {},
   "source": [
    "We could find no significant difference in the connectome between those with ADHD and controls with this setup. This is not surprising, when we are using only 17 regions, a pretty rough parcellation."
   ]
  },
  {
   "cell_type": "code",
   "execution_count": null,
   "metadata": {},
   "outputs": [],
   "source": []
  },
  {
   "cell_type": "markdown",
   "metadata": {},
   "source": [
    "## Pros and cons of NBS\n",
    "\n",
    "**Pros**\n",
    "* It let's you easily test hypotheses about group differences in networks (e.g. connectomes between sick and healthy).\n",
    "* You can identify edges disturbed by disease\n",
    "\n",
    "* There is no difficult math (non-parametric)\n",
    "* It deals naturally with the graph structure\n",
    "- it increases statistical power compared to other multiple testing\n",
    "\n",
    "**Cons**\n",
    "* It is hard to interpret what the difference actually is\n",
    "* There is no obvious \"right\" value for the threshold (kappa)\n",
    "* It is computationally heavy (like all permutation tests)\n",
    "\n",
    "\n",
    "It works as follows: Choose a binary threshold kappa, and calculate the \n",
    "size of the largest connected component. This is your statistic, theta.\n",
    "\n",
    "Now, randomly reassign the labels (i.e. sick vs healthy) to each graph,\n",
    "and recalculate the LCC. Repeat N times (e.g.N=1000). This provides you\n",
    "with a null distribution, which can be plotted in a histogram. \n",
    "Finally compare the test statistic theta to the distribution, to \n",
    "see if it deviates from the null distribution. \n",
    "\n",
    "If the difference reaches significance, we can be assured that \n",
    "there is a difference between the two experimental groups.\n",
    "\n",
    "Tip: do the test at multiple threshold levels (kappa).\n"
   ]
  },
  {
   "cell_type": "code",
   "execution_count": null,
   "metadata": {},
   "outputs": [],
   "source": []
  }
 ],
 "metadata": {
  "kernelspec": {
   "display_name": "CBM101",
   "language": "python",
   "name": "cbm101"
  },
  "language_info": {
   "codemirror_mode": {
    "name": "ipython",
    "version": 3
   },
   "file_extension": ".py",
   "mimetype": "text/x-python",
   "name": "python",
   "nbconvert_exporter": "python",
   "pygments_lexer": "ipython3",
   "version": "3.7.6"
  }
 },
 "nbformat": 4,
 "nbformat_minor": 2
}
