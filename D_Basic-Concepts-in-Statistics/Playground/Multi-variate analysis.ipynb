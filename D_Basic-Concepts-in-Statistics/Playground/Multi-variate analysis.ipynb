{
 "cells": [
  {
   "cell_type": "markdown",
   "metadata": {},
   "source": [
    "# Multi-variate analysis\n",
    "\n",
    "Including principal component analysis and cluster analysis\n"
   ]
  },
  {
   "cell_type": "markdown",
   "metadata": {},
   "source": [
    "## Installation of libraries and necessary software\n",
    "\n",
    "Copy the files _ExampleFile.csv_ and _FcmClustPEst.R_ into the folder that contains this jupyter notebook or upload them to http://localhost:8888/tree\n",
    "\n",
    "Install the necessary libraries (only needed once) by executing (shift-enter) the following cell:\n"
   ]
  },
  {
   "cell_type": "code",
   "execution_count": null,
   "metadata": {},
   "outputs": [],
   "source": [
    "install.packages(\"DAAG\", repos='http://cran.us.r-project.org')\n",
    "install.packages(\"MASS\", repos='http://cran.us.r-project.org')\n",
    "if (!requireNamespace(\"BiocManager\", quietly = TRUE))\n",
    "    install.packages(\"BiocManager\")\n",
    "BiocManager::install(\"Biobase\")\n",
    "install.packages(\"e1071\", repos='http://cran.us.r-project.org')\n",
    "install.packages(\"matrixStats\", repos='http://cran.us.r-project.org')"
   ]
  },
  {
   "cell_type": "markdown",
   "metadata": {},
   "source": [
    "## Loading data and libraries\n",
    "This requires that the installation above has been finished without error"
   ]
  },
  {
   "cell_type": "code",
   "execution_count": null,
   "metadata": {},
   "outputs": [],
   "source": [
    "library(DAAG)\n",
    "library(MASS)\n",
    "library(Biobase)\n",
    "library(e1071)\n",
    "library(matrixStats)\n",
    "\n",
    "# load data file (you need to place the file into the same folder)\n",
    "ExampleData <- read.csv(\"ExampleFile.csv\")\n",
    "source(\"FcmClustPEst.R\")\n",
    "\n",
    "\n",
    "\n",
    "\n",
    "\n"
   ]
  },
  {
   "cell_type": "markdown",
   "metadata": {},
   "source": [
    "### Exercise 1\n",
    "Carry out principal component analysis and linear discriminant analysis (using ```footlgth``` as discriminator) for the ```possum``` data. Rows with missing values need to be removed before. Plot the scores of the PCA with different colors for the locations the possums were trapped  (defined by ```site```). Compare the outcome to the scaling plot of the LDA.\n"
   ]
  },
  {
   "cell_type": "code",
   "execution_count": null,
   "metadata": {},
   "outputs": [],
   "source": [
    "data(possum)\n",
    "par(mfrow=c(1,2))\n",
    "A <- possum[,5:ncol(possum)]\n",
    "## Principal component analysis\n",
    "#table(rowSums(is.na(A)))\n",
    "## Number of rows without missing values\n",
    "sum(complete.cases(A))\n",
    "## data.frame without missing values\n",
    "A <- possum[complete.cases(possum),]\n",
    "B <- A[,5:ncol(possum)]\n",
    "## PCA ...\n",
    "\n",
    "## Linear discriminant analysis ...\n"
   ]
  },
  {
   "cell_type": "markdown",
   "metadata": {},
   "source": [
    "##### Question I:  <u>How many percent of the variance are already described by principal component 1?</u>\n",
    "\n",
    "_Answer_\n",
    "\n",
    "##### Question II:  <u>Which are the most discriminating traits?</u>\n",
    "\n",
    "_Answer_\n",
    "\n",
    "##### Question III:  <u>Which sites (provide numbers) can be separated in the scoring plot of the PCA? And in the LDA?</u>\n",
    "\n",
    "_Answer_\n",
    "\n",
    "##### Question IV:  <u>What would you use in the linear discriminant analysis to get best separation?</u>\n",
    "\n",
    "_Answer_\n",
    "\n"
   ]
  },
  {
   "cell_type": "markdown",
   "metadata": {},
   "source": [
    "### Exercise 2\n",
    "Carry out hierarchical clustering, k-means and fuzzy c-means on ```geneData``` (both with 10 clusters).\n",
    "\n"
   ]
  },
  {
   "cell_type": "code",
   "execution_count": null,
   "metadata": {},
   "outputs": [],
   "source": [
    "data(\"geneData\")\n",
    "\n",
    "# heatmap here:\n",
    "\n",
    "# For the visualization copy the code from the script of the lecture\n",
    "kmean.out <- kmeans(geneData,10)\n",
    "cmeans.out <- cmeans(geneData, 10)\n"
   ]
  },
  {
   "cell_type": "markdown",
   "metadata": {},
   "source": [
    "##### Question I:  <u>Read the help describing ```geneData```. What does this dataset contain?</u>\n",
    "\n",
    "_Answer_\n",
    "\n",
    "##### Question II:  <u>Why should fuzzy c-means be superior to k-means?</u>\n",
    "\n",
    "_Answer_\n",
    "\n",
    "##### Question III:  <u>How many parameters are required for fuzzy c-means? How are they called?</u>\n",
    "\n",
    "_Answer_\n",
    "\n",
    "##### Question IV:  <u>Which difference do you see between all 3 clustering methods?</u>\n",
    "\n",
    "_Answer_\n",
    "\n",
    "##### Question V:  <u>What is a membership value?</u>\n",
    "\n",
    "_Answer_\n",
    "\n"
   ]
  },
  {
   "cell_type": "markdown",
   "metadata": {},
   "source": [
    "### Exercise 3\n",
    "Extract the columns 114-117 from _ExampleFile.csv_ and take the logarithm. Normalize the data to the median and apply the cluster analysis (all from last exercise) on the resulting data. The script might take a while to finish.\n",
    "\n",
    "The file contains quantitative data from a proteomics experiment. Each row corresponds to a \"peptide-spectrum match\", i.e. a spectrum for which a peptide sequence was assigned. Columns X114-X117 are the quantifications for 4 different biological samples.\n"
   ]
  },
  {
   "cell_type": "code",
   "execution_count": null,
   "metadata": {},
   "outputs": [],
   "source": [
    "# Show first lines of example file\n",
    "head(ExampleData)\n",
    "\n",
    "colnames(ExampleData)\n",
    "ExampleDataLog <- as.matrix(log2(ExampleData[,19:22]))\n",
    "\n",
    "# Normalization by median\n",
    "NormalizedData <- t(t(ExampleDataLog) - colMedians(ExampleDataLog,na.rm=T))\n",
    "\n",
    "# remove rows with missing values for kmeans and cmeans\n",
    "NormalizedRedData <- NormalizedData[complete.cases(NormalizedData),]\n",
    "\n",
    "# heatmap here\n",
    "\n",
    "\n",
    "# kmeans + cmeans (10 clusters)\n",
    "StandardizedData <- t(scale(t(NormalizedRedData)))\n",
    "\n"
   ]
  },
  {
   "cell_type": "markdown",
   "metadata": {},
   "source": [
    "##### Question I:  <u>What does the function colMedians give?</u>\n",
    "\n",
    "_Answer_\n",
    "\n",
    "##### Question II:  <u>What are the different protein accessions?</u>\n",
    "\n",
    "_Answer_\n",
    "\n",
    "##### Question III:  <u>Why do we need to take the logarithm?</u>\n",
    "\n",
    "_Answer_\n",
    "\n",
    "##### Question IV:  <u>How do we check whether the median normalization made sense?</u>\n",
    "\n",
    "_Answer_\n",
    "\n",
    "##### Question V:  <u>Which samples are most similar and how does this show?</u>\n",
    "\n",
    "_Answer_\n",
    "\n",
    "##### Question VI:  <u>Why do we have to _scale_ the data before using k-means and fuzzy c-means?</u>\n",
    "\n",
    "_Answer_\n",
    "\n"
   ]
  },
  {
   "cell_type": "markdown",
   "metadata": {},
   "source": [
    "### Exercise 4\n",
    "Carry out fuzzy c-means using the parameter estimation from the lecture on ```StandardizedData```. Compare the results to the ones in the exercise above."
   ]
  },
  {
   "cell_type": "code",
   "execution_count": null,
   "metadata": {},
   "outputs": [],
   "source": [
    "PExpr <- new(\"ExpressionSet\",expr=as.matrix(StandardizedData))\n",
    "parameters <- FcmClustPEst(PExpr)\n",
    "\n",
    "# fuzzy c-means clustering here:\n"
   ]
  },
  {
   "cell_type": "markdown",
   "metadata": {},
   "source": [
    "##### Question I:  <u>?</u>\n",
    "\n",
    "_Answer_\n",
    "\n"
   ]
  },
  {
   "cell_type": "code",
   "execution_count": null,
   "metadata": {},
   "outputs": [],
   "source": []
  },
  {
   "cell_type": "markdown",
   "metadata": {},
   "source": [
    "### Exercise 1\n",
    "TODO: simple hierarchical clustering on highly regulated data (VSClust metabolomics) and test different distance measures"
   ]
  },
  {
   "cell_type": "code",
   "execution_count": null,
   "metadata": {},
   "outputs": [],
   "source": []
  },
  {
   "cell_type": "markdown",
   "metadata": {},
   "source": [
    "##### Question I:  <u>?</u>\n",
    "\n",
    "_Answer_\n",
    "\n"
   ]
  }
 ],
 "metadata": {
  "kernelspec": {
   "display_name": "R",
   "language": "R",
   "name": "ir"
  },
  "language_info": {
   "codemirror_mode": "r",
   "file_extension": ".r",
   "mimetype": "text/x-r-source",
   "name": "R",
   "pygments_lexer": "r",
   "version": "3.5.3"
  }
 },
 "nbformat": 4,
 "nbformat_minor": 2
}
