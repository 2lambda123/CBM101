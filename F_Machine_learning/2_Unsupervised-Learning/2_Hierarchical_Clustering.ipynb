{
 "cells": [
  {
   "cell_type": "markdown",
   "metadata": {},
   "source": [
    "# Hierarchical clustering: Reconstructing evolutionary relationship between species"
   ]
  },
  {
   "cell_type": "markdown",
   "metadata": {},
   "source": [
    "Hierarchical clustering algorithms have a natural applicability for questions of \n",
    "\n",
    "\n",
    "Certain problems may arise  with inherent hierarchical structure and naturally lend themselves to hierarchical clustering. Ford and VolksWagen are cars, Boeing are planes, both planes and cars are motorized vehicles. Biological species is another great example: the tree of life is essentially a hierarchical heap of cluster, and modern reconstructions of evolutionary kinship is done using the basic technique you will learn here.  \n",
    "\n",
    "Once again we don't need labeled data, as hierarchical clustering is just another example of unsupervised learning."
   ]
  },
  {
   "cell_type": "code",
   "execution_count": 276,
   "metadata": {},
   "outputs": [],
   "source": [
    "import numpy as np\n",
    "from matplotlib import pyplot as plt\n",
    "\n",
    "from sklearn.datasets import make_blobs\n",
    "from scipy.cluster import hierarchy\n",
    "from scipy.spatial.distance import pdist"
   ]
  },
  {
   "cell_type": "markdown",
   "metadata": {},
   "source": [
    "## Basic concept\n",
    "Here we demonstrate the basic of hierarchical clustering using a random dataset. \n",
    "\n",
    "Provided N data points, we first have to find a measure of similarity or distance between each observation. For continuous vectors, this is just the distance between them in feature space.  "
   ]
  },
  {
   "cell_type": "code",
   "execution_count": 266,
   "metadata": {},
   "outputs": [],
   "source": [
    "# make a random data set. Scikit-learns make_blobs is a nice functionality.\n",
    "stds = [1.5, 1, .8]\n",
    "X, y = make_blobs(100, centers=3, random_state=11, cluster_std=stds)"
   ]
  },
  {
   "cell_type": "code",
   "execution_count": 267,
   "metadata": {},
   "outputs": [
    {
     "name": "stdout",
     "output_type": "stream",
     "text": [
      "The ground truth versus what the computer sees before any clustering has been done.\n"
     ]
    },
    {
     "data": {
      "image/png": "[encoded data removed]",
      "text/plain": [
       "<Figure size 864x432 with 2 Axes>"
      ]
     },
     "metadata": {
      "needs_background": "light"
     },
     "output_type": "display_data"
    }
   ],
   "source": [
    "print(\"The ground truth versus what the computer sees before any clustering has been done.\")\n",
    "\n",
    "plt.figure(figsize=(12,6))\n",
    "\n",
    "plt.subplot(121)\n",
    "plt.scatter(X[:,0], X[:,1], c = y)\n",
    "\n",
    "plt.subplot(122)\n",
    "plt.scatter(X[:,0], X[:,1])\n",
    "\n",
    "plt.show()"
   ]
  },
  {
   "cell_type": "markdown",
   "metadata": {},
   "source": [
    "We would expect the the 2 upper clusters to be closer related than the lower"
   ]
  },
  {
   "cell_type": "code",
   "execution_count": 268,
   "metadata": {},
   "outputs": [],
   "source": [
    "distance_matrix = pdist(X) #the pairwise distances between all points"
   ]
  },
  {
   "cell_type": "markdown",
   "metadata": {},
   "source": [
    "##### Exercise x.x: what is the shape of the distance matrix? Is it what you would expect?"
   ]
  },
  {
   "cell_type": "code",
   "execution_count": 269,
   "metadata": {},
   "outputs": [
    {
     "name": "stdout",
     "output_type": "stream",
     "text": [
      "(4950,)\n"
     ]
    }
   ],
   "source": [
    " print(distance_matrix.shape)\n",
    "#Instead of the expected 2D array (matrix), the distances are stored in a condensed\n",
    "# 1D array because distances are redundant (we get 2 for each pair).\n",
    "#How indexing works is dealt with behind the scenes.\n",
    "\n",
    "# the full matrix would have shape (100, 100). \n",
    "#(100**2 - 100)/2"
   ]
  },
  {
   "cell_type": "markdown",
   "metadata": {},
   "source": [
    "### Clustering\n",
    "\n",
    "We now have the distances. One strategy is **agglomerative** clustering: the individual observations  of them together to form small clusters. In the next round, these clusters can be grouped together with each other, which form even larger clusters. This process continues iteratively until all observations have the same root. There are many implementations of this. `linkage` from `scipy` is a fast and effective algorithm. How clusters combine to form new clusters is determined by the `method` argument."
   ]
  },
  {
   "cell_type": "code",
   "execution_count": 270,
   "metadata": {},
   "outputs": [
    {
     "data": {
      "text/plain": [
       "(99, 4)"
      ]
     },
     "execution_count": 270,
     "metadata": {},
     "output_type": "execute_result"
    }
   ],
   "source": [
    "# do the actual clustering using scipy's linkage\n",
    "\n",
    "Z = hierarchy.linkage(distance_matrix, method='complete') # single, complete, average\n",
    "\n",
    "t = 3 # number of clusters for the plot\n",
    "cluster_labels = hierarchy.fcluster(Z, t, criterion='maxclust')\n",
    "\n",
    "Z.shape"
   ]
  },
  {
   "cell_type": "code",
   "execution_count": 271,
   "metadata": {},
   "outputs": [
    {
     "data": {
      "text/plain": [
       "array([[1.20000000e+01, 1.60000000e+01, 4.17937590e-02, 2.00000000e+00],\n",
       "       [8.20000000e+01, 8.30000000e+01, 5.13771542e-02, 2.00000000e+00],\n",
       "       [7.40000000e+01, 8.00000000e+01, 6.48958345e-02, 2.00000000e+00],\n",
       "       [1.00000000e+00, 3.20000000e+01, 6.51479339e-02, 2.00000000e+00],\n",
       "       [2.80000000e+01, 5.00000000e+01, 6.63901058e-02, 2.00000000e+00]])"
      ]
     },
     "execution_count": 271,
     "metadata": {},
     "output_type": "execute_result"
    }
   ],
   "source": [
    "# rows = clusters\n",
    "# column1 and 2 = index of points/clusters\n",
    "# column3 = distance between them\n",
    "# column4 = how many observations in the cluster \n",
    "Z[:5]"
   ]
  },
  {
   "cell_type": "markdown",
   "metadata": {},
   "source": [
    "Let's inspect the two closest observations:"
   ]
  },
  {
   "cell_type": "code",
   "execution_count": 272,
   "metadata": {},
   "outputs": [
    {
     "name": "stdout",
     "output_type": "stream",
     "text": [
      "The closest points are at index\n"
     ]
    },
    {
     "data": {
      "text/plain": [
       "array([12, 16])"
      ]
     },
     "execution_count": 272,
     "metadata": {},
     "output_type": "execute_result"
    }
   ],
   "source": [
    "closest_points = Z[0][:2].astype(int)\n",
    "\n",
    "print('The closest points are at index')\n",
    "closest_points"
   ]
  },
  {
   "cell_type": "markdown",
   "metadata": {},
   "source": [
    "Let's plot it just to make sure"
   ]
  },
  {
   "cell_type": "code",
   "execution_count": 273,
   "metadata": {},
   "outputs": [
    {
     "name": "stdout",
     "output_type": "stream",
     "text": [
      "-7.305977885266081 -3.3059778852660813 -9.286887720189828 -5.286887720189828\n"
     ]
    },
    {
     "data": {
      "image/png": "[encoded data removed]",
      "text/plain": [
       "<Figure size 1152x432 with 2 Axes>"
      ]
     },
     "metadata": {
      "needs_background": "light"
     },
     "output_type": "display_data"
    }
   ],
   "source": [
    "from matplotlib.patches import Rectangle\n",
    "\n",
    "idxs=closest_points\n",
    "\n",
    "xmin, ymin, xmax, ymax = *(X[idxs[0]]-2), *(X[idxs[0]]+2)\n",
    "print(xmin, xmax, ymin, ymax)\n",
    "\n",
    "\n",
    "plt.figure(figsize=(16,6))\n",
    "ax =  plt.subplot(121)\n",
    "plt.scatter(X[:,0], X[:,1])\n",
    "plt.scatter(X[idxs,0], X[idxs,1], c=['m','y'])\n",
    "\n",
    "w, h = xmax-xmin, ymax-ymin\n",
    "bb = Rectangle((xmin, ymin), w, h, fill=False)\n",
    "ax.add_patch(bb)\n",
    "\n",
    "plt.subplot(122)\n",
    "plt.xlim(xmin, xmax)\n",
    "plt.ylim(ymin, ymax)\n",
    "plt.scatter(X[:,0], X[:,1])\n",
    "plt.scatter(X[idxs,0], X[idxs,1], c=['m','y'])\n",
    "\n",
    "plt.show()"
   ]
  },
  {
   "cell_type": "markdown",
   "metadata": {},
   "source": [
    "### Plot a dendrogram"
   ]
  },
  {
   "cell_type": "code",
   "execution_count": 274,
   "metadata": {},
   "outputs": [
    {
     "data": {
      "image/png": "[encoded data removed]",
      "text/plain": [
       "<Figure size 1152x432 with 2 Axes>"
      ]
     },
     "metadata": {
      "needs_background": "light"
     },
     "output_type": "display_data"
    }
   ],
   "source": [
    "# Plot single linkage\n",
    "plt.figure(figsize=(16,6))\n",
    "\n",
    "plt.subplot(121)\n",
    "hierarchy.dendrogram(Z) # plot dendrogram\n",
    "plt.title('Single linkage')\n",
    "\n",
    "plt.subplot(122)\n",
    "colors = plt.cm.nipy_spectral(cluster_labels.astype(float) / k)\n",
    "plt.scatter(X[:, 0], X[:, 1], marker='.', s=200, lw=0, alpha=0.7,\n",
    "                c=colors, edgecolor='k')\n",
    "\n",
    "# Plot complete linkage\n",
    "plt.show()"
   ]
  },
  {
   "cell_type": "markdown",
   "metadata": {},
   "source": [
    "### Problem: What is the distance between strings of letters (e.g. amino acid sequences)?"
   ]
  },
  {
   "cell_type": "markdown",
   "metadata": {},
   "source": [
    "### Answer: the Levenshtein distance\n",
    "\n",
    "An algorithm used specifically when the inputs are strings of letters (perfect for DNA or amino acids). We will not delve into the practicalities here, just know that it exists."
   ]
  },
  {
   "cell_type": "code",
   "execution_count": 281,
   "metadata": {},
   "outputs": [
    {
     "name": "stdout",
     "output_type": "stream",
     "text": [
      "11\n"
     ]
    }
   ],
   "source": [
    "# move this to functions.py\n",
    "# taken from https://www.python-course.eu/levenshtein_distance.php\n",
    "\n",
    "def levenshtein(s, t, **weight_dict):\n",
    "    \"\"\" \n",
    "        iterative_levenshtein(s, t) -> ldist\n",
    "        ldist is the Levenshtein distance between the strings \n",
    "        s and t.\n",
    "        For all i and j, dist[i,j] will contain the Levenshtein \n",
    "        distance between the first i characters of s and the \n",
    "        first j characters of t\n",
    "        \n",
    "        weight_dict: keyword parameters setting the costs for characters,\n",
    "                     the default value for a character will be 1\n",
    "    \"\"\"\n",
    "\n",
    "    rows = len(s)+1\n",
    "    cols = len(t)+1\n",
    "    \n",
    "    alphabet = \"abcdefghijklmnopqrstuvwxyz\"\n",
    "    w = dict( (x, (1, 1, 1)) for x in alphabet + alphabet.upper())\n",
    "    if weight_dict:\n",
    "        w.update(weight_dict)\n",
    "    \n",
    "    dist = [[0 for x in range(cols)] for x in range(rows)]\n",
    "\n",
    "    # source prefixes can be transformed into empty strings \n",
    "    # by deletions:\n",
    "    for row in range(1, rows):\n",
    "        dist[row][0] = dist[row-1][0] + w[s[row-1]][0]\n",
    "\n",
    "    # target prefixes can be created from an empty source string\n",
    "    # by inserting the characters\n",
    "    for col in range(1, cols):\n",
    "        dist[0][col] = dist[0][col-1] + w[t[col-1]][1]\n",
    "        \n",
    "    for col in range(1, cols):\n",
    "        for row in range(1, rows):\n",
    "            deletes = w[s[row-1]][0]\n",
    "            inserts = w[t[col-1]][1]\n",
    "            subs = max( (w[s[row-1]][2], w[t[col-1]][2]))\n",
    "            if s[row-1] == t[col-1]:\n",
    "                subs = 0\n",
    "            else:\n",
    "                subs = subs\n",
    "\n",
    "            dist[row][col] = min(dist[row-1][col] + deletes,\n",
    "                                 dist[row][col-1] + inserts,\n",
    "                                 dist[row-1][col-1] + subs) # substitution\n",
    "\n",
    "    #for r in range(rows):\n",
    "    #    print(dist[r])\n",
    "    \n",
    " \n",
    "    return dist[row][col]\n",
    "\n",
    "# default:\n",
    "print(levenshtein(\"abx\", \n",
    "                  \"xya\", \n",
    "                  x=(3, 2, 8),\n",
    "                  y=(4, 5, 4),\n",
    "                  a=(7, 6, 6)) )"
   ]
  },
  {
   "cell_type": "markdown",
   "metadata": {},
   "source": [
    "### Here we look at a short amino acid sequence found in various represants from phylogenetic groups and apply hierarchical clustering"
   ]
  },
  {
   "cell_type": "code",
   "execution_count": 283,
   "metadata": {
    "scrolled": false
   },
   "outputs": [
    {
     "name": "stdout",
     "output_type": "stream",
     "text": [
      "[0, 1, 2, 3, 4, 5, 6, 7]\n",
      "[1, 0, 1, 2, 3, 4, 5, 6]\n",
      "[2, 1, 0, 1, 2, 3, 4, 5]\n",
      "[3, 2, 1, 0, 1, 2, 3, 4]\n",
      "[4, 3, 2, 1, 0, 1, 2, 3]\n",
      "[5, 4, 3, 2, 1, 0, 1, 2]\n",
      "[6, 5, 4, 3, 2, 1, 0, 1]\n",
      "[7, 6, 5, 4, 3, 2, 1, 0]\n",
      "[0, 1, 2, 3, 4, 5, 6, 7]\n",
      "[1, 0, 1, 2, 3, 4, 5, 6]\n",
      "[2, 1, 0, 1, 2, 3, 4, 5]\n",
      "[3, 2, 1, 0, 1, 2, 3, 4]\n",
      "[4, 3, 2, 1, 1, 2, 3, 4]\n",
      "[5, 4, 3, 2, 1, 1, 2, 3]\n",
      "[6, 5, 4, 3, 2, 1, 1, 2]\n",
      "[7, 6, 5, 4, 3, 2, 1, 1]\n",
      "[0, 1, 2, 3, 4, 5, 6, 7]\n",
      "[1, 0, 1, 2, 3, 4, 5, 6]\n",
      "[2, 1, 1, 2, 2, 3, 4, 5]\n",
      "[3, 2, 2, 1, 2, 2, 3, 4]\n",
      "[4, 3, 3, 2, 1, 2, 3, 4]\n",
      "[5, 4, 4, 3, 2, 2, 2, 3]\n",
      "[6, 5, 5, 4, 3, 3, 2, 2]\n",
      "[7, 6, 6, 5, 4, 4, 3, 2]\n",
      "[0, 1, 2, 3, 4, 5, 6, 7]\n",
      "[1, 0, 1, 2, 3, 4, 5, 6]\n",
      "[2, 1, 1, 2, 3, 4, 5, 6]\n",
      "[3, 2, 2, 1, 2, 3, 4, 5]\n",
      "[4, 3, 3, 2, 2, 3, 4, 5]\n",
      "[5, 4, 4, 3, 2, 3, 4, 5]\n",
      "[6, 5, 5, 4, 3, 3, 4, 5]\n",
      "[7, 6, 6, 5, 4, 4, 4, 5]\n",
      "[0, 1, 2, 3, 4, 5, 6, 7]\n",
      "[1, 0, 1, 2, 3, 4, 5, 6]\n",
      "[2, 1, 1, 2, 3, 4, 5, 6]\n",
      "[3, 2, 2, 1, 2, 3, 4, 5]\n",
      "[4, 3, 3, 2, 2, 3, 4, 5]\n",
      "[5, 4, 4, 3, 2, 3, 4, 4]\n",
      "[6, 5, 5, 4, 3, 3, 4, 4]\n",
      "[7, 6, 6, 5, 4, 4, 4, 4]\n",
      "[0, 1, 2, 3, 4, 5, 6, 7]\n",
      "[1, 0, 1, 2, 3, 4, 5, 6]\n",
      "[2, 1, 1, 2, 3, 4, 4, 5]\n",
      "[3, 2, 2, 1, 2, 3, 4, 5]\n",
      "[4, 3, 3, 2, 2, 3, 3, 4]\n",
      "[5, 4, 4, 3, 2, 3, 4, 4]\n",
      "[6, 5, 5, 4, 3, 3, 4, 5]\n",
      "[7, 6, 6, 5, 4, 4, 4, 5]\n",
      "[0, 1, 2, 3, 4, 5, 6, 7]\n",
      "[1, 0, 1, 2, 3, 4, 5, 6]\n",
      "[2, 1, 1, 2, 3, 4, 5, 6]\n",
      "[3, 2, 2, 1, 2, 3, 4, 5]\n",
      "[4, 3, 3, 2, 2, 3, 4, 5]\n",
      "[5, 4, 4, 3, 2, 3, 4, 5]\n",
      "[6, 5, 5, 4, 3, 3, 4, 5]\n",
      "[7, 6, 6, 5, 4, 4, 4, 5]\n",
      " \n",
      " \n",
      "[0, 1, 2, 3, 4, 5, 6, 7]\n",
      "[1, 0, 1, 2, 3, 4, 5, 6]\n",
      "[2, 1, 0, 1, 2, 3, 4, 5]\n",
      "[3, 2, 1, 0, 1, 2, 3, 4]\n",
      "[4, 3, 2, 1, 1, 1, 2, 3]\n",
      "[5, 4, 3, 2, 2, 1, 1, 2]\n",
      "[6, 5, 4, 3, 3, 2, 1, 1]\n",
      "[7, 6, 5, 4, 4, 3, 2, 1]\n",
      "[0, 1, 2, 3, 4, 5, 6, 7]\n",
      "[1, 0, 1, 2, 3, 4, 5, 6]\n",
      "[2, 1, 0, 1, 2, 3, 4, 5]\n",
      "[3, 2, 1, 0, 1, 2, 3, 4]\n",
      "[4, 3, 2, 1, 0, 1, 2, 3]\n",
      "[5, 4, 3, 2, 1, 0, 1, 2]\n",
      "[6, 5, 4, 3, 2, 1, 0, 1]\n",
      "[7, 6, 5, 4, 3, 2, 1, 0]\n",
      "[0, 1, 2, 3, 4, 5, 6, 7]\n",
      "[1, 0, 1, 2, 3, 4, 5, 6]\n",
      "[2, 1, 1, 2, 2, 3, 4, 5]\n",
      "[3, 2, 2, 1, 2, 2, 3, 4]\n",
      "[4, 3, 3, 2, 2, 3, 2, 3]\n",
      "[5, 4, 4, 3, 3, 3, 3, 2]\n",
      "[6, 5, 5, 4, 4, 4, 3, 3]\n",
      "[7, 6, 6, 5, 5, 5, 4, 3]\n",
      "[0, 1, 2, 3, 4, 5, 6, 7]\n",
      "[1, 0, 1, 2, 3, 4, 5, 6]\n",
      "[2, 1, 1, 2, 3, 4, 5, 6]\n",
      "[3, 2, 2, 1, 2, 3, 4, 5]\n",
      "[4, 3, 3, 2, 1, 2, 3, 4]\n",
      "[5, 4, 4, 3, 2, 2, 3, 4]\n",
      "[6, 5, 5, 4, 3, 3, 3, 4]\n",
      "[7, 6, 6, 5, 4, 4, 4, 4]\n",
      "[0, 1, 2, 3, 4, 5, 6, 7]\n",
      "[1, 0, 1, 2, 3, 4, 5, 6]\n",
      "[2, 1, 1, 2, 3, 4, 5, 6]\n",
      "[3, 2, 2, 1, 2, 3, 4, 5]\n",
      "[4, 3, 3, 2, 1, 2, 3, 4]\n",
      "[5, 4, 4, 3, 2, 2, 3, 3]\n",
      "[6, 5, 5, 4, 3, 3, 3, 3]\n",
      "[7, 6, 6, 5, 4, 4, 4, 3]\n",
      "[0, 1, 2, 3, 4, 5, 6, 7]\n",
      "[1, 0, 1, 2, 3, 4, 5, 6]\n",
      "[2, 1, 1, 2, 3, 4, 4, 5]\n",
      "[3, 2, 2, 1, 2, 3, 4, 5]\n",
      "[4, 3, 3, 2, 1, 2, 3, 4]\n",
      "[5, 4, 4, 3, 2, 2, 3, 4]\n",
      "[6, 5, 5, 4, 3, 3, 3, 4]\n",
      "[7, 6, 6, 5, 4, 4, 4, 4]\n",
      "[0, 1, 2, 3, 4, 5, 6, 7]\n",
      "[1, 0, 1, 2, 3, 4, 5, 6]\n",
      "[2, 1, 1, 2, 3, 4, 5, 6]\n",
      "[3, 2, 2, 1, 2, 3, 4, 5]\n",
      "[4, 3, 3, 2, 1, 2, 3, 4]\n",
      "[5, 4, 4, 3, 2, 2, 3, 4]\n",
      "[6, 5, 5, 4, 3, 3, 3, 4]\n",
      "[7, 6, 6, 5, 4, 4, 4, 4]\n",
      " \n",
      " \n",
      "[0, 1, 2, 3, 4, 5, 6, 7]\n",
      "[1, 0, 1, 2, 3, 4, 5, 6]\n",
      "[2, 1, 1, 2, 3, 4, 5, 6]\n",
      "[3, 2, 2, 1, 2, 3, 4, 5]\n",
      "[4, 3, 2, 2, 1, 2, 3, 4]\n",
      "[5, 4, 3, 2, 2, 2, 3, 4]\n",
      "[6, 5, 4, 3, 3, 2, 2, 3]\n",
      "[7, 6, 5, 4, 4, 3, 2, 2]\n",
      "[0, 1, 2, 3, 4, 5, 6, 7]\n",
      "[1, 0, 1, 2, 3, 4, 5, 6]\n",
      "[2, 1, 1, 2, 3, 4, 5, 6]\n",
      "[3, 2, 2, 1, 2, 3, 4, 5]\n",
      "[4, 3, 2, 2, 2, 3, 4, 5]\n",
      "[5, 4, 3, 2, 3, 3, 4, 5]\n",
      "[6, 5, 4, 3, 2, 3, 3, 4]\n",
      "[7, 6, 5, 4, 3, 2, 3, 3]\n",
      "[0, 1, 2, 3, 4, 5, 6, 7]\n",
      "[1, 0, 1, 2, 3, 4, 5, 6]\n",
      "[2, 1, 0, 1, 2, 3, 4, 5]\n",
      "[3, 2, 1, 0, 1, 2, 3, 4]\n",
      "[4, 3, 2, 1, 0, 1, 2, 3]\n",
      "[5, 4, 3, 2, 1, 0, 1, 2]\n",
      "[6, 5, 4, 3, 2, 1, 0, 1]\n",
      "[7, 6, 5, 4, 3, 2, 1, 0]\n",
      "[0, 1, 2, 3, 4, 5, 6, 7]\n",
      "[1, 0, 1, 2, 3, 4, 5, 6]\n",
      "[2, 1, 0, 1, 2, 3, 4, 5]\n",
      "[3, 2, 1, 0, 1, 2, 3, 4]\n",
      "[4, 3, 2, 1, 1, 2, 3, 4]\n",
      "[5, 4, 3, 2, 2, 1, 2, 3]\n",
      "[6, 5, 4, 3, 2, 2, 2, 3]\n",
      "[7, 6, 5, 4, 3, 3, 3, 3]\n",
      "[0, 1, 2, 3, 4, 5, 6, 7]\n",
      "[1, 0, 1, 2, 3, 4, 5, 6]\n",
      "[2, 1, 0, 1, 2, 3, 4, 5]\n",
      "[3, 2, 1, 0, 1, 2, 3, 4]\n",
      "[4, 3, 2, 1, 1, 2, 3, 4]\n",
      "[5, 4, 3, 2, 2, 1, 2, 3]\n",
      "[6, 5, 4, 3, 2, 2, 2, 2]\n",
      "[7, 6, 5, 4, 3, 3, 3, 2]\n",
      "[0, 1, 2, 3, 4, 5, 6, 7]\n",
      "[1, 0, 1, 2, 3, 4, 5, 6]\n",
      "[2, 1, 0, 1, 2, 3, 4, 5]\n",
      "[3, 2, 1, 0, 1, 2, 3, 4]\n",
      "[4, 3, 2, 1, 1, 2, 2, 3]\n",
      "[5, 4, 3, 2, 2, 1, 2, 3]\n",
      "[6, 5, 4, 3, 2, 2, 2, 3]\n",
      "[7, 6, 5, 4, 3, 3, 3, 3]\n",
      "[0, 1, 2, 3, 4, 5, 6, 7]\n",
      "[1, 0, 1, 2, 3, 4, 5, 6]\n",
      "[2, 1, 0, 1, 2, 3, 4, 5]\n",
      "[3, 2, 1, 0, 1, 2, 3, 4]\n",
      "[4, 3, 2, 1, 1, 2, 3, 4]\n",
      "[5, 4, 3, 2, 2, 1, 2, 3]\n",
      "[6, 5, 4, 3, 2, 2, 2, 3]\n",
      "[7, 6, 5, 4, 3, 3, 3, 3]\n",
      " \n",
      " \n",
      "[0, 1, 2, 3, 4, 5, 6, 7]\n",
      "[1, 0, 1, 2, 3, 4, 5, 6]\n",
      "[2, 1, 1, 2, 3, 4, 5, 6]\n",
      "[3, 2, 2, 1, 2, 3, 4, 5]\n",
      "[4, 3, 3, 2, 2, 2, 3, 4]\n",
      "[5, 4, 4, 3, 3, 3, 3, 4]\n",
      "[6, 5, 5, 4, 4, 4, 4, 4]\n",
      "[7, 6, 6, 5, 5, 5, 5, 5]\n",
      "[0, 1, 2, 3, 4, 5, 6, 7]\n",
      "[1, 0, 1, 2, 3, 4, 5, 6]\n",
      "[2, 1, 1, 2, 3, 4, 5, 6]\n",
      "[3, 2, 2, 1, 2, 3, 4, 5]\n",
      "[4, 3, 3, 2, 1, 2, 3, 4]\n",
      "[5, 4, 4, 3, 2, 2, 3, 4]\n",
      "[6, 5, 5, 4, 3, 3, 3, 4]\n",
      "[7, 6, 6, 5, 4, 4, 4, 4]\n",
      "[0, 1, 2, 3, 4, 5, 6, 7]\n",
      "[1, 0, 1, 2, 3, 4, 5, 6]\n",
      "[2, 1, 0, 1, 2, 3, 4, 5]\n",
      "[3, 2, 1, 0, 1, 2, 3, 4]\n",
      "[4, 3, 2, 1, 1, 2, 2, 3]\n",
      "[5, 4, 3, 2, 2, 1, 2, 3]\n",
      "[6, 5, 4, 3, 3, 2, 2, 3]\n",
      "[7, 6, 5, 4, 4, 3, 3, 3]\n",
      "[0, 1, 2, 3, 4, 5, 6, 7]\n",
      "[1, 0, 1, 2, 3, 4, 5, 6]\n",
      "[2, 1, 0, 1, 2, 3, 4, 5]\n",
      "[3, 2, 1, 0, 1, 2, 3, 4]\n",
      "[4, 3, 2, 1, 0, 1, 2, 3]\n",
      "[5, 4, 3, 2, 1, 0, 1, 2]\n",
      "[6, 5, 4, 3, 2, 1, 0, 1]\n",
      "[7, 6, 5, 4, 3, 2, 1, 0]\n",
      "[0, 1, 2, 3, 4, 5, 6, 7]\n",
      "[1, 0, 1, 2, 3, 4, 5, 6]\n",
      "[2, 1, 0, 1, 2, 3, 4, 5]\n",
      "[3, 2, 1, 0, 1, 2, 3, 4]\n",
      "[4, 3, 2, 1, 0, 1, 2, 3]\n",
      "[5, 4, 3, 2, 1, 0, 1, 2]\n",
      "[6, 5, 4, 3, 2, 1, 0, 1]\n",
      "[7, 6, 5, 4, 3, 2, 1, 1]\n",
      "[0, 1, 2, 3, 4, 5, 6, 7]\n",
      "[1, 0, 1, 2, 3, 4, 5, 6]\n",
      "[2, 1, 0, 1, 2, 3, 4, 5]\n",
      "[3, 2, 1, 0, 1, 2, 3, 4]\n",
      "[4, 3, 2, 1, 0, 1, 2, 3]\n",
      "[5, 4, 3, 2, 1, 0, 1, 2]\n",
      "[6, 5, 4, 3, 2, 1, 1, 2]\n",
      "[7, 6, 5, 4, 3, 2, 2, 2]\n",
      "[0, 1, 2, 3, 4, 5, 6, 7]\n",
      "[1, 0, 1, 2, 3, 4, 5, 6]\n",
      "[2, 1, 0, 1, 2, 3, 4, 5]\n",
      "[3, 2, 1, 0, 1, 2, 3, 4]\n",
      "[4, 3, 2, 1, 0, 1, 2, 3]\n",
      "[5, 4, 3, 2, 1, 0, 1, 2]\n",
      "[6, 5, 4, 3, 2, 1, 1, 2]\n",
      "[7, 6, 5, 4, 3, 2, 2, 2]\n",
      " \n",
      " \n",
      "[0, 1, 2, 3, 4, 5, 6, 7]\n",
      "[1, 0, 1, 2, 3, 4, 5, 6]\n",
      "[2, 1, 1, 2, 3, 4, 5, 6]\n",
      "[3, 2, 2, 1, 2, 3, 4, 5]\n",
      "[4, 3, 3, 2, 2, 2, 3, 4]\n",
      "[5, 4, 4, 3, 3, 3, 3, 4]\n",
      "[6, 5, 5, 4, 4, 4, 4, 4]\n",
      "[7, 6, 6, 5, 5, 4, 4, 4]\n",
      "[0, 1, 2, 3, 4, 5, 6, 7]\n",
      "[1, 0, 1, 2, 3, 4, 5, 6]\n",
      "[2, 1, 1, 2, 3, 4, 5, 6]\n",
      "[3, 2, 2, 1, 2, 3, 4, 5]\n",
      "[4, 3, 3, 2, 1, 2, 3, 4]\n",
      "[5, 4, 4, 3, 2, 2, 3, 4]\n",
      "[6, 5, 5, 4, 3, 3, 3, 4]\n",
      "[7, 6, 6, 5, 4, 3, 3, 3]\n",
      "[0, 1, 2, 3, 4, 5, 6, 7]\n",
      "[1, 0, 1, 2, 3, 4, 5, 6]\n",
      "[2, 1, 0, 1, 2, 3, 4, 5]\n",
      "[3, 2, 1, 0, 1, 2, 3, 4]\n",
      "[4, 3, 2, 1, 1, 2, 2, 3]\n",
      "[5, 4, 3, 2, 2, 1, 2, 3]\n",
      "[6, 5, 4, 3, 3, 2, 2, 3]\n",
      "[7, 6, 5, 4, 4, 3, 2, 2]\n",
      "[0, 1, 2, 3, 4, 5, 6, 7]\n",
      "[1, 0, 1, 2, 3, 4, 5, 6]\n",
      "[2, 1, 0, 1, 2, 3, 4, 5]\n",
      "[3, 2, 1, 0, 1, 2, 3, 4]\n",
      "[4, 3, 2, 1, 0, 1, 2, 3]\n",
      "[5, 4, 3, 2, 1, 0, 1, 2]\n",
      "[6, 5, 4, 3, 2, 1, 0, 1]\n",
      "[7, 6, 5, 4, 3, 2, 1, 1]\n",
      "[0, 1, 2, 3, 4, 5, 6, 7]\n",
      "[1, 0, 1, 2, 3, 4, 5, 6]\n",
      "[2, 1, 0, 1, 2, 3, 4, 5]\n",
      "[3, 2, 1, 0, 1, 2, 3, 4]\n",
      "[4, 3, 2, 1, 0, 1, 2, 3]\n",
      "[5, 4, 3, 2, 1, 0, 1, 2]\n",
      "[6, 5, 4, 3, 2, 1, 0, 1]\n",
      "[7, 6, 5, 4, 3, 2, 1, 0]\n",
      "[0, 1, 2, 3, 4, 5, 6, 7]\n",
      "[1, 0, 1, 2, 3, 4, 5, 6]\n",
      "[2, 1, 0, 1, 2, 3, 4, 5]\n",
      "[3, 2, 1, 0, 1, 2, 3, 4]\n",
      "[4, 3, 2, 1, 0, 1, 2, 3]\n",
      "[5, 4, 3, 2, 1, 0, 1, 2]\n",
      "[6, 5, 4, 3, 2, 1, 1, 2]\n",
      "[7, 6, 5, 4, 3, 2, 2, 2]\n",
      "[0, 1, 2, 3, 4, 5, 6, 7]\n",
      "[1, 0, 1, 2, 3, 4, 5, 6]\n",
      "[2, 1, 0, 1, 2, 3, 4, 5]\n",
      "[3, 2, 1, 0, 1, 2, 3, 4]\n",
      "[4, 3, 2, 1, 0, 1, 2, 3]\n",
      "[5, 4, 3, 2, 1, 0, 1, 2]\n",
      "[6, 5, 4, 3, 2, 1, 1, 2]\n",
      "[7, 6, 5, 4, 3, 2, 2, 2]\n",
      " \n",
      " \n",
      "[0, 1, 2, 3, 4, 5, 6, 7]\n",
      "[1, 0, 1, 2, 3, 4, 5, 6]\n",
      "[2, 1, 1, 2, 3, 4, 5, 6]\n",
      "[3, 2, 2, 1, 2, 3, 4, 5]\n",
      "[4, 3, 3, 2, 2, 2, 3, 4]\n",
      "[5, 4, 4, 3, 3, 3, 3, 4]\n",
      "[6, 5, 4, 4, 3, 4, 4, 4]\n",
      "[7, 6, 5, 5, 4, 4, 5, 5]\n",
      "[0, 1, 2, 3, 4, 5, 6, 7]\n",
      "[1, 0, 1, 2, 3, 4, 5, 6]\n",
      "[2, 1, 1, 2, 3, 4, 5, 6]\n",
      "[3, 2, 2, 1, 2, 3, 4, 5]\n",
      "[4, 3, 3, 2, 1, 2, 3, 4]\n",
      "[5, 4, 4, 3, 2, 2, 3, 4]\n",
      "[6, 5, 4, 4, 3, 3, 3, 4]\n",
      "[7, 6, 5, 5, 4, 4, 4, 4]\n",
      "[0, 1, 2, 3, 4, 5, 6, 7]\n",
      "[1, 0, 1, 2, 3, 4, 5, 6]\n",
      "[2, 1, 0, 1, 2, 3, 4, 5]\n",
      "[3, 2, 1, 0, 1, 2, 3, 4]\n",
      "[4, 3, 2, 1, 1, 2, 2, 3]\n",
      "[5, 4, 3, 2, 2, 1, 2, 3]\n",
      "[6, 5, 4, 3, 2, 2, 2, 3]\n",
      "[7, 6, 5, 4, 3, 3, 3, 3]\n",
      "[0, 1, 2, 3, 4, 5, 6, 7]\n",
      "[1, 0, 1, 2, 3, 4, 5, 6]\n",
      "[2, 1, 0, 1, 2, 3, 4, 5]\n",
      "[3, 2, 1, 0, 1, 2, 3, 4]\n",
      "[4, 3, 2, 1, 0, 1, 2, 3]\n",
      "[5, 4, 3, 2, 1, 0, 1, 2]\n",
      "[6, 5, 4, 3, 2, 1, 1, 2]\n",
      "[7, 6, 5, 4, 3, 2, 2, 2]\n",
      "[0, 1, 2, 3, 4, 5, 6, 7]\n",
      "[1, 0, 1, 2, 3, 4, 5, 6]\n",
      "[2, 1, 0, 1, 2, 3, 4, 5]\n",
      "[3, 2, 1, 0, 1, 2, 3, 4]\n",
      "[4, 3, 2, 1, 0, 1, 2, 3]\n",
      "[5, 4, 3, 2, 1, 0, 1, 2]\n",
      "[6, 5, 4, 3, 2, 1, 1, 2]\n",
      "[7, 6, 5, 4, 3, 2, 2, 2]\n",
      "[0, 1, 2, 3, 4, 5, 6, 7]\n",
      "[1, 0, 1, 2, 3, 4, 5, 6]\n",
      "[2, 1, 0, 1, 2, 3, 4, 5]\n",
      "[3, 2, 1, 0, 1, 2, 3, 4]\n",
      "[4, 3, 2, 1, 0, 1, 2, 3]\n",
      "[5, 4, 3, 2, 1, 0, 1, 2]\n",
      "[6, 5, 4, 3, 2, 1, 0, 1]\n",
      "[7, 6, 5, 4, 3, 2, 1, 0]\n",
      "[0, 1, 2, 3, 4, 5, 6, 7]\n",
      "[1, 0, 1, 2, 3, 4, 5, 6]\n",
      "[2, 1, 0, 1, 2, 3, 4, 5]\n",
      "[3, 2, 1, 0, 1, 2, 3, 4]\n",
      "[4, 3, 2, 1, 0, 1, 2, 3]\n",
      "[5, 4, 3, 2, 1, 0, 1, 2]\n",
      "[6, 5, 4, 3, 2, 1, 1, 2]\n",
      "[7, 6, 5, 4, 3, 2, 1, 1]\n",
      " \n",
      " \n",
      "[0, 1, 2, 3, 4, 5, 6, 7]\n",
      "[1, 0, 1, 2, 3, 4, 5, 6]\n",
      "[2, 1, 1, 2, 3, 4, 5, 6]\n",
      "[3, 2, 2, 1, 2, 3, 4, 5]\n",
      "[4, 3, 3, 2, 2, 2, 3, 4]\n",
      "[5, 4, 4, 3, 3, 3, 3, 4]\n",
      "[6, 5, 5, 4, 4, 4, 4, 4]\n",
      "[7, 6, 6, 5, 5, 5, 5, 5]\n",
      "[0, 1, 2, 3, 4, 5, 6, 7]\n",
      "[1, 0, 1, 2, 3, 4, 5, 6]\n",
      "[2, 1, 1, 2, 3, 4, 5, 6]\n",
      "[3, 2, 2, 1, 2, 3, 4, 5]\n",
      "[4, 3, 3, 2, 1, 2, 3, 4]\n",
      "[5, 4, 4, 3, 2, 2, 3, 4]\n",
      "[6, 5, 5, 4, 3, 3, 3, 4]\n",
      "[7, 6, 6, 5, 4, 4, 4, 4]\n",
      "[0, 1, 2, 3, 4, 5, 6, 7]\n",
      "[1, 0, 1, 2, 3, 4, 5, 6]\n",
      "[2, 1, 0, 1, 2, 3, 4, 5]\n",
      "[3, 2, 1, 0, 1, 2, 3, 4]\n",
      "[4, 3, 2, 1, 1, 2, 2, 3]\n",
      "[5, 4, 3, 2, 2, 1, 2, 3]\n",
      "[6, 5, 4, 3, 3, 2, 2, 3]\n",
      "[7, 6, 5, 4, 4, 3, 3, 3]\n",
      "[0, 1, 2, 3, 4, 5, 6, 7]\n",
      "[1, 0, 1, 2, 3, 4, 5, 6]\n",
      "[2, 1, 0, 1, 2, 3, 4, 5]\n",
      "[3, 2, 1, 0, 1, 2, 3, 4]\n",
      "[4, 3, 2, 1, 0, 1, 2, 3]\n",
      "[5, 4, 3, 2, 1, 0, 1, 2]\n",
      "[6, 5, 4, 3, 2, 1, 1, 2]\n",
      "[7, 6, 5, 4, 3, 2, 2, 2]\n",
      "[0, 1, 2, 3, 4, 5, 6, 7]\n",
      "[1, 0, 1, 2, 3, 4, 5, 6]\n",
      "[2, 1, 0, 1, 2, 3, 4, 5]\n",
      "[3, 2, 1, 0, 1, 2, 3, 4]\n",
      "[4, 3, 2, 1, 0, 1, 2, 3]\n",
      "[5, 4, 3, 2, 1, 0, 1, 2]\n",
      "[6, 5, 4, 3, 2, 1, 1, 2]\n",
      "[7, 6, 5, 4, 3, 2, 2, 2]\n",
      "[0, 1, 2, 3, 4, 5, 6, 7]\n",
      "[1, 0, 1, 2, 3, 4, 5, 6]\n",
      "[2, 1, 0, 1, 2, 3, 4, 5]\n",
      "[3, 2, 1, 0, 1, 2, 3, 4]\n",
      "[4, 3, 2, 1, 0, 1, 2, 3]\n",
      "[5, 4, 3, 2, 1, 0, 1, 2]\n",
      "[6, 5, 4, 3, 2, 1, 1, 1]\n",
      "[7, 6, 5, 4, 3, 2, 2, 1]\n",
      "[0, 1, 2, 3, 4, 5, 6, 7]\n",
      "[1, 0, 1, 2, 3, 4, 5, 6]\n",
      "[2, 1, 0, 1, 2, 3, 4, 5]\n",
      "[3, 2, 1, 0, 1, 2, 3, 4]\n",
      "[4, 3, 2, 1, 0, 1, 2, 3]\n",
      "[5, 4, 3, 2, 1, 0, 1, 2]\n",
      "[6, 5, 4, 3, 2, 1, 0, 1]\n",
      "[7, 6, 5, 4, 3, 2, 1, 0]\n",
      " \n",
      " \n"
     ]
    },
    {
     "data": {
      "image/png": "[encoded data removed]",
      "text/plain": [
       "<Figure size 1800x720 with 1 Axes>"
      ]
     },
     "metadata": {
      "needs_background": "light"
     },
     "output_type": "display_data"
    }
   ],
   "source": [
    "# example taken from INF283 taught at the university of Bergen\n",
    "\n",
    "data = [ \"ATGTAAA\" , \"ATGAAAA\" , \"ACGTGAA\" , \"ACGAGGG\" , \"ACGAGGA\" , \"ACGAGTC\" , \"ACGAGCC\" ]\n",
    "labels = [ \"shark\" , \"ray-finned fish\" , \"amphibians\" , \"primates\" , \"rodents\" , \"crocodiles\" , \"dinosaurs\" ]\n",
    "\n",
    "# The levenshtein distance matrix ->\n",
    "mat = np.zeros(( len (data), len (data)), dtype = int )\n",
    "for i in range ( 0 , len (data)):\n",
    "    for j in range ( 0 , len (data)):\n",
    "        mat[i][j] = iterative_levenshtein(data[i], data[j])\n",
    "        print (mat[i][j], end = \"\" )\n",
    "    print ( \" \\n \" )\n",
    "mat = pdist(mat) # make an upper triangle matrix\n",
    "\n",
    "# The hierarchy clustering ->\n",
    "# here run scipy.cluster.hierarchy.linkage() on triangle matrix\n",
    "z = hierarchy.linkage(mat)\n",
    "\n",
    "\n",
    "fig = plt.figure( figsize =( 25 , 10 ))\n",
    "# here run scipy.cluster.hierarchy.dendrogram() with the linkage z and labels = labels\n",
    "dn = hierarchy.dendrogram(z, labels=labels)\n",
    "plt.show()"
   ]
  },
  {
   "cell_type": "markdown",
   "metadata": {},
   "source": [
    "**Exercise: go to UniProt, and decide upon a particular gene/protein. Find the homologue of this gene in 5-6 various species, and perform hierarchical clustering on it.**\n",
    "\n",
    "Tip: select a short (5-15) sequence which differs between all the represants."
   ]
  },
  {
   "cell_type": "code",
   "execution_count": null,
   "metadata": {},
   "outputs": [],
   "source": []
  }
 ],
 "metadata": {
  "kernelspec": {
   "display_name": "CBM101",
   "language": "python",
   "name": "cbm101"
  },
  "language_info": {
   "codemirror_mode": {
    "name": "ipython",
    "version": 3
   },
   "file_extension": ".py",
   "mimetype": "text/x-python",
   "name": "python",
   "nbconvert_exporter": "python",
   "pygments_lexer": "ipython3",
   "version": "3.7.6"
  }
 },
 "nbformat": 4,
 "nbformat_minor": 2
}
