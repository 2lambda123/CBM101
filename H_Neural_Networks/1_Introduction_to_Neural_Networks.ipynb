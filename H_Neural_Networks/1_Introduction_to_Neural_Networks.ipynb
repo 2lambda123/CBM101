{
 "cells": [
  {
   "cell_type": "markdown",
   "metadata": {},
   "source": [
    "## An Introduction to Neural networks\n",
    "\n",
    "Neural networks (NNs) and particularly a subset of neural networks (deep neural networks; DNNs) have become the poster child of modern AI due to its recent booming success in solving a multitude of complex problems, such as beating the world's GO champion, facilitating self-driving cars and much more. Here you will learn the basics of neural networks through interactive code in simple python (it's easier than it sounds!). This notebook introduces neural networks in general."
   ]
  },
  {
   "cell_type": "markdown",
   "metadata": {},
   "source": [
    "#### So what is a neural network? \n",
    "We can try to answer that by considering the simplest NN possible: the perceptron."
   ]
  },
  {
   "cell_type": "code",
   "execution_count": 47,
   "metadata": {},
   "outputs": [],
   "source": [
    "import numpy as np\n",
    "import pandas as pd\n",
    "from matplotlib import pyplot as plt\n",
    "plt.style.use('ggplot')"
   ]
  },
  {
   "cell_type": "code",
   "execution_count": 6,
   "metadata": {},
   "outputs": [],
   "source": [
    "### make FIGURE of perceptron"
   ]
  },
  {
   "cell_type": "markdown",
   "metadata": {},
   "source": [
    "Borrowing language from neuroscience, we speak of neurons and synapses (more often referred to as 'weights'). A perceptron has two input neurons and one output neuron. A synapse connects input 1 to the output neuron and a second synapse connects from input 2 to the output.\n",
    "\n",
    "Just like biological neural networks, the post synaptic neuron (output neuron) takes input from incoming synapses, and integrates them (adding together the parts). If this sum reaches a given threshold, the neuron fires, otherwise it does nothing. We represent this output as 1 (fires) or 0 (doesn't fire).\n",
    "\n",
    "Thus we can use the outcome (0 or 1) as to perform a classification task.\n",
    "\n",
    "To get the point across, let's make a naive implementation in Python!"
   ]
  },
  {
   "cell_type": "code",
   "execution_count": 103,
   "metadata": {},
   "outputs": [],
   "source": [
    "def activation(x, threshold):\n",
    "    if x >= threshold: return 1\n",
    "    else: return 0\n",
    "\n",
    "\n",
    "def perceptron(inputs, weights, b=1):\n",
    "    \"\"\"\n",
    "    inputs  : The values in the input neurons (list)\n",
    "    weights : The weights connecting n1 and n2 to the output neuron (list)\n",
    "    b       : The threshold below which the postsynaptic neuron won't fire (number)\n",
    "    \"\"\"\n",
    "    n1, n2 = inputs\n",
    "    w1, w2 = weights\n",
    "    s = n1*w1 + n2*w2\n",
    "    return activation(s, b)"
   ]
  },
  {
   "cell_type": "code",
   "execution_count": 104,
   "metadata": {},
   "outputs": [],
   "source": [
    "# Are you able to make a perceptron that takes 3 inputs? What about an arbitrary number of inputs?\n",
    "# A: s = sum([input[i]*weight[i] for i in len(inputs)])"
   ]
  },
  {
   "cell_type": "code",
   "execution_count": 105,
   "metadata": {},
   "outputs": [
    {
     "data": {
      "text/plain": [
       "1"
      ]
     },
     "execution_count": 105,
     "metadata": {},
     "output_type": "execute_result"
    }
   ],
   "source": [
    "my_inputs = [2,1]\n",
    "my_weights = [0.5, 0.9]\n",
    "threshold = 1\n",
    "\n",
    "perceptron(my_inputs, my_weights, threshold)"
   ]
  },
  {
   "cell_type": "markdown",
   "metadata": {},
   "source": [
    "So what's so special about this network? Well, let's see what it is able to do with the following example. Suppose we have the following dataset from a fishing trip. We obtain a data set of weight and length recorded for cod and haddock."
   ]
  },
  {
   "cell_type": "code",
   "execution_count": 107,
   "metadata": {},
   "outputs": [
    {
     "data": {
      "text/html": [
       "<div>\n",
       "<style scoped>\n",
       "    .dataframe tbody tr th:only-of-type {\n",
       "        vertical-align: middle;\n",
       "    }\n",
       "\n",
       "    .dataframe tbody tr th {\n",
       "        vertical-align: top;\n",
       "    }\n",
       "\n",
       "    .dataframe thead th {\n",
       "        text-align: right;\n",
       "    }\n",
       "</style>\n",
       "<table border=\"1\" class=\"dataframe\">\n",
       "  <thead>\n",
       "    <tr style=\"text-align: right;\">\n",
       "      <th></th>\n",
       "      <th>Weight</th>\n",
       "      <th>Length</th>\n",
       "      <th>Class</th>\n",
       "    </tr>\n",
       "  </thead>\n",
       "  <tbody>\n",
       "    <tr>\n",
       "      <td>0</td>\n",
       "      <td>1.4</td>\n",
       "      <td>0.60</td>\n",
       "      <td>0</td>\n",
       "    </tr>\n",
       "    <tr>\n",
       "      <td>1</td>\n",
       "      <td>1.6</td>\n",
       "      <td>0.40</td>\n",
       "      <td>1</td>\n",
       "    </tr>\n",
       "    <tr>\n",
       "      <td>2</td>\n",
       "      <td>1.6</td>\n",
       "      <td>0.70</td>\n",
       "      <td>0</td>\n",
       "    </tr>\n",
       "    <tr>\n",
       "      <td>3</td>\n",
       "      <td>2.0</td>\n",
       "      <td>0.60</td>\n",
       "      <td>1</td>\n",
       "    </tr>\n",
       "    <tr>\n",
       "      <td>4</td>\n",
       "      <td>1.4</td>\n",
       "      <td>0.50</td>\n",
       "      <td>0</td>\n",
       "    </tr>\n",
       "    <tr>\n",
       "      <td>5</td>\n",
       "      <td>1.3</td>\n",
       "      <td>0.35</td>\n",
       "      <td>1</td>\n",
       "    </tr>\n",
       "  </tbody>\n",
       "</table>\n",
       "</div>"
      ],
      "text/plain": [
       "   Weight  Length  Class\n",
       "0     1.4    0.60      0\n",
       "1     1.6    0.40      1\n",
       "2     1.6    0.70      0\n",
       "3     2.0    0.60      1\n",
       "4     1.4    0.50      0\n",
       "5     1.3    0.35      1"
      ]
     },
     "execution_count": 107,
     "metadata": {},
     "output_type": "execute_result"
    }
   ],
   "source": [
    "import pandas as pd\n",
    "df = pd.DataFrame({\"Weight\":[1.4, 1.6, 1.6, 2,  1.4,  1.3], \n",
    "                   \"Length\":[.6,  .4,  .7,  .6,  .5,   .35], \n",
    "                   \"Class\" :[0,    1,  0,  1,    0,     1]})\n",
    "df"
   ]
  },
  {
   "cell_type": "code",
   "execution_count": 108,
   "metadata": {},
   "outputs": [
    {
     "data": {
      "image/png": "[encoded data removed]",
      "text/plain": [
       "<Figure size 432x288 with 1 Axes>"
      ]
     },
     "metadata": {},
     "output_type": "display_data"
    }
   ],
   "source": [
    "from matplotlib import pyplot as plt\n",
    "\n",
    "# Define the figure boundaries\n",
    "x_min, x_max = X[:, 0].min() - .5, X[:, 0].max() + .5\n",
    "y_min, y_max = X[:, 1].min() - .5, X[:, 1].max() + .5\n",
    "\n",
    "plt.scatter(x= df.Weight, y = df.Length, c = df.Class, cmap=plt.cm.Spectral)\n",
    "plt.xlabel(\"Weight\"); plt.ylabel(\"Length\")\n",
    "plt.xlim(x_min, x_max)\n",
    "plt.ylim(y_min, y_max)\n",
    "\n",
    "plt.show()"
   ]
  },
  {
   "cell_type": "markdown",
   "metadata": {},
   "source": [
    "Is it possible for our perceptron to learn the difference between the cod and the haddock? The function below lets you plot the predicted output of the perceptron over all inputs (you are not expected to understand how the plotting function is implemented)."
   ]
  },
  {
   "cell_type": "code",
   "execution_count": 196,
   "metadata": {},
   "outputs": [
    {
     "data": {
      "image/png": "[encoded data removed]",
      "text/plain": [
       "<Figure size 432x288 with 1 Axes>"
      ]
     },
     "metadata": {},
     "output_type": "display_data"
    }
   ],
   "source": [
    "# Modified from https://scikit-learn.org/stable/auto_examples/neighbors/plot_classification.html#sphx-glr-download-auto-examples-neighbors-plot-classification-py\n",
    "\n",
    "X = df.drop(labels=[\"Class\"], axis=1).values\n",
    "\n",
    "weights = [.6, 0]\n",
    "b = 1\n",
    "\n",
    "def plot_decision(clf, weights, b):\n",
    "\n",
    "    h = 0.01\n",
    "    # Generate a grid of points with distance h between them\n",
    "    xx, yy = np.meshgrid(np.arange(x_min, x_max, h), np.arange(y_min, y_max, h))\n",
    "    # Make a prediction for every (weight, length) pair\n",
    "    Z = list(map(lambda p: clf(p, weights, b), np.c_[xx.ravel(), yy.ravel()]))\n",
    "    Z = np.array(Z).reshape(xx.shape)\n",
    "    # Plot the contour and training examples\n",
    "    plt.contourf(xx, yy, Z, alpha=0.2, cmap=plt.cm.Spectral)\n",
    "    plt.scatter(X[:, 0], X[:, 1], c=df.Class, cmap=plt.cm.Spectral)\n",
    "    \n",
    "plot_decision(perceptron, weights, b)"
   ]
  },
  {
   "cell_type": "markdown",
   "metadata": {},
   "source": [
    "#### Ex.1 a) Try to change the weights and the threshold b, and see how it affects the decision boundary. b) Change the parameters such that it properly separates the red and the blue dots."
   ]
  },
  {
   "cell_type": "code",
   "execution_count": 296,
   "metadata": {},
   "outputs": [
    {
     "data": {
      "image/png": "[encoded data removed]",
      "text/plain": [
       "<Figure size 432x288 with 1 Axes>"
      ]
     },
     "metadata": {},
     "output_type": "display_data"
    }
   ],
   "source": [
    "## your code here\n",
    "## one solution:\n",
    "weights = [.6, -1]; b = .4\n",
    "\n",
    "plot_decision(perceptron, weights, b)"
   ]
  },
  {
   "cell_type": "markdown",
   "metadata": {},
   "source": [
    "The transparent background is the perceptron's prediction over all possible inputs. The line seperating the blue and the "
   ]
  },
  {
   "cell_type": "markdown",
   "metadata": {},
   "source": [
    "Now, what if we catch a new fish and we can't decide which species it is? Can the perceptron help us? We measure it to be 2.2 kg and 0.5 m long."
   ]
  },
  {
   "cell_type": "markdown",
   "metadata": {},
   "source": [
    "Now, we obviously don't want to manually fiddle with the parameters, but we want the perceptron to learn its own weights by itself. How is this achieved? Well we need to update the weights based on the performance of the perceptron. \n",
    "\n",
    "#### error = target value - predicted value = y - pred(X)\n",
    "\n",
    "So if our prediction is lower then the target, we want our prediction to be higher. A way to achieve this is simply to increase the weights (or decrease the weights if they are negative). This is done in a stepwise fashion, as we loop through each sample. "
   ]
  },
  {
   "cell_type": "code",
   "execution_count": 201,
   "metadata": {},
   "outputs": [],
   "source": [
    "# We split the data into the features X and the target y\n",
    "X = df.drop([\"Class\"], axis=1).values \n",
    "y = df.Class.values"
   ]
  },
  {
   "cell_type": "code",
   "execution_count": 202,
   "metadata": {},
   "outputs": [
    {
     "data": {
      "text/plain": [
       "[0.6, -1]"
      ]
     },
     "execution_count": 202,
     "metadata": {},
     "output_type": "execute_result"
    }
   ],
   "source": [
    "weights"
   ]
  },
  {
   "cell_type": "code",
   "execution_count": 346,
   "metadata": {},
   "outputs": [],
   "source": [
    "def train(clf, X, y, weights, b, learning_rate=0.1):\n",
    "    \n",
    "    w1, w2 = weights\n",
    "    for i in range(y.shape[0]):\n",
    "        x_i = X[i,:]\n",
    "        target = y[i]\n",
    "        pred = perceptron(x_i, weights)\n",
    "        error = target - pred\n",
    "        \n",
    "        # now we update the weights\n",
    "        w1 +=  learning_rate * error * weights[0]\n",
    "        w2 +=  learning_rate * error * weights[1] \n",
    "        b +=  learning_rate * error\n",
    "        \n",
    "    return w1, w2, b\n",
    "        "
   ]
  },
  {
   "cell_type": "code",
   "execution_count": 354,
   "metadata": {},
   "outputs": [
    {
     "data": {
      "image/png": "[encoded data removed]",
      "text/plain": [
       "<Figure size 432x288 with 1 Axes>"
      ]
     },
     "metadata": {},
     "output_type": "display_data"
    }
   ],
   "source": [
    "#weights = [0.6, .1]\n",
    "#b = 1\n",
    "\n",
    "plot_decision(perceptron, weights, b)\n",
    "\n",
    "for i in range(10):\n",
    "    w1, w2, b = train(perceptron, X, y, weights, b, learning_rate=.1)\n",
    "\n",
    "#plot_decision(perceptron, weights)"
   ]
  },
  {
   "cell_type": "code",
   "execution_count": 355,
   "metadata": {},
   "outputs": [
    {
     "data": {
      "image/png": "[encoded data removed]",
      "text/plain": [
       "<Figure size 432x288 with 1 Axes>"
      ]
     },
     "metadata": {},
     "output_type": "display_data"
    }
   ],
   "source": [
    "plot_decision(perceptron, [w1,w2], b)"
   ]
  },
  {
   "cell_type": "markdown",
   "metadata": {},
   "source": [
    "More modern neural networks don't use the all-or-nothing activation function we saw in the perceptron, but rather they choose between a selection of other non-linear activation functions:"
   ]
  },
  {
   "cell_type": "code",
   "execution_count": null,
   "metadata": {},
   "outputs": [],
   "source": [
    "def sigmoid(x):\n",
    "\n",
    "    return x\n",
    "\n",
    "def relu(x):\n",
    "    return max(0, x)"
   ]
  },
  {
   "cell_type": "markdown",
   "metadata": {},
   "source": [
    "So just by regulating the weights (synapses) of the network, we can make it do some impressive things. However, there is no need to do this by hand: there exist multiple Python libraries which allow you to create, train and test neural networks in the matter of seconds: let's start with `scikit-learn`."
   ]
  },
  {
   "cell_type": "code",
   "execution_count": null,
   "metadata": {},
   "outputs": [],
   "source": []
  },
  {
   "cell_type": "markdown",
   "metadata": {},
   "source": []
  }
 ],
 "metadata": {
  "kernelspec": {
   "display_name": "CBM101",
   "language": "python",
   "name": "cbm101"
  },
  "language_info": {
   "codemirror_mode": {
    "name": "ipython",
    "version": 3
   },
   "file_extension": ".py",
   "mimetype": "text/x-python",
   "name": "python",
   "nbconvert_exporter": "python",
   "pygments_lexer": "ipython3",
   "version": "3.7.3"
  }
 },
 "nbformat": 4,
 "nbformat_minor": 2
}
