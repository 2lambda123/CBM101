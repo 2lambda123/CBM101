{
 "cells": [
  {
   "cell_type": "markdown",
   "metadata": {},
   "source": [
    "# Segmenting cells automatically using U-net\n",
    "\n",
    "In this notebook we take on the [data science bowl 2018](https://www.kaggle.com/c/data-science-bowl-2018) challenge on Kaggle. The task is straight forward: teach a neural network to segment cells from the background from a set of labelled micrographs. The basic structure of such a network needs to satisfy the criteria: the number of input neurons must match the image dimensions, and so does the output layer. Thus we essentially are classifying every pixel in the input.\n",
    "\n",
    "<img src=\"assets/unet.png\">\n",
    "\n",
    "Read the original paper [here](https://arxiv.org/abs/1505.04597).\n",
    "\n",
    "\n",
    "### Get the data\n",
    "Follow the above link to download the data. Then unzip the `stage1_train` subfolder (we will simply ignore the others). Place it in the `data` directory.\n",
    "\n",
    "### Deep learning libraries\n",
    "Currently in Python there are two primary libraries for deep learning: Tensorflow and Pytorch. You have already seen a little Tensorflow (via the Keras API). Now will make use of Pytorch. \n",
    "\n",
    "Much of the code in the notebook will be very detailed, and we recommend not spending too much time reviewing everything, as much is simple utiliy functions (crucial for the code to run, but not crucial for the concepts). Finally, this notebook is not made for performance, but more as a proof-of-concept, with the intention that it should be possible to run on a CPU.\n",
    "\n",
    "\n",
    "The code has been modified from  https://www.kaggle.com/arunmohan003/unet-starter-pytorch."
   ]
  },
  {
   "cell_type": "markdown",
   "metadata": {},
   "source": [
    "## Note: Installing Pytorch\n",
    "\n",
    "Like mentioned before, GPUs are needed to train deep learning models efficiently. Acknowledging that not everyone has that available. \n",
    "\n",
    "If you have a CUDA-compatible GPU and are interested, you can install the GPU version of pytorch. If you do *not* have a CUDA-compatible GPU, you can simply install the CPU version: `conda install pytorch torchvision torchaudio cpuonly -c pytorch`. \n",
    "\n",
    "If you chose to install use the GPU, you will have to install Cuda Toolkit and cudnn, which is a slightly lengthy procedure. Instructions for this can be found [here](https://docs.nvidia.com/cuda/cuda-installation-guide-microsoft-windows/index.html). A recommended [tutorial is also available](https://www.tutorialspoint.com/cuda/cuda_installation.htm) which explains the steps needed to get started with GPU accelerated deep learning.\n",
    "\n",
    "\n",
    "Installation instructions of Pytorch can be found [on the official website](https://pytorch.org/get-started/locally/). "
   ]
  },
  {
   "cell_type": "code",
   "execution_count": 160,
   "metadata": {},
   "outputs": [],
   "source": [
    "%reload_ext autoreload\n",
    "%autoreload 2"
   ]
  },
  {
   "cell_type": "code",
   "execution_count": 161,
   "metadata": {},
   "outputs": [],
   "source": [
    "import torch"
   ]
  },
  {
   "cell_type": "code",
   "execution_count": 162,
   "metadata": {},
   "outputs": [
    {
     "data": {
      "text/plain": [
       "True"
      ]
     },
     "execution_count": 162,
     "metadata": {},
     "output_type": "execute_result"
    }
   ],
   "source": [
    "torch.cuda.is_available()"
   ]
  },
  {
   "cell_type": "code",
   "execution_count": 163,
   "metadata": {},
   "outputs": [
    {
     "data": {
      "text/plain": [
       "1"
      ]
     },
     "execution_count": 163,
     "metadata": {},
     "output_type": "execute_result"
    }
   ],
   "source": [
    "torch.cuda.device_count()"
   ]
  },
  {
   "cell_type": "code",
   "execution_count": 215,
   "metadata": {},
   "outputs": [
    {
     "data": {
      "text/plain": [
       "device(type='cpu')"
      ]
     },
     "execution_count": 215,
     "metadata": {},
     "output_type": "execute_result"
    }
   ],
   "source": [
    "# set device to either CPU or GPU \n",
    "device = torch.device('cuda:0' if torch.cuda.is_available() else 'cpu')\n",
    "device = torch.device('cpu')\n",
    "device"
   ]
  },
  {
   "cell_type": "code",
   "execution_count": 216,
   "metadata": {},
   "outputs": [],
   "source": [
    "import os\n",
    "import time\n",
    "import copy\n",
    "from collections import defaultdict\n",
    "import torch\n",
    "import shutil\n",
    "import pandas as pd\n",
    "from skimage import io, transform\n",
    "import numpy as np\n",
    "from PIL import Image\n",
    "import matplotlib.pyplot as plt\n",
    "from torch.utils.data import Dataset, DataLoader, random_split\n",
    "from torchvision import transforms, utils\n",
    "from torch import nn\n",
    "from albumentations import (HorizontalFlip, ShiftScaleRotate, Normalize, Resize, Compose, GaussNoise)\n",
    "import cv2\n",
    "from albumentations.pytorch import ToTensor\n",
    "from torch.autograd import Variable\n",
    "from torch.nn import Linear, ReLU, CrossEntropyLoss, Sequential, Conv2d, MaxPool2d, Module, Softmax, BatchNorm2d, Dropout\n",
    "from torch.optim import Adam, SGD\n",
    "import torch.nn.functional as F\n",
    "from PIL import Image\n",
    "from torch import nn\n",
    "import zipfile"
   ]
  },
  {
   "cell_type": "code",
   "execution_count": 217,
   "metadata": {},
   "outputs": [],
   "source": [
    "#zip_path = '/kaggle/input/data-science-bowl-2018/stage1_train.zip'\n",
    "#with zipfile.ZipFile(zip_path, 'r') as zip_ref:\n",
    "#    zip_ref.extractall('/kaggle/working/data')"
   ]
  },
  {
   "cell_type": "markdown",
   "metadata": {},
   "source": [
    "### Tensors\n",
    "Being already familiar with numpy arrays, we make a minor transition to pytorch tensors. They still represent the same fundamental objects, but are tailored for deep learning applications. "
   ]
  },
  {
   "cell_type": "code",
   "execution_count": 218,
   "metadata": {
    "scrolled": true
   },
   "outputs": [
    {
     "name": "stdout",
     "output_type": "stream",
     "text": [
      "<class 'torch.Tensor'>\n",
      "tensor([[2.3514e-01, 8.8676e-02, 1.0116e-01],\n",
      "        [8.1275e-01, 3.2670e-02, 6.3235e-01],\n",
      "        [7.3338e-01, 8.8448e-02, 8.5235e-06],\n",
      "        [6.9799e-01, 4.9602e-01, 2.8881e-01],\n",
      "        [5.6592e-01, 1.2578e-02, 2.3195e-01]])\n",
      "torch.Size([5, 3])\n"
     ]
    }
   ],
   "source": [
    "t = torch.rand(5,3)\n",
    "print(type(t))\n",
    "print(t)\n",
    "print(t.size()) # equivalent to array.shape"
   ]
  },
  {
   "cell_type": "markdown",
   "metadata": {},
   "source": [
    "## Datasets in Pytorch\n",
    "\n",
    "When we train neural networks we often make use of very large datasets. Loading all the data into memory simultaneously is an a waste of resources. Datasets in Pytorch are special classes which contains the path to the data as well as functions for loading the data into memory on demand. Here is a custom made class for this particular dataset. The key method we implement is `__getitem__`, which does everything to load a single sample.\n",
    "\n",
    "\n",
    "### Data augmentation\n",
    "\n",
    "We will also implement a simple yet powerful trick: we can artificially increase the dataset by creating new samples from old ones through applying minor transformations (flipping, rotating etc) which still retain the crucial features important for classification. This will be built into the dataset class itself.\n"
   ]
  },
  {
   "cell_type": "code",
   "execution_count": 219,
   "metadata": {},
   "outputs": [],
   "source": [
    "def get_transforms(mean, std):\n",
    "            list_transforms = []\n",
    "            list_transforms.extend([HorizontalFlip(p=0.5)])\n",
    "            list_transforms.extend([Normalize(mean=mean, std=std, p=1),\n",
    "            ToTensor()])\n",
    "            list_trfms = Compose(list_transforms)\n",
    "            return list_trfms\n",
    "\n",
    "\n",
    "class NucleiData(Dataset):\n",
    "        def __init__(self,path):\n",
    "            self.path = path\n",
    "            self.folders = os.listdir(path)\n",
    "            self.transforms = get_transforms(0.5, 0.5)\n",
    "        \n",
    "        def __len__(self):\n",
    "            return len(self.folders)\n",
    "            \n",
    "        def __getitem__(self,idx):\n",
    "            image_folder = os.path.join(self.path,self.folders[idx],'images/')\n",
    "            mask_folder = os.path.join(self.path,self.folders[idx],'masks/')\n",
    "            image_path = os.path.join(image_folder,os.listdir(image_folder)[0])\n",
    "            \n",
    "            img = io.imread(image_path)[:,:,:3].astype('float32')\n",
    "            mask = self.get_mask(mask_folder, img.shape[0], img.shape[1]).astype('float32')\n",
    "            \n",
    "            # Apply transformations\n",
    "            augmented = self.transforms(image=img, mask=mask) #returns a dict\n",
    "            img = augmented['image']\n",
    "            mask = augmented['mask']\n",
    "            mask = mask[0].permute(2, 0, 1) # just reorders the dimensions of the tensor\n",
    "            return (img,mask) \n",
    "\n",
    "\n",
    "        def get_mask(self,mask_folder, IMG_HEIGHT, IMG_WIDTH):\n",
    "            mask = np.zeros((IMG_HEIGHT, IMG_WIDTH, 1), dtype=np.bool)\n",
    "            for mask_ in os.listdir(mask_folder):\n",
    "                    mask_ = io.imread(os.path.join(mask_folder,mask_))\n",
    "                    mask_ = np.expand_dims(mask_,axis=-1)\n",
    "                    mask = np.maximum(mask, mask_)\n",
    "            return mask"
   ]
  },
  {
   "cell_type": "code",
   "execution_count": 239,
   "metadata": {},
   "outputs": [],
   "source": [
    "# specify your data directory\n",
    "base_dir = 'data/data-science-bowl-2018/stage1_train'\n",
    "#base_dir = 'data/stage1_train'\n",
    "\n",
    "data = NucleiData(base_dir)"
   ]
  },
  {
   "cell_type": "markdown",
   "metadata": {},
   "source": [
    "#### Exercise 1. Figure out the dimensions of the first few samples."
   ]
  },
  {
   "cell_type": "code",
   "execution_count": 240,
   "metadata": {},
   "outputs": [
    {
     "name": "stdout",
     "output_type": "stream",
     "text": [
      "torch.Size([3, 64, 64])\n",
      "torch.Size([3, 64, 64])\n",
      "torch.Size([3, 64, 64])\n",
      "torch.Size([3, 64, 64])\n",
      "torch.Size([3, 64, 64])\n",
      "torch.Size([3, 64, 64])\n",
      "torch.Size([3, 64, 64])\n",
      "torch.Size([3, 64, 64])\n",
      "torch.Size([3, 64, 64])\n",
      "torch.Size([3, 64, 64])\n"
     ]
    }
   ],
   "source": [
    "# %load solutions/ex4_1.py\n",
    "\n",
    "for i in range(10):\n",
    "    print(data.__getitem__(i)[0].size())"
   ]
  },
  {
   "cell_type": "markdown",
   "metadata": {},
   "source": [
    "You will see they differ in size. This is a problem, because the number of input pixels must match the number of neurons in the first layer of the neural network. \n",
    "\n",
    "#### Exercise 2. Edit the above class to resize all images to width and height of 128 pixels."
   ]
  },
  {
   "cell_type": "code",
   "execution_count": 241,
   "metadata": {},
   "outputs": [
    {
     "name": "stdout",
     "output_type": "stream",
     "text": [
      "torch.Size([3, 64, 64])\n",
      "torch.Size([3, 64, 64])\n",
      "torch.Size([3, 64, 64])\n",
      "torch.Size([3, 64, 64])\n",
      "torch.Size([3, 64, 64])\n",
      "torch.Size([3, 64, 64])\n",
      "torch.Size([3, 64, 64])\n",
      "torch.Size([3, 64, 64])\n",
      "torch.Size([3, 64, 64])\n",
      "torch.Size([3, 64, 64])\n"
     ]
    }
   ],
   "source": [
    "# %load solutions/ex4_2.py\n",
    "\n",
    "# Only 3 lines have changed, signified by ##CHANGED\n",
    "# If you want to increase the speed of training the network (recommended if you use CPU)\n",
    "# set the self.dims to 64 or 32 (the lower, the faster)\n",
    "\n",
    "\n",
    "class NucleiData(Dataset):\n",
    "        def __init__(self,path):\n",
    "            self.path = path\n",
    "            self.folders = os.listdir(path)\n",
    "            self.transforms = get_transforms(0.5, 0.5)\n",
    "            self.dims = 64,64 ##CHANGED\n",
    "        \n",
    "        def __len__(self):\n",
    "            return len(self.folders)\n",
    "            \n",
    "        def __getitem__(self,idx):\n",
    "            image_folder = os.path.join(self.path,self.folders[idx],'images/')\n",
    "            mask_folder = os.path.join(self.path,self.folders[idx],'masks/')\n",
    "            image_path = os.path.join(image_folder,os.listdir(image_folder)[0])\n",
    "            \n",
    "            img = io.imread(image_path)[:,:,:3].astype('float32')\n",
    "            img = transform.resize(img,(self.dims)) ##CHANGED\n",
    "            mask = self.get_mask(mask_folder, *self.dims).astype('float32') ##CHANGED\n",
    "    \n",
    "            augmented = self.transforms(image=img, mask=mask) \n",
    "            img = augmented['image']\n",
    "            mask = augmented['mask']\n",
    "            mask = mask[0].permute(2, 0, 1)\n",
    "            return (img,mask) \n",
    "\n",
    "        def get_mask(self,mask_folder,IMG_HEIGHT, IMG_WIDTH):\n",
    "            mask = np.zeros((IMG_HEIGHT, IMG_WIDTH, 1), dtype=np.bool)\n",
    "            for mask_ in os.listdir(mask_folder):\n",
    "                    mask_ = io.imread(os.path.join(mask_folder,mask_))\n",
    "                    mask_ = transform.resize(mask_, (IMG_HEIGHT, IMG_WIDTH)) ##CHANGED\n",
    "                    mask_ = np.expand_dims(mask_,axis=-1)\n",
    "                    mask = np.maximum(mask, mask_)\n",
    "            return mask\n",
    "        \n",
    "data = NucleiData(base_dir)\n",
    "\n",
    "for i in range(10):\n",
    "    print(data.__getitem__(i)[0].size())"
   ]
  },
  {
   "cell_type": "code",
   "execution_count": 242,
   "metadata": {},
   "outputs": [
    {
     "name": "stdout",
     "output_type": "stream",
     "text": [
      "670\n"
     ]
    },
    {
     "data": {
      "text/plain": [
       "tensor([[[0.0000, 0.0000, 0.0000,  ..., 0.9922, 0.4980, 0.0039],\n",
       "         [0.0294, 0.0000, 0.0000,  ..., 0.9912, 0.4892, 0.0039],\n",
       "         [0.6480, 0.0539, 0.0000,  ..., 0.8882, 0.2569, 0.0000],\n",
       "         ...,\n",
       "         [0.0000, 0.0000, 0.0000,  ..., 0.0000, 0.0000, 0.0000],\n",
       "         [0.0000, 0.0000, 0.0000,  ..., 0.0000, 0.0000, 0.0000],\n",
       "         [0.0000, 0.0000, 0.0000,  ..., 0.0000, 0.0000, 0.0000]]])"
      ]
     },
     "execution_count": 242,
     "metadata": {},
     "output_type": "execute_result"
    }
   ],
   "source": [
    "# print out some sample data\n",
    "print(data.__len__())\n",
    "data.__getitem__(0)[1]"
   ]
  },
  {
   "cell_type": "code",
   "execution_count": 243,
   "metadata": {},
   "outputs": [
    {
     "name": "stdout",
     "output_type": "stream",
     "text": [
      "torch.Size([3, 64, 64])\n",
      "torch.Size([1, 64, 64])\n"
     ]
    }
   ],
   "source": [
    "for img,msk in data:\n",
    "    print(img.shape)\n",
    "    print(msk.shape)\n",
    "    break"
   ]
  },
  {
   "cell_type": "markdown",
   "metadata": {},
   "source": [
    "### Train-test split\n",
    "Again we must determine the split prior to loading the data. "
   ]
  },
  {
   "cell_type": "code",
   "execution_count": 244,
   "metadata": {},
   "outputs": [],
   "source": [
    "n_tot = len(data)\n",
    "n_train = int(.85*n_tot) # 85% for training \n",
    "n_val = n_tot - n_train\n",
    "trainset, valset = random_split(data, [n_train, n_val])"
   ]
  },
  {
   "cell_type": "markdown",
   "metadata": {},
   "source": [
    "### Dataloaders in Pytorch\n",
    "The Dataloader class in Pytorch is essentially like the Dataset, but with some additional functionality."
   ]
  },
  {
   "cell_type": "code",
   "execution_count": 245,
   "metadata": {},
   "outputs": [],
   "source": [
    "train_loader = torch.utils.data.DataLoader(dataset=trainset, batch_size=10, shuffle=True)\n",
    "val_loader = torch.utils.data.DataLoader(dataset=valset, batch_size=10)"
   ]
  },
  {
   "cell_type": "code",
   "execution_count": 246,
   "metadata": {},
   "outputs": [],
   "source": [
    "# some utility functions, you can ignore these\n",
    "def mask_convert(mask):\n",
    "    mask = mask.clone().cpu().detach().numpy()\n",
    "    mask = mask.transpose((1,2,0))\n",
    "    std = np.array((0.5))\n",
    "    mean = np.array((0.5))\n",
    "    mask  = std * mask + mean\n",
    "    mask = mask.clip(0,1)\n",
    "    mask = np.squeeze(mask)\n",
    "    return mask\n",
    "\n",
    "# converting tensor to image\n",
    "def image_convert(image):\n",
    "    image = image.clone().cpu().numpy()\n",
    "    image = image.transpose((1,2,0))\n",
    "    std = np.array((0.5,0.5,0.5))\n",
    "    mean = np.array((0.5,0.5,0.5))\n",
    "    image  = std * image + mean\n",
    "    image = image.clip(0,1)\n",
    "    image = (image * 255).astype(np.uint8)\n",
    "    return image\n",
    "\n",
    "def plot_img(no_):\n",
    "    iter_ = iter(train_loader)\n",
    "    images,masks = next(iter_)\n",
    "    images = images.to(device)\n",
    "    masks = masks.to(device)\n",
    "    plt.figure(figsize=(10,6))\n",
    "    for idx in range(0,no_):\n",
    "        image = image_convert(images[idx])\n",
    "        plt.subplot(2,no_,idx+1)\n",
    "        plt.title('image')\n",
    "        plt.imshow(image)\n",
    "    for idx in range(0,no_):\n",
    "        mask = mask_convert(masks[idx])\n",
    "        plt.subplot(2,no_,idx+no_+1)\n",
    "        plt.title('mask')\n",
    "        plt.imshow(mask,cmap='gray')\n",
    "    plt.show()"
   ]
  },
  {
   "cell_type": "code",
   "execution_count": 247,
   "metadata": {},
   "outputs": [
    {
     "data": {
      "image/png": "[encoded data removed]",
      "text/plain": [
       "<Figure size 720x432 with 4 Axes>"
      ]
     },
     "metadata": {
      "needs_background": "light"
     },
     "output_type": "display_data"
    }
   ],
   "source": [
    "# we will try visualizing images and corresponding masks\n",
    "plot_img(2)"
   ]
  },
  {
   "cell_type": "markdown",
   "metadata": {},
   "source": [
    "## Building the neural network\n",
    "\n",
    "In Pytorch, we implement models as a class, inheriting from `nn.Module`, which provides a set of standardized behind-the-scenes methods. Crucial when defining a custom network is to implement a `forward` method which represents the forward pass of the input.\n",
    "\n",
    "The U-Net consists of a sequence of convolutional layers (down-sampling), followed by a symmetrical sequence of upsampling layers. Importantly there is a connection between corresponding layers in the down-sampling and up-sampling layers (skip connections), so it deviates from a canonical feed-forward network in this regard. The skip connection is implemented simply by concatenating the activations of an intermediate layer with the activations from the layer in the skip connection. "
   ]
  },
  {
   "cell_type": "code",
   "execution_count": 248,
   "metadata": {},
   "outputs": [],
   "source": [
    "def double_conv(in_channels, out_channels):\n",
    "    return nn.Sequential(\n",
    "        nn.Conv2d(in_channels, out_channels, 3, padding=1),\n",
    "        nn.ReLU(inplace=True),\n",
    "        nn.Conv2d(out_channels, out_channels, 3, padding=1),\n",
    "        nn.ReLU(inplace=True)\n",
    "    )\n",
    "\n",
    "class Unet(nn.Module):\n",
    "    def __init__(self):\n",
    "        super().__init__()\n",
    "        self.dblock1 = double_conv(3, 64)\n",
    "        self.dblock2 = double_conv(64, 128)\n",
    "        self.dblock3 = double_conv(128,256)\n",
    "        self.dblock4 = double_conv(256,512)\n",
    "\n",
    "        self.pool = nn.MaxPool2d(2)\n",
    "        self.upsample = nn.Upsample(scale_factor=2, mode='bilinear', align_corners=True) \n",
    "\n",
    "        self.dblock5 = double_conv(256 + 512, 256)\n",
    "        self.dblock6 = double_conv(128 + 256, 128)\n",
    "        self.dblock7 = double_conv(128 + 64, 64)\n",
    "\n",
    "        self.last_layer = nn.Conv2d(64,1,1)\n",
    "        self.sigmoid = nn.Sigmoid()\n",
    "\n",
    "    def forward(self,x):\n",
    "        # down-sampling\n",
    "        conv1 = self.dblock1(x)\n",
    "        x = self.pool(conv1)\n",
    "        conv2 = self.dblock2(x)\n",
    "        x = self.pool(conv2)\n",
    "        conv3 = self.dblock3(x)\n",
    "        x = self.pool(conv3)\n",
    "        conv4 = self.dblock4(x)\n",
    "        \n",
    "        # up-samling\n",
    "        x = self.upsample(conv4)\n",
    "        x = torch.cat([x, conv3], dim=1) # skip connection\n",
    "        x = self.dblock5(x)\n",
    "        x = self.upsample(x)\n",
    "        x = torch.cat([x, conv2], dim=1) # skip connection\n",
    "        x = self.dblock6(x)\n",
    "        x = self.upsample(x)\n",
    "        x = torch.cat([x, conv1], dim=1) # skip connection\n",
    "        x = self.dblock7(x)\n",
    "\n",
    "        out = self.last_layer(x)\n",
    "        return out"
   ]
  },
  {
   "cell_type": "code",
   "execution_count": 249,
   "metadata": {},
   "outputs": [
    {
     "data": {
      "text/plain": [
       "Unet(\n",
       "  (dblock1): Sequential(\n",
       "    (0): Conv2d(3, 64, kernel_size=(3, 3), stride=(1, 1), padding=(1, 1))\n",
       "    (1): ReLU(inplace=True)\n",
       "    (2): Conv2d(64, 64, kernel_size=(3, 3), stride=(1, 1), padding=(1, 1))\n",
       "    (3): ReLU(inplace=True)\n",
       "  )\n",
       "  (dblock2): Sequential(\n",
       "    (0): Conv2d(64, 128, kernel_size=(3, 3), stride=(1, 1), padding=(1, 1))\n",
       "    (1): ReLU(inplace=True)\n",
       "    (2): Conv2d(128, 128, kernel_size=(3, 3), stride=(1, 1), padding=(1, 1))\n",
       "    (3): ReLU(inplace=True)\n",
       "  )\n",
       "  (dblock3): Sequential(\n",
       "    (0): Conv2d(128, 256, kernel_size=(3, 3), stride=(1, 1), padding=(1, 1))\n",
       "    (1): ReLU(inplace=True)\n",
       "    (2): Conv2d(256, 256, kernel_size=(3, 3), stride=(1, 1), padding=(1, 1))\n",
       "    (3): ReLU(inplace=True)\n",
       "  )\n",
       "  (dblock4): Sequential(\n",
       "    (0): Conv2d(256, 512, kernel_size=(3, 3), stride=(1, 1), padding=(1, 1))\n",
       "    (1): ReLU(inplace=True)\n",
       "    (2): Conv2d(512, 512, kernel_size=(3, 3), stride=(1, 1), padding=(1, 1))\n",
       "    (3): ReLU(inplace=True)\n",
       "  )\n",
       "  (pool): MaxPool2d(kernel_size=2, stride=2, padding=0, dilation=1, ceil_mode=False)\n",
       "  (upsample): Upsample(scale_factor=2.0, mode=bilinear)\n",
       "  (dblock5): Sequential(\n",
       "    (0): Conv2d(768, 256, kernel_size=(3, 3), stride=(1, 1), padding=(1, 1))\n",
       "    (1): ReLU(inplace=True)\n",
       "    (2): Conv2d(256, 256, kernel_size=(3, 3), stride=(1, 1), padding=(1, 1))\n",
       "    (3): ReLU(inplace=True)\n",
       "  )\n",
       "  (dblock6): Sequential(\n",
       "    (0): Conv2d(384, 128, kernel_size=(3, 3), stride=(1, 1), padding=(1, 1))\n",
       "    (1): ReLU(inplace=True)\n",
       "    (2): Conv2d(128, 128, kernel_size=(3, 3), stride=(1, 1), padding=(1, 1))\n",
       "    (3): ReLU(inplace=True)\n",
       "  )\n",
       "  (dblock7): Sequential(\n",
       "    (0): Conv2d(192, 64, kernel_size=(3, 3), stride=(1, 1), padding=(1, 1))\n",
       "    (1): ReLU(inplace=True)\n",
       "    (2): Conv2d(64, 64, kernel_size=(3, 3), stride=(1, 1), padding=(1, 1))\n",
       "    (3): ReLU(inplace=True)\n",
       "  )\n",
       "  (last_layer): Conv2d(64, 1, kernel_size=(1, 1), stride=(1, 1))\n",
       "  (sigmoid): Sigmoid()\n",
       ")"
      ]
     },
     "execution_count": 249,
     "metadata": {},
     "output_type": "execute_result"
    }
   ],
   "source": [
    "# loading the model to the GPU (or CPU)\n",
    "model = Unet().to(device)\n",
    "model"
   ]
  },
  {
   "cell_type": "markdown",
   "metadata": {},
   "source": [
    "\n",
    "### Loss function and IOU metric\n",
    "\n",
    "This loss combines Dice loss with the standard binary cross-entropy (BCE) loss that is generally the default for segmentation models. Combined the two methods allows for some diversity in the loss, while benefitting from the stability of BCE.Similarly we use intersection over union as a metric\n"
   ]
  },
  {
   "cell_type": "code",
   "execution_count": 250,
   "metadata": {},
   "outputs": [],
   "source": [
    "class DiceBCELoss(nn.Module):\n",
    "    def __init__(self, weight=None, size_average=True):\n",
    "        super(DiceBCELoss, self).__init__()\n",
    "\n",
    "    def forward(self, inputs, targets, smooth=1):\n",
    "        #comment out if your model contains a sigmoid or equivalent activation layer\n",
    "        inputs = torch.sigmoid(inputs)       \n",
    "        bce_weight = 0.5\n",
    "        #flatten label and prediction tensors\n",
    "        inputs = inputs.view(-1)\n",
    "        targets = targets.view(-1)\n",
    "        \n",
    "        intersection = (inputs * targets).sum()                            \n",
    "        dice_loss = 1 - (2.*intersection + smooth)/(inputs.sum() + targets.sum() + smooth)  \n",
    "        BCE = F.binary_cross_entropy(inputs, targets, reduction='mean')\n",
    "        loss_final = BCE * bce_weight + dice_loss * (1 - bce_weight)\n",
    "        return loss_final\n",
    "    \n",
    "## IOU computation\n",
    "def iou_(y_pred,y):\n",
    "    inputs = y_pred.reshape(-1)\n",
    "    targets = y.reshape(-1)\n",
    "    intersection = (inputs * targets).sum()\n",
    "    total = (inputs + targets).sum()\n",
    "    union = total - intersection \n",
    "    smooth = 1    \n",
    "    iou = (intersection + smooth)/(union + smooth)\n",
    "    return iou\n",
    "\n",
    "\n",
    "def iou_batch(y_pred,y):\n",
    "    '''computes mean iou for a batch of ground truth masks and predicted masks'''\n",
    "    ious = []\n",
    "    y_pred = torch.sigmoid(y_pred)\n",
    "    y_pred = y_pred.clone().cpu().detach().numpy()\n",
    "    y = y.clone().cpu().detach().numpy() \n",
    "    \n",
    "    for pred, label in zip(y_pred, y):\n",
    "        ious.append(iou_(pred, label))\n",
    "    iou = np.nanmean(ious)\n",
    "    return iou "
   ]
  },
  {
   "cell_type": "markdown",
   "metadata": {},
   "source": [
    "Now we will write some utility functions to save and load best model on training\n"
   ]
  },
  {
   "cell_type": "code",
   "execution_count": 251,
   "metadata": {},
   "outputs": [],
   "source": [
    "#ref https://towardsdatascience.com/how-to-save-and-load-a-model-in-pytorch-with-a-complete-example-c2920e617dee\n",
    "\n",
    "def save_ckp(state, is_best, checkpoint_path, best_model_path):\n",
    "    \"\"\"\n",
    "    state: checkpoint we want to save\n",
    "    is_best: is this the best checkpoint; min validation loss\n",
    "    checkpoint_path: path to save checkpoint\n",
    "    best_model_path: path to save best model\n",
    "    \"\"\"\n",
    "    # save checkpoint data to the path given, checkpoint_path\n",
    "    torch.save(state, checkpoint_path)\n",
    "    # if it is a best model, min validation loss\n",
    "    if is_best:\n",
    "        # copy that checkpoint file to best path given, best_model_path\n",
    "        shutil.copyfile(checkpoint_path, best_model_path)\n",
    "        \n",
    "def load_ckp(checkpoint_fpath, model, optimizer):\n",
    "    \"\"\"\n",
    "    checkpoint_path: path to save checkpoint\n",
    "    model: model that we want to load checkpoint parameters into       \n",
    "    optimizer: optimizer we defined in previous training\n",
    "    \"\"\"\n",
    "    # load check point\n",
    "    checkpoint = torch.load(checkpoint_fpath)\n",
    "    # initialize state_dict from checkpoint to model\n",
    "    model.load_state_dict(checkpoint['state_dict'])\n",
    "    # initialize optimizer from checkpoint to optimizer\n",
    "    optimizer.load_state_dict(checkpoint['optimizer'])\n",
    "    # initialize valid_loss_min from checkpoint to valid_loss_min\n",
    "    valid_loss_min = checkpoint['valid_loss_min']\n",
    "    # return model, optimizer, epoch value, min validation loss \n",
    "    return model, optimizer, checkpoint['epoch'], valid_loss_min.item()"
   ]
  },
  {
   "cell_type": "markdown",
   "metadata": {},
   "source": [
    "## Preparing for training\n",
    "\n",
    "The algorithm for updating the network weights must be specified also. First we need to specify how to compute the loss function (here called criterion). The strategy of updating the gradients is defined in the optimizer (you have multiple choices from `torch.optim`."
   ]
  },
  {
   "cell_type": "code",
   "execution_count": 252,
   "metadata": {},
   "outputs": [],
   "source": [
    "model = Unet().to(device)"
   ]
  },
  {
   "cell_type": "code",
   "execution_count": 254,
   "metadata": {},
   "outputs": [],
   "source": [
    "# decide upon a number of epochs before running\n",
    "epochs = 2\n",
    "\n",
    "criterion = DiceBCELoss()\n",
    "learning_rate = 1e-3\n",
    "#optimizer = torch.optim.SGD(model.parameters(), lr=learning_rate)\n",
    "optimizer = torch.optim.Adam(model.parameters(), lr=learning_rate)\n",
    "valid_loss_min = 3.95275"
   ]
  },
  {
   "cell_type": "code",
   "execution_count": null,
   "metadata": {},
   "outputs": [],
   "source": []
  },
  {
   "cell_type": "markdown",
   "metadata": {},
   "source": [
    "# A training loop for the network\n",
    "\n",
    "Note: training a neural network is usually a very slow process, so the cell below will take some time to run."
   ]
  },
  {
   "cell_type": "code",
   "execution_count": 260,
   "metadata": {},
   "outputs": [
    {
     "name": "stdout",
     "output_type": "stream",
     "text": [
      "Epoch 1/1\n",
      "|||||||||||||||||||||||||||||||||||||||||||||||||||||||||Train loss : 0.4994553437358455 iou : 0.18710551377172818\n",
      "Validation loss : 0.35321848500858655 iou : 0.30969901572209113\n",
      "8m 14s\n"
     ]
    }
   ],
   "source": [
    "checkpoint_path = '/models/chkpoint_'\n",
    "best_model_path = '/models/bestmodel.pt'\n",
    "\n",
    "# We wish to record the performance along the way for each epoch\n",
    "train_loss,val_loss = [],[]\n",
    "train_iou,val_iou = [],[]\n",
    "\n",
    "for epoch in range(epochs):\n",
    "    print('Epoch {}/{}'.format(epoch + 1, epochs))\n",
    "    start_time = time.time()\n",
    "         \n",
    "    running_train_loss = []\n",
    "    running_train_score = []\n",
    "    for image,mask in train_loader: \n",
    "        print('|',end='') #primitive loading bar, each bar representing a batch (10 samples)\n",
    "\n",
    "        image = image.to(device,dtype=torch.float)\n",
    "        mask = mask.to(device,dtype=torch.float)\n",
    "        \n",
    "        pred_mask = model.forward(image) # forward propogation\n",
    "        loss = criterion(pred_mask,mask) # compute the loss\n",
    "        score = iou_batch(pred_mask,mask)\n",
    "        \n",
    "        # Do the weight updating\n",
    "        optimizer.zero_grad() # setting gradient to zero\n",
    "        loss.backward() # compute the gradients\n",
    "        optimizer.step() # update the weights based on the gradients \n",
    "        \n",
    "        # Record results\n",
    "        running_train_loss.append(loss.item())\n",
    "        running_train_score.append(score)\n",
    "\n",
    "    else:           \n",
    "        running_val_loss = []\n",
    "        running_val_score = []\n",
    "        with torch.no_grad():\n",
    "            for image,mask in val_loader:\n",
    "                    image = image.to(device,dtype=torch.float)\n",
    "                    mask = mask.to(device,dtype=torch.float)                            \n",
    "                    pred_mask = model.forward(image)\n",
    "                    loss = criterion(pred_mask,mask)\n",
    "                    score = iou_batch(pred_mask,mask)\n",
    "                    running_val_loss.append(loss.item())\n",
    "                    running_val_score.append(score)\n",
    "\n",
    "                                    \n",
    "    epoch_train_loss,epoch_train_score = np.mean(running_train_loss) ,np.mean(running_train_score)\n",
    "    print('Train loss : {} iou : {}'.format(epoch_train_loss,epoch_train_score))                       \n",
    "    train_loss.append(epoch_train_loss)\n",
    "    train_iou.append(epoch_train_score)\n",
    "    \n",
    "    epoch_val_loss,epoch_val_score = np.mean(running_val_loss),np.mean(running_val_score)\n",
    "    print('Validation loss : {} iou : {}'.format(epoch_val_loss,epoch_val_score))                                \n",
    "    val_loss.append(epoch_val_loss)\n",
    "    val_iou.append(epoch_val_score)\n",
    "    \n",
    "    # create checkpoint variable and add important data\n",
    "    checkpoint = {\n",
    "            'epoch': epoch + 1,\n",
    "            'valid_loss_min': epoch_val_loss,\n",
    "            'state_dict': model.state_dict(),\n",
    "            'optimizer': optimizer.state_dict(),\n",
    "        }\n",
    "    \n",
    "    # save checkpoint\n",
    "    #save_ckp(checkpoint, False, checkpoint_path, best_model_path)\n",
    "    ### TODO: save the model if validation loss has decreased\n",
    "    #if epoch_val_loss <= valid_loss_min:\n",
    "    #        print('Validation loss decreased ({:.6f} --> {:.6f}).  Saving model ...'.format(valid_loss_min,epoch_val_loss))\n",
    "    #        # save checkpoint as best model\n",
    "    #        save_ckp(checkpoint, True, checkpoint_path, best_model_path)\n",
    "    #        valid_loss_min = epoch_val_loss\n",
    "    #\n",
    "    time_elapsed = time.time() - start_time\n",
    "    print('{:.0f}m {:.0f}s'.format(time_elapsed // 60, time_elapsed % 60))"
   ]
  },
  {
   "cell_type": "code",
   "execution_count": 202,
   "metadata": {},
   "outputs": [
    {
     "data": {
      "text/plain": [
       "[0.7471688985824585, 0.7460166679488288, 0.744318253464169, 0.7438746028476291]"
      ]
     },
     "execution_count": 202,
     "metadata": {},
     "output_type": "execute_result"
    }
   ],
   "source": [
    "train_loss"
   ]
  },
  {
   "cell_type": "code",
   "execution_count": 256,
   "metadata": {},
   "outputs": [
    {
     "data": {
      "image/png": "[encoded data removed]",
      "text/plain": [
       "<Figure size 1440x720 with 2 Axes>"
      ]
     },
     "metadata": {
      "needs_background": "light"
     },
     "output_type": "display_data"
    }
   ],
   "source": [
    "plt.figure(figsize=(20,10))\n",
    "plt.subplot(1,2,1)\n",
    "plt.plot(train_loss,label='train_loss')\n",
    "plt.plot(val_loss,label='val_loss')\n",
    "plt.legend()\n",
    "plt.title('Loss Plot')\n",
    "plt.subplot(1,2,2)\n",
    "plt.plot(train_iou,label='train_iou')\n",
    "plt.plot(val_iou,label='val_iou')\n",
    "plt.legend()\n",
    "plt.title('IOU Plot')\n",
    "plt.show()"
   ]
  },
  {
   "cell_type": "code",
   "execution_count": 257,
   "metadata": {},
   "outputs": [],
   "source": [
    "#loading the saved model\n",
    "#model, optimizer, start_epoch, valid_loss_min = load_ckp(checkpoint_path, model, optimizer)"
   ]
  },
  {
   "cell_type": "code",
   "execution_count": 261,
   "metadata": {},
   "outputs": [
    {
     "data": {
      "image/png": "[encoded data removed]",
      "text/plain": [
       "<Figure size 1440x1080 with 15 Axes>"
      ]
     },
     "metadata": {
      "needs_background": "light"
     },
     "output_type": "display_data"
    }
   ],
   "source": [
    "iter_ = iter(val_loader)\n",
    "image,mask = next(iter_)\n",
    "image = image.to(device,dtype=torch.float)\n",
    "mask = mask.to(device,dtype=torch.float)\n",
    "y_pred = model.forward(image)\n",
    "\n",
    "\n",
    "plt.figure(figsize=(20,15))\n",
    "for i in range(0,5):\n",
    "    plt.subplot(3,5,i+1)\n",
    "    plt.title('Actual image')\n",
    "    plt.imshow(image_convert(image[i]))\n",
    "for i in range(0,5):\n",
    "    plt.subplot(3,5,i+5+1)\n",
    "    plt.title('Actual mask')\n",
    "    plt.imshow(mask_convert(mask[i]),cmap='gray')\n",
    "for i in range(0,5):\n",
    "    plt.subplot(3,5,i+10+1)\n",
    "    plt.title('Predicted mask')\n",
    "    plt.imshow(mask_convert(y_pred[i]),cmap='gray')\n",
    "plt.show()"
   ]
  },
  {
   "cell_type": "code",
   "execution_count": null,
   "metadata": {},
   "outputs": [],
   "source": []
  }
 ],
 "metadata": {
  "kernelspec": {
   "display_name": "CBM101",
   "language": "python",
   "name": "cbm101"
  },
  "language_info": {
   "codemirror_mode": {
    "name": "ipython",
    "version": 3
   },
   "file_extension": ".py",
   "mimetype": "text/x-python",
   "name": "python",
   "nbconvert_exporter": "python",
   "pygments_lexer": "ipython3",
   "version": "3.7.6"
  }
 },
 "nbformat": 4,
 "nbformat_minor": 2
}
