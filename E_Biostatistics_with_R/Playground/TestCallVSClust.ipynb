{
 "cells": [
  {
   "cell_type": "markdown",
   "metadata": {},
   "source": [
    "<button onclick=\"send_message()\">\n",
    "send message\n",
    "</button>\n",
    "<script type=\"text/javascript\" src=\"static/js/read-csv.js\"></script>\n",
    "<script type=\"text/javascript\" src=\"./CallShiny.js\"></script>\n",
    "<script>\n",
    "    function send_message()\n",
    "{\n",
    "alert(1);\n",
    "}\n",
    "    </script>\n",
    "      \n"
   ]
  },
  {
   "cell_type": "code",
   "execution_count": 1,
   "metadata": {},
   "outputs": [
    {
     "name": "stderr",
     "output_type": "stream",
     "text": [
      "Warning message:\n",
      "\"package 'shiny' was built under R version 3.5.3\"Warning message:\n",
      "\"package 'jsonlite' was built under R version 3.5.3\"\n",
      "Attaching package: 'jsonlite'\n",
      "\n",
      "The following object is masked from 'package:shiny':\n",
      "\n",
      "    validate\n",
      "\n",
      "Warning message in file(file, \"rt\"):\n",
      "\"cannot open file 'MetaboIonsNormed.csv': No such file or directory\""
     ]
    },
    {
     "ename": "ERROR",
     "evalue": "Error in file(file, \"rt\"): cannot open the connection\n",
     "output_type": "error",
     "traceback": [
      "Error in file(file, \"rt\"): cannot open the connection\nTraceback:\n",
      "1. read.csv(\"MetaboIonsNormed.csv\")",
      "2. read.table(file = file, header = header, sep = sep, quote = quote, \n .     dec = dec, fill = fill, comment.char = comment.char, ...)",
      "3. file(file, \"rt\")"
     ]
    }
   ],
   "source": [
    "library(shiny)\n",
    "library(jsonlite)\n",
    "Data <- read.csv(\"MetaboIonsNormed.csv\")\n",
    "VSClustMessage <- toJSON(list(numrep=4, numcond=20, expr_matrix=as.list(Data)))\n",
    "\n",
    "\n",
    "#jsonmessage <- fromJSON(VSClustMessage)\n",
    "#NumCond <- jsonmessage[[\"numcond\"]]\n",
    "#NumReps <- jsonmessage[[\"numrep\"]]\n",
    "#expr_matr <- jsonmessage[[\"expr_matrix\"]]\n",
    "#  tdat <- matrix(NA,nrow=length(expr_matr[[1]]),ncol=length(expr_matr)-1,\n",
    "##                 dimnames=list(rows=expr_matr[[1]], cols=names(expr_matr)[2:length(expr_matr)]))\n",
    "#for (i in 2:length(expr_matr)) {\n",
    "#         tdat[,i-1] <- as.numeric(expr_matr[[i]])         \n",
    "#       }\n",
    "#head(tdat)\n",
    "\n",
    "\n",
    "tags$body(HTML(\"Testing:\"),\n",
    "tags$script(type=\"text/javascript\",src=\"www/CallShiny.js\"),\n",
    "tags$input(type=\"button\",value=\"send message\",id=\"xyz\",onClick=paste(\"send_message(\",VSClustMessage,\")\",sep=\"\"))\n",
    ")\n",
    "\n",
    "\n"
   ]
  },
  {
   "cell_type": "code",
   "execution_count": null,
   "metadata": {},
   "outputs": [],
   "source": []
  },
  {
   "cell_type": "code",
   "execution_count": null,
   "metadata": {},
   "outputs": [],
   "source": []
  }
 ],
 "metadata": {
  "kernelspec": {
   "display_name": "R",
   "language": "R",
   "name": "ir"
  },
  "language_info": {
   "codemirror_mode": "r",
   "file_extension": ".r",
   "mimetype": "text/x-r-source",
   "name": "R",
   "pygments_lexer": "r",
   "version": "3.5.1"
  }
 },
 "nbformat": 4,
 "nbformat_minor": 2
}
