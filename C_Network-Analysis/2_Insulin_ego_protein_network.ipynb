{
 "cells": [
  {
   "cell_type": "markdown",
   "metadata": {},
   "source": [
    "## Protein interaction network from STRING\n",
    "- In this notebook you will apply the functions from the previous notebook to a protein-protein interaction notebook and learn more functions.The notebook contain in total four exercises. \n",
    "- It is related to the presentation..... \n"
   ]
  },
  {
   "cell_type": "markdown",
   "metadata": {},
   "source": [
    "## Installation of libraries and necessary software¶\n",
    "- Code to install libraries\n",
    "- State that this has to be run only once\n",
    "- If necessary, further installation instructions"
   ]
  },
  {
   "cell_type": "code",
   "execution_count": 1,
   "metadata": {},
   "outputs": [],
   "source": [
    "import networkx as nx\n",
    "from datetime import datetime\n",
    "import matplotlib.pyplot as plt\n",
    "import numpy as np\n",
    "import warnings\n",
    "from custom import load_data as cf\n",
    "import csv\n",
    "from operator import itemgetter\n",
    "import community \n",
    "import pandas as pd\n",
    "from custom import ecdf\n",
    "\n",
    "warnings.filterwarnings('ignore')\n",
    "\n",
    "%load_ext autoreload\n",
    "%autoreload 2\n",
    "%matplotlib inline\n",
    "%config InlineBackend.figure_format = 'retina'"
   ]
  },
  {
   "cell_type": "markdown",
   "metadata": {},
   "source": [
    "## Loading data¶\n",
    "\n",
    "- Load the two csv files: \n",
    "        insulinnetwork_nodelist.csv (contains names on protein) \n",
    "        insulinnetwork_edgelist.cvs (contains the protein-protein interactions and an interaction scores)"
   ]
  },
  {
   "cell_type": "code",
   "execution_count": 3,
   "metadata": {},
   "outputs": [],
   "source": [
    "# Open the file with nodes\n",
    "with open('./data/insulinnetwork_nodelist.csv', 'r') as nodecsv:                 \n",
    "    nodereader = csv.reader(nodecsv) \n",
    "    nodes = [n for n in nodereader][1:]                     \n",
    "\n",
    "# Get a list of only the node names                                       \n",
    "node_names = [n[0] for n in nodes]    \n",
    "\n",
    "# Open the file with edges\n",
    "with open('./data/insulinnetwork_edgelist.csv', 'r') as edgecsv:\n",
    "    edgereader = csv.reader(edgecsv) \n",
    "    edges = [tuple(e) for e in edgereader][1:] \n",
    "    \n",
    "G = nx.Graph()\n",
    "\n",
    "G.add_nodes_from(node_names)\n",
    "G.add_edges_from(edges)"
   ]
  },
  {
   "cell_type": "markdown",
   "metadata": {},
   "source": [
    "### Exercise 1 - Basic information and drawing the network\n",
    "Answer the question below by applying some of the commands you learned in the previous notebook. To get a high learning output you can type in the codes manually - to save time you can chose to copy-paste them instead. "
   ]
  },
  {
   "cell_type": "code",
   "execution_count": null,
   "metadata": {
    "scrolled": true
   },
   "outputs": [],
   "source": [
    "# The number of nodes and edges in the network\n",
    "\n",
    "\n",
    "# The first five nodes in the network\n",
    "\n",
    "\n",
    "# The first five edges in the network\n",
    "\n",
    "\n",
    "# Draw network with labels\n",
    "\n",
    "\n",
    "# Draw subnetwork for the protein 'AKT'\n",
    "\n",
    "\n",
    "# List the neighbors of 'AKT'\n",
    "\n",
    "\n",
    "# Rank top 10 proteins with the highest centrality \n",
    "\n",
    "\n",
    "# Plot the degree of centrality for all of the proteins in the network"
   ]
  },
  {
   "cell_type": "markdown",
   "metadata": {},
   "source": [
    "**Add your answers here**\n",
    "*(double-click here to edit the cell)*\n",
    "\n",
    "***Question I: What is the size of the networks in terms of numbers of nodes and edges?***\n",
    "\n",
    "_Answer_\n",
    "\n",
    "\n",
    "***Question II: Does 'AKT' and 'EGF' interact according to the network?***\n",
    "\n",
    "_Answer_\n",
    "\n",
    "\n",
    "***Question III: How many neighbors does protein with the 10th highest centrality have?***\n",
    "\n",
    "_Answer_\n",
    "\n",
    "\n",
    "***Question III: Comment on the graph showing the degree of centrality for the network. Explain what the curve shows.***\n",
    "\n",
    "_Answer_"
   ]
  },
  {
   "cell_type": "markdown",
   "metadata": {},
   "source": [
    "### Exercise 2 - ?\n"
   ]
  },
  {
   "cell_type": "markdown",
   "metadata": {},
   "source": [
    "NB NB NB NB More: All the cells below is just notes for me - things that I will consider to include or not include. Not everything should be include!"
   ]
  },
  {
   "cell_type": "code",
   "execution_count": null,
   "metadata": {},
   "outputs": [],
   "source": [
    "# Open the file with nodes\n",
    "with open('muscles_nodelist.csv', 'r') as nodecsv:                 \n",
    "    nodereader = csv.reader(nodecsv) \n",
    "    nodes = [n for n in nodereader][1:]                     \n",
    "\n",
    "# Get a list of only the node names                                       \n",
    "node_names = [n[0] for n in nodes]    \n",
    "\n",
    "# Open the file with edges\n",
    "with open('muscles__noscore_edgelist.csv', 'r') as edgecsv:\n",
    "    edgereader = csv.reader(edgecsv) \n",
    "    edges = [tuple(e) for e in edgereader][1:] \n",
    "    \n",
    "G = nx.Graph()\n",
    "\n",
    "G.add_nodes_from(node_names)\n",
    "G.add_edges_from(edges)"
   ]
  },
  {
   "cell_type": "code",
   "execution_count": null,
   "metadata": {},
   "outputs": [],
   "source": [
    "# Fruchterman Reingold\n",
    "nx.draw(G, with_labels=True, node_size=1500, node_color=\"skyblue\", pos=nx.fruchterman_reingold_layout(G))\n",
    "plt.title(\"fruchterman_reingold\")\n",
    "plt.show()\n",
    " \n",
    "# Circular\n",
    "nx.draw(G, with_labels=True, node_size=1500, node_color=\"skyblue\", pos=nx.circular_layout(G))\n",
    "plt.title(\"circular\")\n",
    "plt.show()\n",
    "# Random\n",
    "nx.draw(G, with_labels=True, node_size=1500, node_color=\"skyblue\", pos=nx.random_layout(G))\n",
    "plt.title(\"random\")\n",
    "plt.show()\n",
    "\n"
   ]
  },
  {
   "cell_type": "code",
   "execution_count": null,
   "metadata": {},
   "outputs": [],
   "source": [
    "G = nx.DiGraph()"
   ]
  },
  {
   "cell_type": "code",
   "execution_count": null,
   "metadata": {},
   "outputs": [],
   "source": [
    "# Fruchterman Reingold\n",
    "nx.draw(G, with_labels=True, node_size=1500, node_color=\"skyblue\", pos=nx.fruchterman_reingold_layout(G))\n",
    "plt.title(\"fruchterman_reingold\")\n",
    "plt.show()"
   ]
  },
  {
   "cell_type": "code",
   "execution_count": null,
   "metadata": {},
   "outputs": [],
   "source": [
    "# Graph density:\n",
    "nx.density(G)"
   ]
  },
  {
   "cell_type": "code",
   "execution_count": null,
   "metadata": {},
   "outputs": [],
   "source": [
    "from nxviz import MatrixPlot\n",
    "\n",
    "m = MatrixPlot(G)\n",
    "m.draw()\n",
    "plt.show()"
   ]
  },
  {
   "cell_type": "code",
   "execution_count": null,
   "metadata": {},
   "outputs": [],
   "source": [
    "nx.shortest_path(G, 'Calr', 'Bag6')"
   ]
  },
  {
   "cell_type": "code",
   "execution_count": null,
   "metadata": {},
   "outputs": [],
   "source": [
    "# Possible Answer:\n",
    "\n",
    "def extract_path_edges(G, source, target):\n",
    "    # Check to make sure that a path does exists between source and target.\n",
    "    if nx.has_path(G, source, target):\n",
    "        nodes = nx.shortest_path(G, source, target)\n",
    "        newG = G.subgraph(nodes)\n",
    "        return newG\n",
    "\n",
    "    else:\n",
    "        raise Exception('Path does not exist between nodes {0} and {1}.'.format(source, target))\n",
    "        \n",
    "newG = extract_path_edges(G, 'Calr', 'Bag6')\n",
    "nx.draw(newG, with_labels=True)"
   ]
  },
  {
   "cell_type": "code",
   "execution_count": null,
   "metadata": {},
   "outputs": [],
   "source": [
    "btws = nx.betweenness_centrality(G, normalized=False)\n",
    "plt.bar(list(btws.keys()), list(btws.values()))"
   ]
  },
  {
   "cell_type": "code",
   "execution_count": null,
   "metadata": {},
   "outputs": [],
   "source": [
    "# Example code.\n",
    "from itertools import combinations\n",
    "\n",
    "def in_triangle(G, node):\n",
    "    \"\"\"\n",
    "    Returns whether a given node is present in a triangle relationship or not.\n",
    "    \"\"\"    \n",
    "    # Then, iterate over every pair of the node's neighbors.\n",
    "    for nbr1, nbr2 in combinations(G.neighbors(node), 2):\n",
    "        # Check to see if there is an edge between the node's neighbors.\n",
    "        # If there is an edge, then the given node is present in a triangle.\n",
    "        if G.has_edge(nbr1, nbr2):\n",
    "            # We return because any triangle that is present automatically \n",
    "            # satisfies the problem requirements.\n",
    "            return True\n",
    "    return False\n",
    "\n",
    "in_triangle(G, 'Eno1')"
   ]
  },
  {
   "cell_type": "code",
   "execution_count": null,
   "metadata": {},
   "outputs": [],
   "source": [
    "nx.triangles(G, 'Eno1')"
   ]
  },
  {
   "cell_type": "code",
   "execution_count": null,
   "metadata": {},
   "outputs": [],
   "source": [
    "# Possible answer\n",
    "def get_triangles(G, node):\n",
    "    neighbors1 = set(G.neighbors(node))\n",
    "    triangle_nodes = set()\n",
    "    triangle_nodes.add(node)\n",
    "    \"\"\"\n",
    "    Fill in the rest of the code below.\n",
    "    \"\"\"\n",
    "    for nbr1, nbr2 in combinations(neighbors1, 2):\n",
    "        if G.has_edge(nbr1, nbr2):\n",
    "            triangle_nodes.add(nbr1)\n",
    "            triangle_nodes.add(nbr2)\n",
    "    return triangle_nodes\n",
    "\n",
    "get_triangles(G, 'Eno1')"
   ]
  },
  {
   "cell_type": "code",
   "execution_count": null,
   "metadata": {},
   "outputs": [],
   "source": [
    "# Then, draw out those nodes.\n",
    "nx.draw(G.subgraph(get_triangles(G, 'Eno1')), with_labels=True)"
   ]
  },
  {
   "cell_type": "code",
   "execution_count": null,
   "metadata": {},
   "outputs": [],
   "source": [
    "# Compare for yourself that those are the only triangles that node 3 is involved in.\n",
    "neighbors3 =  list(G.neighbors('Eno1'))\n",
    "neighbors3.append('Eno1')\n",
    "nx.draw(G.subgraph(neighbors3), with_labels=True)"
   ]
  },
  {
   "cell_type": "code",
   "execution_count": null,
   "metadata": {},
   "outputs": [],
   "source": [
    "def get_open_triangles(G, node):\n",
    "    \"\"\"\n",
    "    There are many ways to represent this. One may choose to represent\n",
    "    only the nodes involved in an open triangle; this is not the \n",
    "    approach taken here.\n",
    "    \n",
    "    Rather, we have a code that explicitly enumrates every open triangle present.\n",
    "    \"\"\"\n",
    "    open_triangle_nodes = []\n",
    "    neighbors = list(G.neighbors(node))\n",
    "    \n",
    "    for n1, n2 in combinations(neighbors, 2):\n",
    "        if not G.has_edge(n1, n2):\n",
    "            open_triangle_nodes.append([n1, node, n2])\n",
    "    \n",
    "    return open_triangle_nodes\n",
    "\n",
    "print(get_open_triangles(G, 'Eno1'))\n",
    "len(get_open_triangles(G, 'Eno1'))"
   ]
  },
  {
   "cell_type": "code",
   "execution_count": null,
   "metadata": {},
   "outputs": [],
   "source": [
    "A1 = nx.to_numpy_array(G, nodelist=sorted(G.nodes()))\n",
    "A1"
   ]
  },
  {
   "cell_type": "code",
   "execution_count": null,
   "metadata": {},
   "outputs": [],
   "source": [
    "nx.draw(G, with_labels=True)"
   ]
  },
  {
   "cell_type": "code",
   "execution_count": null,
   "metadata": {},
   "outputs": [],
   "source": [
    "G.add_node('hans')"
   ]
  },
  {
   "cell_type": "code",
   "execution_count": null,
   "metadata": {},
   "outputs": [],
   "source": [
    "# Add multiple edges\n",
    "G.add_edges_from([\n",
    "    ('hans', 'lars'),\n",
    "    ('hans', 'line'),\n",
    "])"
   ]
  },
  {
   "cell_type": "code",
   "execution_count": null,
   "metadata": {},
   "outputs": [],
   "source": [
    "nx.draw(G, with_labels=True)"
   ]
  },
  {
   "cell_type": "markdown",
   "metadata": {},
   "source": [
    "**Add your answers here**\n",
    "*(double-click here to edit the cell)*\n",
    "\n",
    "***Question I: What is the name of the kids that Anna played with that day?***\n",
    "\n",
    "_Answer_\n",
    "\n",
    "***Question II: How many kids did Mads play with that day?***\n",
    "\n",
    "_Answer_\n"
   ]
  },
  {
   "cell_type": "markdown",
   "metadata": {},
   "source": [
    "### Exercise 3 - ?\n",
    " "
   ]
  },
  {
   "cell_type": "markdown",
   "metadata": {},
   "source": [
    "**Add your answers here**\n",
    "*(double-click here to edit the cell)*\n",
    "\n",
    "***Question I: What will happen if you change False to True in the code ranking the centralities?***\n",
    "\n",
    "_Answer_\n",
    "\n",
    "***Question II: How many of the kids only had a single playmate at the day of the study***\n",
    "\n",
    "_Answer_\n",
    "\n"
   ]
  }
 ],
 "metadata": {
  "kernelspec": {
   "display_name": "Python 3",
   "language": "python",
   "name": "python3"
  },
  "language_info": {
   "codemirror_mode": {
    "name": "ipython",
    "version": 3
   },
   "file_extension": ".py",
   "mimetype": "text/x-python",
   "name": "python",
   "nbconvert_exporter": "python",
   "pygments_lexer": "ipython3",
   "version": "3.7.1"
  }
 },
 "nbformat": 4,
 "nbformat_minor": 2
}
