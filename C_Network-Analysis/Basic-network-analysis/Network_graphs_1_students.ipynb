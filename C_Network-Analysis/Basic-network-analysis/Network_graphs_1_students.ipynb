{
 "cells": [
  {
   "cell_type": "markdown",
   "metadata": {},
   "source": [
    "## Graph/network theory\n",
    "- In this notebook we will show you some of the common commands you can use when you study and make network graphs using Python.¶We will use a simple example with a bunch of kids who have been interacting with eachother during a school day. Some of them got sick with a virus infection later same day. We will study the network to see how if it can tell us something about the transmission of the virus among the kids.\n",
    "- It is related to the presentation..... "
   ]
  },
  {
   "cell_type": "markdown",
   "metadata": {},
   "source": [
    "## Installation of libraries and necessary software¶\n",
    "- Code to install libraries\n",
    "- State that this has to be run only once\n",
    "- If necessary, further installation instructions"
   ]
  },
  {
   "cell_type": "code",
   "execution_count": null,
   "metadata": {},
   "outputs": [],
   "source": [
    "import networkx as nx\n",
    "from datetime import datetime\n",
    "import matplotlib.pyplot as plt\n",
    "import numpy as np\n",
    "import warnings\n",
    "from custom import load_data as cf\n",
    "import csv\n",
    "from operator import itemgetter\n",
    "import community \n",
    "import pandas as pd\n",
    "from custom import ecdf\n",
    "\n",
    "warnings.filterwarnings('ignore')\n",
    "\n",
    "%load_ext autoreload\n",
    "%autoreload 2\n",
    "%matplotlib inline\n",
    "%config InlineBackend.figure_format = 'retina'"
   ]
  },
  {
   "cell_type": "markdown",
   "metadata": {},
   "source": [
    "## Loading data¶\n",
    "\n",
    "- Load the two csv files: \n",
    "        Kids_nodes.csv (contains names and information about whether the kid got sick or not) \n",
    "        Kids_edges.cvs (contains information about who played with whom)\n",
    "        (If you would like to see the content of the two files use pd.read_csv(\"kids_nodes.csv\") and pd.read_cs(\"kids_edges.csv\"))"
   ]
  },
  {
   "cell_type": "code",
   "execution_count": null,
   "metadata": {},
   "outputs": [],
   "source": [
    "# Open the file with nodes\n",
    "with open('kids_nodes.csv', 'r') as nodecsv:                 \n",
    "    nodereader = csv.reader(nodecsv) \n",
    "    nodes = [n for n in nodereader][1:]                     \n",
    "\n",
    "# Get a list of only the node names                                       \n",
    "node_names = [n[0] for n in nodes]    \n",
    "\n",
    "# Open the file with edges\n",
    "with open('kids_edges.csv', 'r') as edgecsv:\n",
    "    edgereader = csv.reader(edgecsv) \n",
    "    edges = [tuple(e) for e in edgereader][1:] \n",
    "    \n",
    "G = nx.Graph()\n",
    "\n",
    "G.add_nodes_from(node_names)\n",
    "G.add_edges_from(edges)"
   ]
  },
  {
   "cell_type": "markdown",
   "metadata": {},
   "source": [
    "### Exercise 1 - Nodes and edges\n",
    "Let us first look at the nodes and edges in the network that we are going to create. "
   ]
  },
  {
   "cell_type": "markdown",
   "metadata": {},
   "source": [
    "We can start by examining out how many nodes the network contains. We do so by finding the length of the list containing the nodes of the networks.\n",
    "At the same time we would also like to see the names of the nodes. The list may though be very long so we can limit the number of nodes we would like to see by using [0:5] which will only return the first five nodes."
   ]
  },
  {
   "cell_type": "code",
   "execution_count": null,
   "metadata": {
    "scrolled": true
   },
   "outputs": [],
   "source": [
    "# The number of nodes in the network\n",
    "print(len(G.nodes()))\n",
    "\n",
    "# The first five nodes in the network\n",
    "print(list(G.nodes())[0:5])\n",
    "\n"
   ]
  },
  {
   "cell_type": "markdown",
   "metadata": {},
   "source": [
    "Now, it turned out that this list was not very long. Edit the code to get the name of the rest of the nodes (excl. the names of the first five nodes)"
   ]
  },
  {
   "cell_type": "code",
   "execution_count": null,
   "metadata": {},
   "outputs": [],
   "source": [
    "# The name of the rest of the nodes.\n",
    "print(list(G.nodes())[5:11])"
   ]
  },
  {
   "cell_type": "markdown",
   "metadata": {},
   "source": [
    "Now let us look at the same for the edges. The number of edges in the network is also represented by the lenght of the list of edges. So we can simply reuse the command for the length of the list of nodes and exchange the word nodes with the word edges. The same can be done for the list-commands."
   ]
  },
  {
   "cell_type": "code",
   "execution_count": null,
   "metadata": {
    "scrolled": true
   },
   "outputs": [],
   "source": [
    "# The number of edges in the network\n",
    "print(len(G.edges()))\n",
    "\n",
    "# List all the edges in the network\n",
    "print(list(G.edges()))"
   ]
  },
  {
   "cell_type": "markdown",
   "metadata": {},
   "source": [
    "You can also ask to have the number of nodes and edges reported together (comma separated) by giving both commands in one line, seperated by comma (len_, len_). "
   ]
  },
  {
   "cell_type": "code",
   "execution_count": null,
   "metadata": {},
   "outputs": [],
   "source": [
    "# The number of nodes and edges in the network\n",
    "print(len(G.nodes()),\",\",len(G.edges()))"
   ]
  },
  {
   "cell_type": "markdown",
   "metadata": {},
   "source": [
    "**Add your answers here**\n",
    "*(double-click here to edit the cell)*\n",
    "\n",
    "***Question I:<u>How many kids do we have in the study?</u>***\n",
    "\n",
    "11\n",
    "\n",
    "\n",
    "***Question II: <u>Is there any kids with the name Lea?</u>***\n",
    "\n",
    "No\n",
    "\n",
    "\n",
    "***Question III: <u>Did Mette and Anna have any contact at the day of the study? </u>***\n",
    "\n",
    "Yes"
   ]
  },
  {
   "cell_type": "markdown",
   "metadata": {},
   "source": [
    "### Exercise 2 - Drawing the network\n",
    "Now we know a bit about the size and nature of the network. Let's try to draw the network - without and with names on the nodes."
   ]
  },
  {
   "cell_type": "markdown",
   "metadata": {},
   "source": [
    "We do so by using the command nx.draw from the networkx package"
   ]
  },
  {
   "cell_type": "code",
   "execution_count": null,
   "metadata": {},
   "outputs": [],
   "source": [
    "# Draw network\n",
    "nx.draw(G)\n"
   ]
  },
  {
   "cell_type": "markdown",
   "metadata": {},
   "source": [
    "The graph/network is drawn with labels on the nodes by default. You can change that by using the command se the command nx.draw(G, with_labels=True)"
   ]
  },
  {
   "cell_type": "code",
   "execution_count": null,
   "metadata": {},
   "outputs": [],
   "source": [
    "# Draw network with labels\n",
    "nx.draw(G, with_labels=True)"
   ]
  },
  {
   "cell_type": "markdown",
   "metadata": {},
   "source": [
    "The two networks may not look completely alike. This is simply because the angel in which is is displayed is not the same. The overall structure (topology) of the networks are the same."
   ]
  },
  {
   "cell_type": "markdown",
   "metadata": {},
   "source": [
    "Below you can see a code that can help you substract a graph showing only the play mates of a specific kid. In the example below you will see who Anna has been playing with that day (you do not need to understand the entire code)"
   ]
  },
  {
   "cell_type": "code",
   "execution_count": null,
   "metadata": {},
   "outputs": [],
   "source": [
    "def extract_neighbor_edges2(G, node):\n",
    "    neighbors = G.neighbors(node)\n",
    "    newG = nx.Graph()\n",
    "    \n",
    "    for neighbor in neighbors:\n",
    "        if (node, neighbor) in G.edges() or (neighbor, node) in G.edges():\n",
    "            newG.add_edge(node, neighbor)\n",
    "\n",
    "    return newG\n",
    "\n",
    "fig = plt.figure(1)\n",
    "newG = extract_neighbor_edges2(G, 'anna')\n",
    "nx.draw(newG, with_labels=True)"
   ]
  },
  {
   "cell_type": "markdown",
   "metadata": {},
   "source": [
    "Below is a copy of the code above - modify the code to show a graph of the playmates of Mads. "
   ]
  },
  {
   "cell_type": "code",
   "execution_count": null,
   "metadata": {},
   "outputs": [],
   "source": [
    "def extract_neighbor_edges2(G, node):\n",
    "    neighbors = G.neighbors(node)\n",
    "    newG = nx.Graph()\n",
    "    \n",
    "    for neighbor in neighbors:\n",
    "        if (node, neighbor) in G.edges() or (neighbor, node) in G.edges():\n",
    "            newG.add_edge(node, neighbor)\n",
    "\n",
    "    return newG\n",
    "\n",
    "fig = plt.figure(1)\n",
    "newG = extract_neighbor_edges2(G, 'mads')\n",
    "nx.draw(newG, with_labels=True)"
   ]
  },
  {
   "cell_type": "markdown",
   "metadata": {},
   "source": [
    "**Add your answers here**\n",
    "*(double-click here to edit the cell)*\n",
    "\n",
    "***Question I:<u>What is the name of the kids that Anna played with that day?</u>***\n",
    "\n",
    "Lise, Mette og Lotte\n",
    "\n",
    "\n",
    "***Question II: <u>How many kids did Mads play with that day?</u>***\n",
    "\n",
    "7\n",
    "\n"
   ]
  },
  {
   "cell_type": "markdown",
   "metadata": {},
   "source": [
    "### Exercise 3 - Extracting information about neighbors (centrality), degree of centrality and ranking based on centrality. \n",
    "We just saw how we could get subgraphs containing the playmates of a specific kid - in graph theory these will be the neighbors of a specific node. We can also make commands that will give us the information as numbers and lists. "
   ]
  },
  {
   "cell_type": "markdown",
   "metadata": {},
   "source": [
    "If we would like to know the neighbors (here playmates) of e.g. the first node (here Mads), we can use the G.neighbors(node) function."
   ]
  },
  {
   "cell_type": "code",
   "execution_count": null,
   "metadata": {},
   "outputs": [],
   "source": [
    "# Neighbors of the node with the name \"mads\"\n",
    "list(G.neighbors('mads'))"
   ]
  },
  {
   "cell_type": "markdown",
   "metadata": {},
   "source": [
    "The number of neighbors - i.e. the number of other nodes, that one node is connected to - is a measure of the nodes centrality. We could count them like we did above - or we could use the len function to find out the length of the list above. Let's use the len function"
   ]
  },
  {
   "cell_type": "code",
   "execution_count": null,
   "metadata": {},
   "outputs": [],
   "source": [
    "# The number of neighbors of the node \"mads\"? (i.e. what is the centrality of \"mads\")\n",
    "len(list(G.neighbors('mads')))"
   ]
  },
  {
   "cell_type": "markdown",
   "metadata": {},
   "source": [
    "Now pick any kid and calculate its centrality and see who the kid played with\n"
   ]
  },
  {
   "cell_type": "code",
   "execution_count": null,
   "metadata": {},
   "outputs": [],
   "source": [
    "# List of neighbors\n",
    "list(G.neighbors('jesper'))"
   ]
  },
  {
   "cell_type": "code",
   "execution_count": null,
   "metadata": {},
   "outputs": [],
   "source": [
    "# Calculation of centrality\n",
    "len(list(G.neighbors('jesper')))"
   ]
  },
  {
   "cell_type": "markdown",
   "metadata": {},
   "source": [
    "The next script illustrate the possibility to rank the nodes based on the their centrality. It starts with pd. indicating that it is a function from the pandas package. Here the five kids with the highest centrality ranked with the highest centrality ranked at the top. "
   ]
  },
  {
   "cell_type": "code",
   "execution_count": null,
   "metadata": {},
   "outputs": [],
   "source": [
    "(pd.Series({n: len(list(G.neighbors(n))) \n",
    "            for n in G.nodes()})\n",
    " .sort_values(ascending=False)\n",
    " .head(5)\n",
    ")"
   ]
  },
  {
   "cell_type": "markdown",
   "metadata": {},
   "source": [
    "Now try to change the copy of the code to rank all the kids based on their centrality"
   ]
  },
  {
   "cell_type": "code",
   "execution_count": null,
   "metadata": {},
   "outputs": [],
   "source": [
    "(pd.Series({n: len(list(G.neighbors(n))) \n",
    "            for n in G.nodes()})\n",
    " .sort_values(ascending=False)\n",
    ")"
   ]
  },
  {
   "cell_type": "markdown",
   "metadata": {},
   "source": [
    "*(This could be done either by changing 5 to the total number of nodes or by deleting .head(5) completely)*"
   ]
  },
  {
   "cell_type": "markdown",
   "metadata": {},
   "source": [
    "Sometimes we are not only interested in the number of neighbors (centrality), but also in the degree of centrality. Here you see how we can make a list of the nodes along with their degree of centrality. The list is not ranked, but listed according to their original order in the csv file. "
   ]
  },
  {
   "cell_type": "code",
   "execution_count": null,
   "metadata": {},
   "outputs": [],
   "source": [
    "# nx.degree_centrality(G)\n",
    "list(nx.degree_centrality(G).items())[0:5]"
   ]
  },
  {
   "cell_type": "markdown",
   "metadata": {},
   "source": [
    "We can also plot the degree of centrality. "
   ]
  },
  {
   "cell_type": "code",
   "execution_count": null,
   "metadata": {},
   "outputs": [],
   "source": [
    "# Plotting a graph with degree centralities\n",
    "fig = plt.figure(0)\n",
    "# Get a list of degree centrality scores for all of the \n",
    "# nodes in the graph\n",
    "degree_centralities = list(\n",
    "    nx.degree_centrality(G).values())\n",
    "x, y = ecdf(degree_centralities)\n",
    "# Plot the graph of degree centralities.\n",
    "plt.scatter(x, y)\n",
    "# Set the plot title. \n",
    "plt.title('Degree Centralities')"
   ]
  },
  {
   "cell_type": "markdown",
   "metadata": {},
   "source": [
    "*Here the plot is given as a scatterplot - you can change the plt.scatter(x,y) to plt.hist(x,y) to get it as a histogram instead.*"
   ]
  },
  {
   "cell_type": "markdown",
   "metadata": {},
   "source": [
    "**Add your answers here**\n",
    "*(double-click here to edit the cell)*\n",
    "\n",
    "***Question I:<u>What will happen if you change False to True in the code ranking the centralities?</u>***\n",
    "\n",
    "The ranking will now be given with the one with the lowest centralities at the top.\n",
    "\n",
    "***Question II: <u>How many of the kids only had a single playmate at the day of the study</u>***\n",
    "\n",
    "None\n",
    "\n"
   ]
  },
  {
   "cell_type": "markdown",
   "metadata": {},
   "source": [
    "### Exercise 4 - Sick or not sick?\n",
    "Now, in the csv file we also have information about whether or not the kids got sick or not. Let us use this information and see if it can tell us something about the contamination."
   ]
  },
  {
   "cell_type": "markdown",
   "metadata": {},
   "source": [
    "KH: I don't know how to do so!!"
   ]
  },
  {
   "cell_type": "code",
   "execution_count": null,
   "metadata": {},
   "outputs": [],
   "source": []
  }
 ],
 "metadata": {
  "kernelspec": {
   "display_name": "Python 3",
   "language": "python",
   "name": "python3"
  },
  "language_info": {
   "codemirror_mode": {
    "name": "ipython",
    "version": 3
   },
   "file_extension": ".py",
   "mimetype": "text/x-python",
   "name": "python",
   "nbconvert_exporter": "python",
   "pygments_lexer": "ipython3",
   "version": "3.7.1"
  }
 },
 "nbformat": 4,
 "nbformat_minor": 2
}
