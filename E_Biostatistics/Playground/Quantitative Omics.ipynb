{
 "cells": [
  {
   "cell_type": "markdown",
   "metadata": {},
   "source": [
    "# Quantitative omics \n",
    "\n",
    "Typical data analysis pipeline with some bias towards proteomics data\n"
   ]
  },
  {
   "cell_type": "markdown",
   "metadata": {},
   "source": [
    "## Installation of libraries and necessary software\n",
    "\n",
    "Copy the files *me_bestprobes.csv* and _AllQuantProteinsInAllSamples.csv_ into the folder that contains this jupyter notebook or upload them to http://localhost:8888/tree\n",
    "\n",
    "\n",
    "Install the necessary libraries (only needed once) by executing (shift-enter) the following cell:\n"
   ]
  },
  {
   "cell_type": "code",
   "execution_count": 1,
   "metadata": {},
   "outputs": [
    {
     "name": "stderr",
     "output_type": "stream",
     "text": [
      "Installing package into 'C:/Users/arvid/Documents/R/win-library/3.5'\n",
      "(as 'lib' is unspecified)\n"
     ]
    },
    {
     "name": "stdout",
     "output_type": "stream",
     "text": [
      "package 'DAAG' successfully unpacked and MD5 sums checked\n",
      "\n",
      "The downloaded binary packages are in\n",
      "\tC:\\Users\\arvid\\AppData\\Local\\Temp\\RtmpkNlzN1\\downloaded_packages\n"
     ]
    },
    {
     "name": "stderr",
     "output_type": "stream",
     "text": [
      "Installing package into 'C:/Users/arvid/Documents/R/win-library/3.5'\n",
      "(as 'lib' is unspecified)\n"
     ]
    },
    {
     "name": "stdout",
     "output_type": "stream",
     "text": [
      "package 'MASS' successfully unpacked and MD5 sums checked\n",
      "\n",
      "The downloaded binary packages are in\n",
      "\tC:\\Users\\arvid\\AppData\\Local\\Temp\\RtmpkNlzN1\\downloaded_packages\n"
     ]
    },
    {
     "name": "stderr",
     "output_type": "stream",
     "text": [
      "Installing package into 'C:/Users/arvid/Documents/R/win-library/3.5'\n",
      "(as 'lib' is unspecified)\n"
     ]
    },
    {
     "name": "stdout",
     "output_type": "stream",
     "text": [
      "package 'matrixStats' successfully unpacked and MD5 sums checked\n",
      "\n",
      "The downloaded binary packages are in\n",
      "\tC:\\Users\\arvid\\AppData\\Local\\Temp\\RtmpkNlzN1\\downloaded_packages\n"
     ]
    },
    {
     "name": "stderr",
     "output_type": "stream",
     "text": [
      "Warning message in file(con, \"r\"):\n",
      "\"InternetOpenUrl failed: 'The server name or address could not be resolved'\"Bioconductor version 3.8 (BiocManager 1.30.4), R 3.5.1 (2018-07-02)\n",
      "Installing package(s) 'Biobase', 'preprocessCore', 'qvalue', 'limma'\n"
     ]
    },
    {
     "name": "stdout",
     "output_type": "stream",
     "text": [
      "package 'Biobase' successfully unpacked and MD5 sums checked\n",
      "package 'preprocessCore' successfully unpacked and MD5 sums checked\n",
      "package 'qvalue' successfully unpacked and MD5 sums checked\n",
      "package 'limma' successfully unpacked and MD5 sums checked\n",
      "\n",
      "The downloaded binary packages are in\n",
      "\tC:\\Users\\arvid\\AppData\\Local\\Temp\\RtmpkNlzN1\\downloaded_packages\n"
     ]
    },
    {
     "name": "stderr",
     "output_type": "stream",
     "text": [
      "installation path not writeable, unable to update packages: boot, class,\n",
      "  cluster, codetools, foreign, lattice, MASS, Matrix, mgcv, nlme, rpart,\n",
      "  survival\n",
      "Update old packages: 'recipes'\n"
     ]
    }
   ],
   "source": [
    "install.packages(\"DAAG\", repos='http://cran.us.r-project.org')\n",
    "install.packages(\"MASS\", repos='http://cran.us.r-project.org')\n",
    "install.packages(\"matrixStats\", repos='http://cran.us.r-project.org')\n",
    "if (!requireNamespace(\"BiocManager\", quietly = TRUE))\n",
    "    install.packages(\"BiocManager\")\n",
    "BiocManager::install(c(\"Biobase\",\"preprocessCore\",\"qvalue\",\"limma\"))"
   ]
  },
  {
   "cell_type": "markdown",
   "metadata": {},
   "source": [
    "## Loading data and libraries\n",
    "This requires that the installation above have been finished without error"
   ]
  },
  {
   "cell_type": "code",
   "execution_count": 2,
   "metadata": {},
   "outputs": [
    {
     "name": "stderr",
     "output_type": "stream",
     "text": [
      "Warning message:\n",
      "\"package 'MASS' was built under R version 3.5.3\"Warning message:\n",
      "\"package 'DAAG' was built under R version 3.5.3\"Loading required package: lattice\n",
      "\n",
      "Attaching package: 'DAAG'\n",
      "\n",
      "The following object is masked from 'package:MASS':\n",
      "\n",
      "    hills\n",
      "\n",
      "Warning message:\n",
      "\"package 'matrixStats' was built under R version 3.5.3\"Loading required package: BiocGenerics\n",
      "Loading required package: parallel\n",
      "\n",
      "Attaching package: 'BiocGenerics'\n",
      "\n",
      "The following objects are masked from 'package:parallel':\n",
      "\n",
      "    clusterApply, clusterApplyLB, clusterCall, clusterEvalQ,\n",
      "    clusterExport, clusterMap, parApply, parCapply, parLapply,\n",
      "    parLapplyLB, parRapply, parSapply, parSapplyLB\n",
      "\n",
      "The following objects are masked from 'package:stats':\n",
      "\n",
      "    IQR, mad, sd, var, xtabs\n",
      "\n",
      "The following objects are masked from 'package:base':\n",
      "\n",
      "    anyDuplicated, append, as.data.frame, basename, cbind, colMeans,\n",
      "    colnames, colSums, dirname, do.call, duplicated, eval, evalq,\n",
      "    Filter, Find, get, grep, grepl, intersect, is.unsorted, lapply,\n",
      "    lengths, Map, mapply, match, mget, order, paste, pmax, pmax.int,\n",
      "    pmin, pmin.int, Position, rank, rbind, Reduce, rowMeans, rownames,\n",
      "    rowSums, sapply, setdiff, sort, table, tapply, union, unique,\n",
      "    unsplit, which, which.max, which.min\n",
      "\n",
      "Welcome to Bioconductor\n",
      "\n",
      "    Vignettes contain introductory material; view with\n",
      "    'browseVignettes()'. To cite Bioconductor, see\n",
      "    'citation(\"Biobase\")', and for packages 'citation(\"pkgname\")'.\n",
      "\n",
      "\n",
      "Attaching package: 'Biobase'\n",
      "\n",
      "The following objects are masked from 'package:matrixStats':\n",
      "\n",
      "    anyMissing, rowMedians\n",
      "\n",
      "Warning message:\n",
      "\"package 'qvalue' was built under R version 3.5.2\"\n",
      "Attaching package: 'limma'\n",
      "\n",
      "The following object is masked from 'package:BiocGenerics':\n",
      "\n",
      "    plotMA\n",
      "\n",
      "Warning message in file(file, \"rt\"):\n",
      "\"cannot open file 'me_bestprobes.csv': No such file or directory\""
     ]
    },
    {
     "ename": "ERROR",
     "evalue": "Error in file(file, \"rt\"): cannot open the connection\n",
     "output_type": "error",
     "traceback": [
      "Error in file(file, \"rt\"): cannot open the connection\nTraceback:\n",
      "1. read.csv(\"me_bestprobes.csv\", row.names = 1)",
      "2. read.table(file = file, header = header, sep = sep, quote = quote, \n .     dec = dec, fill = fill, comment.char = comment.char, ...)",
      "3. file(file, \"rt\")"
     ]
    }
   ],
   "source": [
    "library(\"MASS\")\n",
    "library(\"DAAG\")\n",
    "library(\"matrixStats\")\n",
    "library(\"Biobase\")\n",
    "library(\"preprocessCore\")\n",
    "library(\"qvalue\")\n",
    "library(\"limma\")\n",
    "\n",
    "me_Kalinka <- read.csv(\"me_bestprobes.csv\",row.names=1)\n",
    "CanceriTRAQ <- read.csv(\"AllQuantProteinsInAllSamples.csv\",row.names=1)"
   ]
  },
  {
   "cell_type": "markdown",
   "metadata": {},
   "source": [
    "### Exercise 1\n",
    "Get the data ```geneData``` from the ```Biobase``` package. Normalize the columns (by division on normal scale or subtraction on log-scale) by a) mean, b) median, c) mean of log-values, and d) median of log-values. Revise the results extensively by comparing the distributions with plots for histograms, density plots, ranked plots and ```qqnorm```. Do also a direct comparison between replicates by scatter plots.\n",
    "\n"
   ]
  },
  {
   "cell_type": "code",
   "execution_count": 3,
   "metadata": {},
   "outputs": [
    {
     "data": {
      "image/png": "[encoded data removed]",
      "text/plain": [
       "Plot with title \"Histogram of geneData[, 1]\""
      ]
     },
     "metadata": {},
     "output_type": "display_data"
    },
    {
     "data": {
      "image/png": "[encoded data removed]",
      "text/plain": [
       "Plot with title \"density.default(x = na.omit(geneData[, 1]))\""
      ]
     },
     "metadata": {},
     "output_type": "display_data"
    },
    {
     "data": {
      "image/png": "[encoded data removed]",
      "text/plain": [
       "plot without title"
      ]
     },
     "metadata": {},
     "output_type": "display_data"
    },
    {
     "data": {
      "image/png": "[encoded data removed]",
      "text/plain": [
       "Plot with title \"Normal Q-Q Plot\""
      ]
     },
     "metadata": {},
     "output_type": "display_data"
    },
    {
     "data": {
      "image/png": "[encoded data removed]",
      "text/plain": [
       "plot without title"
      ]
     },
     "metadata": {},
     "output_type": "display_data"
    }
   ],
   "source": [
    "data(geneData)\n",
    "geneData[geneData<=0] <- NA\n",
    "logDat <- log2(geneData)\n",
    "\n",
    "# Create normalized matrices\n",
    "\n",
    "# plot the results\n",
    "hist(geneData[,1])\n",
    "plot(density(na.omit(geneData[,1])))\n",
    "plot(sort(geneData[,1]))\n",
    "qqnorm(geneData[,1])\n",
    "pairs(geneData[,1:5])\n",
    "\n",
    "\n"
   ]
  },
  {
   "cell_type": "markdown",
   "metadata": {},
   "source": [
    "##### Question I:  <u>Would you plot the data on log-scale or on normal scale?</u>\n",
    "\n",
    "_Answer_\n",
    "\n",
    "##### Question II:  <u>What does qqnorm tell us?</u>\n",
    "\n",
    "_Answer_\n",
    "\n",
    "##### Question III:  <u>What is the problem when normalizing by the mean on normal scale?</u>\n",
    "\n",
    "_Answer_\n",
    "\n",
    "##### Question IV:  <u>What is the difference between normalization b) and d)?</u>\n",
    "\n",
    "_Answer_\n",
    "\n"
   ]
  },
  {
   "cell_type": "markdown",
   "metadata": {},
   "source": [
    "### Exercise 2\n",
    "\n",
    "a) Take the log-transformed ```geneData``` set and perform t-tests for all genes between sample groups (B, I, K, N, P, T) and (C, G, J, O, R, U, V). You can copy and modifiy the code from the lecture. Do not forget to correct for multiple testing. Plot histograms of p-values and generate a volcano plot.\n",
    "\n",
    "b) Take randomly chosen samples of 6 versus 6 groups and redo the statistical tests.\n",
    "\n",
    "c) Carry out a principal component analysis on the entire data set and look for the groups that you tested for significantly different genes (loading plot) in a).\n"
   ]
  },
  {
   "cell_type": "code",
   "execution_count": 4,
   "metadata": {},
   "outputs": [
    {
     "data": {
      "text/html": [
       "<ol class=list-inline>\n",
       "\t<li>0.000192252552558735</li>\n",
       "\t<li>0.000192252552558735</li>\n",
       "\t<li>0.000192252552558735</li>\n",
       "\t<li>0.000192252552558735</li>\n",
       "\t<li>0.000235546896825694</li>\n",
       "\t<li>0.00054475481996771</li>\n",
       "</ol>\n"
      ],
      "text/latex": [
       "\\begin{enumerate*}\n",
       "\\item 0.000192252552558735\n",
       "\\item 0.000192252552558735\n",
       "\\item 0.000192252552558735\n",
       "\\item 0.000192252552558735\n",
       "\\item 0.000235546896825694\n",
       "\\item 0.00054475481996771\n",
       "\\end{enumerate*}\n"
      ],
      "text/markdown": [
       "1. 0.000192252552558735\n",
       "2. 0.000192252552558735\n",
       "3. 0.000192252552558735\n",
       "4. 0.000192252552558735\n",
       "5. 0.000235546896825694\n",
       "6. 0.00054475481996771\n",
       "\n",
       "\n"
      ],
      "text/plain": [
       "[1] 0.0001922526 0.0001922526 0.0001922526 0.0001922526 0.0002355469\n",
       "[6] 0.0005447548"
      ]
     },
     "metadata": {},
     "output_type": "display_data"
    }
   ],
   "source": [
    "geneData[geneData<=0] <- NA\n",
    "logDat <- log2(geneData)\n",
    "logDat <- logDat[complete.cases(logDat),]\n",
    "pvals <- vector(,nrow(logDat))\n",
    "for(i in 1:nrow(logDat)) {\n",
    "  pvals[i] <- t.test(logDat[i,c(\"B\",\"I\",\"K\",\"N\",\"P\",\"T\")], logDat[i,c(\"C\",\"G\",\"J\",\"O\",\"R\",\"U\",\"V\")])$p.value\n",
    "}\n",
    "head(sort(p.adjust(pvals,method=\"BH\")))\n",
    "\n",
    "# ..."
   ]
  },
  {
   "cell_type": "markdown",
   "metadata": {},
   "source": [
    "##### Question I:  <u>How many differentially regulated genes do you find in a) and in b) (p-value below 0.01)?</u>\n",
    "\n",
    "_Answer_\n",
    "\n",
    "##### Question II:  <u>Why does a volcano plot look like a volcano?</u>\n",
    "\n",
    "_Answer_\n",
    "\n",
    "##### Question III:  <u>What does the PCA tell you about part a) of this exercise?</u>\n",
    "\n",
    "_Answer_\n",
    "\n"
   ]
  },
  {
   "cell_type": "markdown",
   "metadata": {},
   "source": [
    "### Exercise 3\n",
    "Read the file _Example.csv_ and extract the column with the protein accessions. \n",
    "\n",
    "a) Pick out one of the values and apply ```strsplit``` to separate database name (e.g. TREMBL, SWISS-PROT) from accession id.\n",
    "\n",
    "b) Take a value with multiple protein accessions and extract only the accession ids.\n",
    "\n",
    "c) Operate ```strsplit``` on the entire column and try to extract the accession ids.\n"
   ]
  },
  {
   "cell_type": "code",
   "execution_count": 5,
   "metadata": {},
   "outputs": [
    {
     "name": "stderr",
     "output_type": "stream",
     "text": [
      "Warning message in file(file, \"rt\"):\n",
      "\"cannot open file 'ExampleFile.csv': No such file or directory\""
     ]
    },
    {
     "ename": "ERROR",
     "evalue": "Error in file(file, \"rt\"): cannot open the connection\n",
     "output_type": "error",
     "traceback": [
      "Error in file(file, \"rt\"): cannot open the connection\nTraceback:\n",
      "1. read.csv(\"ExampleFile.csv\")",
      "2. read.table(file = file, header = header, sep = sep, quote = quote, \n .     dec = dec, fill = fill, comment.char = comment.char, ...)",
      "3. file(file, \"rt\")"
     ]
    }
   ],
   "source": [
    "A <- read.csv(\"ExampleFile.csv\")\n",
    "protaccs <- A$Protein.Accessions\n",
    "# a)\n",
    "strsplit(as.character(protaccs[10]),\":\",fixed = T)\n",
    "# b)\n",
    "unlist(strsplit(strsplit(as.character(protaccs[991]),\":\",fixed = T)[[1]][2],\";\",fixed=T))\n",
    "# c) Still some SWISS-PROT in the array though\n",
    "allprots <- NULL\n",
    "for (i in 1:length(protaccs)) {\n",
    "  str1 <- strsplit(as.character(protaccs[i]),\":\",fixed = T)\n",
    "  # print(str1[[1]])\n",
    "  if (length(str1[[1]])>1)\n",
    "    allprots <- append(allprots, unlist(strsplit(str1[[1]][2],\";\",fixed=T)))\n",
    "}\n"
   ]
  },
  {
   "cell_type": "markdown",
   "metadata": {},
   "source": [
    "##### Question I:  <u>?</u>\n",
    "\n",
    "_Answer_\n",
    "\n",
    "##### Question I:  <u>?</u>\n",
    "\n",
    "_Answer_\n",
    "\n",
    "##### Question I:  <u>?</u>\n",
    "\n",
    "_Answer_\n",
    "\n",
    "##### Question I:  <u>?</u>\n",
    "\n",
    "_Answer_\n",
    "\n"
   ]
  },
  {
   "cell_type": "markdown",
   "metadata": {},
   "source": [
    "### Exercise 4\n",
    "\n",
    "We will test different normalization methods on micro-array data from _Drosophila melanogaster_ development (https://www.nature.com/articles/nature09634). \n",
    "\n",
    "a) Make a boxplot and compare the different developmental stages. \n",
    "\n",
    "Make a scatter plot and change sample numbers to see how they compare quantitatively.\n",
    "\n",
    "Look at the MA plot and understand what it shows\n",
    "\n",
    "b) Carry out median normalization and look at the plots of the normalized data\n",
    "\n",
    "c) Carry out quantile normalization ```normalize.quantiles(microarray)``` and look at the plots again\n",
    "\n"
   ]
  },
  {
   "cell_type": "code",
   "execution_count": 6,
   "metadata": {},
   "outputs": [
    {
     "ename": "ERROR",
     "evalue": "Error in eval(expr, envir, enclos): object 'me_Kalinka' not found\n",
     "output_type": "error",
     "traceback": [
      "Error in eval(expr, envir, enclos): object 'me_Kalinka' not found\nTraceback:\n"
     ]
    }
   ],
   "source": [
    "microarray <- me_Kalinka[,2:ncol(me_Kalinka)]\n",
    "\n",
    "#boxplot(microarray)\n",
    "\n",
    "#sample1 <- 1\n",
    "#sample2 <- 7\n",
    "#plot(microarray[,sample1],microarray[,sample2],cex=0.5,pch=15, col=\"#00000033\", \n",
    "#     xlab=paste(\"Sample\",sample1), ylab=paste(\"Sample\",sample2))\n",
    "#abline(0,1)\n",
    "\n",
    "#plot(rowMeans(microarray,na.rm=T),microarray[,sample2]-microarray[,sample1],cex=0.5,pch=15, col=\"#00000033\", \n",
    "#     xlab=paste(\"Sample\",sample1), ylab=paste(\"Sample\",sample2))\n",
    "#abline(h=0)\n",
    "\n",
    "# add different normalizations here\n",
    "\n",
    "\n",
    "# plot again"
   ]
  },
  {
   "cell_type": "markdown",
   "metadata": {},
   "source": [
    "##### Question I:  <u>Can you spot the difference between the developmental states from the boxplot?</u>\n",
    "\n",
    "_Answer_\n",
    "\n",
    "##### Question II:  <u>What complicates normalization of such a data set with large differences?</u>\n",
    "\n",
    "_Answer_\n",
    "\n",
    "\n",
    "##### Question III:  <u>What are the sometimes rather drastic changes in the data when using quantile normalization?</u>\n",
    "\n",
    "_Answer_\n",
    "\n",
    "\n",
    "##### Question IV:  <u>Which normalization would you recommend?</u>\n",
    "\n",
    "_Answer_\n",
    "\n"
   ]
  },
  {
   "cell_type": "markdown",
   "metadata": {},
   "source": [
    "### Exercise 5\n",
    "\n",
    "    Carry out t-tests between the two cancer subtypes of the ```CanceriTRAQ``` data (from https://journals.plos.org/plosone/article?id=10.1371/journal.pone.0137048). Plot the p-values (corrected for multiple testing) in a volcano plot and compare the results to the ones in the _IsoProt_ paper (https://pubs.acs.org/doi/10.1021/acs.jproteome.8b00968)\n",
    "\n",
    "Compare the results for the two types of correction for multiple testing \"Benjamini-Hochbert\" and the ```qvalue``` library (\"Storey\" method). You can make a scatter plot of the FDRs (corrected p-values) on log-scale and also compare by making two volcano plots.\n"
   ]
  },
  {
   "cell_type": "code",
   "execution_count": 7,
   "metadata": {},
   "outputs": [
    {
     "ename": "ERROR",
     "evalue": "Error in eval(expr, envir, enclos): object 'CanceriTRAQ' not found\n",
     "output_type": "error",
     "traceback": [
      "Error in eval(expr, envir, enclos): object 'CanceriTRAQ' not found\nTraceback:\n"
     ]
    }
   ],
   "source": [
    "CanceriTRAQRed <- CanceriTRAQ[rowSums(is.na(CanceriTRAQ))<3,]\n",
    "# Add your code here:\n",
    "\n",
    "pvals <- apply(CanceriTRAQRed, 1, function(x) t.test(x[1:4],x[5:8])$p.value)\n",
    "               \n",
    "qvals <- p.adjust(pvals, method=\"BH\")\n",
    "               qqvals <- qvalue(pvals)$qvalue\n",
    "print(head(sort(qqvals)))"
   ]
  },
  {
   "cell_type": "markdown",
   "metadata": {},
   "source": [
    "##### Question I:  <u>What does the first line of code do?</u>\n",
    "\n",
    "_Answer_\n",
    "\n",
    "##### Question II:  <u>How many p-values <0.05 and 0.1 do you get? How many after correction for multiple testing?</u>\n",
    "\n",
    "_Answer_\n",
    "\n",
    "##### Question III:  <u>What would be needed to increase the number of significantly changing proteins?</u>\n",
    "\n",
    "_Answer_\n",
    "\n",
    "##### Question IV:  <u>How many p-values below 0.05 would a randomized data set of the same size give without correction for multiple testing?</u>\n",
    "\n",
    "_Answer_\n",
    "\n",
    "##### Question V:  <u>Name the difference you observe when comparing the two methods (\"Benjamini-Hochberg\" and \"Storey\")</u>\n",
    "\n",
    "_Answer_\n",
    "\n"
   ]
  },
  {
   "cell_type": "markdown",
   "metadata": {},
   "source": [
    "### Exercise 6\n",
    "\n",
    "The ```limma``` package provides better estimates of the p-values by adjusting the observed variances of the features to the generally observed trends in the data. \n",
    "\n",
    "Carry out limma testing on the cancer data and compare the results to the ones from the t-tests.\n",
    "\n",
    "Take the 50 most regulated proteins and upload them to the following two web services for biological interpretation:\n",
    "\n",
    "- DAVID: http://david.ncifcrf.gov\n",
    "- GOrilla http://cbl-gorilla.cs.technion.ac.il/\n",
    "\n"
   ]
  },
  {
   "cell_type": "code",
   "execution_count": 8,
   "metadata": {},
   "outputs": [
    {
     "ename": "ERROR",
     "evalue": "Error in eval(expr, envir, enclos): object 'CanceriTRAQ' not found\n",
     "output_type": "error",
     "traceback": [
      "Error in eval(expr, envir, enclos): object 'CanceriTRAQ' not found\nTraceback:\n"
     ]
    }
   ],
   "source": [
    "## limma\n",
    "# Set replicate numbers\n",
    "Reps <- c(1,1,1,1,2,2,2,2)\n",
    "Data <- CanceriTRAQ\n",
    "NumCond <- max(Reps)\n",
    "  design <- model.matrix(~0+factor(Reps-1))\n",
    "  colnames(design)<-paste(\"i\",c(1:NumCond),sep=\"\")\n",
    "  contrasts<-NULL\n",
    "  First <- 1\n",
    "  for (i in (1:NumCond)[-First]) contrasts<-append(contrasts,paste(colnames(design)[i],\"-\",colnames(design)[First],sep=\"\"))\n",
    "  contrast.matrix<-makeContrasts(contrasts=contrasts,levels=design)\n",
    "  print(dim(Data))\n",
    "  lm.fitted <- lmFit(Data,design)\n",
    "  \n",
    "  lm.contr <- contrasts.fit(lm.fitted,contrast.matrix)\n",
    "  lm.bayes<-eBayes(lm.contr)\n",
    "  #topTable(lm.bayes)\n",
    "# These are the (uncorrected) p-values from the moderated t-test from the limma package:\n",
    "  plvalues <- lm.bayes$p.value\n",
    "head(sort(p.adjust(plvalues, method=\"BH\")))\n",
    "\n"
   ]
  },
  {
   "cell_type": "markdown",
   "metadata": {},
   "source": [
    "##### Question I:  <u>How many regulated proteins do you find this time (FDR < 0.05)?</u>\n",
    "\n",
    "_Answer_\n",
    "\n",
    "##### Question II:  <u>Which are the most enriched Gene ontology terms (GO terms) in both web sites?</u>\n",
    "\n",
    "_Answer_\n",
    "\n",
    "##### Question III:  <u>Which pathways are likely to distinguish the two cancer subtypes?</u>\n",
    "\n",
    "_Answer_\n",
    "\n"
   ]
  }
 ],
 "metadata": {
  "kernelspec": {
   "display_name": "R",
   "language": "R",
   "name": "ir"
  },
  "language_info": {
   "codemirror_mode": "r",
   "file_extension": ".r",
   "mimetype": "text/x-r-source",
   "name": "R",
   "pygments_lexer": "r",
   "version": "3.5.1"
  }
 },
 "nbformat": 4,
 "nbformat_minor": 2
}
