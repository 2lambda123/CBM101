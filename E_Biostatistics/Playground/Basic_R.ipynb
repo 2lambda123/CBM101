{
 "cells": [
  {
   "cell_type": "markdown",
   "metadata": {},
   "source": [
    "# Introduction into R coding\n",
    "\n",
    "This notebook is to get used to the R environment and manage to carry out basic tasks such as reading files and simple plots.\n",
    "\n"
   ]
  },
  {
   "cell_type": "markdown",
   "metadata": {},
   "source": [
    "## Installation of libraries and necessary software\n",
    "Install the necessary libraries (only needed once) by executing (shift-enter) the following cell:\n"
   ]
  },
  {
   "cell_type": "code",
   "execution_count": 1,
   "metadata": {},
   "outputs": [
    {
     "name": "stderr",
     "output_type": "stream",
     "text": [
      "Installing package into 'C:/Users/arvid/Documents/R/win-library/3.5'\n",
      "(as 'lib' is unspecified)\n"
     ]
    },
    {
     "name": "stdout",
     "output_type": "stream",
     "text": [
      "package 'MASS' successfully unpacked and MD5 sums checked\n",
      "\n",
      "The downloaded binary packages are in\n",
      "\tC:\\Users\\arvid\\AppData\\Local\\Temp\\RtmpuEX4vr\\downloaded_packages\n"
     ]
    }
   ],
   "source": [
    "install.packages(\"MASS\", repos='http://cran.us.r-project.org')"
   ]
  },
  {
   "cell_type": "markdown",
   "metadata": {},
   "source": [
    "## Loading data and libraries\n",
    "This requires that the installation above have been finished without error"
   ]
  },
  {
   "cell_type": "code",
   "execution_count": 2,
   "metadata": {},
   "outputs": [
    {
     "name": "stderr",
     "output_type": "stream",
     "text": [
      "Warning message:\n",
      "\"package 'MASS' was built under R version 3.5.3\""
     ]
    }
   ],
   "source": [
    "library(\"MASS\")"
   ]
  },
  {
   "cell_type": "markdown",
   "metadata": {},
   "source": [
    "### Exercise 1\n",
    "Answer the following questions about the R framework\n",
    "\n"
   ]
  },
  {
   "cell_type": "markdown",
   "metadata": {},
   "source": [
    "#### Add your answers here\n",
    "(double-click here to edit the cell)\n",
    "\n",
    "##### Question I:  <u>What is the difference between the commands ```install.packages``` and ```library```?</u>\n",
    "\n",
    "_Answer_\n",
    "\n",
    "##### Question II:  <u>What is an object in R and what can it contain?</u>\n",
    "\n",
    "_Answer_\n",
    "\n",
    "##### Question III: <u>A ```data.frame``` is one of the most important R objects. Explain how rows, columns, rownames and colnames corresponds to what you see on an Excel sheet:</u>\n",
    "\n",
    "_Answer_\n",
    "\n",
    "##### Question II:  <u>What is the difference between an object and a function?</u>\n",
    "\n",
    "_Answer_\n",
    "\n"
   ]
  },
  {
   "cell_type": "markdown",
   "metadata": {},
   "source": [
    "### Exercise 2\n",
    "Read the data frame ```Pima.tr2``` from the MASS library. \n",
    "Calculate the dimensions of the data frame by executing the following cell. \n",
    "Count the number of missing values for each column. For that add R code that contains the functions ```is.na()``` ```colSums()```. Use ```table()``` on the output of ```colSums()``` to count how many rows do have how many missing values. \n"
   ]
  },
  {
   "cell_type": "code",
   "execution_count": 3,
   "metadata": {},
   "outputs": [
    {
     "data": {
      "text/html": [
       "<ol class=list-inline>\n",
       "\t<li>300</li>\n",
       "\t<li>8</li>\n",
       "</ol>\n"
      ],
      "text/latex": [
       "\\begin{enumerate*}\n",
       "\\item 300\n",
       "\\item 8\n",
       "\\end{enumerate*}\n"
      ],
      "text/markdown": [
       "1. 300\n",
       "2. 8\n",
       "\n",
       "\n"
      ],
      "text/plain": [
       "[1] 300   8"
      ]
     },
     "metadata": {},
     "output_type": "display_data"
    }
   ],
   "source": [
    "data(Pima.tr2)\n",
    "# the data.frame is in the Pima.tr2 object\n",
    "dim(Pima.tr2)\n",
    "# add your code here:\n"
   ]
  },
  {
   "cell_type": "markdown",
   "metadata": {},
   "source": [
    "### Exercise 3\n",
    "Use the functions ```mean()``` and```range()``` to find the mean and range of.\n",
    "- the numbers 1, 2, ..., 21\n",
    "- the sample of 50 random values generated from a normal distribution with mean 0 and variance 1 using ```rnorm(50)```. Repeat several times with new set of 50 random numbers to get a feeling about random numbers.\n",
    "- the columns ```height``` and ```weight``` in the data frame \\```women``` \n",
    "\n",
    "Repeat all above, but now with the functions ```median()```, ```sum()``` and ```sd()```.\n",
    "\n"
   ]
  },
  {
   "cell_type": "code",
   "execution_count": 4,
   "metadata": {},
   "outputs": [],
   "source": [
    "x <- 1:21\n",
    "\n",
    "y <- rnorm(50)\n",
    "\n",
    "z1 <- women$height\n",
    "z2 <- women$weight\n"
   ]
  },
  {
   "cell_type": "markdown",
   "metadata": {},
   "source": [
    "##### Question I:  <u>Which are good descriptors for the different samples?</u>\n",
    "\n",
    "_Answer_\n",
    "\n",
    "##### Question II:  <u>What is the most accurate way to describe normally distributed data?</u>\n",
    "\n",
    "_Answer_"
   ]
  },
  {
   "cell_type": "markdown",
   "metadata": {},
   "source": [
    "### Exercise 4\n",
    "Get dataset mammals that is part of package MASS. Plot ```brain``` versus ```body```. Additionally, do the same plot accessing the columns directly. Try to visualize the data on logarithmic scale applying the ```log``` argument in the ```plot``` function. \n"
   ]
  },
  {
   "cell_type": "code",
   "execution_count": 5,
   "metadata": {},
   "outputs": [],
   "source": [
    "library(MASS)\n",
    "data(\"mammals\")\n",
    "x <- mammals$body\n",
    "y <- mammals$brain"
   ]
  },
  {
   "cell_type": "markdown",
   "metadata": {},
   "source": [
    "##### Question I:  <u>Why is the logarithmic scale more suitable?</u>\n",
    "\n",
    "_Answer_\n",
    "\n",
    "##### Question II:  <u>What is the relation between x and y when they show a linear relationship on double-logarithmic scale (both axis on logarithmic scale)?</u>\n",
    "\n",
    "_Answer_"
   ]
  },
  {
   "cell_type": "markdown",
   "metadata": {},
   "source": [
    "### Exercise 5\n",
    "\n",
    "Get data set ```genotype``` from library(MASS) and read about it (```?genotype```). Sort the data by column ```Wt``` with the ```order``` function. Sort the data also by column ```Mother```. Then sort by both ```Wt``` and then ```Mother```.\n"
   ]
  },
  {
   "cell_type": "code",
   "execution_count": 6,
   "metadata": {},
   "outputs": [],
   "source": [
    "library(MASS)\n",
    "data(genotype)\n",
    "A <- genotype[order(genotype$Wt),]\n"
   ]
  },
  {
   "cell_type": "markdown",
   "metadata": {},
   "source": [
    "##### Question I:  <u>Do you see any relation between having a mother of the same genotype and the average weight gain?</u>\n",
    "\n",
    "_Answer_"
   ]
  },
  {
   "cell_type": "markdown",
   "metadata": {},
   "source": [
    "### Exercise 6\n",
    "Look at the ```for``` loop below that prints each number of a vector on a separate line, with its square and cube alongside.\n",
    "\n",
    "Look up ```help(while)```. Show how to use a ```while``` loop to achieve the same result.\n"
   ]
  },
  {
   "cell_type": "code",
   "execution_count": 7,
   "metadata": {},
   "outputs": [
    {
     "name": "stdout",
     "output_type": "stream",
     "text": [
      "[1] \"1 1 1\"\n",
      "[1] \"2 4 8\"\n",
      "[1] \"3 9 27\"\n",
      "[1] \"4 16 64\"\n",
      "[1] \"5 25 125\"\n",
      "[1] \"6 36 216\"\n",
      "[1] \"7 49 343\"\n",
      "[1] \"8 64 512\"\n",
      "[1] \"9 81 729\"\n",
      "[1] \"10 100 1000\"\n"
     ]
    }
   ],
   "source": [
    "vec <- 1:10\n",
    "for (i in vec) {\n",
    "  print(paste(i, i*i, i^3))\n",
    "}\n"
   ]
  },
  {
   "cell_type": "markdown",
   "metadata": {},
   "source": [
    "### Exercise 7\n",
    "Carry out the commands below\n",
    "\n"
   ]
  },
  {
   "cell_type": "code",
   "execution_count": 8,
   "metadata": {},
   "outputs": [
    {
     "data": {
      "text/html": [
       "'Leo the lion'"
      ],
      "text/latex": [
       "'Leo the lion'"
      ],
      "text/markdown": [
       "'Leo the lion'"
      ],
      "text/plain": [
       "[1] \"Leo the lion\""
      ]
     },
     "metadata": {},
     "output_type": "display_data"
    },
    {
     "data": {
      "text/html": [
       "'a b'"
      ],
      "text/latex": [
       "'a b'"
      ],
      "text/markdown": [
       "'a b'"
      ],
      "text/plain": [
       "[1] \"a b\""
      ]
     },
     "metadata": {},
     "output_type": "display_data"
    },
    {
     "data": {
      "text/html": [
       "'ab'"
      ],
      "text/latex": [
       "'ab'"
      ],
      "text/markdown": [
       "'ab'"
      ],
      "text/plain": [
       "[1] \"ab\""
      ]
     },
     "metadata": {},
     "output_type": "display_data"
    },
    {
     "data": {
      "text/html": [
       "<ol class=list-inline>\n",
       "\t<li>'1'</li>\n",
       "\t<li>'2'</li>\n",
       "\t<li>'3'</li>\n",
       "\t<li>'4'</li>\n",
       "\t<li>'5'</li>\n",
       "</ol>\n"
      ],
      "text/latex": [
       "\\begin{enumerate*}\n",
       "\\item '1'\n",
       "\\item '2'\n",
       "\\item '3'\n",
       "\\item '4'\n",
       "\\item '5'\n",
       "\\end{enumerate*}\n"
      ],
      "text/markdown": [
       "1. '1'\n",
       "2. '2'\n",
       "3. '3'\n",
       "4. '4'\n",
       "5. '5'\n",
       "\n",
       "\n"
      ],
      "text/plain": [
       "[1] \"1\" \"2\" \"3\" \"4\" \"5\""
      ]
     },
     "metadata": {},
     "output_type": "display_data"
    },
    {
     "data": {
      "text/html": [
       "'12345'"
      ],
      "text/latex": [
       "'12345'"
      ],
      "text/markdown": [
       "'12345'"
      ],
      "text/plain": [
       "[1] \"12345\""
      ]
     },
     "metadata": {},
     "output_type": "display_data"
    }
   ],
   "source": [
    "paste(\"Leo\",\"the\",\"lion\")\n",
    "paste(\"a\",\"b\")\n",
    "paste(\"a\",\"b\", sep=\"\")\n",
    "paste(1:5)\n",
    "paste(1:5, collapse=\"\")\n"
   ]
  },
  {
   "cell_type": "markdown",
   "metadata": {},
   "source": [
    "##### Question I:  <u>What do the arguments ```sep``` and ```collapse``` achieve (test by making your own examples)?</u>\n",
    "\n",
    "_Answer_"
   ]
  },
  {
   "cell_type": "markdown",
   "metadata": {},
   "source": [
    "### Exercise 8\n",
    "The following function calculates the mean and standard deviation of a numeric vector.\n",
    "```\n",
    "MeanAndSd <- function (x) {\n",
    "  av <- mean(x)\n",
    "  sdev <- sd(x)\n",
    "  c(mean=av, sd=sdev)\n",
    "}\n",
    "```\n",
    "\n",
    "Modify the function so that: (a) the default is to use ```rnorm()``` to generate 20 random numbers; (b) if there are missing values, the mean and standard deviation are calculated for the remaining values.\n"
   ]
  },
  {
   "cell_type": "code",
   "execution_count": 9,
   "metadata": {},
   "outputs": [
    {
     "data": {
      "text/html": [
       "<dl class=dl-horizontal>\n",
       "\t<dt>mean</dt>\n",
       "\t\t<dd>-0.0213552702157192</dd>\n",
       "\t<dt>sd</dt>\n",
       "\t\t<dd>0.912770873612431</dd>\n",
       "</dl>\n"
      ],
      "text/latex": [
       "\\begin{description*}\n",
       "\\item[mean] -0.0213552702157192\n",
       "\\item[sd] 0.912770873612431\n",
       "\\end{description*}\n"
      ],
      "text/markdown": [
       "mean\n",
       ":   -0.0213552702157192sd\n",
       ":   0.912770873612431\n",
       "\n"
      ],
      "text/plain": [
       "       mean          sd \n",
       "-0.02135527  0.91277087 "
      ]
     },
     "metadata": {},
     "output_type": "display_data"
    },
    {
     "data": {
      "text/html": [
       "<dl class=dl-horizontal>\n",
       "\t<dt>mean</dt>\n",
       "\t\t<dd>-0.0432636760857371</dd>\n",
       "\t<dt>sd</dt>\n",
       "\t\t<dd>&lt;NA&gt;</dd>\n",
       "</dl>\n"
      ],
      "text/latex": [
       "\\begin{description*}\n",
       "\\item[mean] -0.0432636760857371\n",
       "\\item[sd] <NA>\n",
       "\\end{description*}\n"
      ],
      "text/markdown": [
       "mean\n",
       ":   -0.0432636760857371sd\n",
       ":   &lt;NA&gt;\n",
       "\n"
      ],
      "text/plain": [
       "       mean          sd \n",
       "-0.04326368          NA "
      ]
     },
     "metadata": {},
     "output_type": "display_data"
    }
   ],
   "source": [
    "# example for using 100 random number and calculate mean for the remaining values\n",
    "MeanAndSd <- function (x=rnorm(100), narm=T) {\n",
    "  av <- mean(x,na.rm=narm)\n",
    "  sdev <- sd(x)\n",
    "  c(mean=av, sd=sdev)\n",
    "}\n",
    "\n",
    "sample <- c(rnorm(20),NA,rnorm(20))\n",
    "\n",
    "MeanAndSd()\n",
    "MeanAndSd(sample)"
   ]
  },
  {
   "cell_type": "markdown",
   "metadata": {},
   "source": [
    "##### Question I:  <u>Which would be typical values for mean and standard deviation?</u>\n",
    "\n",
    "_Answer_"
   ]
  },
  {
   "cell_type": "code",
   "execution_count": null,
   "metadata": {},
   "outputs": [],
   "source": []
  }
 ],
 "metadata": {
  "kernelspec": {
   "display_name": "R",
   "language": "R",
   "name": "ir"
  },
  "language_info": {
   "codemirror_mode": "r",
   "file_extension": ".r",
   "mimetype": "text/x-r-source",
   "name": "R",
   "pygments_lexer": "r",
   "version": "3.5.1"
  }
 },
 "nbformat": 4,
 "nbformat_minor": 2
}
