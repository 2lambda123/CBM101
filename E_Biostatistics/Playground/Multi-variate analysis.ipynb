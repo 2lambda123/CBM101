{
 "cells": [
  {
   "cell_type": "markdown",
   "metadata": {},
   "source": [
    "# Multi-variate analysis\n",
    "\n",
    "Including principal component analysis and cluster analysis\n"
   ]
  },
  {
   "cell_type": "markdown",
   "metadata": {},
   "source": [
    "## Installation of libraries and necessary software\n",
    "\n",
    "Copy the files _ExampleFile.csv_ and _FcmClustPEst.R_ into the folder that contains this jupyter notebook or upload them to http://localhost:8888/tree\n",
    "\n",
    "Install the necessary libraries (only needed once) by executing (shift-enter) the following cell:\n"
   ]
  },
  {
   "cell_type": "code",
   "execution_count": 1,
   "metadata": {},
   "outputs": [
    {
     "name": "stderr",
     "output_type": "stream",
     "text": [
      "Installing package into 'C:/Users/arvid/Documents/R/win-library/3.5'\n",
      "(as 'lib' is unspecified)\n"
     ]
    },
    {
     "name": "stdout",
     "output_type": "stream",
     "text": [
      "package 'DAAG' successfully unpacked and MD5 sums checked\n",
      "\n",
      "The downloaded binary packages are in\n",
      "\tC:\\Users\\arvid\\AppData\\Local\\Temp\\Rtmp27oDIf\\downloaded_packages\n"
     ]
    },
    {
     "name": "stderr",
     "output_type": "stream",
     "text": [
      "Installing package into 'C:/Users/arvid/Documents/R/win-library/3.5'\n",
      "(as 'lib' is unspecified)\n"
     ]
    },
    {
     "name": "stdout",
     "output_type": "stream",
     "text": [
      "package 'MASS' successfully unpacked and MD5 sums checked\n",
      "\n",
      "The downloaded binary packages are in\n",
      "\tC:\\Users\\arvid\\AppData\\Local\\Temp\\Rtmp27oDIf\\downloaded_packages\n"
     ]
    },
    {
     "name": "stderr",
     "output_type": "stream",
     "text": [
      "Bioconductor version 3.8 (BiocManager 1.30.4), R 3.5.1 (2018-07-02)\n",
      "Installing package(s) 'Biobase'\n"
     ]
    },
    {
     "name": "stdout",
     "output_type": "stream",
     "text": [
      "package 'Biobase' successfully unpacked and MD5 sums checked\n",
      "\n",
      "The downloaded binary packages are in\n",
      "\tC:\\Users\\arvid\\AppData\\Local\\Temp\\Rtmp27oDIf\\downloaded_packages\n"
     ]
    },
    {
     "name": "stderr",
     "output_type": "stream",
     "text": [
      "installation path not writeable, unable to update packages: boot, class,\n",
      "  cluster, codetools, foreign, lattice, MASS, Matrix, mgcv, nlme, rpart,\n",
      "  survival\n",
      "Update old packages: 'recipes'\n",
      "Installing package into 'C:/Users/arvid/Documents/R/win-library/3.5'\n",
      "(as 'lib' is unspecified)\n"
     ]
    },
    {
     "name": "stdout",
     "output_type": "stream",
     "text": [
      "package 'e1071' successfully unpacked and MD5 sums checked\n",
      "\n",
      "The downloaded binary packages are in\n",
      "\tC:\\Users\\arvid\\AppData\\Local\\Temp\\Rtmp27oDIf\\downloaded_packages\n"
     ]
    },
    {
     "name": "stderr",
     "output_type": "stream",
     "text": [
      "Installing package into 'C:/Users/arvid/Documents/R/win-library/3.5'\n",
      "(as 'lib' is unspecified)\n"
     ]
    },
    {
     "name": "stdout",
     "output_type": "stream",
     "text": [
      "package 'matrixStats' successfully unpacked and MD5 sums checked\n",
      "\n",
      "The downloaded binary packages are in\n",
      "\tC:\\Users\\arvid\\AppData\\Local\\Temp\\Rtmp27oDIf\\downloaded_packages\n"
     ]
    }
   ],
   "source": [
    "install.packages(\"DAAG\", repos='http://cran.us.r-project.org')\n",
    "install.packages(\"MASS\", repos='http://cran.us.r-project.org')\n",
    "if (!requireNamespace(\"BiocManager\", quietly = TRUE))\n",
    "    install.packages(\"BiocManager\")\n",
    "BiocManager::install(\"Biobase\")\n",
    "install.packages(\"e1071\", repos='http://cran.us.r-project.org')\n",
    "install.packages(\"matrixStats\", repos='http://cran.us.r-project.org')"
   ]
  },
  {
   "cell_type": "markdown",
   "metadata": {},
   "source": [
    "## Loading data and libraries\n",
    "This requires that the installation above has been finished without error"
   ]
  },
  {
   "cell_type": "code",
   "execution_count": 2,
   "metadata": {},
   "outputs": [
    {
     "name": "stderr",
     "output_type": "stream",
     "text": [
      "Warning message:\n",
      "\"package 'DAAG' was built under R version 3.5.3\"Loading required package: lattice\n",
      "Warning message:\n",
      "\"package 'MASS' was built under R version 3.5.3\"\n",
      "Attaching package: 'MASS'\n",
      "\n",
      "The following object is masked from 'package:DAAG':\n",
      "\n",
      "    hills\n",
      "\n",
      "Loading required package: BiocGenerics\n",
      "Loading required package: parallel\n",
      "\n",
      "Attaching package: 'BiocGenerics'\n",
      "\n",
      "The following objects are masked from 'package:parallel':\n",
      "\n",
      "    clusterApply, clusterApplyLB, clusterCall, clusterEvalQ,\n",
      "    clusterExport, clusterMap, parApply, parCapply, parLapply,\n",
      "    parLapplyLB, parRapply, parSapply, parSapplyLB\n",
      "\n",
      "The following objects are masked from 'package:stats':\n",
      "\n",
      "    IQR, mad, sd, var, xtabs\n",
      "\n",
      "The following objects are masked from 'package:base':\n",
      "\n",
      "    anyDuplicated, append, as.data.frame, basename, cbind, colMeans,\n",
      "    colnames, colSums, dirname, do.call, duplicated, eval, evalq,\n",
      "    Filter, Find, get, grep, grepl, intersect, is.unsorted, lapply,\n",
      "    lengths, Map, mapply, match, mget, order, paste, pmax, pmax.int,\n",
      "    pmin, pmin.int, Position, rank, rbind, Reduce, rowMeans, rownames,\n",
      "    rowSums, sapply, setdiff, sort, table, tapply, union, unique,\n",
      "    unsplit, which, which.max, which.min\n",
      "\n",
      "Welcome to Bioconductor\n",
      "\n",
      "    Vignettes contain introductory material; view with\n",
      "    'browseVignettes()'. To cite Bioconductor, see\n",
      "    'citation(\"Biobase\")', and for packages 'citation(\"pkgname\")'.\n",
      "\n",
      "Warning message:\n",
      "\"package 'e1071' was built under R version 3.5.3\"Warning message:\n",
      "\"package 'matrixStats' was built under R version 3.5.3\"\n",
      "Attaching package: 'matrixStats'\n",
      "\n",
      "The following objects are masked from 'package:Biobase':\n",
      "\n",
      "    anyMissing, rowMedians\n",
      "\n",
      "Warning message in file(file, \"rt\"):\n",
      "\"cannot open file 'ExampleFile.csv': No such file or directory\""
     ]
    },
    {
     "ename": "ERROR",
     "evalue": "Error in file(file, \"rt\"): cannot open the connection\n",
     "output_type": "error",
     "traceback": [
      "Error in file(file, \"rt\"): cannot open the connection\nTraceback:\n",
      "1. read.csv(\"ExampleFile.csv\")",
      "2. read.table(file = file, header = header, sep = sep, quote = quote, \n .     dec = dec, fill = fill, comment.char = comment.char, ...)",
      "3. file(file, \"rt\")"
     ]
    }
   ],
   "source": [
    "library(DAAG)\n",
    "library(MASS)\n",
    "library(Biobase)\n",
    "library(e1071)\n",
    "library(matrixStats)\n",
    "\n",
    "# load data file (you need to place the file into the same folder)\n",
    "ExampleData <- read.csv(\"ExampleFile.csv\")\n",
    "source(\"FcmClustPEst.R\")\n",
    "\n",
    "\n",
    "\n",
    "\n",
    "\n"
   ]
  },
  {
   "cell_type": "markdown",
   "metadata": {},
   "source": [
    "### Exercise 1\n",
    "Carry out principal component analysis and linear discriminant analysis (using ```footlgth``` as discriminator) for the ```possum``` data. Rows with missing values need to be removed before. Plot the scores of the PCA with different colors for the locations the possums were trapped  (defined by ```site```). Compare the outcome to the scaling plot of the LDA.\n"
   ]
  },
  {
   "cell_type": "code",
   "execution_count": 3,
   "metadata": {},
   "outputs": [
    {
     "data": {
      "text/html": [
       "101"
      ],
      "text/latex": [
       "101"
      ],
      "text/markdown": [
       "101"
      ],
      "text/plain": [
       "[1] 101"
      ]
     },
     "metadata": {},
     "output_type": "display_data"
    }
   ],
   "source": [
    "data(possum)\n",
    "par(mfrow=c(1,2))\n",
    "A <- possum[,5:ncol(possum)]\n",
    "## Principal component analysis\n",
    "#table(rowSums(is.na(A)))\n",
    "## Number of rows without missing values\n",
    "sum(complete.cases(A))\n",
    "## data.frame without missing values\n",
    "A <- possum[complete.cases(possum),]\n",
    "B <- A[,5:ncol(possum)]\n",
    "## PCA ...\n",
    "\n",
    "## Linear discriminant analysis ...\n"
   ]
  },
  {
   "cell_type": "markdown",
   "metadata": {},
   "source": [
    "##### Question I:  <u>How many percent of the variance are already described by principal component 1?</u>\n",
    "\n",
    "_Answer_\n",
    "\n",
    "##### Question II:  <u>Which are the most discriminating traits?</u>\n",
    "\n",
    "_Answer_\n",
    "\n",
    "##### Question III:  <u>Which sites (provide numbers) can be separated in the scoring plot of the PCA? And in the LDA?</u>\n",
    "\n",
    "_Answer_\n",
    "\n",
    "##### Question IV:  <u>What would you use in the linear discriminant analysis to get best separation?</u>\n",
    "\n",
    "_Answer_\n",
    "\n"
   ]
  },
  {
   "cell_type": "markdown",
   "metadata": {},
   "source": [
    "### Exercise 2\n",
    "Carry out hierarchical clustering, k-means and fuzzy c-means on ```geneData``` (both with 10 clusters).\n",
    "\n"
   ]
  },
  {
   "cell_type": "code",
   "execution_count": 4,
   "metadata": {},
   "outputs": [],
   "source": [
    "data(\"geneData\")\n",
    "\n",
    "# heatmap here:\n",
    "\n",
    "# For the visualization copy the code from the script of the lecture\n",
    "kmean.out <- kmeans(geneData,10)\n",
    "cmeans.out <- cmeans(geneData, 10)\n"
   ]
  },
  {
   "cell_type": "markdown",
   "metadata": {},
   "source": [
    "##### Question I:  <u>Read the help describing ```geneData```. What does this dataset contain?</u>\n",
    "\n",
    "_Answer_\n",
    "\n",
    "##### Question II:  <u>Why should fuzzy c-means be superior to k-means?</u>\n",
    "\n",
    "_Answer_\n",
    "\n",
    "##### Question III:  <u>How many parameters are required for fuzzy c-means? How are they called?</u>\n",
    "\n",
    "_Answer_\n",
    "\n",
    "##### Question IV:  <u>Which difference do you see between all 3 clustering methods?</u>\n",
    "\n",
    "_Answer_\n",
    "\n",
    "##### Question V:  <u>What is a membership value?</u>\n",
    "\n",
    "_Answer_\n",
    "\n"
   ]
  },
  {
   "cell_type": "markdown",
   "metadata": {},
   "source": [
    "### Exercise 3\n",
    "Extract the columns 114-117 from _ExampleFile.csv_ and take the logarithm. Normalize the data to the median and apply the cluster analysis (all from last exercise) on the resulting data. The script might take a while to finish.\n",
    "\n",
    "The file contains quantitative data from a proteomics experiment. Each row corresponds to a \"peptide-spectrum match\", i.e. a spectrum for which a peptide sequence was assigned. Columns X114-X117 are the quantifications for 4 different biological samples.\n"
   ]
  },
  {
   "cell_type": "code",
   "execution_count": 5,
   "metadata": {},
   "outputs": [
    {
     "ename": "ERROR",
     "evalue": "Error in head(ExampleData): object 'ExampleData' not found\n",
     "output_type": "error",
     "traceback": [
      "Error in head(ExampleData): object 'ExampleData' not found\nTraceback:\n",
      "1. head(ExampleData)"
     ]
    }
   ],
   "source": [
    "# Show first lines of example file\n",
    "head(ExampleData)\n",
    "\n",
    "colnames(ExampleData)\n",
    "ExampleDataLog <- as.matrix(log2(ExampleData[,19:22]))\n",
    "\n",
    "# Normalization by median\n",
    "NormalizedData <- t(t(ExampleDataLog) - colMedians(ExampleDataLog,na.rm=T))\n",
    "\n",
    "# remove rows with missing values for kmeans and cmeans\n",
    "NormalizedRedData <- NormalizedData[complete.cases(NormalizedData),]\n",
    "\n",
    "# heatmap here\n",
    "\n",
    "\n",
    "# kmeans + cmeans (10 clusters)\n",
    "StandardizedData <- t(scale(t(NormalizedRedData)))\n",
    "\n"
   ]
  },
  {
   "cell_type": "markdown",
   "metadata": {},
   "source": [
    "##### Question I:  <u>What does the function colMedians give?</u>\n",
    "\n",
    "_Answer_\n",
    "\n",
    "##### Question II:  <u>What are the different protein accessions?</u>\n",
    "\n",
    "_Answer_\n",
    "\n",
    "##### Question III:  <u>Why do we need to take the logarithm?</u>\n",
    "\n",
    "_Answer_\n",
    "\n",
    "##### Question IV:  <u>How do we check whether the median normalization made sense?</u>\n",
    "\n",
    "_Answer_\n",
    "\n",
    "##### Question V:  <u>Which samples are most similar and how does this show?</u>\n",
    "\n",
    "_Answer_\n",
    "\n",
    "##### Question VI:  <u>Why do we have to _scale_ the data before using k-means and fuzzy c-means?</u>\n",
    "\n",
    "_Answer_\n",
    "\n"
   ]
  },
  {
   "cell_type": "markdown",
   "metadata": {},
   "source": [
    "### Exercise 4\n",
    "Carry out fuzzy c-means using the parameter estimation from the lecture on ```StandardizedData```. Compare the results to the ones in the exercise above."
   ]
  },
  {
   "cell_type": "code",
   "execution_count": 6,
   "metadata": {},
   "outputs": [
    {
     "ename": "ERROR",
     "evalue": "Error in as.matrix(StandardizedData): object 'StandardizedData' not found\n",
     "output_type": "error",
     "traceback": [
      "Error in as.matrix(StandardizedData): object 'StandardizedData' not found\nTraceback:\n",
      "1. new(\"ExpressionSet\", expr = as.matrix(StandardizedData))",
      "2. initialize(value, ...)",
      "3. initialize(value, ...)",
      "4. .local(.Object, ...)",
      "5. annotatedDataFrameFrom(exprs, byrow = FALSE)",
      "6. as.matrix(StandardizedData)"
     ]
    }
   ],
   "source": [
    "PExpr <- new(\"ExpressionSet\",expr=as.matrix(StandardizedData))\n",
    "parameters <- FcmClustPEst(PExpr)\n",
    "\n",
    "# fuzzy c-means clustering here:\n"
   ]
  },
  {
   "cell_type": "markdown",
   "metadata": {},
   "source": [
    "##### Question I:  <u>?</u>\n",
    "\n",
    "_Answer_\n",
    "\n"
   ]
  },
  {
   "cell_type": "code",
   "execution_count": null,
   "metadata": {},
   "outputs": [],
   "source": []
  },
  {
   "cell_type": "markdown",
   "metadata": {},
   "source": [
    "### Exercise 1\n",
    "TODO: simple hierarchical clustering on highly regulated data (VSClust metabolomics) and test different distance measures"
   ]
  },
  {
   "cell_type": "code",
   "execution_count": null,
   "metadata": {},
   "outputs": [],
   "source": []
  },
  {
   "cell_type": "markdown",
   "metadata": {},
   "source": [
    "##### Question I:  <u>?</u>\n",
    "\n",
    "_Answer_\n",
    "\n"
   ]
  }
 ],
 "metadata": {
  "kernelspec": {
   "display_name": "R",
   "language": "R",
   "name": "ir"
  },
  "language_info": {
   "codemirror_mode": "r",
   "file_extension": ".r",
   "mimetype": "text/x-r-source",
   "name": "R",
   "pygments_lexer": "r",
   "version": "3.5.1"
  }
 },
 "nbformat": 4,
 "nbformat_minor": 2
}
