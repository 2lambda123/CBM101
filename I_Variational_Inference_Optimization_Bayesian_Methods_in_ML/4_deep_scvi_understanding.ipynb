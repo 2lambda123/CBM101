{
 "cells": [
  {
   "cell_type": "markdown",
   "metadata": {},
   "source": [
    "# Pre-Requisities\n",
    "> 1. Neural Networks\n",
    "> 2. Fundamentals of Bayesian Inference \n",
    "> 3. Count Regression and Zero-Inflated Poisson Regression. [example of non-parametric count regression](https://github.com/alarivarmann/Deep_Learning_projects/blob/master/lstm_count_regression/count_regression_keras.ipynb)\n",
    "> 4. Python programming with Pytorch and Numpy\n",
    "> 5. Object-Oriented Programming"
   ]
  },
  {
   "cell_type": "markdown",
   "metadata": {},
   "source": [
    "# Deep Dive of Single Cell Variational Inference (SCVI) Library"
   ]
  },
  {
   "cell_type": "code",
   "execution_count": 3,
   "metadata": {},
   "outputs": [],
   "source": [
    "%matplotlib inline"
   ]
  },
  {
   "cell_type": "markdown",
   "metadata": {},
   "source": [
    "## Quick Overview how to Call the SCVI Methods"
   ]
  },
  {
   "cell_type": "code",
   "execution_count": 6,
   "metadata": {},
   "outputs": [
    {
     "name": "stdout",
     "output_type": "stream",
     "text": [
      "/home/alaridl/anaconda3/envs/scvienv/bin/jupyter\n",
      "# packages in environment at /home/alaridl/anaconda3/envs/scvienv:\n",
      "scvi                      0.2.4                    pypi_0    pypi\n"
     ]
    }
   ],
   "source": [
    "!which jupyter\n",
    "import sys\n",
    "!conda list | grep scvi"
   ]
  },
  {
   "cell_type": "code",
   "execution_count": 26,
   "metadata": {
    "pycharm": {
     "name": "#%%\n"
    }
   },
   "outputs": [],
   "source": [
    "def allow_notebook_for_test():\n",
    "    print(\"Testing the basic tutorial notebook\")\n",
    "\n",
    "import scvi\n",
    "test_mode = False\n",
    "save_path = \"data/\"\n",
    "n_epochs_all = None\n",
    "show_plot = True\n",
    "\n",
    "if not test_mode:\n",
    "    save_path = \"../../data\""
   ]
  },
  {
   "cell_type": "code",
   "execution_count": 2,
   "metadata": {},
   "outputs": [
    {
     "name": "stdout",
     "output_type": "stream",
     "text": [
      "numpy                     1.17.3           py37h95a1406_0    conda-forge\r\n"
     ]
    }
   ],
   "source": [
    "!conda list | grep numpy"
   ]
  },
  {
   "cell_type": "code",
   "execution_count": 3,
   "metadata": {},
   "outputs": [],
   "source": [
    "#!pip install scvi"
   ]
  },
  {
   "cell_type": "code",
   "execution_count": 24,
   "metadata": {},
   "outputs": [
    {
     "name": "stderr",
     "output_type": "stream",
     "text": [
      "/home/alaridl/anaconda3/envs/scvi_clean/lib/python3.7/site-packages/sklearn/ensemble/weight_boosting.py:29: DeprecationWarning: numpy.core.umath_tests is an internal NumPy module and should not be imported. It will be removed in a future NumPy release.\n",
      "  from numpy.core.umath_tests import inner1d\n"
     ]
    }
   ],
   "source": [
    "import os\n",
    "import numpy as np\n",
    "import pandas as pd\n",
    "import matplotlib.pyplot as plt\n",
    "from scvi.dataset import CortexDataset, RetinaDataset\n",
    "from scvi.models import VAE\n",
    "from scvi.inference import UnsupervisedTrainer\n",
    "import torch"
   ]
  },
  {
   "cell_type": "markdown",
   "metadata": {},
   "source": [
    "## Loading data\n",
    "\n",
    "Let us first load the CORTEX dataset described in Zeisel et al. (2015). scVI has many \"built-in\" datasets as well as support for loading arbitrary .csv, .loom, and .h5ad (AnnData) files. Please see our [data loading Jupyter notebook](https://github.com/YosefLab/scVI/blob/master/tests/notebooks/data_loading.ipynb) for more examples of data loading.\n",
    "\n",
    "* Zeisel, Amit, et al. \"Cell types in the mouse cortex and hippocampus revealed by single-cell RNA-seq.\" Science 347.6226 (2015): 1138-1142. "
   ]
  },
  {
   "cell_type": "code",
   "execution_count": 27,
   "metadata": {},
   "outputs": [
    {
     "name": "stdout",
     "output_type": "stream",
     "text": [
      "[2019-12-14 18:13:17,355] INFO - scvi.dataset.dataset | File /home/alaridl/pCloudDrive/W/dl_projects_combined/Modules/2_vi_scvi/scvi_work_here/pytorch_variational_inference/data/expression.bin already downloaded\n",
      "[2019-12-14 18:13:17,357] INFO - scvi.dataset.cortex | Loading Cortex data\n",
      "[2019-12-14 18:13:30,882] INFO - scvi.dataset.cortex | Finished preprocessing Cortex data\n",
      "[2019-12-14 18:13:30,891] INFO - scvi.dataset.dataset | Remapping batch_indices to [0,N]\n",
      "[2019-12-14 18:13:30,893] INFO - scvi.dataset.dataset | Remapping labels to [0,N]\n"
     ]
    }
   ],
   "source": [
    "gene_dataset = CortexDataset(save_path=save_path, total_genes=558)"
   ]
  },
  {
   "cell_type": "markdown",
   "metadata": {},
   "source": [
    "In this demonstration and for this particular dataset, we use only 558 genes as in the original scVI publication. This was essentially for benchmarking purposes and we propose here a few practical rules for gene filtering with scVI:\n",
    "+ If many cells are available, it is in general better to use as many genes as possible. Of course, it might be of interest to remove ad-hoc genes depending on the downstream analysis or the application. \n",
    "+ When the dataset is small, it is usually better to filter out genes to avoid overfitting. In the original scVI publication, we reported poor imputation performance for when the number of cells was lower than the number of genes. This is all empirical and in general, it is hard to predict what the optimal number of genes will be.\n",
    "+ The default scVI code will filter genes based on variance. We advise relying on scanpy and then importing the **unnormalized** filtered matrix into scVI for more complex filtering schemes. "
   ]
  },
  {
   "cell_type": "markdown",
   "metadata": {},
   "source": [
    "## Training"
   ]
  },
  {
   "cell_type": "markdown",
   "metadata": {},
   "source": [
    "* __n_epochs__: Maximum number of epochs to train the model. If the likelihood change is small than a set threshold training will stop automatically. \n",
    "* __lr__: learning rate. Set to 0.001 here. \n",
    "* __use_batches__: If the value of true than batch information is used in the training. Here it is set to false because the cortex data only contains one batch. \n",
    "* __use_cuda__: Set to true to use CUDA (GPU required) \n"
   ]
  },
  {
   "cell_type": "code",
   "execution_count": 28,
   "metadata": {},
   "outputs": [],
   "source": [
    "n_epochs = 100 if n_epochs_all is None else n_epochs_all\n",
    "lr = 1e-3\n",
    "use_batches = False\n",
    "use_cuda = True"
   ]
  },
  {
   "cell_type": "markdown",
   "metadata": {},
   "source": [
    "We now create the model and the trainer object. We train the model and output model likelihood every 5 epochs. In order to evaluate the likelihood on a test set, we split the datasets (the current code can also so train/validation/test).\n",
    "\n",
    "If a pre-trained model already exist in the save_path then load the same model rather than re-training it. This is particularly useful for large datasets."
   ]
  },
  {
   "cell_type": "markdown",
   "metadata": {},
   "source": [
    "## Dataset"
   ]
  },
  {
   "cell_type": "markdown",
   "metadata": {},
   "source": [
    "Here the reference dataset is the CortexDataset that quantifies the expression rate of 558 genes in 3005 cells."
   ]
  },
  {
   "cell_type": "code",
   "execution_count": 41,
   "metadata": {},
   "outputs": [
    {
     "data": {
      "text/plain": [
       "{'genes_to_keep': None,\n",
       " 'total_genes': 558,\n",
       " 'precise_labels': array(['1', '1', '1', ..., '9', '9', '9'], dtype='<U7'),\n",
       " 'dataset_versions': set(),\n",
       " 'gene_attribute_names': {'gene_names'},\n",
       " 'cell_attribute_names': {'batch_indices',\n",
       "  'labels',\n",
       "  'local_means',\n",
       "  'local_vars',\n",
       "  'precise_labels'},\n",
       " 'cell_categorical_attribute_names': {'batch_indices', 'labels'},\n",
       " 'attribute_mappings': defaultdict(list,\n",
       "             {'labels': ['cell_types'], 'batch_indices': []}),\n",
       " 'cell_measurements_columns': {},\n",
       " '_X': array([[8.220e+02, 0.000e+00, 0.000e+00, ..., 7.000e+00, 1.000e+01,\n",
       "         6.000e+00],\n",
       "        [8.690e+02, 0.000e+00, 0.000e+00, ..., 9.000e+00, 0.000e+00,\n",
       "         1.100e+01],\n",
       "        [1.237e+03, 1.000e+00, 0.000e+00, ..., 1.000e+01, 5.000e+00,\n",
       "         1.800e+01],\n",
       "        ...,\n",
       "        [3.760e+02, 0.000e+00, 0.000e+00, ..., 1.000e+00, 1.000e+00,\n",
       "         0.000e+00],\n",
       "        [3.030e+02, 0.000e+00, 0.000e+00, ..., 0.000e+00, 0.000e+00,\n",
       "         0.000e+00],\n",
       "        [2.420e+02, 2.800e+01, 0.000e+00, ..., 0.000e+00, 0.000e+00,\n",
       "         2.000e+00]], dtype=float32),\n",
       " '_batch_indices': array([[0],\n",
       "        [0],\n",
       "        [0],\n",
       "        ...,\n",
       "        [0],\n",
       "        [0],\n",
       "        [0]], dtype=uint16),\n",
       " '_labels': array([[2],\n",
       "        [2],\n",
       "        [2],\n",
       "        ...,\n",
       "        [1],\n",
       "        [1],\n",
       "        [1]], dtype=uint16),\n",
       " 'n_batches': 1,\n",
       " 'n_labels': 7,\n",
       " 'gene_names': array(['MALAT1', 'PLP1', 'TTR', 'SST', 'HBB-BS', 'NPY', 'MEG3', 'CALM1',\n",
       "        'TRF', 'HBA-A2_LOC2', 'HBA-A2_LOC1', 'CALM2', 'MAL', 'CST3',\n",
       "        'PPIA', 'ATP2B1', 'PTGDS', 'TMSB4X', 'ATP1B1', 'HBB-B2', 'GSTP1',\n",
       "        'HSP90AA1', 'APOD', 'FTH1', 'HSP90AB1', 'VIP', 'ENPP2', 'SNAP25',\n",
       "        'MBP', 'APP', 'CNR1', 'ACTB', 'GRIA2', 'CPE', 'PPP3CA', 'SYT1',\n",
       "        'MOG', 'HTR3A', 'SPARCL1', 'GPM6A', 'RTN1', 'TUBA1A', 'NRGN',\n",
       "        'SNHG11', 'DBI', 'MDH1', 'PRKCB', 'APOE', 'CAR2', 'KCTD12',\n",
       "        'ALDOA', 'MAG', 'SLC1A2', 'ACTG1', 'STMN3', 'UGT8A', 'CHN1', 'CNP',\n",
       "        'TTC3', 'TUBB2A', 'SLC25A4', 'SCG5', 'CD81', 'CAMK2N1', 'PCP4',\n",
       "        'NDUFA4', 'MAP1B', 'SNCA', 'DYNLL1', 'ATP1A2', 'SCD2', 'MT1',\n",
       "        'HSPA8', 'MOBP', 'SUB1', 'ERMN', 'HPCA', 'ATP6V0C-PS2', 'SYT11',\n",
       "        'ITM2B', 'YWHAZ', '2900097C17RIK', 'OLFM1', 'RPS29', 'GNAS', 'CCK',\n",
       "        'USMG5', 'PRNP', 'ATP6V1A', 'COX8A', 'STMN2', 'SERINC1', 'BASP1',\n",
       "        'NFASC', 'CLDN11', 'TPI1', 'GAD1', 'EIF4A2', 'OPALIN', 'APLP1',\n",
       "        'TSPAN2', 'FKBP1A', 'ATP5B', 'TCF4', 'CALM3', 'D3BWG0562E',\n",
       "        'LARS2', 'QK', 'NDRG4', 'COX7A2', 'CLU', 'CD9', 'COX7C', 'GAD2',\n",
       "        'CKB', 'CYCS', 'COX6B1', 'MEF2C', 'NSF', 'CRH', 'SNURF', 'HMGCS1',\n",
       "        'PTN', 'ATP5G3', 'YWHAH', 'EEF1A1', 'ITM2A', 'GRIA1', 'PJA2',\n",
       "        'SLC8A1', 'RPLP1', 'SCG2', 'TSPAN13', '3110035E14RIK', 'CRYAB',\n",
       "        'COX4I1', 'COX7B', 'ATP1A3', 'ATPIF1', 'COX6C', 'QDPR', 'LDHB',\n",
       "        'YWHAG', 'CADM2', 'KIF1B', 'NRXN3', 'MIF', 'CRYM', 'ID2', 'RGS4',\n",
       "        'NCDN', 'SLC1A3', 'RTN3', 'NNAT', 'NTM', 'CRHBP', 'SERPINI1',\n",
       "        'GPM6B', 'NAP1L5', 'ATP6V1E1', 'SPARC', 'CELF2', 'GABRA1', 'H3F3B',\n",
       "        'FTL1', 'DNM1', 'PPP3R1', 'NPTN', 'ZWINT', 'MARCKS', 'CELF4',\n",
       "        'PTMA', 'PCSK2', 'NGFRAP1', 'SYN2', 'TUBA1B', 'GRIN2B', 'ATP2A2',\n",
       "        'VSNL1', 'GM5506_LOC1', 'SCN2A1', 'ATP5J2', 'YWHAQ', 'CAMK2B',\n",
       "        'ACTA2', 'GRM5', 'XIST', 'UQCRH', '2010107E04RIK', '9630013A20RIK',\n",
       "        'ENO2', 'ARL6IP1', 'ATP5L', 'ARPP21', 'SPTBN1', 'ATP5K', 'UQCRQ',\n",
       "        'NRXN1', 'ATP5A1', 'RAB3C', 'ATP5E', 'ATP5J', 'CTSL', 'UCHL1',\n",
       "        'YWHAB', 'GSN', 'MYL12B', 'SEPT7', 'TRIM2', 'RELN', 'GNAO1',\n",
       "        'SLC6A1', 'GAP43', 'DDX5', 'GM9846', 'PFN2', 'FOS', 'SEPP1',\n",
       "        'DLGAP1', 'AQP4', 'RASGRP1', 'NME1', 'TAGLN3', 'PDE1A', 'JUN',\n",
       "        'NPCD', 'EPHA4', 'ATP5G1', 'CAMK2A', 'FABP5', 'RPL32', 'SC4MOL',\n",
       "        'PTPRD', 'CHCHD2', 'TECR', 'THY1', 'PRDX6', 'CCL7', 'TSPAN7',\n",
       "        'RTN4', 'RPS3A1', 'WFS1', 'GRB14', 'KIF1A', 'CPLX2', 'PRDX1',\n",
       "        'ATXN7L3B', 'PGM2L1', 'RPS28', 'CYFIP2', 'NAPB', 'SLC38A2',\n",
       "        'UQCR11', 'FAU', 'RPL35', 'NDUFA13', 'SIRT2', 'TALDO1', 'HSP90B1',\n",
       "        'ARF3', 'RAB6A', 'ATP5C1', 'NEUROD6', 'DCN', 'ATP5F1', 'RPL18A',\n",
       "        'UBC', 'GHITM', 'YWHAE', 'SEC62', 'UQCR10', 'DNER', 'SLC25A3',\n",
       "        'ATP6AP2', 'DPYSL2', 'NDUFA5', 'DCLK1', 'ATP2B2', 'MAGED1',\n",
       "        'ZCCHC18', 'ATP5O', 'PGRMC1', 'SEPT4', 'SKP1A', 'MYL6', 'PPP3CB',\n",
       "        'ATP6V1D', 'GABRB2', 'RPS3', 'CDC42', 'PKM', 'ARF1', 'SON', 'GLUL',\n",
       "        'MLLT11', 'NCAM1', 'CXCL14', 'GDA', 'RAB3A', 'SYNPR', 'ATP6V0B',\n",
       "        'CPLX1', 'S100B', 'OAZ1-PS', 'ANK3', 'PGAM1', 'SLC24A2', 'CPNE6',\n",
       "        'LMO4', 'ITM2C', 'SLC22A17', 'GATM', 'TUBA4A', 'SYNJ1', 'PRDX2',\n",
       "        'ASPA', 'LY6C1', 'PRKAR1B', 'NSG2', 'PSAP', 'NOV', 'EGR1',\n",
       "        'TMEM88B', 'WASF1', 'NCALD', 'RPS6', 'CX3CL1', 'TUBB5', 'MT2',\n",
       "        'RBFOX1', 'NRIP3', 'PCDH9', 'LDHA', 'ATP6V1B2', 'CCL2', 'SUMO2',\n",
       "        'ALCAM', 'RNF13', 'OSBPL1A', 'RPL4', 'KIF5C', 'GAPDH', 'GDI1',\n",
       "        'RGS7BP', 'RPL31-PS12', 'HINT1', 'NDUFB4', 'STXBP1', 'GRIA3',\n",
       "        'FBXW7', 'NDUFA3', 'MDH2', 'CADPS2', 'NDUFA1', 'CANX', 'MORF4L2',\n",
       "        'PTPRS', 'CMIP', 'MATR3', 'CAMKV', 'GPI1', 'RPLP2', 'NRN1',\n",
       "        'COX6A1', 'ACOT7', 'GRCC10', 'CALB1', 'TSPAN3', 'HSBP1', 'PDLIM2',\n",
       "        'RAB6B', 'LYZ2', 'TCF25', 'G3BP2', 'ATP5H', 'NPC2', 'TAC2', 'CCL3',\n",
       "        'BRK1', 'TMEM30A', 'PGK1', 'RPS20', 'ZEB2', 'PCLO', 'DNAJA1',\n",
       "        'FKBP3', 'ANKS1B', 'NDUFC1', 'CLTC', 'SRP14', 'SH3BGRL3',\n",
       "        'NDUFA11', 'SYP', 'RPL13A', 'PEBP1', 'APLP2', 'NFIB', 'CACNA2D1',\n",
       "        'CFL1', 'RPL39', 'MTPN', 'PTPRN', 'NDUFB9', 'CRIP1', 'SYN1',\n",
       "        'PPP2R1A', 'TMOD2', 'SV2A', 'PRKACB', 'NDRG3', 'ELMOD1', 'NDN',\n",
       "        'AKR1A1', 'GPX4', 'GNG2', 'DBNDD2', 'EIF4A1', 'RNASEK', 'PEA15A',\n",
       "        'GM6682', 'RBFOX3', 'SV2B', 'SNAP91', 'MYEOV2', 'TCEB2', 'RPL41',\n",
       "        'TPT1', 'ARPC1A', 'MYT1L', 'MAPK10', 'SYT4', 'RNF7', 'PURB',\n",
       "        'NDUFA12', 'RPS16', 'ZBTB18', 'GOT1', 'SHFM1', 'CHGB', 'IDH3B',\n",
       "        'NDUFB8', 'RPS18', 'PSMB1', 'SNAP47', 'ENSA', 'HMGB1', 'GABARAPL1',\n",
       "        'VMP1', 'UBL3', 'NDUFA2', 'CNBP', 'DYNC1I2', 'PSAT1', 'ATP6V1G2',\n",
       "        'GM6654', 'TMA7', 'TIMP2', 'FXYD6', 'AMD2', 'LAMP5', 'CNTN1',\n",
       "        'HNRNPA2B1', 'PCDH17', 'RPL7', 'FAM131A', 'RESP18', 'VTN',\n",
       "        'CAMTA1', 'CPNE7', 'OXCT1', 'NTRK2', 'HSPH1', 'SPTAN1', 'RAB14',\n",
       "        'PRKCE', 'BSG', 'GM15421', 'PTK2B', 'NDUFA6', 'ATP6V1C1', 'NMT1',\n",
       "        'GABARAPL2', 'TUBB3', 'MAPK1', 'CHL1', 'NDFIP1', 'ATP6AP1',\n",
       "        'CNKSR2', 'ATRX', 'MGP', 'GPR37', 'CADM1', 'RPL23', 'ANK2',\n",
       "        'GP1BB', 'CYR61', 'PPAP2B', 'GPRASP1', 'MAPT', 'NEDD8', 'SUMO1',\n",
       "        'AHI1', 'LUC7L3', 'CMTM5', 'ALDOC', 'RPS13', 'KIFAP3', 'TSPYL4',\n",
       "        'COX5A', 'RPS24', 'SLC12A2', 'EIF2S2', 'IMPACT', 'RPL38', 'ARPC2',\n",
       "        'BRINP1', 'GABRG2', 'SH3GL2', 'NDUFV3', 'PLD3', 'NDUFB6', 'CELF5',\n",
       "        'MYCBP2', 'CDK5R1', 'NDUFB10', 'GM13826', 'BCL11B', 'GM6402',\n",
       "        'VCP', 'UBL5', 'KLK6', 'OMG', 'FRRS1L', 'MYL9', 'CCL4', 'PRKAR1A',\n",
       "        'RPH3A', 'FOXP1', 'NDUFV2', 'TOMM7', 'ACTR2', 'VAMP2', 'OGFRL1',\n",
       "        'RPS15A-PS4', 'ENC1', 'GLS', 'CACNB4', 'GPR37L1', 'TAGLN', 'CALY',\n",
       "        'H3F3A', 'TUBB4B', 'NAP1L1', 'PLK2', 'NRSN1', 'MAP4', 'SORL1',\n",
       "        'EIF4G2'], dtype='<U64'),\n",
       " 'cell_types': array(['astrocytes_ependymal', 'endothelial-mural', 'interneurons',\n",
       "        'microglia', 'oligodendrocytes', 'pyramidal CA1', 'pyramidal SS'],\n",
       "       dtype='<U128'),\n",
       " 'local_means': array([[8.45547485],\n",
       "        [8.45547485],\n",
       "        [8.45547485],\n",
       "        ...,\n",
       "        [8.45547485],\n",
       "        [8.45547485],\n",
       "        [8.45547485]]),\n",
       " 'local_vars': array([[0.44135019],\n",
       "        [0.44135019],\n",
       "        [0.44135019],\n",
       "        ...,\n",
       "        [0.44135019],\n",
       "        [0.44135019],\n",
       "        [0.44135019]]),\n",
       " '_norm_X': None,\n",
       " '_corrupted_X': None,\n",
       " 'protected_attributes': ['X'],\n",
       " 'urls': ['https://storage.googleapis.com/linnarsson-lab-www-blobs/blobs/cortex/expression_mRNA_17-Aug-2014.txt'],\n",
       " 'filenames': ['expression.bin'],\n",
       " 'save_path': '/home/alaridl/pCloudDrive/W/dl_projects_combined/Modules/2_vi_scvi/scvi_work_here/pytorch_variational_inference/data'}"
      ]
     },
     "execution_count": 41,
     "metadata": {},
     "output_type": "execute_result"
    }
   ],
   "source": [
    "gene_dataset.__dict__"
   ]
  },
  {
   "cell_type": "markdown",
   "metadata": {},
   "source": [
    "If you observed carefully, then you saw that the `Cortex Dataset` has 1 batch and 7 labels."
   ]
  },
  {
   "cell_type": "code",
   "execution_count": 35,
   "metadata": {},
   "outputs": [
    {
     "data": {
      "text/plain": [
       "array([[ 822,    0,    0, ...,    7,   10,    6],\n",
       "       [ 869,    0,    0, ...,    9,    0,   11],\n",
       "       [1237,    1,    0, ...,   10,    5,   18],\n",
       "       ...,\n",
       "       [ 376,    0,    0, ...,    1,    1,    0],\n",
       "       [ 303,    0,    0, ...,    0,    0,    0],\n",
       "       [ 242,   28,    0, ...,    0,    0,    2]])"
      ]
     },
     "execution_count": 35,
     "metadata": {},
     "output_type": "execute_result"
    }
   ],
   "source": [
    "gene_dataset._X.astype(int)"
   ]
  },
  {
   "cell_type": "code",
   "execution_count": 39,
   "metadata": {},
   "outputs": [
    {
     "data": {
      "text/plain": [
       "70.99463856535404"
      ]
     },
     "execution_count": 39,
     "metadata": {},
     "output_type": "execute_result"
    }
   ],
   "source": [
    "np.count_nonzero(gene_dataset._X)/(gene_dataset._X.shape[0]*gene_dataset._X.shape[1])*100"
   ]
  },
  {
   "cell_type": "markdown",
   "metadata": {},
   "source": [
    "We see that the Cortex Dataset has around 29% of zero expressions of certain genes in particular cells. \n",
    "The input dimension to the variational autoencoder is the amount of genes, which in this case is 558. Thus, the output dimension of the autoencoder is the same, just each value will quantify the expression rate through the `Softmax` function."
   ]
  },
  {
   "cell_type": "code",
   "execution_count": 48,
   "metadata": {},
   "outputs": [
    {
     "data": {
      "application/vnd.jupyter.widget-view+json": {
       "model_id": "f4f4b0bd35f740fe8e1e52a485615690",
       "version_major": 2,
       "version_minor": 0
      },
      "text/plain": [
       "HBox(children=(IntProgress(value=0, description='training', style=ProgressStyle(description_width='initial')),…"
      ]
     },
     "metadata": {},
     "output_type": "display_data"
    },
    {
     "name": "stdout",
     "output_type": "stream",
     "text": [
      "\n"
     ]
    }
   ],
   "source": [
    "\n",
    "vae = VAE(gene_dataset.nb_genes, n_batch=gene_dataset.n_batches * use_batches)\n",
    "trainer = UnsupervisedTrainer(\n",
    "    vae,\n",
    "    gene_dataset,\n",
    "    train_size=0.75,\n",
    "    use_cuda=use_cuda,\n",
    "    frequency=5,\n",
    ")\n",
    "\n",
    "if os.path.isfile('%s/vae.pkl' % save_path):\n",
    "    trainer.model.load_state_dict(torch.load('%s/vae.pkl' % save_path))\n",
    "    trainer.model.eval()\n",
    "else:\n",
    "    trainer.train(n_epochs=n_epochs, lr=lr)\n",
    "    torch.save(trainer.model.state_dict(), '%s/vae.pkl' % save_path)"
   ]
  },
  {
   "cell_type": "markdown",
   "metadata": {},
   "source": [
    "**Plotting the likelihood change across the 500 epochs of training: blue for training error and orange for testing error.**"
   ]
  },
  {
   "cell_type": "code",
   "execution_count": 12,
   "metadata": {
    "ExecuteTime": {
     "end_time": "2019-06-06T22:47:18.873693Z",
     "start_time": "2019-06-06T22:47:18.619558Z"
    }
   },
   "outputs": [
    {
     "data": {
      "text/plain": [
       "(1150, 1600)"
      ]
     },
     "execution_count": 12,
     "metadata": {},
     "output_type": "execute_result"
    },
    {
     "data": {
      "image/png": "[encoded data removed]",
      "text/plain": [
       "<Figure size 432x288 with 1 Axes>"
      ]
     },
     "metadata": {
      "needs_background": "light"
     },
     "output_type": "display_data"
    }
   ],
   "source": [
    "elbo_train_set = trainer.history[\"elbo_train_set\"]\n",
    "elbo_test_set = trainer.history[\"elbo_test_set\"]\n",
    "x = np.linspace(0, 500, (len(elbo_train_set)))\n",
    "plt.plot(x, elbo_train_set)\n",
    "plt.plot(x, elbo_test_set)\n",
    "plt.ylim(1150, 1600)"
   ]
  },
  {
   "cell_type": "markdown",
   "metadata": {},
   "source": [
    "## Obtaining the posterior object and sample latent space as well as imputation from it\n",
    "\n",
    "The posterior object contains a model and a gene_dataset, as well as additional arguments that for Pytorch's `DataLoader`. It also comes with many methods or utilities querying the model, such as differential expression, imputation and differential analyisis.\n",
    "\n",
    "\n",
    "To get an ordered output result, we might use `.sequential` posterior's method which return another instance of posterior (with shallow copy of all its object references), but where the iteration is in the same ordered as its  indices attribute."
   ]
  },
  {
   "cell_type": "code",
   "execution_count": 49,
   "metadata": {},
   "outputs": [],
   "source": [
    "full = trainer.create_posterior(trainer.model, gene_dataset, indices=np.arange(len(gene_dataset)))\n",
    "latent, batch_indices, labels = full.sequential().get_latent()\n",
    "batch_indices = batch_indices.ravel()"
   ]
  },
  {
   "cell_type": "code",
   "execution_count": 52,
   "metadata": {},
   "outputs": [
    {
     "data": {
      "text/plain": [
       "(3005, 10)"
      ]
     },
     "execution_count": 52,
     "metadata": {},
     "output_type": "execute_result"
    }
   ],
   "source": [
    "latent.shape"
   ]
  },
  {
   "cell_type": "code",
   "execution_count": 56,
   "metadata": {},
   "outputs": [
    {
     "data": {
      "text/plain": [
       "True"
      ]
     },
     "execution_count": 56,
     "metadata": {},
     "output_type": "execute_result"
    }
   ],
   "source": [
    "all(batch_indices==0)"
   ]
  },
  {
   "cell_type": "markdown",
   "metadata": {},
   "source": [
    "Similarly, it is possible to query the imputed values via the `imputation` method of the posterior object. **Note for advanced users:** imputation is an ambiguous term and there are two ways to perform imputation in scVI. The first way is to query the **mean of the negative binomial** distribution modeling the counts. This is referred to as `sample_rate` in the codebase and can be reached via the `imputation` method. The second is to query the **normalized mean of the same negative binomial** (please refer to the scVI manuscript). This is referred to as `sample_scale` in the codebase and can be reached via the `get_sample_scale` method. In differential expression for example, we of course rely on the normalized latent variable which is corrected for variations in sequencing depth."
   ]
  },
  {
   "cell_type": "code",
   "execution_count": 58,
   "metadata": {},
   "outputs": [],
   "source": [
    "imputed_values = full.sequential().imputation()\n",
    "normalized_values = full.sequential().get_sample_scale()"
   ]
  },
  {
   "cell_type": "code",
   "execution_count": 64,
   "metadata": {},
   "outputs": [
    {
     "data": {
      "text/plain": [
       "array([[1.21142730e-01, 8.02836672e-04, 1.20084942e-03, 5.17982664e-03,\n",
       "        4.64678800e-04, 1.19259581e-02, 7.45189749e-03, 7.95472600e-03,\n",
       "        2.01866220e-04, 1.15508796e-03],\n",
       "       [2.25159138e-01, 4.33410576e-04, 1.55270693e-03, 5.52556477e-03,\n",
       "        3.68946203e-04, 1.44970715e-02, 6.49120333e-03, 1.08849006e-02,\n",
       "        9.16327335e-05, 1.13110500e-03],\n",
       "       [1.38555661e-01, 6.52494375e-04, 9.11981275e-04, 4.17196145e-03,\n",
       "        2.85375194e-04, 1.14391549e-02, 9.68025345e-03, 1.00142928e-02,\n",
       "        1.44323436e-04, 7.09349755e-04],\n",
       "       [1.49233326e-01, 6.15895726e-04, 1.21807773e-03, 4.24589682e-03,\n",
       "        3.81797756e-04, 1.13233803e-02, 6.78523676e-03, 9.86594521e-03,\n",
       "        1.47371029e-04, 9.73104849e-04],\n",
       "       [7.40687400e-02, 9.89039778e-04, 7.38561794e-04, 2.38148146e-03,\n",
       "        5.07006363e-04, 6.39413809e-03, 7.23963697e-03, 8.14943481e-03,\n",
       "        2.76101317e-04, 8.93215474e-04],\n",
       "       [1.23539560e-01, 7.49345287e-04, 9.17726604e-04, 3.83518520e-03,\n",
       "        4.22458485e-04, 1.00466460e-02, 8.97824019e-03, 9.31632519e-03,\n",
       "        1.76881411e-04, 9.18927719e-04],\n",
       "       [1.25228867e-01, 9.20843508e-04, 4.37391456e-04, 2.29073921e-03,\n",
       "        3.57954821e-04, 7.15521630e-03, 1.23443231e-02, 8.25974531e-03,\n",
       "        2.06764817e-04, 7.08825653e-04],\n",
       "       [7.30441064e-02, 1.23462931e-03, 5.17164124e-04, 2.36011972e-03,\n",
       "        3.88284971e-04, 6.04804978e-03, 1.49005605e-02, 8.02629720e-03,\n",
       "        3.06546513e-04, 5.54242986e-04],\n",
       "       [7.42724538e-02, 1.00211648e-03, 8.02637951e-04, 2.70837243e-03,\n",
       "        3.98436503e-04, 7.07034906e-03, 7.74354720e-03, 8.04621540e-03,\n",
       "        2.76521343e-04, 7.70080253e-04],\n",
       "       [9.98701006e-02, 8.50649900e-04, 9.12523596e-04, 3.09147756e-03,\n",
       "        2.86514609e-04, 9.86285694e-03, 6.29354920e-03, 1.09296516e-02,\n",
       "        2.00842042e-04, 5.87020593e-04]], dtype=float32)"
      ]
     },
     "execution_count": 64,
     "metadata": {},
     "output_type": "execute_result"
    }
   ],
   "source": [
    "normalized_values[0:10,0:10]"
   ]
  },
  {
   "cell_type": "code",
   "execution_count": 65,
   "metadata": {},
   "outputs": [
    {
     "data": {
      "text/plain": [
       "array([[8.220e+02, 0.000e+00, 0.000e+00, 0.000e+00, 0.000e+00, 1.720e+02,\n",
       "        1.800e+01, 1.210e+02, 0.000e+00, 0.000e+00],\n",
       "       [8.690e+02, 0.000e+00, 0.000e+00, 0.000e+00, 0.000e+00, 0.000e+00,\n",
       "        2.800e+01, 6.800e+01, 0.000e+00, 0.000e+00],\n",
       "       [1.237e+03, 1.000e+00, 0.000e+00, 0.000e+00, 0.000e+00, 1.200e+02,\n",
       "        1.460e+02, 1.170e+02, 0.000e+00, 0.000e+00],\n",
       "       [1.252e+03, 0.000e+00, 0.000e+00, 0.000e+00, 0.000e+00, 0.000e+00,\n",
       "        4.700e+01, 1.130e+02, 0.000e+00, 0.000e+00],\n",
       "       [2.710e+02, 1.000e+00, 0.000e+00, 0.000e+00, 0.000e+00, 0.000e+00,\n",
       "        5.000e+00, 8.600e+01, 0.000e+00, 0.000e+00],\n",
       "       [6.310e+02, 0.000e+00, 0.000e+00, 0.000e+00, 0.000e+00, 0.000e+00,\n",
       "        8.200e+01, 6.300e+01, 0.000e+00, 0.000e+00],\n",
       "       [9.860e+02, 2.000e+00, 0.000e+00, 0.000e+00, 0.000e+00, 1.500e+01,\n",
       "        6.600e+01, 1.040e+02, 0.000e+00, 0.000e+00],\n",
       "       [2.080e+02, 0.000e+00, 0.000e+00, 0.000e+00, 0.000e+00, 0.000e+00,\n",
       "        6.900e+01, 7.200e+01, 0.000e+00, 0.000e+00],\n",
       "       [3.970e+02, 0.000e+00, 0.000e+00, 0.000e+00, 0.000e+00, 0.000e+00,\n",
       "        2.300e+01, 8.500e+01, 0.000e+00, 0.000e+00],\n",
       "       [4.370e+02, 0.000e+00, 0.000e+00, 0.000e+00, 0.000e+00, 0.000e+00,\n",
       "        4.100e+01, 1.090e+02, 0.000e+00, 0.000e+00]], dtype=float32)"
      ]
     },
     "execution_count": 65,
     "metadata": {},
     "output_type": "execute_result"
    }
   ],
   "source": [
    "gene_dataset._X[0:10,0:10]"
   ]
  },
  {
   "cell_type": "markdown",
   "metadata": {},
   "source": [
    "## Visualizing the latent space with scanpy"
   ]
  },
  {
   "cell_type": "code",
   "execution_count": null,
   "metadata": {},
   "outputs": [],
   "source": []
  },
  {
   "cell_type": "markdown",
   "metadata": {},
   "source": [
    "scanpy is a handy and powerful python library for visualization and downstream analysis of single-cell RNA sequencing data. We show here how to feed the latent space of scVI into a scanpy object and visualize it using UMAP as implemented in scanpy. More on how scVI can be used with scanpy on [this notebook](https://github.com/YosefLab/scVI/blob/master/tests/notebooks/scanpy_pbmc3k.ipynb). **Note to advanced users:** The code 'get_latent' returns only the mean of the posterior distribution for the latent space. However, we recover a full distribution with our inference framework. Let us keep in mind that the latent space visualized here is a practical summary of the data only. Uncertainty is needed for other downstream analyses such as differential expression. "
   ]
  },
  {
   "cell_type": "code",
   "execution_count": 11,
   "metadata": {},
   "outputs": [],
   "source": [
    "import scanpy as sc\n",
    "import anndata"
   ]
  },
  {
   "cell_type": "code",
   "execution_count": 12,
   "metadata": {},
   "outputs": [],
   "source": [
    "post_adata = anndata.AnnData(X=gene_dataset.X)\n",
    "post_adata.obsm[\"X_scVI\"] = latent\n",
    "post_adata.obs['cell_type'] = np.array([gene_dataset.cell_types[gene_dataset.labels[i][0]]  \n",
    "                                        for i in range(post_adata.n_obs)])\n",
    "sc.pp.neighbors(post_adata, use_rep=\"X_scVI\", n_neighbors=15)\n",
    "sc.tl.umap(post_adata, min_dist=0.1)"
   ]
  },
  {
   "cell_type": "code",
   "execution_count": 13,
   "metadata": {},
   "outputs": [
    {
     "name": "stderr",
     "output_type": "stream",
     "text": [
      "... storing 'cell_type' as categorical\n"
     ]
    },
    {
     "data": {
      "image/png": "[encoded data removed]",
      "text/plain": [
       "<Figure size 504x432 with 1 Axes>"
      ]
     },
     "metadata": {},
     "output_type": "display_data"
    }
   ],
   "source": [
    "fig, ax = plt.subplots(figsize=(7, 6))\n",
    "sc.pl.umap(post_adata, color=[\"cell_type\"], ax=ax, show=show_plot)"
   ]
  },
  {
   "cell_type": "markdown",
   "metadata": {},
   "source": [
    "The user will note that we imported curated labels from the original publication. Our interface with scanpy makes it easy to cluster the data with scanpy from scVI's latent space and then reinject them into scVI for differential expression, which we now discuss."
   ]
  },
  {
   "cell_type": "code",
   "execution_count": null,
   "metadata": {},
   "outputs": [],
   "source": []
  },
  {
   "cell_type": "code",
   "execution_count": null,
   "metadata": {},
   "outputs": [],
   "source": [
    "## "
   ]
  },
  {
   "cell_type": "markdown",
   "metadata": {},
   "source": [
    "# Understanding SCVI in Depth. Applications."
   ]
  },
  {
   "cell_type": "markdown",
   "metadata": {},
   "source": [
    "## Understanding Code for POSTERIOR OBJECT"
   ]
  },
  {
   "cell_type": "markdown",
   "metadata": {},
   "source": [
    "### Understanding Posterior Initialize Method"
   ]
  },
  {
   "cell_type": "code",
   "execution_count": 22,
   "metadata": {},
   "outputs": [],
   "source": [
    "GeneExpressionDataset = gene_dataset  # setting GeneExpressionDataset to None so that you can execute the cell\n",
    "model = vae # setting model to None so that you can execute the cell\n",
    "def __init__(\n",
    "    self,\n",
    "    model,\n",
    "    gene_dataset: GeneExpressionDataset,\n",
    "    shuffle=False,\n",
    "    indices=None,\n",
    "    use_cuda=True,\n",
    "    data_loader_kwargs=dict(),\n",
    "):\n",
    "\n",
    "    \"\"\"\n",
    "    When added to annotation, has a private name attribute\n",
    "    \"\"\"\n",
    "\n",
    "    self.model = model\n",
    "    self.gene_dataset = gene_dataset\n",
    "    self.to_monitor = []\n",
    "    self.use_cuda = use_cuda\n"
   ]
  },
  {
   "cell_type": "markdown",
   "metadata": {},
   "source": [
    "Every new class' constructor in Python starts with __init__ that initializes the class in a way that when creating the object from the class, gives the object access to the input variables, in this case `model`, `gene_dataset` etc.\n",
    "The colon after `gene_dataset` refers to the default type of Gene Dataset which is `GeneExpressionDataset`, which is a module of `scvi.dataset`.\n",
    "The posterior object may also make use of additional keyword arguments passed to the data loader, and these are initialized to be an empty dictionary at object creation time.\n",
    "`Model`, `gene_dataset`, `cuda` arguments are saved to internal states of the `Posterior` object and `to_monitor` is initialized to an empty list.\n",
    "\n"
   ]
  },
  {
   "cell_type": "code",
   "execution_count": 69,
   "metadata": {},
   "outputs": [
    {
     "name": "stdout",
     "output_type": "stream",
     "text": [
      "/home/alaridl/pCloudDrive/W/dl_projects_combined/Modules/2_vi_scvi\r\n"
     ]
    }
   ],
   "source": [
    "!pwd\n",
    "import os\n",
    "os.chdir(\"/home/alaridl/pCloudDrive/W/dl_projects_combined/Modules/2_vi_scvi/\")\n",
    "import sys\n",
    "sys.path.append(\"/home/alari/pCloudDrive/W/dl_projects_combined/Modules/2_vi_scvi/\")\n",
    "import scvi\n"
   ]
  },
  {
   "cell_type": "markdown",
   "metadata": {},
   "source": [
    "The beginning of the class looks like the following:"
   ]
  },
  {
   "cell_type": "code",
   "execution_count": 74,
   "metadata": {},
   "outputs": [],
   "source": [
    "class Posterior:\n",
    "    def __init__(\n",
    "        self,\n",
    "        model,\n",
    "        gene_dataset: GeneExpressionDataset,\n",
    "        shuffle=False,\n",
    "        indices=None,\n",
    "        use_cuda=True,\n",
    "        data_loader_kwargs=dict(),\n",
    "    ):\n",
    "        \"\"\"\n",
    "\n",
    "        When added to annotation, has a private name attribute\n",
    "        \"\"\"\n",
    "        self.model = model\n",
    "        self.gene_dataset = gene_dataset\n",
    "        self.to_monitor = []\n",
    "        self.use_cuda = use_cuda\n",
    "\n",
    "        if indices is not None and shuffle:\n",
    "            raise ValueError(\"indices is mutually exclusive with shuffle\")\n",
    "        if indices is None:\n",
    "            if shuffle:\n",
    "                sampler = RandomSampler(gene_dataset)\n",
    "            else:\n",
    "                sampler = SequentialSampler(gene_dataset)\n",
    "        else:\n",
    "            if hasattr(indices, \"dtype\") and indices.dtype is np.dtype(\"bool\"):\n",
    "                indices = np.where(indices)[0].ravel()\n",
    "            sampler = SubsetRandomSampler(indices)\n",
    "        self.data_loader_kwargs = copy.copy(data_loader_kwargs)\n",
    "        self.data_loader_kwargs.update(\n",
    "            {\"collate_fn\": gene_dataset.collate_fn_builder(), \"sampler\": sampler}\n",
    "        )\n",
    "        self.data_loader = DataLoader(gene_dataset, **self.data_loader_kwargs)\n"
   ]
  },
  {
   "cell_type": "markdown",
   "metadata": {},
   "source": [
    "If user provides what indices to use in the posterior, then the data cannot be shuffled, this is what the first exception is for; otherwise if user does not provide indices (i.e. they are none, their default value), then a sampler is used for shuffling the data.\n",
    "\n",
    "By analyzing the `posterior.py` file carefully, we notice that all these samplers are Pytorch modules, as defined by\n",
    "\n",
    "```python\n",
    "from torch.utils.data.sampler import (\n",
    "    SequentialSampler,\n",
    "    SubsetRandomSampler,\n",
    "    RandomSampler,\n",
    ")\n",
    "```\n",
    "\n",
    "If the user has provided indices for the Posterior object, then the `hasattr` method checks whether the indices have a `dtype` attribute. The `dtype` attribute is present whenever the indices is a Numpy array. Let's verify this."
   ]
  },
  {
   "cell_type": "code",
   "execution_count": 76,
   "metadata": {},
   "outputs": [
    {
     "name": "stdout",
     "output_type": "stream",
     "text": [
      "A generic numpy array has dtype attribute\n",
      "Python list does not have  dtype attribute\n"
     ]
    }
   ],
   "source": [
    "import numpy as np\n",
    "b = [1,2,3]\n",
    "a = np.array(b)\n",
    "\n",
    "if hasattr(a,\"dtype\"):\n",
    "    print(\"A generic numpy array has dtype attribute\")\n",
    "else :\n",
    "       print(\"A generic numpy array does not have  dtype attribute\")\n",
    "        \n",
    "if hasattr(b,\"dtype\"):\n",
    "    print(\"Python list has dtype attribute\")\n",
    "else :\n",
    "       print(\"Python list does not have  dtype attribute\")"
   ]
  },
  {
   "cell_type": "markdown",
   "metadata": {},
   "source": [
    "So we see indeed that Numpy arrays have `dtype` attribute while Python lists don't. Next the method checks whether the dtype is `bool`, meaning `True` or `False`. If so, then numpy's `where` method  is used to find the `True` indices and flatten the resulting array."
   ]
  },
  {
   "cell_type": "code",
   "execution_count": 86,
   "metadata": {},
   "outputs": [
    {
     "name": "stdout",
     "output_type": "stream",
     "text": [
      "The constructed boolean array has correct format for the method\n",
      "Now the indices look like [0 2], since \n",
      "           ravel where extracts the True indices and ravel flattens the Numpy array, \n",
      "           causing it to be 1-dimensional\n"
     ]
    }
   ],
   "source": [
    "indices = np.array([True,False,True,False])\n",
    "if hasattr(indices, \"dtype\") and indices.dtype is np.dtype(\"bool\"):\n",
    "    print(\"The constructed boolean array has correct format for the method\")\n",
    "    indices = np.where(indices)[0].ravel()\n",
    "    print(f\"Now the indices look like {indices}, since \\n \\\n",
    "          ravel where extracts the True indices and ravel flattens the Numpy array, \\n \\\n",
    "          causing it to be 1-dimensional\")\n",
    "else :\n",
    "    print(\"The constructed boolean array does not have  correct format for the method\")\n",
    "#indices = np.where(indices)[0].ravel()\n"
   ]
  },
  {
   "cell_type": "markdown",
   "metadata": {},
   "source": [
    "Note that whereas Python lists don't have an inbuilt flatten method, but when using Numpy arrays, we will be equipped with the `ravel` method. Numpy arrays are also optimized for computing operations, making numerical calculations faster.\n",
    "\n",
    "Nex the sampler is defined using `SubsetRandomSampler` from Pytorch. By going to [the source code](https://pytorch.org/docs/stable/_modules/torch/utils/data/sampler.html#SubsetRandomSampler), we see that\n",
    ">> `SubsetRandomSampler` Samples elements randomly from a given list of indices, without replacement.\n",
    "\n",
    "Internally it means that the `__iter__` method is defined as to make the `sampler` object iterable.\n",
    "\n",
    "```python\n",
    "(self.indices[i] for i in torch.randperm(len(self.indices)))\n",
    "```\n",
    "This means that the indices are randomly permuted and once an index has been selected, it cannot be selected again, since the sampling is without replacement.\n"
   ]
  },
  {
   "cell_type": "markdown",
   "metadata": {},
   "source": [
    "Next we see an interesting `copy.copy()` construct. What could that mean?"
   ]
  },
  {
   "cell_type": "markdown",
   "metadata": {},
   "source": [
    "By going to [Python manual page for that submodule](https://docs.python.org/3/library/copy.html)\n",
    ", we can see the following:\n",
    "    \n",
    "> Assignment statements in Python do not copy objects, they create bindings between a target and an object. For collections that are mutable or contain mutable items, a copy is sometimes needed so one can change one copy without changing the other. This module provides generic shallow and deep copy operations (explained below).\n",
    "\n",
    "```python\n",
    "copy.copy(x)\n",
    "```\n",
    "Return a shallow copy of x.\n",
    "In this case, the idea is to copy the `data_loader_kwargs` to the internal (or `self`) state of the `Posterior` object. If `data_loader_kwargs` are changed, then since the code\n",
    "\n",
    "```python\n",
    "self.data_loader_kwargs = copy.copy(data_loader_kwargs)\n",
    "```\n",
    "only uses a shallow copy to the kwargs, the internal state in Posterior is not changed."
   ]
  },
  {
   "cell_type": "markdown",
   "metadata": {},
   "source": [
    "#### Collate function for `Posterior`"
   ]
  },
  {
   "cell_type": "markdown",
   "metadata": {},
   "source": [
    "```python\n",
    "self.data_loader_kwargs.update(\n",
    "            {\"collate_fn\": gene_dataset.collate_fn_builder(), \"sampler\": sampler}\n",
    "        )\n",
    "```\n",
    "\n",
    "Can you guess what is the role of the previous code chunk?\n",
    "Every dictionary in Python has an `update` method. Let's verify this\n"
   ]
  },
  {
   "cell_type": "code",
   "execution_count": 97,
   "metadata": {},
   "outputs": [
    {
     "name": "stdout",
     "output_type": "stream",
     "text": [
      "A generic dictionary in Python has items attribute\n",
      "A generic dictionary in Python has update attribute\n"
     ]
    },
    {
     "data": {
      "text/plain": [
       "<function dict.items>"
      ]
     },
     "execution_count": 97,
     "metadata": {},
     "output_type": "execute_result"
    }
   ],
   "source": [
    "k = dict()\n",
    "if hasattr(k,\"items\"):\n",
    "    print(\"A generic dictionary in Python has items attribute\")\n",
    "if hasattr(k,\"update\"):\n",
    "    print(\"A generic dictionary in Python has update attribute\")\n",
    " \n",
    "    "
   ]
  },
  {
   "cell_type": "markdown",
   "metadata": {},
   "source": [
    "So we can see that we can also check the presence of methods with the `hasattr` function and the same way every dictionary in Python has `items`, it also has an `update` method to update items (i.e. to change or add items in the dictionary).\n"
   ]
  },
  {
   "cell_type": "markdown",
   "metadata": {},
   "source": [
    " In this case, the previously discussed sampler is saved and and a gene datasets\n",
    "`collate_fn_builder` is called. Let's analyze what this method does. \n",
    " \n",
    "```python\n",
    "def collate_fn_base(\n",
    "    self, attributes_and_types: Dict[str, type], batch: Union[List[int], np.ndarray]\n",
    ") -> Tuple[torch.Tensor, ...]:\n",
    "    \"\"\"Given indices and attributes to batch, returns a full batch of ``Torch.Tensor``\"\"\"\n",
    "    indices = np.asarray(batch)\n",
    "    data_numpy = [\n",
    "        getattr(self, attr)[indices].astype(dtype)\n",
    "        if isinstance(getattr(self, attr), np.ndarray)\n",
    "        else getattr(self, attr)[indices].toarray().astype(dtype)\n",
    "        for attr, dtype in attributes_and_types.items()\n",
    "    ]\n",
    "\n",
    "    data_torch = tuple(torch.from_numpy(d) for d in data_numpy)\n",
    "    return data_torch\n",
    "\n",
    "```\n",
    "\n"
   ]
  },
  {
   "cell_type": "markdown",
   "metadata": {},
   "source": [
    "First we might notice constructs like Dict, Union, List, Tuple.\n",
    "What are these?\n",
    "When we browser the code for `dataset.py`, we can notice the following import\n",
    "```python\n",
    "from typing import Dict, Iterable, List, Tuple, Union, Optional, Callable\n",
    "```\n"
   ]
  },
  {
   "cell_type": "markdown",
   "metadata": {},
   "source": [
    "That means that from `typing` module we have imported the mentioned set of submodules.\n",
    "[This Stackoverflow topic](https://stackoverflow.com/questions/32557920/what-are-type-hints-in-python-3-5) explains well why these type hint constructs exist:\n",
    "\n",
    "> Due to the dynamic nature of Python, inferring or checking the type of an object being used is especially hard. This fact makes it hard for developers to understand what exactly is going on in code they haven't written and, most importantly, for type checking tools found in many IDEs [PyCharm, PyDev come to mind] that are limited due to the fact that they don't have any indicator of what type the objects are. As a result they resort to trying to infer the type with (as mentioned in the presentation) around 50% success rate.\n",
    "\n",
    "Thus we can use the explicit constructs that denote the respective data types in Python."
   ]
  },
  {
   "cell_type": "markdown",
   "metadata": {},
   "source": [
    "Let's take a look at an example"
   ]
  },
  {
   "cell_type": "code",
   "execution_count": null,
   "metadata": {},
   "outputs": [],
   "source": [
    "movie = {'name': 'Blade Runner',\n",
    "         'year': 1982}\n",
    "\n",
    "import typing\n",
    "from typing import TypedDict\n",
    "\n",
    "class Movie(TypedDict):\n",
    "    name: str\n",
    "    year: int\n",
    "\n",
    "movie: Movie = {'name': 'Blade Runner',\n",
    "                'year': 1982}\n",
    "#That quantifies that now the object movie is of Movie type."
   ]
  },
  {
   "cell_type": "markdown",
   "metadata": {},
   "source": [
    "#### Collate Function Base"
   ]
  },
  {
   "cell_type": "markdown",
   "metadata": {},
   "source": [
    "```python\n",
    "def collate_fn_base(\n",
    "    self, attributes_and_types: Dict[str, type], batch: Union[List[int], np.ndarray]\n",
    "    ) -> Tuple[torch.Tensor, ...]:\n",
    "```\n",
    "This construct means that the base collate function takes in two arguments(`attributes_and_types`and `batch`)\n",
    "and returns a Tuple of `torch.tensor` types.\n",
    "The `attributes_and_types` Dictionary has both `str` and `type`. What are these? Since a dictionary is of `Mapping`, it specifies the data types of both the key and the value. For more information and examples, refer to [this source](https://mypy.readthedocs.io/en/latest/cheat_sheet_py3.html).\n",
    "Batch is defined as a `Union` of an integer list and `numpy ndarray`."
   ]
  },
  {
   "cell_type": "markdown",
   "metadata": {},
   "source": [
    "```python\n",
    " \"\"\"Given indices and attributes to batch, returns a full batch of ``Torch.Tensor``\"\"\"\n",
    "    indices = np.asarray(batch)\n",
    "    data_numpy = [\n",
    "        getattr(self, attr)[indices].astype(dtype)\n",
    "        if isinstance(getattr(self, attr), np.ndarray)\n",
    "        else getattr(self, attr)[indices].toarray().astype(dtype)\n",
    "        for attr, dtype in attributes_and_types.items()\n",
    "    ]\n",
    "\n",
    "    data_torch = tuple(torch.from_numpy(d) for d in data_numpy)\n",
    "    return data_torch\n",
    "```   \n",
    "Firstly, the batch that was a `Union` of `List` and `ndarray` is converted into a `numpy array`. Then the `attributes_and_types` dictionary, that has all the attributes and their types, is looped over. If the attribute is of `ndarray` type then the attribute (any of\n",
    " > (\"dataset_versions\",\n",
    "\"gene_attribute_names\",\n",
    "\"cell_attribute_names\",\n",
    "\"cell_categorical_attribute_names\",\n",
    "\"cell_measurements_columns\") \n",
    "\n",
    " or\n",
    " \n",
    "> (\"X\", \n",
    "\"corrupted_X\",\n",
    "\"local_means\",\n",
    "\"local_vars\",\n",
    "\"batch_indices\",\n",
    "\"labels\")\n",
    "\n",
    "\n",
    "of the respective indices are selected and converted to the defined `dtype`, otherwise if the attribute is not of `ndarray` type, then it is first converted to `ndarray` type and then converted, the resulting variable is called `data_numpy`.\n",
    "\n",
    "Lastly, the following Python code converts the `data_numpy` to tuple of Torch Tensors, where each Tensor contains a list of defined attribute values. As the documentation specifies, the one return statement corresponds to one `batch` of data (not the whole dataset).\n",
    "\n",
    "Thus the `collate_fn_base` is concluded and we can start analyzing the `collate_fn_builder`"
   ]
  },
  {
   "cell_type": "markdown",
   "metadata": {},
   "source": [
    "```python\n",
    "def collate_fn_builder(\n",
    "    self,\n",
    "    add_attributes_and_types: Dict[str, type] = None,\n",
    "    override: bool = False,\n",
    "    corrupted=False,\n",
    ") -> Callable[[Union[List[int], np.ndarray]], Tuple[torch.Tensor, ...]]:\n",
    "    \"\"\"Returns a collate_fn with the requested shape/attributes\"\"\"\n",
    "\n",
    "    if override:\n",
    "        attributes_and_types = dict()\n",
    "    else:\n",
    "        attributes_and_types = dict(\n",
    "            [\n",
    "                (\"X\", np.float32) if not corrupted else (\"corrupted_X\", np.float32),\n",
    "                (\"local_means\", np.float32),\n",
    "                (\"local_vars\", np.float32),\n",
    "                (\"batch_indices\", np.int64),\n",
    "                (\"labels\", np.int64),\n",
    "            ]\n",
    "        )\n",
    "\n",
    "    if add_attributes_and_types is None:\n",
    "        add_attributes_and_types = dict()\n",
    "    attributes_and_types.update(add_attributes_and_types)\n",
    "    return partial(self.collate_fn_base, attributes_and_types)\n",
    "```   \n"
   ]
  },
  {
   "cell_type": "markdown",
   "metadata": {},
   "source": [
    "\n",
    "The collate function builder returns a partial function of the base collate function. What is a partial function you might ask?\n",
    "\n",
    "[interactive source on partial functions](https://www.learnpython.org/en/Partial_functions)\n",
    "Thus as you can read, partial function enables a user to make specific \"caller functions\" of existing functions with some argument set to some default value. For example a `multiply` function that has two arguments could be made into a partial function that only accepts one argument while the other is set to 2, thus every call of this function will return the double the number given to it.\n",
    "\n",
    "If override argument is set to True, the attributes and types dictionary is overwritten with an empty dictionary, otherwise the following items are used :\n",
    "\n",
    " > (\"X\", np.float32) if not corrupted else (\"corrupted_X\", np.float32),\n",
    "(\"local_means\", np.float32),\n",
    "(\"local_vars\", np.float32),\n",
    "(\"batch_indices\", np.int64),\n",
    "(\"labels\", np.int64),\n",
    "]\n",
    "\n",
    "These quantify the gene activation data (without noise, or if corrupted, then with noise), local means and variances, indices for the batches as well as the cell labels.\n",
    "If additional attributes and types are not None, then these are also added to the dictionary.\n",
    "Lastly, the partial function of the base collate function is returned with the defined `attributes_and_types`. \n",
    "\n",
    "\n"
   ]
  },
  {
   "cell_type": "markdown",
   "metadata": {},
   "source": [
    "#### Recap of `collate_fn_builder` , Finishing Posterior Initialization\n",
    "\n",
    "This function enables the user to do multiple things:\n",
    "> 1. First it enables the user to add additional attributes to the data\n",
    "> 2. Secondly, it allows to corrupt the data (making use of `corrupted_X` variable.\n",
    "> 3. Thirdly, it allows to clear the attributes (`override=True`).\n",
    "\n",
    "You might think why does all this matter?\n",
    "**It all comes together for the purpose of `data_loader`.**\n",
    "The Pytorch `data_loader` takes more arguments than just the gene dataset. In addition to the original dataset, we also need attributes, labels and parameters that relate to learning the structure of the data -- this was all achieved through the `collate_fn_builder` that is passed to Pytorch DataLoader. In addition to that, we know that passing the data should not be biased, otherwise if the dataset had some kind of intrinsic ordering and we only passed the say the first 1000 lines of the dataset, then the neural network would not learn anything useful about the whole data but only memorize a small portion of it. Thus, the Pytorch data loader also receives the sampler that gives a random permutation of the underlying (attribute) data.\n",
    "\n",
    "Thus, to finish off the `Posterior` class initialization, the last line states\n",
    "```python\n",
    "self.data_loader = DataLoader(gene_dataset, **self.data_loader_kwargs)\n",
    "```   \n",
    "\n",
    "\n"
   ]
  },
  {
   "cell_type": "markdown",
   "metadata": {},
   "source": [
    "## Understanding Posterior Class Methods."
   ]
  },
  {
   "cell_type": "markdown",
   "metadata": {},
   "source": [
    "The relevant methods for understanding Differential Expression are:\n",
    "> 1. `differential_expression_score` , extension of 1.\n",
    "> 2. Mathematics oriented lower level methods `elbo` ,`reconstruction_error` , `marginal_ll`, `get_latent`\n",
    "> 4. Other methods to understand the `Posterior` class\n",
    "\n"
   ]
  },
  {
   "cell_type": "markdown",
   "metadata": {},
   "source": [
    "### Posterior Scale Sampler Method"
   ]
  },
  {
   "cell_type": "markdown",
   "metadata": {},
   "source": [
    "```python\n",
    "idx1: Union[List[bool], np.ndarray],\n",
    "idx2: Union[List[bool], np.ndarray],\n",
    "batchid1: Optional[Union[List[int], np.ndarray]] = None,\n",
    "batchid2: Optional[Union[List[int], np.ndarray]] = None,\n",
    "use_observed_batches: Optional[bool] = False,\n",
    "n_samples: int = 5000\n",
    "eps = 1e-8  # used for numerical stability\n",
    "        # Normalized means sampling for both populations\n",
    "        scales_batches_1 = self.scale_sampler(\n",
    "            selection=idx1,\n",
    "            batchid=batchid1,\n",
    "            use_observed_batches=use_observed_batches,\n",
    "            n_samples=n_samples,\n",
    "        )\n",
    "        scales_batches_2 = self.scale_sampler(\n",
    "            selection=idx2,\n",
    "            batchid=batchid2,\n",
    "            use_observed_batches=use_observed_batches,\n",
    "            n_samples=n_samples,\n",
    "        )\n",
    "```\n",
    "\n",
    "Full Indices and batch indices for 2 cell populations 1 and 2 are assumed to be given by a union of boolean values \n",
    "and an `ndarray`.\n",
    "Given the selection of indices,  whether to use observed batches or not and the amount of samples to use, using the `scale_sampler` we can obtain the normalized means sampling for both cell populations as well as the batch indices.\n",
    "Let us analyze the scale sampler in full depth.\n",
    "\n",
    "\n"
   ]
  },
  {
   "cell_type": "markdown",
   "metadata": {},
   "source": [
    "The docstring is the following:\n",
    "```python\n",
    "   \"\"\"\n",
    "        :param n_samples: Number of samples in total per batch (fill either `n_samples_total`\n",
    "        or `n_samples_per_cell`)\n",
    "        :param n_samples_per_cell: Number of time we sample from each observation per batch\n",
    "        (fill either `n_samples_total` or `n_samples_per_cell`)\n",
    "        :param batchid: Biological batch for which to sample from.\n",
    "        Default (None) sample from all batches\n",
    "        :param use_observed_batches: Whether normalized means are conditioned on observed\n",
    "        batches or if observed batches are to be used\n",
    "        :param selection: Mask or list of cell ids to select\n",
    "        :return:\n",
    "        Dictionary containing:\n",
    "            `scale`\n",
    "                Posterior aggregated scale samples of shape (n_samples, n_genes)\n",
    "                where n_samples correspond to either:\n",
    "                - n_bio_batches * n_cells * n_samples_per_cell\n",
    "                or\n",
    "                 - n_samples_total\n",
    "            `batch`\n",
    "                associated batch ids\n",
    "\n",
    "        \"\"\"\n",
    "```\n"
   ]
  },
  {
   "cell_type": "markdown",
   "metadata": {},
   "source": [
    "The Posterior `scale_sampler` method works the following way:\n",
    "```python\n",
    "# Get overall number of desired samples and desired batches\n",
    "    if batchid is None and not use_observed_batches:\n",
    "        batchid = np.arange(self.gene_dataset.n_batches)\n",
    "    if use_observed_batches:\n",
    "        assert batchid is None, \"Unconsistent batch policy\"\n",
    "        batchid = [None]\n",
    "    if n_samples is None and n_samples_per_cell is None:\n",
    "        n_samples = 5000\n",
    "    elif n_samples_per_cell is not None and n_samples is None:\n",
    "        n_samples = n_samples_per_cell * len(selection)\n",
    "    if (n_samples_per_cell is not None) and (n_samples is not None):\n",
    "        warnings.warn(\n",
    "            \"n_samples and n_samples_per_cell were provided. Ignoring n_samples_per_cell\"\n",
    "        )\n",
    "    n_samples = int(n_samples / len(batchid))\n",
    "    if n_samples == 0:\n",
    "        warnings.warn(\n",
    "            \"very small sample size, please consider increasing `n_samples`\"\n",
    "        )\n",
    "        n_samples = 2\n",
    "``` \n",
    "- If user has not provided batch indices and `use_observed_batches` is `False`, then all the batch indices up to the last index of the dadtaset `n_batches` are used.\n",
    "\n",
    "- If `use_observed_batches` is `true` but no batch indices are provided, `batchid` (batch indices) are set to None.\n",
    "\n",
    "- If the amount of samples and the amount of samples per cell are not provided, the amount of samples is set to 5000, \n",
    "otherwise if the amount of samples per cell is provided, but not the amount of samples, then the amount of samples is equal to the variable `selection` value is multiplied by the amount of samples per cell. Intuitively, the `selection` has to then correspond to the amount of cells.\n",
    "\n",
    "- If  the amount of samples per cell exists, but the amount of samples per cell was not provided, a warning is given and the the amount of samples per cell is ignored. In this case, the amount of samples is computed as the the amount of samples over the amount of batches, thus this variable effectively becomes the **amount of samples per batch**.\n",
    "\n",
    "- In case the amount of samples is much smaller than the amount of batch indices, then the `n_samples` or the amount of samples per batch is set to 2. \n",
    "\n",
    "\n",
    "\n"
   ]
  },
  {
   "cell_type": "markdown",
   "metadata": {},
   "source": [
    "Now that the `n_samples` is set, the method continues in this way:\n",
    "```python\n",
    "# Selection of desired cells for sampling\n",
    "if selection is None:\n",
    "    raise ValueError(\"selections should be a list of cell subsets indices\")\n",
    "selection = np.array(selection)\n",
    "if selection.dtype is np.dtype(\"bool\"):\n",
    "    selection = np.asarray(np.where(selection)[0].ravel())\n",
    "old_loader = self.data_loader\n",
    "\n",
    "# Sampling loop\n",
    "px_scales = []\n",
    "batch_ids = []\n",
    "for batch_idx in batchid:\n",
    "    idx = np.random.choice(\n",
    "        np.arange(len(self.gene_dataset))[selection], n_samples\n",
    "    )\n",
    "    self.update_sampler_indices(idx=idx)\n",
    "    px_scales.append(self.get_sample_scale(transform_batch=batch_idx))\n",
    "    batch_ids.append(np.ones((px_scales[-1].shape[0])) * batch_idx)\n",
    "px_scales = np.concatenate(px_scales)\n",
    "batch_ids = np.concatenate(batch_ids).reshape(-1)\n",
    "assert (\n",
    "    px_scales.shape[0] == batch_ids.shape[0]\n",
    "), \"sampled scales and batches have inconsistent shapes\"\n",
    "self.data_loader = old_loader\n",
    "return dict(scale=px_scales, batch=batch_ids)\n",
    "```\n",
    "- If a user has not selected the cells to compare, an error is thrown because the subset of cells to analyze has not been defined. Otherwise, the selection is converted into numpy array, which can also be a `boolean` array. In this case, the `boolean` values are used to select the subset where the boolean value is `True` .\n",
    "\n",
    "- A pointer to the `data_loader` that was obtained by the end of the `Posterior` class initialization is saved to the variable `old_loader`.\n",
    "\n",
    "Then:\n",
    "\n",
    "- For each batch, random sample, with max index equal to length of selection (thus cannot generate indices out of the selection) and size equal to `n_samples` (remember that this variable is equal to the amount of samples per batch, thus we do this operation for each batch).\n",
    "\n",
    "- The sample indices are updated. As seen from below, that means generating a new sampler with these indices and then updating the Pytorch `data_loader` of the `Posterior` object with this new sampler.\n",
    "```python\n",
    "sampler = SubsetRandomSampler(idx)\n",
    "self.data_loader_kwargs.update({\"sampler\": sampler})\n",
    "self.data_loader = DataLoader(self.gene_dataset, **self.data_loader_kwargs)\n",
    "```\n",
    "- `get_sample_scale` method is used to update the scales. The relevant methods in this case are:\n",
    "\n",
    "```python\n",
    " def __iter__(self):\n",
    "        return map(self.to_cuda, iter(self.data_loader))\n",
    "    \n",
    "def get_sample_scale(self, transform_batch=None):\n",
    "    px_scales = []\n",
    "    for tensors in self:\n",
    "        sample_batch, _, _, batch_index, labels = tensors\n",
    "        px_scales += [\n",
    "            np.array(\n",
    "                (\n",
    "                    self.model.get_sample_scale(\n",
    "                        sample_batch,\n",
    "                        batch_index=batch_index,\n",
    "                        y=labels,\n",
    "                        n_samples=1,\n",
    "                        transform_batch=transform_batch,\n",
    "                    )\n",
    "                ).cpu()\n",
    "            )\n",
    "        ]\n",
    "    return np.concatenate(px_scales)\n",
    "```\n",
    "\n",
    "The method returns the tensors of predicted frequencies of expression for all batches concatenated. The model method is documented [on the documentation website](https://scvi.readthedocs.io/en/latest/scvi.models.html#scvi.models.VAE.get_sample_scale).\n"
   ]
  },
  {
   "cell_type": "markdown",
   "metadata": {},
   "source": [
    "### What is Returned from `scale_sampler` Posterior Method\n",
    "     \n",
    "The `scale_sampler` method returns then the dictionary of gene expression frequencies, derived from `Posterior` inference together with the batch indices."
   ]
  },
  {
   "cell_type": "markdown",
   "metadata": {},
   "source": [
    "If you didn't understand the ending of the last code chunk with arrays and lists, don't worry, let's try out an example in Python"
   ]
  },
  {
   "cell_type": "code",
   "execution_count": 21,
   "metadata": {},
   "outputs": [
    {
     "name": "stdout",
     "output_type": "stream",
     "text": [
      "[array([4, 5, 6]), array([1, 2, 3])]\n"
     ]
    },
    {
     "data": {
      "text/plain": [
       "array([4, 5, 6, 1, 2, 3])"
      ]
     },
     "execution_count": 21,
     "metadata": {},
     "output_type": "execute_result"
    }
   ],
   "source": [
    "a = [np.array([1,2,3])]\n",
    "b = [np.array([4,5,6])]\n",
    "c = []\n",
    "c+=b\n",
    "c+=a\n",
    "print(c)\n",
    "np.concatenate(c)"
   ]
  },
  {
   "cell_type": "markdown",
   "metadata": {},
   "source": [
    "You can see that the `Posterior's ` `get_sample_scale` method calls the same method of the model, processing one data batch of tensors at a time. Inside the method, posterior inference for the model is performed, meaning that latent samples are drawn from the latent distributions and using decoders, these are mapped back to the original space. Let's look at this process more closely."
   ]
  },
  {
   "cell_type": "markdown",
   "metadata": {},
   "source": [
    "As seen from the `__iter__` method, the `tuple` of Pytorch `data batch` tensors are first mapped to the `CUDA` device if it exists. Then the `Posterior` object becomes an iterable, thus we can iterate over the batches in the `get_sample_scale` loop.\n",
    "As you remember from the `collate_fn_builder`, the `attributes_and_types` look the following:\n",
    "\n",
    ">     (\"X\", np.float32) if not corrupted else (\"corrupted_X\", np.float32),\n",
    "                (\"local_means\", np.float32),\n",
    "                (\"local_vars\", np.float32),\n",
    "                (\"batch_indices\", np.int64),\n",
    "                (\"labels\", np.int64),\n",
    "            ]\n",
    " \n",
    " - For every data attributes batch:\n",
    "     - Unpack the batch itself, the batch index and labels, don't use the other variables\n",
    "     - Call the `model's` `get_sample_scale_method` that concatenates the vector of gene expression frequencies across all batches., to the `px_scales` variable. In this case, the model may be for example a variational autoencoder. \n",
    "     "
   ]
  },
  {
   "cell_type": "markdown",
   "metadata": {},
   "source": [
    "#### Getting Sample Scale from the (Variational Autoencoder) Model (Posterior Inference)"
   ]
  },
  {
   "cell_type": "markdown",
   "metadata": {},
   "source": [
    "```python\n",
    " def get_sample_scale(\n",
    "        self, x, batch_index=None, y=None, n_samples=1, transform_batch=None\n",
    "    ):\n",
    "        r\"\"\"Returns the tensor of predicted frequencies of expression\n",
    "\n",
    "        :param x: tensor of values with shape ``(batch_size, n_input)``\n",
    "        :param batch_index: array that indicates which batch the cells belong to with shape ``batch_size``\n",
    "        :param y: tensor of cell-types labels with shape ``(batch_size, n_labels)``\n",
    "        :param n_samples: number of samples\n",
    "        :param transform_batch: int of batch to transform samples into\n",
    "        :return: tensor of predicted frequencies of expression with shape ``(batch_size, n_input)``\n",
    "        :rtype: :py:class:`torch.Tensor`\n",
    "        \"\"\"\n",
    "        return self.inference(\n",
    "            x,\n",
    "            batch_index=batch_index,\n",
    "            y=y,\n",
    "            n_samples=n_samples,\n",
    "            transform_batch=transform_batch,\n",
    "        )[\"px_scale\"]\n",
    "``` \n",
    "We can see that the posterior inference method takes in a batch of gene expression data where the `n_input` is equal to the columns of the previously defined `sample_batch`. The other inputs should be straightforward to understand.\n",
    "However, the beginning of the **posterior inference** method is more complex:\n",
    "\n",
    "```python\n",
    "    def inference(self, x, batch_index=None, y=None, n_samples=1, transform_batch=None):\n",
    "\n",
    "        x_ = x\n",
    "        if self.log_variational:\n",
    "            x_ = torch.log(1 + x_)\n",
    "\n",
    "        # Sampling\n",
    "        qz_m, qz_v, z = self.z_encoder(x_, y)\n",
    "        ql_m, ql_v, library = self.l_encoder(x_)\n",
    "\n",
    "```\n",
    "In short, this is the crux of the `variational autoencoder` or similar models.\n",
    "The gene expression data is put through through first the `encoder`s that compress the data. The difference from a normal `autoencoder` is that the `encoder` neurons actually represent the parameters of **normal distribution**, that is mean and variance vectors. Different from a simple `variational_autoencder`, there are two encoders -- `l_encoder` and `z_encoder`.\n",
    "\n",
    "Let's see what's the difference:\n"
   ]
  },
  {
   "cell_type": "markdown",
   "metadata": {},
   "source": [
    "```python\n",
    " # z encoder goes from the n_input-dimensional data to an n_latent-d\n",
    "        # latent space representation\n",
    "        self.z_encoder = Encoder(\n",
    "            n_input,\n",
    "            n_latent,\n",
    "            n_layers=n_layers,\n",
    "            n_hidden=n_hidden,\n",
    "            dropout_rate=dropout_rate,\n",
    "        )\n",
    "        # l encoder goes from n_input-dimensional data to 1-d library size\n",
    "        self.l_encoder = Encoder(\n",
    "            n_input, 1, n_layers=1, n_hidden=n_hidden, dropout_rate=dropout_rate\n",
    "        )\n",
    " \n",
    "class Encoder(nn.Module):\n",
    "    r\"\"\"Encodes data of ``n_input`` dimensions into a latent space of ``n_output``\n",
    "    dimensions using a fully-connected neural network of ``n_hidden`` layers.\n",
    "\n",
    "    :param n_input: The dimensionality of the input (data space)\n",
    "    :param n_output: The dimensionality of the output (latent space)\n",
    "    :param n_cat_list: A list containing the number of categories\n",
    "                       for each category of interest. Each category will be\n",
    "                       included using a one-hot encoding\n",
    "    :param n_layers: The number of fully-connected hidden layers\n",
    "    :param n_hidden: The number of nodes per hidden layer\n",
    "    :dropout_rate: Dropout rate to apply to each of the hidden layers\n",
    "    \"\"\"\n",
    "\n",
    "    def __init__(self, n_input: int, n_output: int,\n",
    "                 n_cat_list: Iterable[int] = None, n_layers: int = 1,\n",
    "                 n_hidden: int = 128, dropout_rate: float = 0.1):\n",
    "        super(Encoder, self).__init__()\n",
    "\n",
    "        self.encoder = FCLayers(n_in=n_input, n_out=n_hidden, n_cat_list=n_cat_list, n_layers=n_layers,\n",
    "                                n_hidden=n_hidden, dropout_rate=dropout_rate)\n",
    "        self.mean_encoder = nn.Linear(n_hidden, n_output)\n",
    "        self.var_encoder = nn.Linear(n_hidden, n_output)\n",
    "\n",
    "    \n",
    "``` \n",
    "\n",
    "From here we see that both the `z_encoder` and `l_encoder` make use of the same `Encoder` class, with the only difference that the `l_encoder` compresses the data to be 1-dimensional, thus just 1 mean and 1 variance (1-D Gaussian)."
   ]
  },
  {
   "cell_type": "markdown",
   "metadata": {},
   "source": [
    "#### Understanding What the Encoder Really Does -- Core Difference Between Autoencoder and Variational Autoencoder"
   ]
  },
  {
   "cell_type": "markdown",
   "metadata": {},
   "source": [
    "```python\n",
    "def reparameterize(self, mu, var):\n",
    "        return Normal(mu, var.sqrt()).rsample()\n",
    "\n",
    "def forward(self, x: torch.Tensor, *cat_list: int):\n",
    "    r\"\"\"The forward computation for a single sample.\n",
    "\n",
    "     #. Encodes the data into latent space using the encoder network\n",
    "     #. Generates a mean \\\\( q_m \\\\) and variance \\\\( q_v \\\\) (clamped to \\\\( [-5, 5] \\\\))\n",
    "     #. Samples a new value from an i.i.d. multivariate normal \\\\( \\\\sim N(q_m, \\\\mathbf{I}q_v) \\\\)\n",
    "\n",
    "    :param x: tensor with shape (n_input,)\n",
    "    :param cat_list: list of category membership(s) for this sample\n",
    "    :return: tensors of shape ``(n_latent,)`` for mean and var, and sample\n",
    "    :rtype: 3-tuple of :py:class:`torch.Tensor`\n",
    "    \"\"\"\n",
    "\n",
    "    # Parameters for latent distribution\n",
    "    q = self.encoder(x, *cat_list)\n",
    "    q_m = self.mean_encoder(q)\n",
    "    q_v = torch.exp(self.var_encoder(q))  # (computational stability safeguard)torch.clamp(, -5, 5)\n",
    "    latent = self.reparameterize(q_m, q_v)\n",
    "    return q_m, q_v, latent\n",
    "```\n",
    "As explained in the previous notebooks and materials, the core difference between variational autoencoder and \"ordinary\" autoencoder is that the encoder neurons in the variational autoencoder represent the parameters of the latent distribution. \n",
    "Understanding the `Encoder`:\n",
    ">1. First the data is put through Fully Connected Layers (`FCLayers`), where every neuron in the input layer is connected to every neuron in the output layer (similar to a `Hopfield network`). Some of the neural connections are not always used due to the dropout probability that set some weights to 0 with `dropout_rate` probability. \n",
    "> 2. Then the resulting data is put through the `mean_encoder` which is just takes a linear combination of the data times the weights between the fully connected and output layer, for each output neuron. The result is a mean vector with `n_output` elements.\n",
    "> 3. In getting the variance vector of the latent normal distribution, we assume that the network actually encoders the logarithm of the variance. To find the variance, the resulting variance vector is element-wise exponentiated. To understand why logarithm of the variance is modeled, please refer to [this topic](https://stats.stackexchange.com/questions/353220/why-in-variational-auto-encoder-gaussian-variational-family-we-model-log-sig)\n",
    ">4. To actually get the latent distribution, the before calculated mean and variance are used to draw a random sample from I.I.D. Multivariate Normal distribution with 0 non-diagonal covariances (thus the hyperellipsoids are aligned with the coordinate axes, and don't have any rotational component, so to say). This is the famous scale-location Reparametrization trick as the sampling is always differentiable w.r.t. to standard normal multivariate distribution, encoded in the variable $\\epsilon$ for which the parameters  never change, and a deterministic variable $g(.)  = location + scale \\times \\epsilon$ than then transforms the Gaussian to arbitrary mean vector and covariances. That means that Pytorch as an autograd framework is always able to compute the gradients w.r.t. to the parameters of the latent distribution in the gradient descent type of optimization as the parameters of the distribution we actually sample from never change.\n",
    "> 5. The encoder returns the mean and variance vectors of the latent distribution as well as the latent distribution values itself.\n"
   ]
  },
  {
   "cell_type": "code",
   "execution_count": 14,
   "metadata": {},
   "outputs": [
    {
     "name": "stdout",
     "output_type": "stream",
     "text": [
      "torch.Size([4])\n"
     ]
    },
    {
     "ename": "IndexError",
     "evalue": "Dimension out of range (expected to be in range of [-1, 0], but got 1)",
     "output_type": "error",
     "traceback": [
      "\u001b[0;31m---------------------------------------------------------------------------\u001b[0m",
      "\u001b[0;31mIndexError\u001b[0m                                Traceback (most recent call last)",
      "\u001b[0;32m<ipython-input-14-e0eab6f8cf86>\u001b[0m in \u001b[0;36m<module>\u001b[0;34m\u001b[0m\n\u001b[1;32m      2\u001b[0m \u001b[0mx\u001b[0m \u001b[0;34m=\u001b[0m \u001b[0mtorch\u001b[0m\u001b[0;34m.\u001b[0m\u001b[0mtensor\u001b[0m\u001b[0;34m(\u001b[0m\u001b[0;34m[\u001b[0m\u001b[0;36m1\u001b[0m\u001b[0;34m,\u001b[0m \u001b[0;36m2\u001b[0m\u001b[0;34m,\u001b[0m \u001b[0;36m3\u001b[0m\u001b[0;34m,\u001b[0m \u001b[0;36m4\u001b[0m\u001b[0;34m]\u001b[0m\u001b[0;34m)\u001b[0m\u001b[0;34m\u001b[0m\u001b[0;34m\u001b[0m\u001b[0m\n\u001b[1;32m      3\u001b[0m \u001b[0mprint\u001b[0m\u001b[0;34m(\u001b[0m\u001b[0mx\u001b[0m\u001b[0;34m.\u001b[0m\u001b[0mshape\u001b[0m\u001b[0;34m)\u001b[0m\u001b[0;34m\u001b[0m\u001b[0;34m\u001b[0m\u001b[0m\n\u001b[0;32m----> 4\u001b[0;31m \u001b[0mx\u001b[0m \u001b[0;34m=\u001b[0m \u001b[0mx\u001b[0m\u001b[0;34m.\u001b[0m\u001b[0munsqueeze\u001b[0m\u001b[0;34m(\u001b[0m\u001b[0;36m0\u001b[0m\u001b[0;34m)\u001b[0m\u001b[0;34m.\u001b[0m\u001b[0mexpand\u001b[0m\u001b[0;34m(\u001b[0m\u001b[0;36m10\u001b[0m\u001b[0;34m,\u001b[0m\u001b[0mx\u001b[0m\u001b[0;34m.\u001b[0m\u001b[0msize\u001b[0m\u001b[0;34m(\u001b[0m\u001b[0;36m0\u001b[0m\u001b[0;34m)\u001b[0m\u001b[0;34m,\u001b[0m\u001b[0mx\u001b[0m\u001b[0;34m.\u001b[0m\u001b[0msize\u001b[0m\u001b[0;34m(\u001b[0m\u001b[0;36m1\u001b[0m\u001b[0;34m)\u001b[0m\u001b[0;34m)\u001b[0m\u001b[0;34m\u001b[0m\u001b[0;34m\u001b[0m\u001b[0m\n\u001b[0m\u001b[1;32m      5\u001b[0m \u001b[0mprint\u001b[0m\u001b[0;34m(\u001b[0m\u001b[0mx\u001b[0m\u001b[0;34m.\u001b[0m\u001b[0mshape\u001b[0m\u001b[0;34m)\u001b[0m\u001b[0;34m\u001b[0m\u001b[0;34m\u001b[0m\u001b[0m\n",
      "\u001b[0;31mIndexError\u001b[0m: Dimension out of range (expected to be in range of [-1, 0], but got 1)"
     ]
    }
   ],
   "source": [
    "import torch\n",
    "x = torch.tensor([1, 2, 3, 4])\n",
    "print(x.shape)\n",
    "x = x.unsqueeze(0).expand(10,x.size(0),x.size(1))\n",
    "print(x.shape)"
   ]
  },
  {
   "cell_type": "markdown",
   "metadata": {},
   "source": [
    "### What can we Do Once the Variational Autoencoder is Trained?"
   ]
  },
  {
   "cell_type": "markdown",
   "metadata": {},
   "source": [
    "The full strength of Bayesian inference is that not only do we get the point estimates for predictions, but also the confidence intervals or uncertainties around the predictions. That is the benefit of having the full posterior distribution of the parameters available. \n",
    "\n",
    "The **training in classical machine learning corresponds to updating the prior distribution of parameters with data** (*remember: in Bayesian Inference, the data is fixed and model parameters are dynamic or random*). That means that in frequentist machine learning, the model and its parameters are deterministic since we don't consider any probability distribution over the parameters. Although the model training is stochastic (due to the different possible starting guesses), the model itself is deterministic -- there is only one prediction without any confidence or uncertainty.\n",
    "In contrast, in Bayesian Machine Learning, the model parameters through the posterior distribution change with every pass as the distribution changes shape until it converges to some known distribution. Data on the other hand is considered fixed. In Bayesian Machine Learning, the distribution of the data is called the `evidence` and this is just a normalization term in the Bayes formula that is determined by all possible values of the distribution parameters (in integral form)"
   ]
  },
  {
   "cell_type": "markdown",
   "metadata": {},
   "source": [
    "### Bayesian Machine Learning VS Frequentist Machine Learning"
   ]
  },
  {
   "cell_type": "markdown",
   "metadata": {},
   "source": [
    ">1. Bayesian machine learning works with any data size, but frequentist machine learning works only for `big data` (when the numbers of data points is much bigger than the amount of parameters). Be cautious since neural networks often have millions of parameters.\n",
    "\n",
    "> 2. In Bayesian machine learning, parameters are random and data is fixed; in frequentist machine learning it's the opposite. That results in Bayesian machine learning to be able to quantify uncertainty around the predictions and to generate new data points, as the distribution of the data (evidence) can be directly computed.\n",
    "> 3. In Frequentist machine learning, a model is trained using the MLE (Maximum Likelihood) principle with the goal to find the parameters $\\theta$ that maximize the likelihood of observing the measured data, given the parameters. In contrast, in Bayesian machine learning, training results in the computation of the posterior distribution of parameters given the data.\n",
    "That posterior distribution is then directly used in the prediction on the test set through the marginalization principle as follows:\n",
    "![marginalization_principle](https://filedn.com/lK1VhM9GbBxVlERr9KFjD4B/pictures_to_use_in_bayesian_module/bayestraining.JPG)"
   ]
  },
  {
   "cell_type": "code",
   "execution_count": null,
   "metadata": {},
   "outputs": [],
   "source": []
  },
  {
   "cell_type": "markdown",
   "metadata": {},
   "source": [
    "#### Resuming the Analysis of the Posterior Inference `scale_sampler` method"
   ]
  },
  {
   "cell_type": "markdown",
   "metadata": {},
   "source": [
    "Remember that `get_sample_scale` method defined that for each batch in the tensors, model's `get_sample_scale` method was called, in which the posterior inference on that batch was performed.\n",
    "Previously we have analyzed the `encoder` part. Let's see what happens after the encoder.\n",
    "\n",
    "```python\n",
    "  if n_samples > 1:\n",
    "            qz_m = qz_m.unsqueeze(0).expand((n_samples, qz_m.size(0), qz_m.size(1)))\n",
    "            qz_v = qz_v.unsqueeze(0).expand((n_samples, qz_v.size(0), qz_v.size(1)))\n",
    "            z = Normal(qz_m, qz_v.sqrt()).sample()\n",
    "            ql_m = ql_m.unsqueeze(0).expand((n_samples, ql_m.size(0), ql_m.size(1)))\n",
    "            ql_v = ql_v.unsqueeze(0).expand((n_samples, ql_v.size(0), ql_v.size(1)))\n",
    "            library = Normal(ql_m, ql_v.sqrt()).sample()\n",
    "\n",
    "        if transform_batch is not None:\n",
    "            dec_batch_index = transform_batch * torch.ones_like(batch_index)\n",
    "        else:\n",
    "            dec_batch_index = batch_index\n",
    "\n",
    "        px_scale, px_r, px_rate, px_dropout = self.decoder(\n",
    "            self.dispersion, z, library, dec_batch_index, y\n",
    "        )\n",
    "        if self.dispersion == \"gene-label\":\n",
    "            px_r = F.linear(\n",
    "                one_hot(y, self.n_labels), self.px_r\n",
    "            )  # px_r gets transposed - last dimension is nb genes\n",
    "        elif self.dispersion == \"gene-batch\":\n",
    "            px_r = F.linear(one_hot(dec_batch_index, self.n_batch), self.px_r)\n",
    "        elif self.dispersion == \"gene\":\n",
    "            px_r = self.px_r\n",
    "        px_r = torch.exp(px_r)\n",
    "\n",
    "        return dict(\n",
    "            px_scale=px_scale,\n",
    "            px_r=px_r,\n",
    "            px_rate=px_rate,\n",
    "            px_dropout=px_dropout,\n",
    "            qz_m=qz_m,\n",
    "            qz_v=qz_v,\n",
    "            z=z,\n",
    "            ql_m=ql_m,\n",
    "            ql_v=ql_v,\n",
    "            library=library,\n",
    "        )\n",
    "    \n",
    "```\n",
    "Since the `posterior_inference` was called in a loop over all the batches and `n_samples` quantified  the amount of samples per batch, thus we need to extend the mean and variance tensors to be 3-dimensional to accommodate multiple samples per batch. This is achieved through the `unsqueeze` and `expand` commands. `unsqueeze` creates adds new dimension to 0-axis, and `expand` fills that dimension with the additional sample data, essentially repeating the same arrays `n_samples` times. To read more about these commands, refer [unsqueeze source](https://stackoverflow.com/questions/57237352/what-does-unsqueeze-do-in-pytorch) and [expand source](https://discuss.pytorch.org/t/torch-repeat-and-torch-expand-which-to-use/27969).\n",
    "The same is done for `l_encoder` and `z_encoder` outputs. The amount of latent variable values drawn is equal to `n_samples`, so if it is greater than one, then multiple values from multivariate normal i.i.d. distribution are drawn, otherwise only one sample is drawn. The results from that processing step are two variables `z` that is a latent vector (with `n_hidden` dimensions) and `library` that is a 1D latent vector.\n",
    "\n",
    "Next, the SCVI Decoder is used to obtained the Zero-inflated negative binomial distribution parameters. Remember that the initial data input to the variational autoencoder quantifies the count readings of genes in cells or frequencies, then the `px_scale` vector is obtained through the following code:\n",
    "\n",
    "```python\n",
    "self.px_scale_decoder = nn.Sequential(nn.Linear(n_hidden, n_output), nn.Softmax(dim=-1))\n",
    "``` \n",
    "Thus, the `px_scale_decoder`is a sequential application of the linear layer and the `Softmax` layer and the dimension of this transformation is `n_samples` x `n_output`, where `n_samples` is the amount of samples per batch since inference is done per batch and the `n_output` is the amount of genes in the `gene_dataset` (gene expression matrix).\n",
    "\n",
    "As in the `get_sample_scale` a loop over samples is run, where the scales from batches are concatenated to a list and finally `numpy.concatenate` is applied to the result over axis 0 (default axis), the result is a tensor of size `n_samples` x `n_output` of decoded `px_scale`tensor data, which is exactly the same shape as the input data, as is **supposed to be in the case of (variational) autoencoder**.\n"
   ]
  },
  {
   "cell_type": "markdown",
   "metadata": {},
   "source": [
    "### Understanding the Meaning of the Softmax `px_scale` Tensor"
   ]
  },
  {
   "cell_type": "markdown",
   "metadata": {},
   "source": [
    "To understand of the meaning of `px_scale` tensor, we have to look into the code of `SCVIDecoder`."
   ]
  },
  {
   "cell_type": "markdown",
   "metadata": {},
   "source": [
    "The Decoder used to map the latent sample back to the original gene expression space, quantifying the expression rate for each gene."
   ]
  },
  {
   "cell_type": "markdown",
   "metadata": {},
   "source": [
    "```python\n",
    "class DecoderSCVI(nn.Module):\n",
    "    r\"\"\"Decodes data from latent space of ``n_input`` dimensions ``n_output``\n",
    "    dimensions using a fully-connected neural network of ``n_hidden`` layers.\n",
    "\n",
    "    :param n_input: The dimensionality of the input (latent space)\n",
    "    :param n_output: The dimensionality of the output (data space)\n",
    "    :param n_cat_list: A list containing the number of categories\n",
    "                       for each category of interest. Each category will be\n",
    "                       included using a one-hot encoding\n",
    "    :param n_layers: The number of fully-connected hidden layers\n",
    "    :param n_hidden: The number of nodes per hidden layer\n",
    "    :param dropout_rate: Dropout rate to apply to each of the hidden layers\n",
    "    \"\"\"\n",
    "\n",
    "    def __init__(self, n_input: int, n_output: int,\n",
    "                 n_cat_list: Iterable[int] = None, n_layers: int = 1,\n",
    "                 n_hidden: int = 128):\n",
    "        super(DecoderSCVI, self).__init__()\n",
    "        self.px_decoder = FCLayers(n_in=n_input, n_out=n_hidden,\n",
    "                                   n_cat_list=n_cat_list, n_layers=n_layers,\n",
    "                                   n_hidden=n_hidden, dropout_rate=0)\n",
    "\n",
    "        # mean gamma\n",
    "        self.px_scale_decoder = nn.Sequential(nn.Linear(n_hidden, n_output), nn.Softmax(dim=-1))\n",
    "\n",
    "        # dispersion: here we only deal with gene-cell dispersion case\n",
    "        self.px_r_decoder = nn.Linear(n_hidden, n_output)\n",
    "\n",
    "        # dropout\n",
    "        self.px_dropout_decoder = nn.Linear(n_hidden, n_output)\n",
    "\n",
    "    def forward(self, dispersion: str, z: torch.Tensor, library: torch.Tensor,\n",
    "                *cat_list: int):\n",
    "        r\"\"\"The forward computation for a single sample.\n",
    "\n",
    "         #. Decodes the data from the latent space using the decoder network\n",
    "         #. Returns parameters for the ZINB distribution of expression\n",
    "         #. If ``dispersion != 'gene-cell'`` then value for that param will be ``None``\n",
    "\n",
    "        :param dispersion: One of the following\n",
    "\n",
    "            * ``'gene'`` - dispersion parameter of NB is constant per gene across cells\n",
    "            * ``'gene-batch'`` - dispersion can differ between different batches\n",
    "            * ``'gene-label'`` - dispersion can differ between different labels\n",
    "            * ``'gene-cell'`` - dispersion can differ for every gene in every cell\n",
    "\n",
    "        :param z: tensor with shape ``(n_input,)``\n",
    "        :param library: library size\n",
    "        :param cat_list: list of category membership(s) for this sample\n",
    "        :return: parameters for the ZINB distribution of expression\n",
    "        :rtype: 4-tuple of :py:class:`torch.Tensor`\n",
    "        \"\"\"\n",
    "\n",
    "        # The decoder returns values for the parameters of the ZINB distribution\n",
    "        px = self.px_decoder(z, *cat_list)\n",
    "        px_scale = self.px_scale_decoder(px)\n",
    "        px_dropout = self.px_dropout_decoder(px)\n",
    "        # Clamp to high value: exp(12) ~ 160000 to avoid nans (computational stability)\n",
    "        px_rate = torch.exp(library) * px_scale  # torch.clamp( , max=12)\n",
    "        px_r = self.px_r_decoder(px) if dispersion == \"gene-cell\" else None\n",
    "        return px_scale, px_r, px_rate, px_dropout\n",
    "```\n",
    "\n",
    "What happens here is that using the latent variable values derived from the initial gene expression matrix, parameters of the Zero-Inflated Negative Binomial Regression distribution are returned using the decoder. \n",
    "\n",
    "**The gene expression rate is calculated as the output from the `px_scale` that is the output of the following neural network layers : FC -> Linear -> Softmax. For each cell processed, the method returns the expression rate // frequency or probability for each gene.**\n",
    "\n",
    "*Note that there are no one-hot-encoded variables in `Cortex Dataset`, thus `n_cat_list` is set to 0 in the decoder.*"
   ]
  },
  {
   "cell_type": "code",
   "execution_count": null,
   "metadata": {},
   "outputs": [],
   "source": []
  },
  {
   "cell_type": "markdown",
   "metadata": {},
   "source": [
    "## Differential Expression\n",
    "**For more in-depth treatment, take a look at the next section**\n",
    "\n",
    "From the trained VAE model we can sample the gene expression rate for each gene in each cell. For the two populations of interest, we can then randomly sample pairs of cells, one from each population to compare their expression rate for a gene. The degree of differential expression is measured by __logit(p/(1-p))__ where __p__ is the probability of a cell from population A having a higher expression than a cell from population B. We can form the null distribution of the DE values by sampling pairs randomly from the combined population.\n",
    "\n",
    "The following example is implemented for the cortext dataset, vary __cell_types__ and __genes_of_interest__ for other datasets. "
   ]
  },
  {
   "cell_type": "markdown",
   "metadata": {},
   "source": [
    "**1. Set population A and population B for comparison**"
   ]
  },
  {
   "cell_type": "code",
   "execution_count": 72,
   "metadata": {},
   "outputs": [
    {
     "name": "stdout",
     "output_type": "stream",
     "text": [
      "['astrocytes_ependymal' 'endothelial-mural' 'interneurons' 'microglia'\n",
      " 'oligodendrocytes' 'pyramidal CA1' 'pyramidal SS']\n",
      "\n",
      "Differential Expression A/B for cell types\n",
      "A: oligodendrocytes\n",
      "B: pyramidal CA1\n",
      "\n"
     ]
    }
   ],
   "source": [
    "cell_types = gene_dataset.cell_types\n",
    "print(gene_dataset.cell_types)\n",
    "# oligodendrocytes (#4) VS pyramidal CA1 (#5)\n",
    "couple_celltypes = (4, 5)  # the couple types on which to study DE\n",
    "\n",
    "print(\"\\nDifferential Expression A/B for cell types\\nA: %s\\nB: %s\\n\" %\n",
    "      tuple((cell_types[couple_celltypes[i]] for i in [0, 1])))\n",
    "\n",
    "cell_idx1 = gene_dataset.labels.ravel() == couple_celltypes[0]\n",
    "cell_idx2 = gene_dataset.labels.ravel() == couple_celltypes[1]"
   ]
  },
  {
   "cell_type": "code",
   "execution_count": 71,
   "metadata": {},
   "outputs": [
    {
     "data": {
      "text/plain": [
       "(3005,)"
      ]
     },
     "execution_count": 71,
     "metadata": {},
     "output_type": "execute_result"
    }
   ],
   "source": [
    "cell_idx2.shape # boolean array indicating the correct cell locations over the dataset"
   ]
  },
  {
   "cell_type": "markdown",
   "metadata": {},
   "source": [
    "**2. Define parameters**\n",
    "* __n_samples__: the number of times to sample __px_scales__ from the vae model for each gene in each cell.\n",
    "* __M_permutation__: Number of pairs sampled from the px_scales values for comparison."
   ]
  },
  {
   "cell_type": "code",
   "execution_count": 68,
   "metadata": {},
   "outputs": [],
   "source": [
    "n_samples = 100\n",
    "M_permutation = 100000"
   ]
  },
  {
   "cell_type": "code",
   "execution_count": 69,
   "metadata": {},
   "outputs": [
    {
     "data": {
      "text/html": [
       "<div>\n",
       "<style scoped>\n",
       "    .dataframe tbody tr th:only-of-type {\n",
       "        vertical-align: middle;\n",
       "    }\n",
       "\n",
       "    .dataframe tbody tr th {\n",
       "        vertical-align: top;\n",
       "    }\n",
       "\n",
       "    .dataframe thead th {\n",
       "        text-align: right;\n",
       "    }\n",
       "</style>\n",
       "<table border=\"1\" class=\"dataframe\">\n",
       "  <thead>\n",
       "    <tr style=\"text-align: right;\">\n",
       "      <th></th>\n",
       "      <th>proba_m1</th>\n",
       "      <th>proba_m2</th>\n",
       "      <th>bayes_factor</th>\n",
       "      <th>scale1</th>\n",
       "      <th>scale2</th>\n",
       "      <th>raw_mean1</th>\n",
       "      <th>raw_mean2</th>\n",
       "      <th>non_zeros_proportion1</th>\n",
       "      <th>non_zeros_proportion2</th>\n",
       "      <th>raw_normalized_mean1</th>\n",
       "      <th>raw_normalized_mean2</th>\n",
       "    </tr>\n",
       "  </thead>\n",
       "  <tbody>\n",
       "    <tr>\n",
       "      <th>PTGDS</th>\n",
       "      <td>1.00000</td>\n",
       "      <td>0.00000</td>\n",
       "      <td>18.420681</td>\n",
       "      <td>0.007664</td>\n",
       "      <td>0.000196</td>\n",
       "      <td>40.480488</td>\n",
       "      <td>0.942492</td>\n",
       "      <td>0.786585</td>\n",
       "      <td>0.064963</td>\n",
       "      <td>5.567890</td>\n",
       "      <td>0.067856</td>\n",
       "    </tr>\n",
       "    <tr>\n",
       "      <th>NPC2</th>\n",
       "      <td>0.99967</td>\n",
       "      <td>0.00033</td>\n",
       "      <td>8.016058</td>\n",
       "      <td>0.001938</td>\n",
       "      <td>0.000104</td>\n",
       "      <td>11.063415</td>\n",
       "      <td>0.636848</td>\n",
       "      <td>0.976829</td>\n",
       "      <td>0.302449</td>\n",
       "      <td>1.214167</td>\n",
       "      <td>0.049442</td>\n",
       "    </tr>\n",
       "    <tr>\n",
       "      <th>GATM</th>\n",
       "      <td>0.99952</td>\n",
       "      <td>0.00048</td>\n",
       "      <td>7.641224</td>\n",
       "      <td>0.002055</td>\n",
       "      <td>0.000175</td>\n",
       "      <td>12.093903</td>\n",
       "      <td>0.500533</td>\n",
       "      <td>0.976829</td>\n",
       "      <td>0.177849</td>\n",
       "      <td>1.360277</td>\n",
       "      <td>0.039960</td>\n",
       "    </tr>\n",
       "    <tr>\n",
       "      <th>ERMN</th>\n",
       "      <td>0.99935</td>\n",
       "      <td>0.00065</td>\n",
       "      <td>7.337873</td>\n",
       "      <td>0.005114</td>\n",
       "      <td>0.000248</td>\n",
       "      <td>28.808537</td>\n",
       "      <td>0.665602</td>\n",
       "      <td>0.970732</td>\n",
       "      <td>0.103301</td>\n",
       "      <td>3.075762</td>\n",
       "      <td>0.051155</td>\n",
       "    </tr>\n",
       "    <tr>\n",
       "      <th>ASPA</th>\n",
       "      <td>0.99925</td>\n",
       "      <td>0.00075</td>\n",
       "      <td>7.194674</td>\n",
       "      <td>0.002133</td>\n",
       "      <td>0.000122</td>\n",
       "      <td>12.009756</td>\n",
       "      <td>0.216187</td>\n",
       "      <td>0.909756</td>\n",
       "      <td>0.053248</td>\n",
       "      <td>1.391581</td>\n",
       "      <td>0.015937</td>\n",
       "    </tr>\n",
       "    <tr>\n",
       "      <th>...</th>\n",
       "      <td>...</td>\n",
       "      <td>...</td>\n",
       "      <td>...</td>\n",
       "      <td>...</td>\n",
       "      <td>...</td>\n",
       "      <td>...</td>\n",
       "      <td>...</td>\n",
       "      <td>...</td>\n",
       "      <td>...</td>\n",
       "      <td>...</td>\n",
       "      <td>...</td>\n",
       "    </tr>\n",
       "    <tr>\n",
       "      <th>GPM6A</th>\n",
       "      <td>0.00021</td>\n",
       "      <td>0.99979</td>\n",
       "      <td>-8.468145</td>\n",
       "      <td>0.000790</td>\n",
       "      <td>0.007530</td>\n",
       "      <td>3.813415</td>\n",
       "      <td>53.570820</td>\n",
       "      <td>0.587805</td>\n",
       "      <td>1.000000</td>\n",
       "      <td>0.421838</td>\n",
       "      <td>4.139109</td>\n",
       "    </tr>\n",
       "    <tr>\n",
       "      <th>PJA2</th>\n",
       "      <td>0.00021</td>\n",
       "      <td>0.99979</td>\n",
       "      <td>-8.468145</td>\n",
       "      <td>0.000435</td>\n",
       "      <td>0.002824</td>\n",
       "      <td>2.174390</td>\n",
       "      <td>22.217253</td>\n",
       "      <td>0.669512</td>\n",
       "      <td>1.000000</td>\n",
       "      <td>0.227136</td>\n",
       "      <td>1.713138</td>\n",
       "    </tr>\n",
       "    <tr>\n",
       "      <th>ATP6V1G2</th>\n",
       "      <td>0.00011</td>\n",
       "      <td>0.99989</td>\n",
       "      <td>-9.114829</td>\n",
       "      <td>0.000119</td>\n",
       "      <td>0.001179</td>\n",
       "      <td>0.419512</td>\n",
       "      <td>8.703940</td>\n",
       "      <td>0.173171</td>\n",
       "      <td>0.984026</td>\n",
       "      <td>0.039785</td>\n",
       "      <td>0.655106</td>\n",
       "    </tr>\n",
       "    <tr>\n",
       "      <th>TSPAN13</th>\n",
       "      <td>0.00004</td>\n",
       "      <td>0.99996</td>\n",
       "      <td>-10.126341</td>\n",
       "      <td>0.000222</td>\n",
       "      <td>0.003200</td>\n",
       "      <td>0.531707</td>\n",
       "      <td>22.612354</td>\n",
       "      <td>0.193902</td>\n",
       "      <td>0.996805</td>\n",
       "      <td>0.054707</td>\n",
       "      <td>1.726714</td>\n",
       "    </tr>\n",
       "    <tr>\n",
       "      <th>NSF</th>\n",
       "      <td>0.00000</td>\n",
       "      <td>1.00000</td>\n",
       "      <td>-18.420681</td>\n",
       "      <td>0.000265</td>\n",
       "      <td>0.002652</td>\n",
       "      <td>1.043902</td>\n",
       "      <td>22.116081</td>\n",
       "      <td>0.304878</td>\n",
       "      <td>0.998935</td>\n",
       "      <td>0.106769</td>\n",
       "      <td>1.648835</td>\n",
       "    </tr>\n",
       "  </tbody>\n",
       "</table>\n",
       "<p>558 rows × 11 columns</p>\n",
       "</div>"
      ],
      "text/plain": [
       "          proba_m1  proba_m2  bayes_factor    scale1    scale2  raw_mean1  \\\n",
       "PTGDS      1.00000   0.00000     18.420681  0.007664  0.000196  40.480488   \n",
       "NPC2       0.99967   0.00033      8.016058  0.001938  0.000104  11.063415   \n",
       "GATM       0.99952   0.00048      7.641224  0.002055  0.000175  12.093903   \n",
       "ERMN       0.99935   0.00065      7.337873  0.005114  0.000248  28.808537   \n",
       "ASPA       0.99925   0.00075      7.194674  0.002133  0.000122  12.009756   \n",
       "...            ...       ...           ...       ...       ...        ...   \n",
       "GPM6A      0.00021   0.99979     -8.468145  0.000790  0.007530   3.813415   \n",
       "PJA2       0.00021   0.99979     -8.468145  0.000435  0.002824   2.174390   \n",
       "ATP6V1G2   0.00011   0.99989     -9.114829  0.000119  0.001179   0.419512   \n",
       "TSPAN13    0.00004   0.99996    -10.126341  0.000222  0.003200   0.531707   \n",
       "NSF        0.00000   1.00000    -18.420681  0.000265  0.002652   1.043902   \n",
       "\n",
       "          raw_mean2  non_zeros_proportion1  non_zeros_proportion2  \\\n",
       "PTGDS      0.942492               0.786585               0.064963   \n",
       "NPC2       0.636848               0.976829               0.302449   \n",
       "GATM       0.500533               0.976829               0.177849   \n",
       "ERMN       0.665602               0.970732               0.103301   \n",
       "ASPA       0.216187               0.909756               0.053248   \n",
       "...             ...                    ...                    ...   \n",
       "GPM6A     53.570820               0.587805               1.000000   \n",
       "PJA2      22.217253               0.669512               1.000000   \n",
       "ATP6V1G2   8.703940               0.173171               0.984026   \n",
       "TSPAN13   22.612354               0.193902               0.996805   \n",
       "NSF       22.116081               0.304878               0.998935   \n",
       "\n",
       "          raw_normalized_mean1  raw_normalized_mean2  \n",
       "PTGDS                 5.567890              0.067856  \n",
       "NPC2                  1.214167              0.049442  \n",
       "GATM                  1.360277              0.039960  \n",
       "ERMN                  3.075762              0.051155  \n",
       "ASPA                  1.391581              0.015937  \n",
       "...                        ...                   ...  \n",
       "GPM6A                 0.421838              4.139109  \n",
       "PJA2                  0.227136              1.713138  \n",
       "ATP6V1G2              0.039785              0.655106  \n",
       "TSPAN13               0.054707              1.726714  \n",
       "NSF                   0.106769              1.648835  \n",
       "\n",
       "[558 rows x 11 columns]"
      ]
     },
     "execution_count": 69,
     "metadata": {},
     "output_type": "execute_result"
    }
   ],
   "source": [
    "de_res = full.differential_expression_score(\n",
    "    cell_idx1, \n",
    "    cell_idx2, \n",
    "    n_samples=n_samples, \n",
    "    M_permutation=M_permutation,\n",
    ")\n",
    "de_res"
   ]
  },
  {
   "cell_type": "markdown",
   "metadata": {},
   "source": [
    "**3. Print out the differential expression value**\n",
    "* bayes_factor: The bayes factor for cell type 1 having a higher expression than cell type 2\n",
    "* raw_mean*i*: average UMI counts in cell type *i*\n",
    "* non_zeros_proportion*i*: proportion of non-zero expression in cell type *i*\n",
    "* raw_normalized_mean*i*: average UMI counts in cell type *i* normalized by cell size\n",
    "* scale*i*: average scVI imputed gene expression scale in cell type *i* \n"
   ]
  },
  {
   "cell_type": "code",
   "execution_count": 15,
   "metadata": {},
   "outputs": [
    {
     "data": {
      "text/html": [
       "<div>\n",
       "<style scoped>\n",
       "    .dataframe tbody tr th:only-of-type {\n",
       "        vertical-align: middle;\n",
       "    }\n",
       "\n",
       "    .dataframe tbody tr th {\n",
       "        vertical-align: top;\n",
       "    }\n",
       "\n",
       "    .dataframe thead th {\n",
       "        text-align: right;\n",
       "    }\n",
       "</style>\n",
       "<table border=\"1\" class=\"dataframe\">\n",
       "  <thead>\n",
       "    <tr style=\"text-align: right;\">\n",
       "      <th></th>\n",
       "      <th>proba_m1</th>\n",
       "      <th>proba_m2</th>\n",
       "      <th>bayes_factor</th>\n",
       "      <th>scale1</th>\n",
       "      <th>scale2</th>\n",
       "      <th>raw_mean1</th>\n",
       "      <th>raw_mean2</th>\n",
       "      <th>non_zeros_proportion1</th>\n",
       "      <th>non_zeros_proportion2</th>\n",
       "      <th>raw_normalized_mean1</th>\n",
       "      <th>raw_normalized_mean2</th>\n",
       "    </tr>\n",
       "  </thead>\n",
       "  <tbody>\n",
       "    <tr>\n",
       "      <th>THY1</th>\n",
       "      <td>0.00191</td>\n",
       "      <td>0.99809</td>\n",
       "      <td>-6.258735</td>\n",
       "      <td>0.000168</td>\n",
       "      <td>0.001827</td>\n",
       "      <td>0.589024</td>\n",
       "      <td>13.569755</td>\n",
       "      <td>0.219512</td>\n",
       "      <td>0.996805</td>\n",
       "      <td>0.060620</td>\n",
       "      <td>1.037373</td>\n",
       "    </tr>\n",
       "    <tr>\n",
       "      <th>MBP</th>\n",
       "      <td>0.99481</td>\n",
       "      <td>0.00519</td>\n",
       "      <td>5.255816</td>\n",
       "      <td>0.011276</td>\n",
       "      <td>0.000388</td>\n",
       "      <td>55.318295</td>\n",
       "      <td>2.787008</td>\n",
       "      <td>0.998780</td>\n",
       "      <td>0.452609</td>\n",
       "      <td>5.862774</td>\n",
       "      <td>0.210483</td>\n",
       "    </tr>\n",
       "  </tbody>\n",
       "</table>\n",
       "</div>"
      ],
      "text/plain": [
       "      proba_m1  proba_m2  bayes_factor    scale1    scale2  raw_mean1  \\\n",
       "THY1   0.00191   0.99809     -6.258735  0.000168  0.001827   0.589024   \n",
       "MBP    0.99481   0.00519      5.255816  0.011276  0.000388  55.318295   \n",
       "\n",
       "      raw_mean2  non_zeros_proportion1  non_zeros_proportion2  \\\n",
       "THY1  13.569755               0.219512               0.996805   \n",
       "MBP    2.787008               0.998780               0.452609   \n",
       "\n",
       "      raw_normalized_mean1  raw_normalized_mean2  \n",
       "THY1              0.060620              1.037373  \n",
       "MBP               5.862774              0.210483  "
      ]
     },
     "execution_count": 15,
     "metadata": {},
     "output_type": "execute_result"
    }
   ],
   "source": [
    "genes_of_interest = [\"THY1\", \"MBP\"]\n",
    "de_res.filter(items=genes_of_interest, axis=0)"
   ]
  },
  {
   "cell_type": "markdown",
   "metadata": {},
   "source": [
    "**9. Visualize top 10 most expressed genes per cell types**"
   ]
  },
  {
   "cell_type": "code",
   "execution_count": 16,
   "metadata": {
    "scrolled": true
   },
   "outputs": [
    {
     "name": "stderr",
     "output_type": "stream",
     "text": [
      "[2019-11-13 16:19:18,878] INFO - scvi.inference.posterior | Differential expression using vanilla mode\n",
      "INFO:scvi.inference.posterior:Differential expression using vanilla mode\n",
      "[2019-11-13 16:19:18,909] INFO - scvi.inference.posterior | Differential expression using vanilla mode\n",
      "INFO:scvi.inference.posterior:Differential expression using vanilla mode\n",
      "[2019-11-13 16:19:18,940] INFO - scvi.inference.posterior | Differential expression using vanilla mode\n",
      "INFO:scvi.inference.posterior:Differential expression using vanilla mode\n",
      "[2019-11-13 16:19:18,970] INFO - scvi.inference.posterior | Differential expression using vanilla mode\n",
      "INFO:scvi.inference.posterior:Differential expression using vanilla mode\n",
      "[2019-11-13 16:19:19,000] INFO - scvi.inference.posterior | Differential expression using vanilla mode\n",
      "INFO:scvi.inference.posterior:Differential expression using vanilla mode\n",
      "[2019-11-13 16:19:19,030] INFO - scvi.inference.posterior | Differential expression using vanilla mode\n",
      "INFO:scvi.inference.posterior:Differential expression using vanilla mode\n",
      "[2019-11-13 16:19:19,060] INFO - scvi.inference.posterior | Differential expression using vanilla mode\n",
      "INFO:scvi.inference.posterior:Differential expression using vanilla mode\n"
     ]
    }
   ],
   "source": [
    "per_cluster_de, cluster_id = full.one_vs_all_degenes(cell_labels=gene_dataset.labels.ravel(), min_cells=1)\n",
    "\n",
    "markers = []\n",
    "for x in per_cluster_de:\n",
    "    markers.append(x[:10])\n",
    "markers = pd.concat(markers)\n",
    "\n",
    "genes = np.asarray(markers.index)\n",
    "expression = [x.filter(items=genes, axis=0)['raw_normalized_mean1'] for x in per_cluster_de]\n",
    "expression = pd.concat(expression, axis=1)\n",
    "expression = np.log10(1 + expression)\n",
    "expression.columns = gene_dataset.cell_types"
   ]
  },
  {
   "cell_type": "code",
   "execution_count": 17,
   "metadata": {},
   "outputs": [
    {
     "data": {
      "text/plain": [
       "<matplotlib.colorbar.Colorbar at 0x7f6b0e3cfe50>"
      ]
     },
     "execution_count": 17,
     "metadata": {},
     "output_type": "execute_result"
    },
    {
     "data": {
      "image/png": "[encoded data removed]",
      "text/plain": [
       "<Figure size 1440x1440 with 2 Axes>"
      ]
     },
     "metadata": {
      "needs_background": "light"
     },
     "output_type": "display_data"
    }
   ],
   "source": [
    "plt.figure(figsize=(20, 20))\n",
    "im = plt.imshow(expression, cmap='RdYlGn', interpolation='none', aspect='equal')\n",
    "ax = plt.gca()\n",
    "ax.set_xticks(np.arange(0, 7, 1))\n",
    "ax.set_xticklabels(gene_dataset.cell_types, rotation='vertical')\n",
    "ax.set_yticklabels(genes)\n",
    "ax.set_yticks(np.arange(0, 70, 1))\n",
    "ax.tick_params(labelsize=14)\n",
    "plt.colorbar(shrink=0.2)"
   ]
  },
  {
   "cell_type": "markdown",
   "metadata": {},
   "source": [
    "### Understanding Differential Expression In-Depth"
   ]
  },
  {
   "cell_type": "markdown",
   "metadata": {},
   "source": [
    "#### Pairs Sampler Method\n",
    "The only method to cover before fully understanding `get_bayes_factors` method is the `pairs_sampler` method from `posterior_utils` submodule.\n",
    "\n",
    "Given samples from 2 cell poplations, mixing parameters (`use_permutation`, `M_permutation`), `sanity_check_parameter` and sampling probability weights for both cell populations (`weights1`, `weights2`), \n",
    "\n",
    "returns the new arrays that have been modified by sampling probabilities and also permutation size parameter `M_permutation`, if relevant. \n",
    "\n",
    "```python\n",
    "def pairs_sampler(\n",
    "    arr1: Union[List[float], np.ndarray, torch.Tensor],\n",
    "    arr2: Union[List[float], np.ndarray, torch.Tensor],\n",
    "    use_permutation: bool = True,\n",
    "    M_permutation: int = None,\n",
    "    sanity_check_perm: bool = False,\n",
    "    weights1: Union[List[float], np.ndarray, torch.Tensor] = None,\n",
    "    weights2: Union[List[float], np.ndarray, torch.Tensor] = None,\n",
    ") -> tuple:\n",
    "    \"\"\"\n",
    "    In a context where we want to estimate a double sum, virtually increases the number\n",
    "    of samples by considering more pairs so as to better estimate the double summation operation\n",
    "\n",
    "    :param arr1: samples from population 1\n",
    "    :param arr2: samples from population 2\n",
    "    :param use_permutation: Whether to mix samples from both populations\n",
    "    :param M_permutation:\n",
    "    :param sanity_check_perm: If True, resulting mixed arrays arr1 and arr2 are mixed together\n",
    "    In most cases, this parameter should remain False\n",
    "    :param weights1: probabilities associated to array 1 for random sampling\n",
    "    :param weights2: probabilities associated to array 2 for random sampling\n",
    "    :return: new_arr1, new_arr2\n",
    "    \"\"\"\n",
    "    if use_permutation is True:\n",
    "        # prepare the pairs for sampling\n",
    "        n_arr1 = arr1.shape[0]\n",
    "        n_arr2 = arr2.shape[0]\n",
    "        if not sanity_check_perm:\n",
    "            # case1: no permutation, sample from A and then from B\n",
    "            u, v = (\n",
    "                np.random.choice(n_arr1, size=M_permutation, p=weights1),\n",
    "                np.random.choice(n_arr2, size=M_permutation, p=weights2),\n",
    "            )\n",
    "            first_set = arr1[u]\n",
    "            second_set = arr2[v]\n",
    "        else:\n",
    "            # case2: permutation, sample from A+B twice (sanity check)\n",
    "            u, v = (\n",
    "                np.random.choice(n_arr1 + n_arr2, size=M_permutation),\n",
    "                np.random.choice(n_arr1 + n_arr2, size=M_permutation),\n",
    "            )\n",
    "            concat_arr = np.concatenate((arr1, arr2))\n",
    "            first_set = concat_arr[u]\n",
    "            second_set = concat_arr[v]\n",
    "    else:\n",
    "        first_set = arr1\n",
    "        second_set = arr2\n",
    "    return first_set, second_set\n",
    "\n",
    "``` "
   ]
  },
  {
   "cell_type": "markdown",
   "metadata": {},
   "source": [
    "The core method to understand how the `differential_expression` works, is the `differential_expression_score`.\n",
    "It is composed of 2 main methods : `differential_expression_stats` and `get_bayes_factors`.\n",
    "\n",
    "```python\n",
    "def differential_expression_score(self, cell_type, other_cell_type=None, genes=None,M_sampling=100,\n",
    "M_permutation=10000, permutation=False):\n",
    "    px_scale, all_labels = self.differential_expression_stats(M_sampling=M_sampling)\n",
    "    cell_idx, other_cell_idx = self.gene_dataset._cell_type_idx([cell_type, other_cell_type])\n",
    "    if genes is not None:\n",
    "        px_scale = px_scale[:, self.gene_dataset._gene_idx(genes)]\n",
    "    bayes_factors_list = get_bayes_factors(px_scale, all_labels, cell_idx, other_cell_idx=other_cell_idx,\n",
    "                                           M_permutation=M_permutation, permutation=permutation)\n",
    "    return bayes_factors_list\n",
    "``` \n",
    "\n",
    "Let us first analyze the `differential_expression_stats`."
   ]
  },
  {
   "cell_type": "markdown",
   "metadata": {},
   "source": [
    "```python\n",
    "def differential_expression_stats(self, M_sampling=100):\n",
    "    \"\"\"\n",
    "    Output average over statistics in a symmetric way (a against b), forget the sets if permutation is True\n",
    "\n",
    "    :param M_sampling: number of samplesdiff\n",
    "    :return: Tuple px_scales, all_labels where (i) px_scales: scales of shape (M_sampling, n_genes)\n",
    "        (ii) all_labels: labels of shape (M_sampling, )\n",
    "    \"\"\"\n",
    "    warnings.warn(\n",
    "        \"differential_expression_stats() is deprecated; \"\n",
    "        \"use differential_expression_score() or get_sample_scale().\",\n",
    "        category=DeprecationWarning,\n",
    "    )\n",
    "\n",
    "    px_scales = []\n",
    "    all_labels = []\n",
    "    batch_size = max(\n",
    "        self.data_loader_kwargs[\"batch_size\"] // M_sampling, 2\n",
    "    )  # Reduce batch_size on GPU\n",
    "    if len(self.gene_dataset) % batch_size == 1:\n",
    "        batch_size += 1\n",
    "    for tensors in self.update({\"batch_size\": batch_size}):\n",
    "        sample_batch, _, _, batch_index, labels = tensors\n",
    "        px_scales += [\n",
    "            np.array(\n",
    "                (\n",
    "                    self.model.get_sample_scale(\n",
    "                        sample_batch,\n",
    "                        batch_index=batch_index,\n",
    "                        y=labels,\n",
    "                        n_samples=M_sampling,\n",
    "                    )\n",
    "                ).cpu()\n",
    "            )\n",
    "        ]\n",
    "\n",
    "        # Align the sampling\n",
    "        if M_sampling > 1:\n",
    "            px_scales[-1] = (px_scales[-1].transpose((1, 0, 2))).reshape(\n",
    "                -1, px_scales[-1].shape[-1]\n",
    "            )\n",
    "        all_labels += [np.array((labels.repeat(1, M_sampling).view(-1, 1)).cpu())]\n",
    "\n",
    "    px_scales = np.concatenate(px_scales)\n",
    "    all_labels = np.concatenate(all_labels).ravel()  # this will be used as boolean\n",
    "\n",
    "    return px_scales, all_labels\n",
    "```\n",
    "The `differential_expression_stats` method"
   ]
  },
  {
   "cell_type": "markdown",
   "metadata": {},
   "source": [
    "`get_bayes_factors` method:\n",
    "\n",
    "```python\n",
    "def get_bayes_factors(px_scale, all_labels, cell_idx, other_cell_idx=None, genes_idx=None,\n",
    "                      M_permutation=10000, permutation=False):\n",
    "    '''\n",
    "    Returns a list of bayes factor for all genes\n",
    "    :param px_scale: The gene frequency array for all cells (might contain multiple samples per cells)\n",
    "    :param all_labels: The labels array for the corresponding cell types\n",
    "    :param cell_idx: The first cell type population to consider. Either a string or an idx\n",
    "    :param other_cell_idx: (optional) The second cell type population to consider. Either a string or an idx\n",
    "    :param M_permutation: The number of permuted samples.\n",
    "    :param permutation: Whether or not to permute.\n",
    "    :return:\n",
    "    '''\n",
    "    idx = (all_labels == cell_idx)\n",
    "    idx_other = (all_labels == other_cell_idx) if other_cell_idx is not None else (all_labels != other_cell_idx)\n",
    "    if genes_idx is not None:\n",
    "        px_scale = px_scale[:, genes_idx]\n",
    "    sample_rate_a = px_scale[idx].reshape(-1, px_scale.shape[1])\n",
    "    sample_rate_b = px_scale[idx_other].reshape(-1, px_scale.shape[1])\n",
    "\n",
    "    # agregate dataset\n",
    "    samples = np.vstack((sample_rate_a, sample_rate_b))\n",
    "\n",
    "    # prepare the pairs for sampling\n",
    "    list_1 = list(np.arange(sample_rate_a.shape[0]))\n",
    "    list_2 = list(sample_rate_a.shape[0] + np.arange(sample_rate_b.shape[0]))\n",
    "    if not permutation:\n",
    "        # case1: no permutation, sample from A and then from B\n",
    "        u, v = np.random.choice(list_1, size=M_permutation), np.random.choice(list_2, size=M_permutation)\n",
    "    else:\n",
    "        # case2: permutation, sample from A+B twice\n",
    "        u, v = (np.random.choice(list_1 + list_2, size=M_permutation),\n",
    "                np.random.choice(list_1 + list_2, size=M_permutation))\n",
    "\n",
    "    # then constitutes the pairs\n",
    "    first_set = samples[u]\n",
    "    second_set = samples[v]\n",
    "\n",
    "    res = np.mean(first_set >= second_set, 0)\n",
    "    res = np.log(res + 1e-8) - np.log(1 - res + 1e-8)\n",
    "    return res\n",
    "```\n"
   ]
  },
  {
   "cell_type": "markdown",
   "metadata": {},
   "source": [
    " `differential_expression_score` and `one_vs_all_degenes` methods\n",
    " \n",
    "```python\n",
    "def differential_expression_score(\n",
    "    self,\n",
    "    idx1: Union[List[bool], np.ndarray],\n",
    "    idx2: Union[List[bool], np.ndarray],\n",
    "    mode: Optional[str] = \"vanilla\",\n",
    "    batchid1: Optional[Union[List[int], np.ndarray]] = None,\n",
    "    batchid2: Optional[Union[List[int], np.ndarray]] = None,\n",
    "    use_observed_batches: Optional[bool] = False,\n",
    "    n_samples: int = 5000,\n",
    "    use_permutation: bool = True,\n",
    "    M_permutation: int = 10000,\n",
    "    all_stats: bool = True,\n",
    "    change_fn: Optional[Union[str, Callable]] = None,\n",
    "    m1_domain_fn: Optional[Callable] = None,\n",
    "    delta: Optional[float] = 0.5,\n",
    ") -> pd.DataFrame:\n",
    "    r\"\"\"\n",
    "    Unified method for differential expression inference.\n",
    "    This function is an extension of the `get_bayes_factors` method\n",
    "    providing additional genes information to the user\n",
    "\n",
    "    # FUNCTIONING\n",
    "    Two modes coexist:\n",
    "        - the \"vanilla\" mode follows protocol described in arXiv:1709.02082\n",
    "        In this case, we perform hypothesis testing based on:\n",
    "            M_1: h_1 > h_2\n",
    "            M_2: h_1 <= h_2\n",
    "\n",
    "        DE can then be based on the study of the Bayes factors:\n",
    "        log (p(M_1 | x_1, x_2) / p(M_2 | x_1, x_2)\n",
    "\n",
    "        - the \"change\" mode (described in bioRxiv, 794289)\n",
    "        consists in estimating an effect size random variable (e.g., log fold-change) and\n",
    "        performing Bayesian hypothesis testing on this variable.\n",
    "        The `change_fn` function computes the effect size variable r based two inputs\n",
    "        corresponding to the normalized means in both populations\n",
    "        Hypotheses:\n",
    "            M_1: r \\in R_0 (effect size r in region inducing differential expression)\n",
    "            M_2: r not \\in R_0 (no differential expression)\n",
    "        To characterize the region R_0, the user has two choices.\n",
    "            1. A common case is when the region [-delta, delta] does not induce differential\n",
    "            expression.\n",
    "            If the user specifies a threshold delta,\n",
    "            we suppose that R_0 = \\mathbb{R} \\ [-delta, delta]\n",
    "            2. specify an specific indicator function f: \\mathbb{R} -> {0, 1} s.t.\n",
    "                r \\in R_0 iff f(r) = 1\n",
    "\n",
    "        Decision-making can then be based on the estimates of\n",
    "            p(M_1 | x_1, x_2)\n",
    "\n",
    "    # POSTERIOR SAMPLING\n",
    "    Both modes require to sample the normalized means posteriors\n",
    "    To that purpose we sample the Posterior in the following way:\n",
    "        1. The posterior is sampled n_samples times for each subpopulation\n",
    "        2. For computation efficiency (posterior sampling is quite expensive), instead of\n",
    "            comparing the obtained samples element-wise, we can permute posterior samples.\n",
    "            Remember that computing the Bayes Factor requires sampling\n",
    "            q(z_A | x_A) and q(z_B | x_B)\n",
    "\n",
    "    # BATCH HANDLING\n",
    "    Currently, the code covers several batch handling configurations:\n",
    "        1. If `use_observed_batches`=True, then batch are considered as observations\n",
    "        and cells' normalized means are conditioned on real batch observations\n",
    "\n",
    "        2. If case (cell group 1) and control (cell group 2) are conditioned on the same\n",
    "        batch ids.\n",
    "            set(batchid1) = set(batchid2):\n",
    "            e.g. batchid1 = batchid2 = None\n",
    "\n",
    "\n",
    "        3. If case and control are conditioned on different batch ids that do not intersect\n",
    "        i.e., set(batchid1) != set(batchid2)\n",
    "              and intersection(set(batchid1), set(batchid2)) = \\emptyset\n",
    "\n",
    "        This function does not cover other cases yet and will warn users in such cases.\n",
    "\n",
    "\n",
    "    # PARAMETERS\n",
    "    # Mode parameters\n",
    "    :param mode: one of [\"vanilla\", \"change\"]\n",
    "\n",
    "\n",
    "    ## Genes/cells/batches selection parameters\n",
    "    :param idx1: bool array masking subpopulation cells 1. Should be True where cell is\n",
    "    from associated population\n",
    "    :param idx2: bool array masking subpopulation cells 2. Should be True where cell is\n",
    "    from associated population\n",
    "    :param batchid1: List of batch ids for which you want to perform DE Analysis for\n",
    "    subpopulation 1. By default, all ids are taken into account\n",
    "    :param batchid2: List of batch ids for which you want to perform DE Analysis for\n",
    "    subpopulation 2. By default, all ids are taken into account\n",
    "    :param use_observed_batches: Whether normalized means are conditioned on observed\n",
    "    batches\n",
    "\n",
    "    ## Sampling parameters\n",
    "    :param n_samples: Number of posterior samples\n",
    "    :param use_permutation: Activates step 2 described above.\n",
    "    Simply formulated, pairs obtained from posterior sampling (when calling\n",
    "    `sample_scale_from_batch`) will be randomly permuted so that the number of\n",
    "    pairs used to compute Bayes Factors becomes M_permutation.\n",
    "    :param M_permutation: Number of times we will \"mix\" posterior samples in step 2.\n",
    "    Only makes sense when use_permutation=True\n",
    "\n",
    "    :param change_fn: function computing effect size based on both normalized means\n",
    "\n",
    "        :param m1_domain_fn: custom indicator function of effect size regions\n",
    "        inducing differential expression\n",
    "        :param delta: specific case of region inducing differential expression.\n",
    "        In this case, we suppose that R \\ [-delta, delta] does not induce differential expression\n",
    "        (LFC case)\n",
    "\n",
    "    :param all_stats: whether additional metrics should be provided\n",
    "\n",
    "    :return: Differential expression properties\n",
    "    \"\"\"\n",
    "    all_info = self.get_bayes_factors(\n",
    "        idx1=idx1,\n",
    "        idx2=idx2,\n",
    "        mode=mode,\n",
    "        batchid1=batchid1,\n",
    "        batchid2=batchid2,\n",
    "        use_observed_batches=use_observed_batches,\n",
    "        n_samples=n_samples,\n",
    "        use_permutation=use_permutation,\n",
    "        M_permutation=M_permutation,\n",
    "        change_fn=change_fn,\n",
    "        m1_domain_fn=m1_domain_fn,\n",
    "        delta=delta,\n",
    "    )\n",
    "    gene_names = self.gene_dataset.gene_names\n",
    "    if all_stats is True:\n",
    "        (\n",
    "            mean1,\n",
    "            mean2,\n",
    "            nonz1,\n",
    "            nonz2,\n",
    "            norm_mean1,\n",
    "            norm_mean2,\n",
    "        ) = self.gene_dataset.raw_counts_properties(idx1, idx2)\n",
    "        genes_properties_dict = dict(\n",
    "            raw_mean1=mean1,\n",
    "            raw_mean2=mean2,\n",
    "            non_zeros_proportion1=nonz1,\n",
    "            non_zeros_proportion2=nonz2,\n",
    "            raw_normalized_mean1=norm_mean1,\n",
    "            raw_normalized_mean2=norm_mean2,\n",
    "        )\n",
    "        all_info = {**all_info, **genes_properties_dict}\n",
    "\n",
    "    res = pd.DataFrame(all_info, index=gene_names)\n",
    "    sort_key = \"proba_de\" if mode == \"change\" else \"bayes_factor\"\n",
    "    res = res.sort_values(by=sort_key, ascending=False)\n",
    "    return res\n",
    "``` \n",
    "\n",
    "```python\n",
    "def one_vs_all_degenes(\n",
    "    self,\n",
    "    subset: Optional[Union[List[bool], np.ndarray]] = None,\n",
    "    cell_labels: Optional[Union[List, np.ndarray]] = None,\n",
    "    use_observed_batches: bool = False,\n",
    "    min_cells: int = 10,\n",
    "    n_samples: int = 5000,\n",
    "    use_permutation: bool = True,\n",
    "    M_permutation: int = 10000,\n",
    "    output_file: bool = False,\n",
    "    mode: Optional[str] = \"vanilla\",\n",
    "    change_fn: Optional[Union[str, Callable]] = None,\n",
    "    m1_domain_fn: Optional[Callable] = None,\n",
    "    delta: Optional[float] = 0.5,\n",
    "    save_dir: str = \"./\",\n",
    "    filename=\"one2all\",\n",
    ") -> tuple:\n",
    "    \"\"\"\n",
    "    Performs one population vs all others Differential Expression Analysis\n",
    "    given labels or using cell types, for each type of population\n",
    "\n",
    "    :param subset: None Or bool array masking subset of cells you are interested in\n",
    "        (True when you want to select cell). In that case, it should have same length than `gene_dataset`\n",
    "    :param cell_labels: optional: Labels of cells\n",
    "    :param min_cells: Ceil number of cells used to compute Bayes Factors\n",
    "    :param n_samples: Number of times the posterior will be sampled for each pop\n",
    "    :param use_permutation: Activates pair random permutations.\n",
    "        Simply formulated, pairs obtained from posterior sampling (when calling\n",
    "        `sample_scale_from_batch`) will be randomly permuted so that the number of\n",
    "        pairs used to compute Bayes Factors becomes M_permutation.\n",
    "    :param M_permutation: Number of times we will \"mix\" posterior samples in step 2.\n",
    "        Only makes sense when use_permutation=True\n",
    "    :param use_observed_batches: see `differential_expression_score`\n",
    "    :param M_permutation: see `differential_expression_score`\n",
    "    :param mode: see `differential_expression_score`\n",
    "    :param change_fn: see `differential_expression_score`\n",
    "    :param m1_domain_fn: see `differential_expression_score`\n",
    "    :param delta: see `differential_expression_score\n",
    "    :param output_file: Bool: save file?\n",
    "    :param save_dir:\n",
    "    :param filename:`\n",
    "    :return: Tuple (de_res, de_cluster) (i) de_res is a list of length nb_clusters\n",
    "        (based on provided labels or on hardcoded cell types) (ii) de_res[i] contains Bayes Factors\n",
    "        for population number i vs all the rest (iii) de_cluster returns the associated names of clusters.\n",
    "        Are contained in this results only clusters for which we have at least `min_cells`\n",
    "        elements to compute predicted Bayes Factors\n",
    "    \"\"\"\n",
    "    if cell_labels is not None:\n",
    "        if len(cell_labels) != len(self.gene_dataset):\n",
    "            raise ValueError(\n",
    "                \" the length of cell_labels have to be \"\n",
    "                \"the same as the number of cells\"\n",
    "            )\n",
    "    if (cell_labels is None) and not hasattr(self.gene_dataset, \"cell_types\"):\n",
    "        raise ValueError(\n",
    "            \"If gene_dataset is not annotated with labels and cell types,\"\n",
    "            \" then must provide cell_labels\"\n",
    "        )\n",
    "    # Input cell_labels take precedence over cell type label annotation in dataset\n",
    "    elif cell_labels is not None:\n",
    "        cluster_id = np.unique(cell_labels[cell_labels >= 0])\n",
    "        # Can make cell_labels < 0 to filter out cells when computing DE\n",
    "    else:\n",
    "        cluster_id = self.gene_dataset.cell_types\n",
    "        cell_labels = self.gene_dataset.labels.ravel()\n",
    "    de_res = []\n",
    "    de_cluster = []\n",
    "    for i, x in enumerate(tqdm(cluster_id)):\n",
    "        if subset is None:\n",
    "            idx1 = cell_labels == i\n",
    "            idx2 = cell_labels != i\n",
    "        else:\n",
    "            idx1 = (cell_labels == i) * subset\n",
    "            idx2 = (cell_labels != i) * subset\n",
    "        if np.sum(idx1) > min_cells and np.sum(idx2) > min_cells:\n",
    "            de_cluster.append(x)\n",
    "            res = self.differential_expression_score(\n",
    "                idx1=idx1,\n",
    "                idx2=idx2,\n",
    "                mode=mode,\n",
    "                change_fn=change_fn,\n",
    "                m1_domain_fn=m1_domain_fn,\n",
    "                delta=delta,\n",
    "                use_observed_batches=use_observed_batches,\n",
    "                M_permutation=M_permutation,\n",
    "                n_samples=n_samples,\n",
    "                use_permutation=use_permutation,\n",
    "            )\n",
    "            res[\"clusters\"] = np.repeat(x, len(res.index))\n",
    "            de_res.append(res)\n",
    "    if output_file:  # store as an excel spreadsheet\n",
    "        save_cluster_xlsx(\n",
    "            filepath=save_dir + \"differential_expression.%s.xlsx\" % filename,\n",
    "            cluster_names=de_cluster,\n",
    "            de_results=de_res,\n",
    "        )\n",
    "    return de_res, de_cluster\n",
    "```"
   ]
  },
  {
   "cell_type": "markdown",
   "metadata": {},
   "source": [
    "### Applied Differential Expression : Comparison of Different Methods"
   ]
  },
  {
   "cell_type": "markdown",
   "metadata": {},
   "source": [
    "The respective Scanpy notebook is located [here](https://github.com/YosefLab/scVI/blob/master/tests/notebooks/scanpy_pbmc3k.ipynb)"
   ]
  },
  {
   "cell_type": "markdown",
   "metadata": {},
   "source": [
    "# Applications of Bayesian Inference & Learning : Bayesian Optimization\n",
    "Bayesian inference is not only used in SCVI, it is a very wide field of modern machine learning. For example, Bayesian optimization can be done with Gaussian Processes -- so to say `automatic hyperparameter tuning` which nowadays if often referred to as `AutoML`.\n",
    "- [Wikipedia source](https://en.wikipedia.org/wiki/Bayesian_optimization)\n",
    "- [source 1, AutoML](https://www.ml4aad.org/automl/boah/)\n",
    "- [source 2, article](https://arxiv.org/abs/1807.02811)\n",
    "- [source 3, towardsdatascience](https://towardsdatascience.com/a-conceptual-explanation-of-bayesian-model-based-hyperparameter-optimization-for-machine-learning-b8172278050f)\n",
    "\n",
    "\n",
    ". This usually gives better results that manual hyperparameter tuning or grid search and it also allows for more honest comparison of research papers, making the results more reproducible since the model compared to should be tuned by  the same Bayesian optimiation mechanism. Bayesian optimization trials are harder to parallelize than grid search, but the algorithms is much more intelligent and thus, it is also more reproducible than grid search.\n",
    "![applications](https://filedn.com/lK1VhM9GbBxVlERr9KFjD4B/pictures_to_use_in_bayesian_module/applications%20of%20bayesian%20optimization.JPG)"
   ]
  },
  {
   "cell_type": "code",
   "execution_count": null,
   "metadata": {},
   "outputs": [],
   "source": []
  }
 ],
 "metadata": {
  "kernelspec": {
   "display_name": "mykernel",
   "language": "python",
   "name": "mykernel"
  },
  "language_info": {
   "codemirror_mode": {
    "name": "ipython",
    "version": 3
   },
   "file_extension": ".py",
   "mimetype": "text/x-python",
   "name": "python",
   "nbconvert_exporter": "python",
   "pygments_lexer": "ipython3",
   "version": "3.7.3"
  },
  "pycharm": {
   "stem_cell": {
    "cell_type": "raw",
    "metadata": {
     "collapsed": false
    },
    "source": []
   }
  },
  "toc": {
   "base_numbering": 1,
   "nav_menu": {},
   "number_sections": true,
   "sideBar": true,
   "skip_h1_title": false,
   "title_cell": "Table of Contents",
   "title_sidebar": "Contents",
   "toc_cell": false,
   "toc_position": {
    "height": "calc(100% - 180px)",
    "left": "10px",
    "top": "150px",
    "width": "592.727px"
   },
   "toc_section_display": true,
   "toc_window_display": false
  },
  "varInspector": {
   "cols": {
    "lenName": 16,
    "lenType": 16,
    "lenVar": 40
   },
   "kernels_config": {
    "python": {
     "delete_cmd_postfix": "",
     "delete_cmd_prefix": "del ",
     "library": "var_list.py",
     "varRefreshCmd": "print(var_dic_list())"
    },
    "r": {
     "delete_cmd_postfix": ") ",
     "delete_cmd_prefix": "rm(",
     "library": "var_list.r",
     "varRefreshCmd": "cat(var_dic_list()) "
    }
   },
   "types_to_exclude": [
    "module",
    "function",
    "builtin_function_or_method",
    "instance",
    "_Feature"
   ],
   "window_display": false
  }
 },
 "nbformat": 4,
 "nbformat_minor": 1
}
